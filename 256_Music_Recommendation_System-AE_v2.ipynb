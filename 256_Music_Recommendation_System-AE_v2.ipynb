{
 "cells": [
  {
   "cell_type": "code",
   "execution_count": 1,
   "metadata": {},
   "outputs": [],
   "source": [
    "# !pip install tensorflow\n",
    "# !pip install nltk\n",
    "# !pip install wordcloud\n",
    "# !pip install surprise\n",
    "#sqlite3 -header -csv track_metadata.db \"SELECT * FROM songs;\" > track_metadata.csv"
   ]
  },
  {
   "cell_type": "code",
   "execution_count": 2,
   "metadata": {},
   "outputs": [
    {
     "name": "stderr",
     "output_type": "stream",
     "text": [
      "2023-04-27 21:35:03.394880: I tensorflow/core/platform/cpu_feature_guard.cc:182] This TensorFlow binary is optimized to use available CPU instructions in performance-critical operations.\n",
      "To enable the following instructions: AVX2 FMA, in other operations, rebuild TensorFlow with the appropriate compiler flags.\n",
      "2023-04-27 21:35:06.184979: W tensorflow/compiler/tf2tensorrt/utils/py_utils.cc:38] TF-TRT Warning: Could not find TensorRT\n"
     ]
    }
   ],
   "source": [
    "import pandas as pd\n",
    "import numpy as np\n",
    "import matplotlib.pyplot as plt\n",
    "import sklearn\n",
    "import seaborn as sns\n",
    "import matplotlib.pyplot as plt\n",
    "from surprise.model_selection import train_test_split,cross_validate\n",
    "from surprise import SVD, accuracy\n",
    "from surprise import KNNBasic\n",
    "import os\n",
    "from tensorflow.keras import backend as K\n",
    "import tables\n",
    "\n",
    "import tensorflow as tf\n",
    "from tensorflow.keras.layers import Input, Embedding, Flatten, Concatenate, Dense, Dropout\n",
    "from tensorflow.keras.models import Model\n",
    "from surprise import SVDpp, Reader, Dataset\n",
    "from sklearn.preprocessing import LabelEncoder"
   ]
  },
  {
   "cell_type": "code",
   "execution_count": 3,
   "metadata": {},
   "outputs": [
    {
     "name": "stderr",
     "output_type": "stream",
     "text": [
      "[nltk_data] Error loading punkt: <urlopen error [Errno -2] Name or\n",
      "[nltk_data]     service not known>\n",
      "[nltk_data] Error loading stopwords: <urlopen error [Errno -2] Name or\n",
      "[nltk_data]     service not known>\n",
      "[nltk_data] Error loading wordnet: <urlopen error [Errno -2] Name or\n",
      "[nltk_data]     service not known>\n",
      "[nltk_data] Error loading omw-1.4: <urlopen error [Errno -2] Name or\n",
      "[nltk_data]     service not known>\n"
     ]
    },
    {
     "data": {
      "text/plain": [
       "False"
      ]
     },
     "execution_count": 3,
     "metadata": {},
     "output_type": "execute_result"
    }
   ],
   "source": [
    "# import nltk\n",
    "# from nltk.tokenize import word_tokenize\n",
    "# from nltk.corpus import stopwords\n",
    "# from nltk.stem import WordNetLemmatizer\n",
    "# from wordcloud import WordCloud\n",
    "\n",
    "# # Download necessary resources from NLTK\n",
    "# nltk.download('punkt')\n",
    "# nltk.download('stopwords')\n",
    "# nltk.download('wordnet')\n",
    "# nltk.download('omw-1.4')"
   ]
  },
  {
   "cell_type": "markdown",
   "metadata": {},
   "source": [
    "### TASTE PROFILE DATA"
   ]
  },
  {
   "cell_type": "code",
   "execution_count": 4,
   "metadata": {
    "id": "_dgENuRieAYg"
   },
   "outputs": [
    {
     "data": {
      "text/plain": [
       "(2000000, 3)"
      ]
     },
     "execution_count": 4,
     "metadata": {},
     "output_type": "execute_result"
    }
   ],
   "source": [
    "taste_profile = pd.read_csv('/home/016651544/datasets/train_triplets.txt',sep='\\t',header=None,names = ['user_id','song_id','play_count'],nrows = 2000000)\n",
    "taste_profile.shape"
   ]
  },
  {
   "cell_type": "code",
   "execution_count": 5,
   "metadata": {
    "colab": {
     "base_uri": "https://localhost:8080/",
     "height": 206
    },
    "id": "WdOJXpSUhC50",
    "outputId": "b7591716-df13-4179-d1c7-f2ceec605526",
    "scrolled": false
   },
   "outputs": [
    {
     "data": {
      "text/html": [
       "<div>\n",
       "<style scoped>\n",
       "    .dataframe tbody tr th:only-of-type {\n",
       "        vertical-align: middle;\n",
       "    }\n",
       "\n",
       "    .dataframe tbody tr th {\n",
       "        vertical-align: top;\n",
       "    }\n",
       "\n",
       "    .dataframe thead th {\n",
       "        text-align: right;\n",
       "    }\n",
       "</style>\n",
       "<table border=\"1\" class=\"dataframe\">\n",
       "  <thead>\n",
       "    <tr style=\"text-align: right;\">\n",
       "      <th></th>\n",
       "      <th>user_id</th>\n",
       "      <th>song_id</th>\n",
       "      <th>play_count</th>\n",
       "    </tr>\n",
       "  </thead>\n",
       "  <tbody>\n",
       "    <tr>\n",
       "      <th>0</th>\n",
       "      <td>b80344d063b5ccb3212f76538f3d9e43d87dca9e</td>\n",
       "      <td>SOAKIMP12A8C130995</td>\n",
       "      <td>1</td>\n",
       "    </tr>\n",
       "    <tr>\n",
       "      <th>1</th>\n",
       "      <td>b80344d063b5ccb3212f76538f3d9e43d87dca9e</td>\n",
       "      <td>SOAPDEY12A81C210A9</td>\n",
       "      <td>1</td>\n",
       "    </tr>\n",
       "    <tr>\n",
       "      <th>2</th>\n",
       "      <td>b80344d063b5ccb3212f76538f3d9e43d87dca9e</td>\n",
       "      <td>SOBBMDR12A8C13253B</td>\n",
       "      <td>2</td>\n",
       "    </tr>\n",
       "    <tr>\n",
       "      <th>3</th>\n",
       "      <td>b80344d063b5ccb3212f76538f3d9e43d87dca9e</td>\n",
       "      <td>SOBFNSP12AF72A0E22</td>\n",
       "      <td>1</td>\n",
       "    </tr>\n",
       "    <tr>\n",
       "      <th>4</th>\n",
       "      <td>b80344d063b5ccb3212f76538f3d9e43d87dca9e</td>\n",
       "      <td>SOBFOVM12A58A7D494</td>\n",
       "      <td>1</td>\n",
       "    </tr>\n",
       "  </tbody>\n",
       "</table>\n",
       "</div>"
      ],
      "text/plain": [
       "                                    user_id             song_id  play_count\n",
       "0  b80344d063b5ccb3212f76538f3d9e43d87dca9e  SOAKIMP12A8C130995           1\n",
       "1  b80344d063b5ccb3212f76538f3d9e43d87dca9e  SOAPDEY12A81C210A9           1\n",
       "2  b80344d063b5ccb3212f76538f3d9e43d87dca9e  SOBBMDR12A8C13253B           2\n",
       "3  b80344d063b5ccb3212f76538f3d9e43d87dca9e  SOBFNSP12AF72A0E22           1\n",
       "4  b80344d063b5ccb3212f76538f3d9e43d87dca9e  SOBFOVM12A58A7D494           1"
      ]
     },
     "execution_count": 5,
     "metadata": {},
     "output_type": "execute_result"
    }
   ],
   "source": [
    "taste_profile.head()"
   ]
  },
  {
   "cell_type": "code",
   "execution_count": 6,
   "metadata": {},
   "outputs": [
    {
     "name": "stdout",
     "output_type": "stream",
     "text": [
      "1.0 3.0 -2.0 6.0\n"
     ]
    },
    {
     "data": {
      "text/plain": [
       "(1834519, 3)"
      ]
     },
     "execution_count": 6,
     "metadata": {},
     "output_type": "execute_result"
    }
   ],
   "source": [
    "# Compute quartiles for the play_count of users and year of publication columns\n",
    "q1_play_count = taste_profile['play_count'].quantile(0.25)\n",
    "q3_play_count = taste_profile['play_count'].quantile(0.75)\n",
    "iqr_play_count = q3_play_count - q1_play_count\n",
    "lower_play_count = q1_play_count - 1.5 * iqr_play_count\n",
    "upper_play_count = q3_play_count + 1.5 * iqr_play_count\n",
    "print(q1_play_count, q3_play_count,lower_play_count, upper_play_count)\n",
    "\n",
    "# Identify and remove outliers based on IQR\n",
    "taste_profile = taste_profile[(taste_profile['play_count'] >= lower_play_count) & (taste_profile['play_count'] <= upper_play_count)]\n",
    "taste_profile.shape"
   ]
  },
  {
   "cell_type": "code",
   "execution_count": 7,
   "metadata": {},
   "outputs": [
    {
     "data": {
      "text/plain": [
       "188992"
      ]
     },
     "execution_count": 7,
     "metadata": {},
     "output_type": "execute_result"
    }
   ],
   "source": [
    "taste_profile.song_id.nunique()"
   ]
  },
  {
   "cell_type": "markdown",
   "metadata": {},
   "source": [
    "### METADATA"
   ]
  },
  {
   "cell_type": "code",
   "execution_count": 8,
   "metadata": {
    "colab": {
     "base_uri": "https://localhost:8080/",
     "height": 513
    },
    "id": "HO3RK5m6i8eW",
    "outputId": "f9faaf4c-b214-4e0b-bff8-fa3007f5f0a4"
   },
   "outputs": [
    {
     "data": {
      "text/html": [
       "<div>\n",
       "<style scoped>\n",
       "    .dataframe tbody tr th:only-of-type {\n",
       "        vertical-align: middle;\n",
       "    }\n",
       "\n",
       "    .dataframe tbody tr th {\n",
       "        vertical-align: top;\n",
       "    }\n",
       "\n",
       "    .dataframe thead th {\n",
       "        text-align: right;\n",
       "    }\n",
       "</style>\n",
       "<table border=\"1\" class=\"dataframe\">\n",
       "  <thead>\n",
       "    <tr style=\"text-align: right;\">\n",
       "      <th></th>\n",
       "      <th>track_id</th>\n",
       "      <th>title</th>\n",
       "      <th>song_id</th>\n",
       "      <th>release</th>\n",
       "      <th>artist_id</th>\n",
       "      <th>artist_mbid</th>\n",
       "      <th>artist_name</th>\n",
       "      <th>duration</th>\n",
       "      <th>artist_familiarity</th>\n",
       "      <th>artist_hotttnesss</th>\n",
       "      <th>year</th>\n",
       "      <th>track_7digitalid</th>\n",
       "      <th>shs_perf</th>\n",
       "      <th>shs_work</th>\n",
       "    </tr>\n",
       "  </thead>\n",
       "  <tbody>\n",
       "    <tr>\n",
       "      <th>0</th>\n",
       "      <td>TRMMMYQ128F932D901</td>\n",
       "      <td>Silent Night</td>\n",
       "      <td>SOQMMHC12AB0180CB8</td>\n",
       "      <td>Monster Ballads X-Mas</td>\n",
       "      <td>ARYZTJS1187B98C555</td>\n",
       "      <td>357ff05d-848a-44cf-b608-cb34b5701ae5</td>\n",
       "      <td>Faster Pussy cat</td>\n",
       "      <td>252.05506</td>\n",
       "      <td>0.649822</td>\n",
       "      <td>0.394032</td>\n",
       "      <td>2003</td>\n",
       "      <td>7032331</td>\n",
       "      <td>-1</td>\n",
       "      <td>0</td>\n",
       "    </tr>\n",
       "    <tr>\n",
       "      <th>1</th>\n",
       "      <td>TRMMMKD128F425225D</td>\n",
       "      <td>Tanssi vaan</td>\n",
       "      <td>SOVFVAK12A8C1350D9</td>\n",
       "      <td>Karkuteillä</td>\n",
       "      <td>ARMVN3U1187FB3A1EB</td>\n",
       "      <td>8d7ef530-a6fd-4f8f-b2e2-74aec765e0f9</td>\n",
       "      <td>Karkkiautomaatti</td>\n",
       "      <td>156.55138</td>\n",
       "      <td>0.439604</td>\n",
       "      <td>0.356992</td>\n",
       "      <td>1995</td>\n",
       "      <td>1514808</td>\n",
       "      <td>-1</td>\n",
       "      <td>0</td>\n",
       "    </tr>\n",
       "    <tr>\n",
       "      <th>2</th>\n",
       "      <td>TRMMMRX128F93187D9</td>\n",
       "      <td>No One Could Ever</td>\n",
       "      <td>SOGTUKN12AB017F4F1</td>\n",
       "      <td>Butter</td>\n",
       "      <td>ARGEKB01187FB50750</td>\n",
       "      <td>3d403d44-36ce-465c-ad43-ae877e65adc4</td>\n",
       "      <td>Hudson Mohawke</td>\n",
       "      <td>138.97098</td>\n",
       "      <td>0.643681</td>\n",
       "      <td>0.437504</td>\n",
       "      <td>2006</td>\n",
       "      <td>6945353</td>\n",
       "      <td>-1</td>\n",
       "      <td>0</td>\n",
       "    </tr>\n",
       "    <tr>\n",
       "      <th>3</th>\n",
       "      <td>TRMMMCH128F425532C</td>\n",
       "      <td>Si Vos Querés</td>\n",
       "      <td>SOBNYVR12A8C13558C</td>\n",
       "      <td>De Culo</td>\n",
       "      <td>ARNWYLR1187B9B2F9C</td>\n",
       "      <td>12be7648-7094-495f-90e6-df4189d68615</td>\n",
       "      <td>Yerba Brava</td>\n",
       "      <td>145.05751</td>\n",
       "      <td>0.448501</td>\n",
       "      <td>0.372349</td>\n",
       "      <td>2003</td>\n",
       "      <td>2168257</td>\n",
       "      <td>-1</td>\n",
       "      <td>0</td>\n",
       "    </tr>\n",
       "    <tr>\n",
       "      <th>4</th>\n",
       "      <td>TRMMMWA128F426B589</td>\n",
       "      <td>Tangle Of Aspens</td>\n",
       "      <td>SOHSBXH12A8C13B0DF</td>\n",
       "      <td>Rene Ablaze Presents Winter Sessions</td>\n",
       "      <td>AREQDTE1269FB37231</td>\n",
       "      <td>NaN</td>\n",
       "      <td>Der Mystic</td>\n",
       "      <td>514.29832</td>\n",
       "      <td>0.000000</td>\n",
       "      <td>0.000000</td>\n",
       "      <td>0</td>\n",
       "      <td>2264873</td>\n",
       "      <td>-1</td>\n",
       "      <td>0</td>\n",
       "    </tr>\n",
       "  </tbody>\n",
       "</table>\n",
       "</div>"
      ],
      "text/plain": [
       "             track_id              title             song_id  \\\n",
       "0  TRMMMYQ128F932D901       Silent Night  SOQMMHC12AB0180CB8   \n",
       "1  TRMMMKD128F425225D        Tanssi vaan  SOVFVAK12A8C1350D9   \n",
       "2  TRMMMRX128F93187D9  No One Could Ever  SOGTUKN12AB017F4F1   \n",
       "3  TRMMMCH128F425532C      Si Vos Querés  SOBNYVR12A8C13558C   \n",
       "4  TRMMMWA128F426B589   Tangle Of Aspens  SOHSBXH12A8C13B0DF   \n",
       "\n",
       "                                release           artist_id  \\\n",
       "0                 Monster Ballads X-Mas  ARYZTJS1187B98C555   \n",
       "1                           Karkuteillä  ARMVN3U1187FB3A1EB   \n",
       "2                                Butter  ARGEKB01187FB50750   \n",
       "3                               De Culo  ARNWYLR1187B9B2F9C   \n",
       "4  Rene Ablaze Presents Winter Sessions  AREQDTE1269FB37231   \n",
       "\n",
       "                            artist_mbid       artist_name   duration  \\\n",
       "0  357ff05d-848a-44cf-b608-cb34b5701ae5  Faster Pussy cat  252.05506   \n",
       "1  8d7ef530-a6fd-4f8f-b2e2-74aec765e0f9  Karkkiautomaatti  156.55138   \n",
       "2  3d403d44-36ce-465c-ad43-ae877e65adc4    Hudson Mohawke  138.97098   \n",
       "3  12be7648-7094-495f-90e6-df4189d68615       Yerba Brava  145.05751   \n",
       "4                                   NaN        Der Mystic  514.29832   \n",
       "\n",
       "   artist_familiarity  artist_hotttnesss  year  track_7digitalid  shs_perf  \\\n",
       "0            0.649822           0.394032  2003           7032331        -1   \n",
       "1            0.439604           0.356992  1995           1514808        -1   \n",
       "2            0.643681           0.437504  2006           6945353        -1   \n",
       "3            0.448501           0.372349  2003           2168257        -1   \n",
       "4            0.000000           0.000000     0           2264873        -1   \n",
       "\n",
       "   shs_work  \n",
       "0         0  \n",
       "1         0  \n",
       "2         0  \n",
       "3         0  \n",
       "4         0  "
      ]
     },
     "execution_count": 8,
     "metadata": {},
     "output_type": "execute_result"
    }
   ],
   "source": [
    "# Convert the table to a Pandas DataFrame\n",
    "metadata_table_df = pd.read_csv('/home/016651544/datasets/track_metadata.csv')\n",
    "metadata_table_df.head()"
   ]
  },
  {
   "cell_type": "code",
   "execution_count": 9,
   "metadata": {
    "scrolled": true
   },
   "outputs": [],
   "source": [
    "# metadata_table_df = metadata_table_df.applymap(lambda x: x.decode('utf-8').strip('\\'\"') if isinstance(x, bytes) else x)\n",
    "# metadata_table_df.head()\n",
    "song_ids = taste_profile[\"song_id\"].unique().astype(str)"
   ]
  },
  {
   "cell_type": "code",
   "execution_count": 10,
   "metadata": {},
   "outputs": [
    {
     "data": {
      "text/html": [
       "<div>\n",
       "<style scoped>\n",
       "    .dataframe tbody tr th:only-of-type {\n",
       "        vertical-align: middle;\n",
       "    }\n",
       "\n",
       "    .dataframe tbody tr th {\n",
       "        vertical-align: top;\n",
       "    }\n",
       "\n",
       "    .dataframe thead th {\n",
       "        text-align: right;\n",
       "    }\n",
       "</style>\n",
       "<table border=\"1\" class=\"dataframe\">\n",
       "  <thead>\n",
       "    <tr style=\"text-align: right;\">\n",
       "      <th></th>\n",
       "      <th>song_id</th>\n",
       "      <th>track_id</th>\n",
       "      <th>title</th>\n",
       "      <th>release</th>\n",
       "      <th>artist_id</th>\n",
       "      <th>artist_mbid</th>\n",
       "      <th>artist_name</th>\n",
       "      <th>duration</th>\n",
       "      <th>artist_familiarity</th>\n",
       "      <th>artist_hotttnesss</th>\n",
       "      <th>year</th>\n",
       "      <th>track_7digitalid</th>\n",
       "      <th>shs_perf</th>\n",
       "      <th>shs_work</th>\n",
       "    </tr>\n",
       "  </thead>\n",
       "  <tbody>\n",
       "    <tr>\n",
       "      <th>0</th>\n",
       "      <td>SOAKIMP12A8C130995</td>\n",
       "      <td>TRIQAUQ128F42435AD</td>\n",
       "      <td>The Cove</td>\n",
       "      <td>Thicker Than Water</td>\n",
       "      <td>ARC8CQZ1187B98DECA</td>\n",
       "      <td>ff6e677f-91dd-4986-a174-8db0474b1799</td>\n",
       "      <td>Jack Johnson</td>\n",
       "      <td>112.63955</td>\n",
       "      <td>0.832012</td>\n",
       "      <td>0.677482</td>\n",
       "      <td>0</td>\n",
       "      <td>2093263</td>\n",
       "      <td>-1</td>\n",
       "      <td>0</td>\n",
       "    </tr>\n",
       "    <tr>\n",
       "      <th>1</th>\n",
       "      <td>SOAPDEY12A81C210A9</td>\n",
       "      <td>TRIRLYL128F42539D1</td>\n",
       "      <td>Nothing from Nothing</td>\n",
       "      <td>To Die For</td>\n",
       "      <td>ARHYUI71187FB48366</td>\n",
       "      <td>8a7cf497-dc5c-4523-932d-3fcbc9a69d38</td>\n",
       "      <td>Billy Preston</td>\n",
       "      <td>153.59955</td>\n",
       "      <td>0.580555</td>\n",
       "      <td>0.482492</td>\n",
       "      <td>1974</td>\n",
       "      <td>3072847</td>\n",
       "      <td>-1</td>\n",
       "      <td>0</td>\n",
       "    </tr>\n",
       "    <tr>\n",
       "      <th>2</th>\n",
       "      <td>SOBBMDR12A8C13253B</td>\n",
       "      <td>TRMHBXZ128F4238406</td>\n",
       "      <td>Entre Dos Aguas</td>\n",
       "      <td>Flamenco Para Niños</td>\n",
       "      <td>ARC1SF21187FB51D0F</td>\n",
       "      <td>7bc8dd01-35ea-4b18-a64d-3a364dc76a52</td>\n",
       "      <td>Paco De Lucia</td>\n",
       "      <td>358.24281</td>\n",
       "      <td>0.633119</td>\n",
       "      <td>0.417718</td>\n",
       "      <td>1976</td>\n",
       "      <td>2631392</td>\n",
       "      <td>-1</td>\n",
       "      <td>0</td>\n",
       "    </tr>\n",
       "    <tr>\n",
       "      <th>3</th>\n",
       "      <td>SOBFNSP12AF72A0E22</td>\n",
       "      <td>TRYQMNI128F147C1C7</td>\n",
       "      <td>Under Cold Blue Stars</td>\n",
       "      <td>Under Cold Blue Stars</td>\n",
       "      <td>ARMS97V1187B99DD98</td>\n",
       "      <td>023d64c9-93db-4a20-8c5c-2efa1a53481a</td>\n",
       "      <td>Josh Rouse</td>\n",
       "      <td>266.34404</td>\n",
       "      <td>0.675339</td>\n",
       "      <td>0.509058</td>\n",
       "      <td>2002</td>\n",
       "      <td>413957</td>\n",
       "      <td>-1</td>\n",
       "      <td>0</td>\n",
       "    </tr>\n",
       "    <tr>\n",
       "      <th>4</th>\n",
       "      <td>SOBFOVM12A58A7D494</td>\n",
       "      <td>TRAHZNE128F9341B86</td>\n",
       "      <td>Riot Radio (Soundtrack Version)</td>\n",
       "      <td>Nick &amp; Norah's Infinite Playlist - Original Mo...</td>\n",
       "      <td>ARI4V0E1187B9B6FC2</td>\n",
       "      <td>87ebbe67-3910-4521-a418-4fe53eb912b7</td>\n",
       "      <td>The Dead 60s</td>\n",
       "      <td>141.42649</td>\n",
       "      <td>0.650281</td>\n",
       "      <td>0.451749</td>\n",
       "      <td>0</td>\n",
       "      <td>5674853</td>\n",
       "      <td>-1</td>\n",
       "      <td>0</td>\n",
       "    </tr>\n",
       "  </tbody>\n",
       "</table>\n",
       "</div>"
      ],
      "text/plain": [
       "              song_id            track_id                            title  \\\n",
       "0  SOAKIMP12A8C130995  TRIQAUQ128F42435AD                         The Cove   \n",
       "1  SOAPDEY12A81C210A9  TRIRLYL128F42539D1             Nothing from Nothing   \n",
       "2  SOBBMDR12A8C13253B  TRMHBXZ128F4238406                  Entre Dos Aguas   \n",
       "3  SOBFNSP12AF72A0E22  TRYQMNI128F147C1C7            Under Cold Blue Stars   \n",
       "4  SOBFOVM12A58A7D494  TRAHZNE128F9341B86  Riot Radio (Soundtrack Version)   \n",
       "\n",
       "                                             release           artist_id  \\\n",
       "0                                 Thicker Than Water  ARC8CQZ1187B98DECA   \n",
       "1                                         To Die For  ARHYUI71187FB48366   \n",
       "2                                Flamenco Para Niños  ARC1SF21187FB51D0F   \n",
       "3                              Under Cold Blue Stars  ARMS97V1187B99DD98   \n",
       "4  Nick & Norah's Infinite Playlist - Original Mo...  ARI4V0E1187B9B6FC2   \n",
       "\n",
       "                            artist_mbid    artist_name   duration  \\\n",
       "0  ff6e677f-91dd-4986-a174-8db0474b1799   Jack Johnson  112.63955   \n",
       "1  8a7cf497-dc5c-4523-932d-3fcbc9a69d38  Billy Preston  153.59955   \n",
       "2  7bc8dd01-35ea-4b18-a64d-3a364dc76a52  Paco De Lucia  358.24281   \n",
       "3  023d64c9-93db-4a20-8c5c-2efa1a53481a     Josh Rouse  266.34404   \n",
       "4  87ebbe67-3910-4521-a418-4fe53eb912b7   The Dead 60s  141.42649   \n",
       "\n",
       "   artist_familiarity  artist_hotttnesss  year  track_7digitalid  shs_perf  \\\n",
       "0            0.832012           0.677482     0           2093263        -1   \n",
       "1            0.580555           0.482492  1974           3072847        -1   \n",
       "2            0.633119           0.417718  1976           2631392        -1   \n",
       "3            0.675339           0.509058  2002            413957        -1   \n",
       "4            0.650281           0.451749     0           5674853        -1   \n",
       "\n",
       "   shs_work  \n",
       "0         0  \n",
       "1         0  \n",
       "2         0  \n",
       "3         0  \n",
       "4         0  "
      ]
     },
     "execution_count": 10,
     "metadata": {},
     "output_type": "execute_result"
    }
   ],
   "source": [
    "metadata_df = pd.merge(pd.DataFrame(song_ids,columns=['song_id']),metadata_table_df,on=\"song_id\",how='left')\n",
    "metadata_df.head()"
   ]
  },
  {
   "cell_type": "markdown",
   "metadata": {},
   "source": [
    "### EDA on MetaData"
   ]
  },
  {
   "cell_type": "code",
   "execution_count": 11,
   "metadata": {},
   "outputs": [],
   "source": [
    "metadata_df.replace(\"\",np.nan,inplace=True)"
   ]
  },
  {
   "cell_type": "code",
   "execution_count": 12,
   "metadata": {},
   "outputs": [],
   "source": [
    "# metadata_df.idx_artist_terms.value_counts(),metadata_df.idx_similar_artists.value_counts(), metadata_df.artist_7digitalid.value_counts(),artist_playmeid\n",
    "# metadata_df.track_7digitalid.value_counts()"
   ]
  },
  {
   "cell_type": "code",
   "execution_count": 13,
   "metadata": {},
   "outputs": [
    {
     "data": {
      "text/plain": [
       "song_id                  0\n",
       "track_id                 0\n",
       "title                    2\n",
       "release                  0\n",
       "artist_id                0\n",
       "artist_mbid           4279\n",
       "artist_name              0\n",
       "duration                 0\n",
       "artist_familiarity       0\n",
       "artist_hotttnesss        0\n",
       "year                     0\n",
       "track_7digitalid         0\n",
       "shs_perf                 0\n",
       "shs_work                 0\n",
       "dtype: int64"
      ]
     },
     "execution_count": 13,
     "metadata": {},
     "output_type": "execute_result"
    }
   ],
   "source": [
    "metadata_df.isna().sum()"
   ]
  },
  {
   "cell_type": "code",
   "execution_count": 14,
   "metadata": {},
   "outputs": [
    {
     "data": {
      "text/plain": [
       "song_id                  0\n",
       "track_id                 0\n",
       "title                    0\n",
       "release                  0\n",
       "artist_id                0\n",
       "artist_mbid           4279\n",
       "artist_name              0\n",
       "duration                 0\n",
       "artist_familiarity       0\n",
       "artist_hotttnesss        0\n",
       "year                     0\n",
       "track_7digitalid         0\n",
       "shs_perf                 0\n",
       "shs_work                 0\n",
       "dtype: int64"
      ]
     },
     "execution_count": 14,
     "metadata": {},
     "output_type": "execute_result"
    }
   ],
   "source": [
    "values = {'song_hotttnesss': 0,'artist_familiarity': 0, 'title': \"Unknown\"}\n",
    "metadata_df.fillna(value= values,inplace=True)\n",
    "metadata_df.isna().sum()"
   ]
  },
  {
   "cell_type": "code",
   "execution_count": 15,
   "metadata": {
    "colab": {
     "base_uri": "https://localhost:8080/"
    },
    "id": "G5jw7cC2n7Bi",
    "outputId": "49422b5b-804a-4f79-b12f-651a5ccb08de"
   },
   "outputs": [
    {
     "data": {
      "text/plain": [
       "(Index(['song_id', 'track_id', 'title', 'release', 'artist_id', 'artist_mbid',\n",
       "        'artist_name', 'duration', 'artist_familiarity', 'artist_hotttnesss',\n",
       "        'year', 'track_7digitalid', 'shs_perf', 'shs_work'],\n",
       "       dtype='object'),\n",
       " song_id                object\n",
       " track_id               object\n",
       " title                  object\n",
       " release                object\n",
       " artist_id              object\n",
       " artist_mbid            object\n",
       " artist_name            object\n",
       " duration              float64\n",
       " artist_familiarity    float64\n",
       " artist_hotttnesss     float64\n",
       " year                    int64\n",
       " track_7digitalid        int64\n",
       " shs_perf                int64\n",
       " shs_work                int64\n",
       " dtype: object)"
      ]
     },
     "execution_count": 15,
     "metadata": {},
     "output_type": "execute_result"
    }
   ],
   "source": [
    "metadata_df.columns,metadata_df.dtypes"
   ]
  },
  {
   "cell_type": "code",
   "execution_count": 16,
   "metadata": {},
   "outputs": [
    {
     "data": {
      "text/plain": [
       "0.000000    272\n",
       "0.803220    115\n",
       "0.833968    106\n",
       "0.929030    102\n",
       "0.838409     93\n",
       "           ... \n",
       "0.592357      1\n",
       "0.455168      1\n",
       "0.488181      1\n",
       "0.424525      1\n",
       "0.624586      1\n",
       "Name: artist_familiarity, Length: 24525, dtype: int64"
      ]
     },
     "execution_count": 16,
     "metadata": {},
     "output_type": "execute_result"
    }
   ],
   "source": [
    "metadata_df.artist_familiarity.value_counts()"
   ]
  },
  {
   "cell_type": "code",
   "execution_count": 17,
   "metadata": {},
   "outputs": [
    {
     "data": {
      "text/plain": [
       "array([[<Axes: title={'center': 'duration'}>,\n",
       "        <Axes: title={'center': 'artist_familiarity'}>],\n",
       "       [<Axes: title={'center': 'artist_hotttnesss'}>,\n",
       "        <Axes: title={'center': 'year'}>],\n",
       "       [<Axes: title={'center': 'shs_perf'}>,\n",
       "        <Axes: title={'center': 'shs_work'}>]], dtype=object)"
      ]
     },
     "execution_count": 17,
     "metadata": {},
     "output_type": "execute_result"
    },
    {
     "data": {
      "image/png": "[encoded data removed]",
      "text/plain": [
       "<Figure size 640x480 with 6 Axes>"
      ]
     },
     "metadata": {},
     "output_type": "display_data"
    }
   ],
   "source": [
    "metadata_df[['duration', 'artist_familiarity', 'artist_hotttnesss', 'year', 'shs_perf', 'shs_work']].hist()"
   ]
  },
  {
   "cell_type": "code",
   "execution_count": 18,
   "metadata": {
    "scrolled": true
   },
   "outputs": [],
   "source": [
    "# metadata_df.drop(columns =['artist_mbid','shs_work','shs_perf','track_7digitalid','artist_id'],inplace=True)"
   ]
  },
  {
   "cell_type": "code",
   "execution_count": 19,
   "metadata": {},
   "outputs": [
    {
     "data": {
      "text/plain": [
       "Index(['song_id', 'track_id', 'title', 'release', 'artist_id', 'artist_mbid',\n",
       "       'artist_name', 'duration', 'artist_familiarity', 'artist_hotttnesss',\n",
       "       'year', 'track_7digitalid', 'shs_perf', 'shs_work'],\n",
       "      dtype='object')"
      ]
     },
     "execution_count": 19,
     "metadata": {},
     "output_type": "execute_result"
    }
   ],
   "source": [
    "metadata_df.columns"
   ]
  },
  {
   "cell_type": "markdown",
   "metadata": {},
   "source": [
    "### EDA"
   ]
  },
  {
   "cell_type": "code",
   "execution_count": 20,
   "metadata": {},
   "outputs": [
    {
     "data": {
      "text/html": [
       "<div>\n",
       "<style scoped>\n",
       "    .dataframe tbody tr th:only-of-type {\n",
       "        vertical-align: middle;\n",
       "    }\n",
       "\n",
       "    .dataframe tbody tr th {\n",
       "        vertical-align: top;\n",
       "    }\n",
       "\n",
       "    .dataframe thead th {\n",
       "        text-align: right;\n",
       "    }\n",
       "</style>\n",
       "<table border=\"1\" class=\"dataframe\">\n",
       "  <thead>\n",
       "    <tr style=\"text-align: right;\">\n",
       "      <th></th>\n",
       "      <th>user_id</th>\n",
       "      <th>song_id</th>\n",
       "      <th>play_count</th>\n",
       "      <th>track_id</th>\n",
       "      <th>title</th>\n",
       "      <th>release</th>\n",
       "      <th>artist_id</th>\n",
       "      <th>artist_mbid</th>\n",
       "      <th>artist_name</th>\n",
       "      <th>duration</th>\n",
       "      <th>artist_familiarity</th>\n",
       "      <th>artist_hotttnesss</th>\n",
       "      <th>year</th>\n",
       "      <th>track_7digitalid</th>\n",
       "      <th>shs_perf</th>\n",
       "      <th>shs_work</th>\n",
       "    </tr>\n",
       "  </thead>\n",
       "  <tbody>\n",
       "    <tr>\n",
       "      <th>0</th>\n",
       "      <td>b80344d063b5ccb3212f76538f3d9e43d87dca9e</td>\n",
       "      <td>SOAKIMP12A8C130995</td>\n",
       "      <td>1</td>\n",
       "      <td>TRIQAUQ128F42435AD</td>\n",
       "      <td>The Cove</td>\n",
       "      <td>Thicker Than Water</td>\n",
       "      <td>ARC8CQZ1187B98DECA</td>\n",
       "      <td>ff6e677f-91dd-4986-a174-8db0474b1799</td>\n",
       "      <td>Jack Johnson</td>\n",
       "      <td>112.63955</td>\n",
       "      <td>0.832012</td>\n",
       "      <td>0.677482</td>\n",
       "      <td>0</td>\n",
       "      <td>2093263</td>\n",
       "      <td>-1</td>\n",
       "      <td>0</td>\n",
       "    </tr>\n",
       "    <tr>\n",
       "      <th>1</th>\n",
       "      <td>b80344d063b5ccb3212f76538f3d9e43d87dca9e</td>\n",
       "      <td>SOAPDEY12A81C210A9</td>\n",
       "      <td>1</td>\n",
       "      <td>TRIRLYL128F42539D1</td>\n",
       "      <td>Nothing from Nothing</td>\n",
       "      <td>To Die For</td>\n",
       "      <td>ARHYUI71187FB48366</td>\n",
       "      <td>8a7cf497-dc5c-4523-932d-3fcbc9a69d38</td>\n",
       "      <td>Billy Preston</td>\n",
       "      <td>153.59955</td>\n",
       "      <td>0.580555</td>\n",
       "      <td>0.482492</td>\n",
       "      <td>1974</td>\n",
       "      <td>3072847</td>\n",
       "      <td>-1</td>\n",
       "      <td>0</td>\n",
       "    </tr>\n",
       "    <tr>\n",
       "      <th>2</th>\n",
       "      <td>b80344d063b5ccb3212f76538f3d9e43d87dca9e</td>\n",
       "      <td>SOBBMDR12A8C13253B</td>\n",
       "      <td>2</td>\n",
       "      <td>TRMHBXZ128F4238406</td>\n",
       "      <td>Entre Dos Aguas</td>\n",
       "      <td>Flamenco Para Niños</td>\n",
       "      <td>ARC1SF21187FB51D0F</td>\n",
       "      <td>7bc8dd01-35ea-4b18-a64d-3a364dc76a52</td>\n",
       "      <td>Paco De Lucia</td>\n",
       "      <td>358.24281</td>\n",
       "      <td>0.633119</td>\n",
       "      <td>0.417718</td>\n",
       "      <td>1976</td>\n",
       "      <td>2631392</td>\n",
       "      <td>-1</td>\n",
       "      <td>0</td>\n",
       "    </tr>\n",
       "    <tr>\n",
       "      <th>3</th>\n",
       "      <td>b80344d063b5ccb3212f76538f3d9e43d87dca9e</td>\n",
       "      <td>SOBFNSP12AF72A0E22</td>\n",
       "      <td>1</td>\n",
       "      <td>TRYQMNI128F147C1C7</td>\n",
       "      <td>Under Cold Blue Stars</td>\n",
       "      <td>Under Cold Blue Stars</td>\n",
       "      <td>ARMS97V1187B99DD98</td>\n",
       "      <td>023d64c9-93db-4a20-8c5c-2efa1a53481a</td>\n",
       "      <td>Josh Rouse</td>\n",
       "      <td>266.34404</td>\n",
       "      <td>0.675339</td>\n",
       "      <td>0.509058</td>\n",
       "      <td>2002</td>\n",
       "      <td>413957</td>\n",
       "      <td>-1</td>\n",
       "      <td>0</td>\n",
       "    </tr>\n",
       "    <tr>\n",
       "      <th>4</th>\n",
       "      <td>b80344d063b5ccb3212f76538f3d9e43d87dca9e</td>\n",
       "      <td>SOBFOVM12A58A7D494</td>\n",
       "      <td>1</td>\n",
       "      <td>TRAHZNE128F9341B86</td>\n",
       "      <td>Riot Radio (Soundtrack Version)</td>\n",
       "      <td>Nick &amp; Norah's Infinite Playlist - Original Mo...</td>\n",
       "      <td>ARI4V0E1187B9B6FC2</td>\n",
       "      <td>87ebbe67-3910-4521-a418-4fe53eb912b7</td>\n",
       "      <td>The Dead 60s</td>\n",
       "      <td>141.42649</td>\n",
       "      <td>0.650281</td>\n",
       "      <td>0.451749</td>\n",
       "      <td>0</td>\n",
       "      <td>5674853</td>\n",
       "      <td>-1</td>\n",
       "      <td>0</td>\n",
       "    </tr>\n",
       "  </tbody>\n",
       "</table>\n",
       "</div>"
      ],
      "text/plain": [
       "                                    user_id             song_id  play_count  \\\n",
       "0  b80344d063b5ccb3212f76538f3d9e43d87dca9e  SOAKIMP12A8C130995           1   \n",
       "1  b80344d063b5ccb3212f76538f3d9e43d87dca9e  SOAPDEY12A81C210A9           1   \n",
       "2  b80344d063b5ccb3212f76538f3d9e43d87dca9e  SOBBMDR12A8C13253B           2   \n",
       "3  b80344d063b5ccb3212f76538f3d9e43d87dca9e  SOBFNSP12AF72A0E22           1   \n",
       "4  b80344d063b5ccb3212f76538f3d9e43d87dca9e  SOBFOVM12A58A7D494           1   \n",
       "\n",
       "             track_id                            title  \\\n",
       "0  TRIQAUQ128F42435AD                         The Cove   \n",
       "1  TRIRLYL128F42539D1             Nothing from Nothing   \n",
       "2  TRMHBXZ128F4238406                  Entre Dos Aguas   \n",
       "3  TRYQMNI128F147C1C7            Under Cold Blue Stars   \n",
       "4  TRAHZNE128F9341B86  Riot Radio (Soundtrack Version)   \n",
       "\n",
       "                                             release           artist_id  \\\n",
       "0                                 Thicker Than Water  ARC8CQZ1187B98DECA   \n",
       "1                                         To Die For  ARHYUI71187FB48366   \n",
       "2                                Flamenco Para Niños  ARC1SF21187FB51D0F   \n",
       "3                              Under Cold Blue Stars  ARMS97V1187B99DD98   \n",
       "4  Nick & Norah's Infinite Playlist - Original Mo...  ARI4V0E1187B9B6FC2   \n",
       "\n",
       "                            artist_mbid    artist_name   duration  \\\n",
       "0  ff6e677f-91dd-4986-a174-8db0474b1799   Jack Johnson  112.63955   \n",
       "1  8a7cf497-dc5c-4523-932d-3fcbc9a69d38  Billy Preston  153.59955   \n",
       "2  7bc8dd01-35ea-4b18-a64d-3a364dc76a52  Paco De Lucia  358.24281   \n",
       "3  023d64c9-93db-4a20-8c5c-2efa1a53481a     Josh Rouse  266.34404   \n",
       "4  87ebbe67-3910-4521-a418-4fe53eb912b7   The Dead 60s  141.42649   \n",
       "\n",
       "   artist_familiarity  artist_hotttnesss  year  track_7digitalid  shs_perf  \\\n",
       "0            0.832012           0.677482     0           2093263        -1   \n",
       "1            0.580555           0.482492  1974           3072847        -1   \n",
       "2            0.633119           0.417718  1976           2631392        -1   \n",
       "3            0.675339           0.509058  2002            413957        -1   \n",
       "4            0.650281           0.451749     0           5674853        -1   \n",
       "\n",
       "   shs_work  \n",
       "0         0  \n",
       "1         0  \n",
       "2         0  \n",
       "3         0  \n",
       "4         0  "
      ]
     },
     "execution_count": 20,
     "metadata": {},
     "output_type": "execute_result"
    }
   ],
   "source": [
    "eda_data = pd.merge(taste_profile, metadata_df, on='song_id',how='left')\n",
    "eda_data.head()"
   ]
  },
  {
   "cell_type": "code",
   "execution_count": 25,
   "metadata": {},
   "outputs": [
    {
     "name": "stdout",
     "output_type": "stream",
     "text": [
      "Top 10 most popular songs:\n",
      "1. Song: Use Somebody, Count: 3882\n",
      "2. Song: Sehr kosmisch, Count: 3879\n",
      "3. Song: Dog Days Are Over (Radio Edit), Count: 3217\n",
      "4. Song: Yellow, Count: 2851\n",
      "5. Song: Undo, Count: 2807\n",
      "6. Song: Somebody To Love, Count: 2735\n",
      "7. Song: Secrets, Count: 2697\n",
      "8. Song: You're The One, Count: 2624\n",
      "9. Song: Revelry, Count: 2545\n",
      "10. Song: Love Story, Count: 2537\n",
      "\n"
     ]
    },
    {
     "name": "stderr",
     "output_type": "stream",
     "text": [
      "/tmp/ipykernel_9413/449051530.py:5: FutureWarning: iteritems is deprecated and will be removed in a future version. Use .items instead.\n",
      "  for i, (song_id, count) in enumerate(top_songs.iteritems(), 1):\n"
     ]
    }
   ],
   "source": [
    "# Most popular songs\n",
    "song_counts = eda_data['title'].value_counts()\n",
    "top_songs = song_counts.head(10)\n",
    "print('Top 10 most popular songs:')\n",
    "for i, (song_id, count) in enumerate(top_songs.iteritems(), 1):\n",
    "    print(f'{i}. Song: {song_id}, Count: {count}')\n",
    "print()"
   ]
  },
  {
   "cell_type": "code",
   "execution_count": 26,
   "metadata": {},
   "outputs": [
    {
     "name": "stdout",
     "output_type": "stream",
     "text": [
      "Top 10 most popular artists:\n",
      "1. Artist: Coldplay, Count: 16691\n",
      "2. Artist: Kings Of Leon, Count: 12638\n",
      "3. Artist: The Black Keys, Count: 10052\n",
      "4. Artist: Muse, Count: 9824\n",
      "5. Artist: Jack Johnson, Count: 9377\n",
      "6. Artist: Radiohead, Count: 8916\n",
      "7. Artist: Florence + The Machine, Count: 8701\n",
      "8. Artist: The Killers, Count: 8574\n",
      "9. Artist: Eminem, Count: 8226\n",
      "10. Artist: Justin Bieber, Count: 8153\n"
     ]
    },
    {
     "name": "stderr",
     "output_type": "stream",
     "text": [
      "/tmp/ipykernel_9413/3408154478.py:5: FutureWarning: iteritems is deprecated and will be removed in a future version. Use .items instead.\n",
      "  for i, (artist_name, count) in enumerate(top_artists.iteritems(), 1):\n"
     ]
    }
   ],
   "source": [
    "\n",
    "# Most popular artists\n",
    "artist_counts = eda_data['artist_name'].value_counts()\n",
    "top_artists = artist_counts.head(10)\n",
    "print('Top 10 most popular artists:')\n",
    "for i, (artist_name, count) in enumerate(top_artists.iteritems(), 1):\n",
    "    print(f'{i}. Artist: {artist_name}, Count: {count}')\n"
   ]
  },
  {
   "cell_type": "code",
   "execution_count": 29,
   "metadata": {},
   "outputs": [
    {
     "name": "stdout",
     "output_type": "stream",
     "text": [
      "Average duration: 248.57 seconds\n"
     ]
    }
   ],
   "source": [
    "# Average duration\n",
    "avg_duration = eda_data['duration'].mean()\n",
    "print(f'Average duration: {avg_duration:.2f} seconds')"
   ]
  },
  {
   "cell_type": "code",
   "execution_count": 30,
   "metadata": {},
   "outputs": [
    {
     "data": {
      "image/png": "[encoded data removed]",
      "text/plain": [
       "<Figure size 640x480 with 1 Axes>"
      ]
     },
     "metadata": {},
     "output_type": "display_data"
    }
   ],
   "source": [
    "plt.hist(eda_data[eda_data['year']!=0]['year'], bins=20)\n",
    "plt.xlabel('Release Year')\n",
    "plt.ylabel('Frequency')\n",
    "plt.title('Distribution of Song Release Years')\n",
    "plt.show()"
   ]
  },
  {
   "cell_type": "code",
   "execution_count": 37,
   "metadata": {},
   "outputs": [
    {
     "data": {
      "image/png": "[encoded data removed]",
      "text/plain": [
       "<Figure size 1000x500 with 2 Axes>"
      ]
     },
     "metadata": {},
     "output_type": "display_data"
    }
   ],
   "source": [
    "song_counts = eda_data['title'].value_counts()\n",
    "artist_counts = eda_data['artist_name'].value_counts()\n",
    "plt.figure(figsize=(10,5))\n",
    "plt.subplot(1,2,1)\n",
    "song_counts[:10].plot(kind='bar')\n",
    "plt.title('Top 10 Songs')\n",
    "plt.xlabel('Song Title')\n",
    "plt.ylabel('Number of Occurrences')\n",
    "plt.subplot(1,2,2)\n",
    "artist_counts[:10].plot(kind='bar')\n",
    "plt.title('Top 10 Artists')\n",
    "plt.xlabel('Artist Name')\n",
    "plt.ylabel('Number of Occurrences')\n",
    "plt.tight_layout()\n",
    "plt.show()"
   ]
  },
  {
   "cell_type": "code",
   "execution_count": 36,
   "metadata": {},
   "outputs": [
    {
     "name": "stdout",
     "output_type": "stream",
     "text": [
      "The average duration of songs is 248.57 seconds.\n"
     ]
    },
    {
     "data": {
      "image/png": "[encoded data removed]",
      "text/plain": [
       "<Figure size 640x480 with 1 Axes>"
      ]
     },
     "metadata": {},
     "output_type": "display_data"
    }
   ],
   "source": [
    "mean_duration = eda_data['duration'].mean()\n",
    "print('The average duration of songs is {:.2f} seconds.'.format(mean_duration))\n",
    "\n",
    "plt.hist(eda_data['duration'], bins=20)\n",
    "plt.title('Distribution of Song Durations')\n",
    "plt.xlabel('Duration (seconds)')\n",
    "plt.ylabel('Number of Songs')\n",
    "plt.show()"
   ]
  },
  {
   "cell_type": "code",
   "execution_count": 34,
   "metadata": {},
   "outputs": [
    {
     "data": {
      "image/png": "[encoded data removed]",
      "text/plain": [
       "<Figure size 1000x500 with 2 Axes>"
      ]
     },
     "metadata": {},
     "output_type": "display_data"
    },
    {
     "data": {
      "image/png": "[encoded data removed]",
      "text/plain": [
       "<Figure size 640x480 with 1 Axes>"
      ]
     },
     "metadata": {},
     "output_type": "display_data"
    }
   ],
   "source": [
    "plt.figure(figsize=(10,5))\n",
    "plt.subplot(1,2,1)\n",
    "plt.hist(eda_data['artist_familiarity'], bins=20)\n",
    "plt.title('Distribution of Artist Familiarity')\n",
    "plt.xlabel('Familiarity Score')\n",
    "plt.ylabel('Number of Artists')\n",
    "plt.subplot(1,2,2)\n",
    "plt.hist(eda_data['artist_hotttnesss'], bins=20)\n",
    "plt.title('Distribution of Artist Hotness')\n",
    "plt.xlabel('Hotness Score')\n",
    "plt.ylabel('Number of Artists')\n",
    "plt.tight_layout()\n",
    "plt.show()\n",
    "\n",
    "plt.scatter(eda_data['artist_familiarity'], eda_data['artist_hotttnesss'])\n",
    "plt.title('Relationship between Artist Familiarity and Hotness')\n",
    "plt.xlabel('Familiarity Score')\n",
    "plt.ylabel('Hotness Score')\n",
    "plt.show()"
   ]
  },
  {
   "cell_type": "code",
   "execution_count": null,
   "metadata": {},
   "outputs": [],
   "source": []
  },
  {
   "cell_type": "code",
   "execution_count": null,
   "metadata": {},
   "outputs": [],
   "source": []
  },
  {
   "cell_type": "markdown",
   "metadata": {},
   "source": [
    "### TEXT PREPROCESSING"
   ]
  },
  {
   "cell_type": "code",
   "execution_count": 20,
   "metadata": {},
   "outputs": [],
   "source": [
    "num_columns = ['song_id','duration', 'artist_familiarity', 'artist_hotttnesss', 'year']\n",
    "text_columns = ['song_id','release','title', 'artist_name']\n",
    "num_meta_df = metadata_df[num_columns].copy()\n",
    "text_meta_df = metadata_df[text_columns].copy()"
   ]
  },
  {
   "cell_type": "code",
   "execution_count": 21,
   "metadata": {},
   "outputs": [],
   "source": [
    "import re\n",
    "# Preprocess song release,title, artist name\n",
    "text_meta_df['release'] = text_meta_df['release'].apply(lambda x: re.sub(r'[^\\w\\s]', '', str(x))) # Remove punctuation\n",
    "text_meta_df['release'] = text_meta_df['release'].apply(lambda x: x.lower()) # Convert to lowercase\n",
    "# text_meta_df['release'] = text_meta_df['release'].apply(lambda x: ' '.join([word for word in x.split() if word not in (stopwords.words('english'))])) # Remove stop words\n",
    "\n",
    "text_meta_df['title'] = text_meta_df['title'].apply(lambda x: re.sub(r'[^\\w\\s]', '', str(x))) # Remove punctuation\n",
    "text_meta_df['title'] = text_meta_df['title'].apply(lambda x: x.lower()) # Convert to lowercase\n",
    "# text_meta_df['title'] = text_meta_df['title'].apply(lambda x: ' '.join([word for word in x.split() if word not in (stopwords.words('english'))])) # Remove stop words\n",
    "\n",
    "text_meta_df['artist_name'] = text_meta_df['artist_name'].apply(lambda x: re.sub(r'[^\\w\\s]', '', str(x))) # Remove punctuation\n",
    "text_meta_df['artist_name'] = text_meta_df['artist_name'].apply(lambda x: x.lower()) # Convert to lowercase\n",
    "# text_meta_df['artist_name'] = text_meta_df['artist_name'].apply(lambda x: ' '.join([word for word in x.split() if word not in (stopwords.words('english'))])) # Remove stop words\n"
   ]
  },
  {
   "cell_type": "code",
   "execution_count": 22,
   "metadata": {},
   "outputs": [],
   "source": [
    "from gensim.models import Word2Vec\n",
    "\n",
    "text_meta_df['text'] = text_meta_df[['release','title', 'artist_name']].apply(lambda row: ' '.join(row.values.astype(str)), axis=1)\n",
    "corpus = [text.split() for text in text_meta_df['text']]\n",
    "emb_size = 500\n",
    "# Train Word2Vec model\n",
    "model_w2v = Word2Vec(sentences=corpus, vector_size=emb_size, window=5, min_count=1, workers=4, sg=0)\n"
   ]
  },
  {
   "cell_type": "code",
   "execution_count": 23,
   "metadata": {},
   "outputs": [
    {
     "data": {
      "text/plain": [
       "(189633, 500)"
      ]
     },
     "execution_count": 23,
     "metadata": {},
     "output_type": "execute_result"
    }
   ],
   "source": [
    "# Encode metadata using Word2Vec\n",
    "meta_text_vec = []\n",
    "for text in text_meta_df['text']:\n",
    "    vec = np.zeros(emb_size)\n",
    "    tokens = text.split()\n",
    "    for token in tokens:\n",
    "        if token in model_w2v.wv:\n",
    "            vec += model_w2v.wv[token]\n",
    "    meta_text_vec.append(vec)\n",
    "meta_text_vec = np.array(meta_text_vec)\n",
    "meta_text_vec.shape"
   ]
  },
  {
   "cell_type": "code",
   "execution_count": 24,
   "metadata": {},
   "outputs": [
    {
     "data": {
      "text/html": [
       "<div>\n",
       "<style scoped>\n",
       "    .dataframe tbody tr th:only-of-type {\n",
       "        vertical-align: middle;\n",
       "    }\n",
       "\n",
       "    .dataframe tbody tr th {\n",
       "        vertical-align: top;\n",
       "    }\n",
       "\n",
       "    .dataframe thead th {\n",
       "        text-align: right;\n",
       "    }\n",
       "</style>\n",
       "<table border=\"1\" class=\"dataframe\">\n",
       "  <thead>\n",
       "    <tr style=\"text-align: right;\">\n",
       "      <th></th>\n",
       "      <th>song_id</th>\n",
       "      <th>embed_0</th>\n",
       "      <th>embed_1</th>\n",
       "      <th>embed_2</th>\n",
       "      <th>embed_3</th>\n",
       "      <th>embed_4</th>\n",
       "      <th>embed_5</th>\n",
       "      <th>embed_6</th>\n",
       "      <th>embed_7</th>\n",
       "      <th>embed_8</th>\n",
       "      <th>...</th>\n",
       "      <th>embed_490</th>\n",
       "      <th>embed_491</th>\n",
       "      <th>embed_492</th>\n",
       "      <th>embed_493</th>\n",
       "      <th>embed_494</th>\n",
       "      <th>embed_495</th>\n",
       "      <th>embed_496</th>\n",
       "      <th>embed_497</th>\n",
       "      <th>embed_498</th>\n",
       "      <th>embed_499</th>\n",
       "    </tr>\n",
       "  </thead>\n",
       "  <tbody>\n",
       "    <tr>\n",
       "      <th>0</th>\n",
       "      <td>SOAKIMP12A8C130995</td>\n",
       "      <td>3.459586</td>\n",
       "      <td>2.818468</td>\n",
       "      <td>2.048239</td>\n",
       "      <td>1.157248</td>\n",
       "      <td>-1.559097</td>\n",
       "      <td>-3.432362</td>\n",
       "      <td>2.432063</td>\n",
       "      <td>5.023251</td>\n",
       "      <td>-1.434078</td>\n",
       "      <td>...</td>\n",
       "      <td>1.911688</td>\n",
       "      <td>-0.869168</td>\n",
       "      <td>0.623368</td>\n",
       "      <td>1.561162</td>\n",
       "      <td>-0.504498</td>\n",
       "      <td>0.366421</td>\n",
       "      <td>0.165279</td>\n",
       "      <td>-3.447769</td>\n",
       "      <td>-2.407705</td>\n",
       "      <td>-0.265385</td>\n",
       "    </tr>\n",
       "    <tr>\n",
       "      <th>1</th>\n",
       "      <td>SOAPDEY12A81C210A9</td>\n",
       "      <td>3.943554</td>\n",
       "      <td>7.783957</td>\n",
       "      <td>2.395405</td>\n",
       "      <td>3.924154</td>\n",
       "      <td>-1.090153</td>\n",
       "      <td>-7.000595</td>\n",
       "      <td>4.537427</td>\n",
       "      <td>5.420865</td>\n",
       "      <td>-0.517119</td>\n",
       "      <td>...</td>\n",
       "      <td>0.621522</td>\n",
       "      <td>-5.340216</td>\n",
       "      <td>-0.757952</td>\n",
       "      <td>1.576235</td>\n",
       "      <td>1.818998</td>\n",
       "      <td>2.487554</td>\n",
       "      <td>0.811014</td>\n",
       "      <td>-5.500037</td>\n",
       "      <td>-2.305865</td>\n",
       "      <td>-3.765372</td>\n",
       "    </tr>\n",
       "    <tr>\n",
       "      <th>2</th>\n",
       "      <td>SOBBMDR12A8C13253B</td>\n",
       "      <td>1.473728</td>\n",
       "      <td>-1.620696</td>\n",
       "      <td>1.683114</td>\n",
       "      <td>6.395366</td>\n",
       "      <td>-1.242066</td>\n",
       "      <td>-5.153045</td>\n",
       "      <td>-1.963623</td>\n",
       "      <td>1.113793</td>\n",
       "      <td>-0.018866</td>\n",
       "      <td>...</td>\n",
       "      <td>-1.491392</td>\n",
       "      <td>0.355332</td>\n",
       "      <td>3.433140</td>\n",
       "      <td>-1.642307</td>\n",
       "      <td>1.115882</td>\n",
       "      <td>-1.162770</td>\n",
       "      <td>0.595061</td>\n",
       "      <td>2.366619</td>\n",
       "      <td>-3.306341</td>\n",
       "      <td>-5.692612</td>\n",
       "    </tr>\n",
       "    <tr>\n",
       "      <th>3</th>\n",
       "      <td>SOBFNSP12AF72A0E22</td>\n",
       "      <td>6.430055</td>\n",
       "      <td>6.198054</td>\n",
       "      <td>4.159888</td>\n",
       "      <td>-0.885265</td>\n",
       "      <td>-3.974009</td>\n",
       "      <td>-5.090581</td>\n",
       "      <td>1.655470</td>\n",
       "      <td>8.636232</td>\n",
       "      <td>-2.050767</td>\n",
       "      <td>...</td>\n",
       "      <td>2.335559</td>\n",
       "      <td>0.685804</td>\n",
       "      <td>1.423723</td>\n",
       "      <td>2.986573</td>\n",
       "      <td>0.241086</td>\n",
       "      <td>0.720802</td>\n",
       "      <td>1.649229</td>\n",
       "      <td>-5.153775</td>\n",
       "      <td>-2.385250</td>\n",
       "      <td>-0.604622</td>\n",
       "    </tr>\n",
       "    <tr>\n",
       "      <th>4</th>\n",
       "      <td>SOBFOVM12A58A7D494</td>\n",
       "      <td>8.782164</td>\n",
       "      <td>9.753830</td>\n",
       "      <td>7.039066</td>\n",
       "      <td>10.312316</td>\n",
       "      <td>-3.538810</td>\n",
       "      <td>-14.875390</td>\n",
       "      <td>2.824638</td>\n",
       "      <td>12.084639</td>\n",
       "      <td>-2.713566</td>\n",
       "      <td>...</td>\n",
       "      <td>6.099036</td>\n",
       "      <td>-3.080500</td>\n",
       "      <td>0.869261</td>\n",
       "      <td>2.851289</td>\n",
       "      <td>-0.345833</td>\n",
       "      <td>-0.142963</td>\n",
       "      <td>0.256209</td>\n",
       "      <td>-6.392121</td>\n",
       "      <td>-3.706641</td>\n",
       "      <td>-2.785565</td>\n",
       "    </tr>\n",
       "  </tbody>\n",
       "</table>\n",
       "<p>5 rows × 501 columns</p>\n",
       "</div>"
      ],
      "text/plain": [
       "              song_id   embed_0   embed_1   embed_2    embed_3   embed_4  \\\n",
       "0  SOAKIMP12A8C130995  3.459586  2.818468  2.048239   1.157248 -1.559097   \n",
       "1  SOAPDEY12A81C210A9  3.943554  7.783957  2.395405   3.924154 -1.090153   \n",
       "2  SOBBMDR12A8C13253B  1.473728 -1.620696  1.683114   6.395366 -1.242066   \n",
       "3  SOBFNSP12AF72A0E22  6.430055  6.198054  4.159888  -0.885265 -3.974009   \n",
       "4  SOBFOVM12A58A7D494  8.782164  9.753830  7.039066  10.312316 -3.538810   \n",
       "\n",
       "     embed_5   embed_6    embed_7   embed_8  ...  embed_490  embed_491  \\\n",
       "0  -3.432362  2.432063   5.023251 -1.434078  ...   1.911688  -0.869168   \n",
       "1  -7.000595  4.537427   5.420865 -0.517119  ...   0.621522  -5.340216   \n",
       "2  -5.153045 -1.963623   1.113793 -0.018866  ...  -1.491392   0.355332   \n",
       "3  -5.090581  1.655470   8.636232 -2.050767  ...   2.335559   0.685804   \n",
       "4 -14.875390  2.824638  12.084639 -2.713566  ...   6.099036  -3.080500   \n",
       "\n",
       "   embed_492  embed_493  embed_494  embed_495  embed_496  embed_497  \\\n",
       "0   0.623368   1.561162  -0.504498   0.366421   0.165279  -3.447769   \n",
       "1  -0.757952   1.576235   1.818998   2.487554   0.811014  -5.500037   \n",
       "2   3.433140  -1.642307   1.115882  -1.162770   0.595061   2.366619   \n",
       "3   1.423723   2.986573   0.241086   0.720802   1.649229  -5.153775   \n",
       "4   0.869261   2.851289  -0.345833  -0.142963   0.256209  -6.392121   \n",
       "\n",
       "   embed_498  embed_499  \n",
       "0  -2.407705  -0.265385  \n",
       "1  -2.305865  -3.765372  \n",
       "2  -3.306341  -5.692612  \n",
       "3  -2.385250  -0.604622  \n",
       "4  -3.706641  -2.785565  \n",
       "\n",
       "[5 rows x 501 columns]"
      ]
     },
     "execution_count": 24,
     "metadata": {},
     "output_type": "execute_result"
    }
   ],
   "source": [
    "meta_embed = pd.concat([text_meta_df['song_id'],pd.DataFrame(meta_text_vec,columns = ['embed_{}'.format(i) for i in range(meta_text_vec.shape[1])])],axis = 1)\n",
    "meta_embed.head()"
   ]
  },
  {
   "cell_type": "code",
   "execution_count": 25,
   "metadata": {},
   "outputs": [],
   "source": [
    "meta_data_df = pd.merge(taste_profile,meta_embed, on='song_id',how='left')"
   ]
  },
  {
   "cell_type": "code",
   "execution_count": 26,
   "metadata": {},
   "outputs": [
    {
     "data": {
      "text/html": [
       "<div>\n",
       "<style scoped>\n",
       "    .dataframe tbody tr th:only-of-type {\n",
       "        vertical-align: middle;\n",
       "    }\n",
       "\n",
       "    .dataframe tbody tr th {\n",
       "        vertical-align: top;\n",
       "    }\n",
       "\n",
       "    .dataframe thead th {\n",
       "        text-align: right;\n",
       "    }\n",
       "</style>\n",
       "<table border=\"1\" class=\"dataframe\">\n",
       "  <thead>\n",
       "    <tr style=\"text-align: right;\">\n",
       "      <th></th>\n",
       "      <th>user_id</th>\n",
       "      <th>song_id</th>\n",
       "      <th>play_count</th>\n",
       "      <th>embed_0</th>\n",
       "      <th>embed_1</th>\n",
       "      <th>embed_2</th>\n",
       "      <th>embed_3</th>\n",
       "      <th>embed_4</th>\n",
       "      <th>embed_5</th>\n",
       "      <th>embed_6</th>\n",
       "      <th>...</th>\n",
       "      <th>embed_494</th>\n",
       "      <th>embed_495</th>\n",
       "      <th>embed_496</th>\n",
       "      <th>embed_497</th>\n",
       "      <th>embed_498</th>\n",
       "      <th>embed_499</th>\n",
       "      <th>duration</th>\n",
       "      <th>artist_familiarity</th>\n",
       "      <th>artist_hotttnesss</th>\n",
       "      <th>year</th>\n",
       "    </tr>\n",
       "  </thead>\n",
       "  <tbody>\n",
       "    <tr>\n",
       "      <th>0</th>\n",
       "      <td>b80344d063b5ccb3212f76538f3d9e43d87dca9e</td>\n",
       "      <td>SOAKIMP12A8C130995</td>\n",
       "      <td>1</td>\n",
       "      <td>3.459586</td>\n",
       "      <td>2.818468</td>\n",
       "      <td>2.048239</td>\n",
       "      <td>1.157248</td>\n",
       "      <td>-1.559097</td>\n",
       "      <td>-3.432362</td>\n",
       "      <td>2.432063</td>\n",
       "      <td>...</td>\n",
       "      <td>-0.504498</td>\n",
       "      <td>0.366421</td>\n",
       "      <td>0.165279</td>\n",
       "      <td>-3.447769</td>\n",
       "      <td>-2.407705</td>\n",
       "      <td>-0.265385</td>\n",
       "      <td>112.63955</td>\n",
       "      <td>0.832012</td>\n",
       "      <td>0.677482</td>\n",
       "      <td>0</td>\n",
       "    </tr>\n",
       "    <tr>\n",
       "      <th>1</th>\n",
       "      <td>b80344d063b5ccb3212f76538f3d9e43d87dca9e</td>\n",
       "      <td>SOAPDEY12A81C210A9</td>\n",
       "      <td>1</td>\n",
       "      <td>3.943554</td>\n",
       "      <td>7.783957</td>\n",
       "      <td>2.395405</td>\n",
       "      <td>3.924154</td>\n",
       "      <td>-1.090153</td>\n",
       "      <td>-7.000595</td>\n",
       "      <td>4.537427</td>\n",
       "      <td>...</td>\n",
       "      <td>1.818998</td>\n",
       "      <td>2.487554</td>\n",
       "      <td>0.811014</td>\n",
       "      <td>-5.500037</td>\n",
       "      <td>-2.305865</td>\n",
       "      <td>-3.765372</td>\n",
       "      <td>153.59955</td>\n",
       "      <td>0.580555</td>\n",
       "      <td>0.482492</td>\n",
       "      <td>1974</td>\n",
       "    </tr>\n",
       "    <tr>\n",
       "      <th>2</th>\n",
       "      <td>b80344d063b5ccb3212f76538f3d9e43d87dca9e</td>\n",
       "      <td>SOBBMDR12A8C13253B</td>\n",
       "      <td>2</td>\n",
       "      <td>1.473728</td>\n",
       "      <td>-1.620696</td>\n",
       "      <td>1.683114</td>\n",
       "      <td>6.395366</td>\n",
       "      <td>-1.242066</td>\n",
       "      <td>-5.153045</td>\n",
       "      <td>-1.963623</td>\n",
       "      <td>...</td>\n",
       "      <td>1.115882</td>\n",
       "      <td>-1.162770</td>\n",
       "      <td>0.595061</td>\n",
       "      <td>2.366619</td>\n",
       "      <td>-3.306341</td>\n",
       "      <td>-5.692612</td>\n",
       "      <td>358.24281</td>\n",
       "      <td>0.633119</td>\n",
       "      <td>0.417718</td>\n",
       "      <td>1976</td>\n",
       "    </tr>\n",
       "    <tr>\n",
       "      <th>3</th>\n",
       "      <td>b80344d063b5ccb3212f76538f3d9e43d87dca9e</td>\n",
       "      <td>SOBFNSP12AF72A0E22</td>\n",
       "      <td>1</td>\n",
       "      <td>6.430055</td>\n",
       "      <td>6.198054</td>\n",
       "      <td>4.159888</td>\n",
       "      <td>-0.885265</td>\n",
       "      <td>-3.974009</td>\n",
       "      <td>-5.090581</td>\n",
       "      <td>1.655470</td>\n",
       "      <td>...</td>\n",
       "      <td>0.241086</td>\n",
       "      <td>0.720802</td>\n",
       "      <td>1.649229</td>\n",
       "      <td>-5.153775</td>\n",
       "      <td>-2.385250</td>\n",
       "      <td>-0.604622</td>\n",
       "      <td>266.34404</td>\n",
       "      <td>0.675339</td>\n",
       "      <td>0.509058</td>\n",
       "      <td>2002</td>\n",
       "    </tr>\n",
       "    <tr>\n",
       "      <th>4</th>\n",
       "      <td>b80344d063b5ccb3212f76538f3d9e43d87dca9e</td>\n",
       "      <td>SOBFOVM12A58A7D494</td>\n",
       "      <td>1</td>\n",
       "      <td>8.782164</td>\n",
       "      <td>9.753830</td>\n",
       "      <td>7.039066</td>\n",
       "      <td>10.312316</td>\n",
       "      <td>-3.538810</td>\n",
       "      <td>-14.875390</td>\n",
       "      <td>2.824638</td>\n",
       "      <td>...</td>\n",
       "      <td>-0.345833</td>\n",
       "      <td>-0.142963</td>\n",
       "      <td>0.256209</td>\n",
       "      <td>-6.392121</td>\n",
       "      <td>-3.706641</td>\n",
       "      <td>-2.785565</td>\n",
       "      <td>141.42649</td>\n",
       "      <td>0.650281</td>\n",
       "      <td>0.451749</td>\n",
       "      <td>0</td>\n",
       "    </tr>\n",
       "  </tbody>\n",
       "</table>\n",
       "<p>5 rows × 507 columns</p>\n",
       "</div>"
      ],
      "text/plain": [
       "                                    user_id             song_id  play_count  \\\n",
       "0  b80344d063b5ccb3212f76538f3d9e43d87dca9e  SOAKIMP12A8C130995           1   \n",
       "1  b80344d063b5ccb3212f76538f3d9e43d87dca9e  SOAPDEY12A81C210A9           1   \n",
       "2  b80344d063b5ccb3212f76538f3d9e43d87dca9e  SOBBMDR12A8C13253B           2   \n",
       "3  b80344d063b5ccb3212f76538f3d9e43d87dca9e  SOBFNSP12AF72A0E22           1   \n",
       "4  b80344d063b5ccb3212f76538f3d9e43d87dca9e  SOBFOVM12A58A7D494           1   \n",
       "\n",
       "    embed_0   embed_1   embed_2    embed_3   embed_4    embed_5   embed_6  \\\n",
       "0  3.459586  2.818468  2.048239   1.157248 -1.559097  -3.432362  2.432063   \n",
       "1  3.943554  7.783957  2.395405   3.924154 -1.090153  -7.000595  4.537427   \n",
       "2  1.473728 -1.620696  1.683114   6.395366 -1.242066  -5.153045 -1.963623   \n",
       "3  6.430055  6.198054  4.159888  -0.885265 -3.974009  -5.090581  1.655470   \n",
       "4  8.782164  9.753830  7.039066  10.312316 -3.538810 -14.875390  2.824638   \n",
       "\n",
       "   ...  embed_494  embed_495  embed_496  embed_497  embed_498  embed_499  \\\n",
       "0  ...  -0.504498   0.366421   0.165279  -3.447769  -2.407705  -0.265385   \n",
       "1  ...   1.818998   2.487554   0.811014  -5.500037  -2.305865  -3.765372   \n",
       "2  ...   1.115882  -1.162770   0.595061   2.366619  -3.306341  -5.692612   \n",
       "3  ...   0.241086   0.720802   1.649229  -5.153775  -2.385250  -0.604622   \n",
       "4  ...  -0.345833  -0.142963   0.256209  -6.392121  -3.706641  -2.785565   \n",
       "\n",
       "    duration  artist_familiarity  artist_hotttnesss  year  \n",
       "0  112.63955            0.832012           0.677482     0  \n",
       "1  153.59955            0.580555           0.482492  1974  \n",
       "2  358.24281            0.633119           0.417718  1976  \n",
       "3  266.34404            0.675339           0.509058  2002  \n",
       "4  141.42649            0.650281           0.451749     0  \n",
       "\n",
       "[5 rows x 507 columns]"
      ]
     },
     "execution_count": 26,
     "metadata": {},
     "output_type": "execute_result"
    }
   ],
   "source": [
    "#Merging meta data into main dataframe\n",
    "final_data_df = pd.merge(meta_data_df,num_meta_df,on='song_id',how=\"left\")\n",
    "final_data_df.head()"
   ]
  },
  {
   "cell_type": "code",
   "execution_count": null,
   "metadata": {},
   "outputs": [],
   "source": []
  },
  {
   "cell_type": "code",
   "execution_count": null,
   "metadata": {},
   "outputs": [],
   "source": []
  },
  {
   "cell_type": "code",
   "execution_count": null,
   "metadata": {},
   "outputs": [],
   "source": []
  },
  {
   "cell_type": "markdown",
   "metadata": {},
   "source": [
    "#### TRAINING INPUT"
   ]
  },
  {
   "cell_type": "code",
   "execution_count": 27,
   "metadata": {},
   "outputs": [
    {
     "data": {
      "text/html": [
       "<div>\n",
       "<style scoped>\n",
       "    .dataframe tbody tr th:only-of-type {\n",
       "        vertical-align: middle;\n",
       "    }\n",
       "\n",
       "    .dataframe tbody tr th {\n",
       "        vertical-align: top;\n",
       "    }\n",
       "\n",
       "    .dataframe thead th {\n",
       "        text-align: right;\n",
       "    }\n",
       "</style>\n",
       "<table border=\"1\" class=\"dataframe\">\n",
       "  <thead>\n",
       "    <tr style=\"text-align: right;\">\n",
       "      <th></th>\n",
       "      <th>user_id</th>\n",
       "      <th>song_id</th>\n",
       "      <th>play_count</th>\n",
       "      <th>embed_0</th>\n",
       "      <th>embed_1</th>\n",
       "      <th>embed_2</th>\n",
       "      <th>embed_3</th>\n",
       "      <th>embed_4</th>\n",
       "      <th>embed_5</th>\n",
       "      <th>embed_6</th>\n",
       "      <th>...</th>\n",
       "      <th>embed_495</th>\n",
       "      <th>embed_496</th>\n",
       "      <th>embed_497</th>\n",
       "      <th>embed_498</th>\n",
       "      <th>embed_499</th>\n",
       "      <th>duration</th>\n",
       "      <th>artist_familiarity</th>\n",
       "      <th>artist_hotttnesss</th>\n",
       "      <th>year</th>\n",
       "      <th>play_count_norm</th>\n",
       "    </tr>\n",
       "  </thead>\n",
       "  <tbody>\n",
       "    <tr>\n",
       "      <th>0</th>\n",
       "      <td>b80344d063b5ccb3212f76538f3d9e43d87dca9e</td>\n",
       "      <td>SOAKIMP12A8C130995</td>\n",
       "      <td>1</td>\n",
       "      <td>3.459586</td>\n",
       "      <td>2.818468</td>\n",
       "      <td>2.048239</td>\n",
       "      <td>1.157248</td>\n",
       "      <td>-1.559097</td>\n",
       "      <td>-3.432362</td>\n",
       "      <td>2.432063</td>\n",
       "      <td>...</td>\n",
       "      <td>0.366421</td>\n",
       "      <td>0.165279</td>\n",
       "      <td>-3.447769</td>\n",
       "      <td>-2.407705</td>\n",
       "      <td>-0.265385</td>\n",
       "      <td>112.63955</td>\n",
       "      <td>0.832012</td>\n",
       "      <td>0.677482</td>\n",
       "      <td>0</td>\n",
       "      <td>0.0</td>\n",
       "    </tr>\n",
       "    <tr>\n",
       "      <th>1</th>\n",
       "      <td>b80344d063b5ccb3212f76538f3d9e43d87dca9e</td>\n",
       "      <td>SOAPDEY12A81C210A9</td>\n",
       "      <td>1</td>\n",
       "      <td>3.943554</td>\n",
       "      <td>7.783957</td>\n",
       "      <td>2.395405</td>\n",
       "      <td>3.924154</td>\n",
       "      <td>-1.090153</td>\n",
       "      <td>-7.000595</td>\n",
       "      <td>4.537427</td>\n",
       "      <td>...</td>\n",
       "      <td>2.487554</td>\n",
       "      <td>0.811014</td>\n",
       "      <td>-5.500037</td>\n",
       "      <td>-2.305865</td>\n",
       "      <td>-3.765372</td>\n",
       "      <td>153.59955</td>\n",
       "      <td>0.580555</td>\n",
       "      <td>0.482492</td>\n",
       "      <td>1974</td>\n",
       "      <td>0.0</td>\n",
       "    </tr>\n",
       "    <tr>\n",
       "      <th>2</th>\n",
       "      <td>b80344d063b5ccb3212f76538f3d9e43d87dca9e</td>\n",
       "      <td>SOBBMDR12A8C13253B</td>\n",
       "      <td>2</td>\n",
       "      <td>1.473728</td>\n",
       "      <td>-1.620696</td>\n",
       "      <td>1.683114</td>\n",
       "      <td>6.395366</td>\n",
       "      <td>-1.242066</td>\n",
       "      <td>-5.153045</td>\n",
       "      <td>-1.963623</td>\n",
       "      <td>...</td>\n",
       "      <td>-1.162770</td>\n",
       "      <td>0.595061</td>\n",
       "      <td>2.366619</td>\n",
       "      <td>-3.306341</td>\n",
       "      <td>-5.692612</td>\n",
       "      <td>358.24281</td>\n",
       "      <td>0.633119</td>\n",
       "      <td>0.417718</td>\n",
       "      <td>1976</td>\n",
       "      <td>0.2</td>\n",
       "    </tr>\n",
       "    <tr>\n",
       "      <th>3</th>\n",
       "      <td>b80344d063b5ccb3212f76538f3d9e43d87dca9e</td>\n",
       "      <td>SOBFNSP12AF72A0E22</td>\n",
       "      <td>1</td>\n",
       "      <td>6.430055</td>\n",
       "      <td>6.198054</td>\n",
       "      <td>4.159888</td>\n",
       "      <td>-0.885265</td>\n",
       "      <td>-3.974009</td>\n",
       "      <td>-5.090581</td>\n",
       "      <td>1.655470</td>\n",
       "      <td>...</td>\n",
       "      <td>0.720802</td>\n",
       "      <td>1.649229</td>\n",
       "      <td>-5.153775</td>\n",
       "      <td>-2.385250</td>\n",
       "      <td>-0.604622</td>\n",
       "      <td>266.34404</td>\n",
       "      <td>0.675339</td>\n",
       "      <td>0.509058</td>\n",
       "      <td>2002</td>\n",
       "      <td>0.0</td>\n",
       "    </tr>\n",
       "    <tr>\n",
       "      <th>4</th>\n",
       "      <td>b80344d063b5ccb3212f76538f3d9e43d87dca9e</td>\n",
       "      <td>SOBFOVM12A58A7D494</td>\n",
       "      <td>1</td>\n",
       "      <td>8.782164</td>\n",
       "      <td>9.753830</td>\n",
       "      <td>7.039066</td>\n",
       "      <td>10.312316</td>\n",
       "      <td>-3.538810</td>\n",
       "      <td>-14.875390</td>\n",
       "      <td>2.824638</td>\n",
       "      <td>...</td>\n",
       "      <td>-0.142963</td>\n",
       "      <td>0.256209</td>\n",
       "      <td>-6.392121</td>\n",
       "      <td>-3.706641</td>\n",
       "      <td>-2.785565</td>\n",
       "      <td>141.42649</td>\n",
       "      <td>0.650281</td>\n",
       "      <td>0.451749</td>\n",
       "      <td>0</td>\n",
       "      <td>0.0</td>\n",
       "    </tr>\n",
       "  </tbody>\n",
       "</table>\n",
       "<p>5 rows × 508 columns</p>\n",
       "</div>"
      ],
      "text/plain": [
       "                                    user_id             song_id  play_count  \\\n",
       "0  b80344d063b5ccb3212f76538f3d9e43d87dca9e  SOAKIMP12A8C130995           1   \n",
       "1  b80344d063b5ccb3212f76538f3d9e43d87dca9e  SOAPDEY12A81C210A9           1   \n",
       "2  b80344d063b5ccb3212f76538f3d9e43d87dca9e  SOBBMDR12A8C13253B           2   \n",
       "3  b80344d063b5ccb3212f76538f3d9e43d87dca9e  SOBFNSP12AF72A0E22           1   \n",
       "4  b80344d063b5ccb3212f76538f3d9e43d87dca9e  SOBFOVM12A58A7D494           1   \n",
       "\n",
       "    embed_0   embed_1   embed_2    embed_3   embed_4    embed_5   embed_6  \\\n",
       "0  3.459586  2.818468  2.048239   1.157248 -1.559097  -3.432362  2.432063   \n",
       "1  3.943554  7.783957  2.395405   3.924154 -1.090153  -7.000595  4.537427   \n",
       "2  1.473728 -1.620696  1.683114   6.395366 -1.242066  -5.153045 -1.963623   \n",
       "3  6.430055  6.198054  4.159888  -0.885265 -3.974009  -5.090581  1.655470   \n",
       "4  8.782164  9.753830  7.039066  10.312316 -3.538810 -14.875390  2.824638   \n",
       "\n",
       "   ...  embed_495  embed_496  embed_497  embed_498  embed_499   duration  \\\n",
       "0  ...   0.366421   0.165279  -3.447769  -2.407705  -0.265385  112.63955   \n",
       "1  ...   2.487554   0.811014  -5.500037  -2.305865  -3.765372  153.59955   \n",
       "2  ...  -1.162770   0.595061   2.366619  -3.306341  -5.692612  358.24281   \n",
       "3  ...   0.720802   1.649229  -5.153775  -2.385250  -0.604622  266.34404   \n",
       "4  ...  -0.142963   0.256209  -6.392121  -3.706641  -2.785565  141.42649   \n",
       "\n",
       "   artist_familiarity  artist_hotttnesss  year  play_count_norm  \n",
       "0            0.832012           0.677482     0              0.0  \n",
       "1            0.580555           0.482492  1974              0.0  \n",
       "2            0.633119           0.417718  1976              0.2  \n",
       "3            0.675339           0.509058  2002              0.0  \n",
       "4            0.650281           0.451749     0              0.0  \n",
       "\n",
       "[5 rows x 508 columns]"
      ]
     },
     "execution_count": 27,
     "metadata": {},
     "output_type": "execute_result"
    }
   ],
   "source": [
    "from sklearn.preprocessing import MinMaxScaler\n",
    "scaler = MinMaxScaler()\n",
    "final_data_df['play_count_norm'] = scaler.fit_transform(final_data_df['play_count'].values.reshape(-1, 1))\n",
    "final_data_df.head()"
   ]
  },
  {
   "cell_type": "code",
   "execution_count": 28,
   "metadata": {},
   "outputs": [],
   "source": [
    "# Generate random indices\n",
    "num_samples = len(final_data_df)\n",
    "indices = np.random.permutation(num_samples)\n",
    "\n",
    "# Split indices into train and test\n",
    "train_size = int(0.8 * num_samples)\n",
    "train_indices = indices[:train_size]\n",
    "test_indices = indices[train_size:]\n",
    "\n",
    "# Use indices to index data\n",
    "train_data = final_data_df.iloc[train_indices]\n",
    "test_data = final_data_df.iloc[test_indices]"
   ]
  },
  {
   "cell_type": "code",
   "execution_count": 29,
   "metadata": {},
   "outputs": [
    {
     "name": "stderr",
     "output_type": "stream",
     "text": [
      "/tmp/ipykernel_152358/2909310003.py:1: SettingWithCopyWarning: \n",
      "A value is trying to be set on a copy of a slice from a DataFrame.\n",
      "Try using .loc[row_indexer,col_indexer] = value instead\n",
      "\n",
      "See the caveats in the documentation: https://pandas.pydata.org/pandas-docs/stable/user_guide/indexing.html#returning-a-view-versus-a-copy\n",
      "  train_data.song_id= pd.Categorical(train_data.song_id)\n",
      "/tmp/ipykernel_152358/2909310003.py:3: SettingWithCopyWarning: \n",
      "A value is trying to be set on a copy of a slice from a DataFrame.\n",
      "Try using .loc[row_indexer,col_indexer] = value instead\n",
      "\n",
      "See the caveats in the documentation: https://pandas.pydata.org/pandas-docs/stable/user_guide/indexing.html#returning-a-view-versus-a-copy\n",
      "  train_data.user_id= pd.Categorical(train_data.user_id)\n",
      "/tmp/ipykernel_152358/2909310003.py:9: SettingWithCopyWarning: \n",
      "A value is trying to be set on a copy of a slice from a DataFrame.\n",
      "Try using .loc[row_indexer,col_indexer] = value instead\n",
      "\n",
      "See the caveats in the documentation: https://pandas.pydata.org/pandas-docs/stable/user_guide/indexing.html#returning-a-view-versus-a-copy\n",
      "  test_data.song_id= pd.Categorical(test_data.song_id)\n",
      "/tmp/ipykernel_152358/2909310003.py:11: SettingWithCopyWarning: \n",
      "A value is trying to be set on a copy of a slice from a DataFrame.\n",
      "Try using .loc[row_indexer,col_indexer] = value instead\n",
      "\n",
      "See the caveats in the documentation: https://pandas.pydata.org/pandas-docs/stable/user_guide/indexing.html#returning-a-view-versus-a-copy\n",
      "  test_data.user_id= pd.Categorical(test_data.user_id)\n"
     ]
    }
   ],
   "source": [
    "train_data.song_id= pd.Categorical(train_data.song_id) \n",
    "train_song_ids = train_data.song_id.cat.codes\n",
    "train_data.user_id= pd.Categorical(train_data.user_id) \n",
    "train_user_ids = train_data.user_id.cat.codes\n",
    "train_meta_array = train_data.drop(columns=['song_id','user_id','play_count','play_count_norm']).values\n",
    "train_output = train_data['play_count']\n",
    "\n",
    "\n",
    "test_data.song_id= pd.Categorical(test_data.song_id) \n",
    "test_song_ids = test_data.song_id.cat.codes\n",
    "test_data.user_id= pd.Categorical(test_data.user_id) \n",
    "test_user_ids = test_data.user_id.cat.codes\n",
    "test_meta_array = test_data.drop(columns=['song_id','user_id','play_count','play_count_norm']).values\n",
    "test_output = test_data['play_count']\n"
   ]
  },
  {
   "cell_type": "markdown",
   "metadata": {
    "id": "2L50f8f2V1gE"
   },
   "source": [
    "### 4 Training a Neural Network"
   ]
  },
  {
   "cell_type": "markdown",
   "metadata": {
    "id": "ScHzYu-rV2QA"
   },
   "source": [
    "#### 4.1 Input dimensions for neural network"
   ]
  },
  {
   "cell_type": "code",
   "execution_count": 30,
   "metadata": {
    "colab": {
     "base_uri": "https://localhost:8080/"
    },
    "id": "zdjOpcxl_IbH",
    "outputId": "ee6f9fc7-9209-4093-a3ca-1e588d68b89a"
   },
   "outputs": [
    {
     "data": {
      "text/plain": [
       "(173570, 41722, 1, 1, 504)"
      ]
     },
     "execution_count": 30,
     "metadata": {},
     "output_type": "execute_result"
    }
   ],
   "source": [
    "#nunique() will return the total number of unique items\n",
    "\n",
    "song_id = len(train_song_ids.unique()) \n",
    "user_id = len(train_user_ids.unique())\n",
    "song_input_dim = 1#songs_input_data.shape[1]\n",
    "user_input_dim = 1#user_input_data.shape[1]\n",
    "meta_text_dim = train_meta_array.shape[1]\n",
    "\n",
    "song_id,user_id,song_input_dim,user_input_dim,meta_text_dim"
   ]
  },
  {
   "cell_type": "code",
   "execution_count": 31,
   "metadata": {
    "id": "wMkZo57S-58a"
   },
   "outputs": [],
   "source": [
    "import tensorflow as tf\n",
    "from tensorflow.keras.layers import Dense, Flatten, Input, Embedding, Concatenate, Dropout\n",
    "from tensorflow.keras.callbacks import EarlyStopping\n",
    "from tensorflow.keras.optimizers import Adam\n",
    "import keras\n",
    "from keras.layers import Add, Activation, Lambda, BatchNormalization, Concatenate, Dropout, Input, Embedding, Dot, Reshape, Dense, Flatten\n",
    "from keras import regularizers\n"
   ]
  },
  {
   "cell_type": "code",
   "execution_count": 32,
   "metadata": {},
   "outputs": [
    {
     "name": "stderr",
     "output_type": "stream",
     "text": [
      "2023-04-27 20:58:47.456314: E tensorflow/compiler/xla/stream_executor/cuda/cuda_driver.cc:266] failed call to cuInit: CUDA_ERROR_NO_DEVICE: no CUDA-capable device is detected\n",
      "WARNING:absl:`lr` is deprecated in Keras optimizer, please use `learning_rate` or use the legacy optimizer, e.g.,tf.keras.optimizers.legacy.Adam.\n"
     ]
    },
    {
     "name": "stdout",
     "output_type": "stream",
     "text": [
      "Model: \"model\"\n",
      "__________________________________________________________________________________________________\n",
      " Layer (type)                   Output Shape         Param #     Connected to                     \n",
      "==================================================================================================\n",
      " metadata_input (InputLayer)    [(None, 504)]        0           []                               \n",
      "                                                                                                  \n",
      " dense (Dense)                  (None, 128)          64640       ['metadata_input[0][0]']         \n",
      "                                                                                                  \n",
      " dropout (Dropout)              (None, 128)          0           ['dense[0][0]']                  \n",
      "                                                                                                  \n",
      " dense_1 (Dense)                (None, 64)           8256        ['dropout[0][0]']                \n",
      "                                                                                                  \n",
      " dropout_1 (Dropout)            (None, 64)           0           ['dense_1[0][0]']                \n",
      "                                                                                                  \n",
      " encoded_layer (Dense)          (None, 10)           650         ['dropout_1[0][0]']              \n",
      "                                                                                                  \n",
      " dense_2 (Dense)                (None, 64)           704         ['encoded_layer[0][0]']          \n",
      "                                                                                                  \n",
      " dropout_2 (Dropout)            (None, 64)           0           ['dense_2[0][0]']                \n",
      "                                                                                                  \n",
      " song_input (InputLayer)        [(None, 1)]          0           []                               \n",
      "                                                                                                  \n",
      " user_input (InputLayer)        [(None, 1)]          0           []                               \n",
      "                                                                                                  \n",
      " dense_3 (Dense)                (None, 128)          8320        ['dropout_2[0][0]']              \n",
      "                                                                                                  \n",
      " embedding (Embedding)          (None, 1, 10)        1735710     ['song_input[0][0]']             \n",
      "                                                                                                  \n",
      " embedding_1 (Embedding)        (None, 1, 10)        417230      ['user_input[0][0]']             \n",
      "                                                                                                  \n",
      " dropout_3 (Dropout)            (None, 128)          0           ['dense_3[0][0]']                \n",
      "                                                                                                  \n",
      " flatten (Flatten)              (None, 10)           0           ['embedding[0][0]']              \n",
      "                                                                                                  \n",
      " flatten_1 (Flatten)            (None, 10)           0           ['embedding_1[0][0]']            \n",
      "                                                                                                  \n",
      " decoded_layer (Dense)          (None, 504)          65016       ['dropout_3[0][0]']              \n",
      "                                                                                                  \n",
      " concatenate (Concatenate)      (None, 524)          0           ['flatten[0][0]',                \n",
      "                                                                  'flatten_1[0][0]',              \n",
      "                                                                  'decoded_layer[0][0]']          \n",
      "                                                                                                  \n",
      " dense_4 (Dense)                (None, 64)           33600       ['concatenate[0][0]']            \n",
      "                                                                                                  \n",
      " dropout_4 (Dropout)            (None, 64)           0           ['dense_4[0][0]']                \n",
      "                                                                                                  \n",
      " dense_5 (Dense)                (None, 32)           2080        ['dropout_4[0][0]']              \n",
      "                                                                                                  \n",
      " dropout_5 (Dropout)            (None, 32)           0           ['dense_5[0][0]']                \n",
      "                                                                                                  \n",
      " output_layer (Dense)           (None, 1)            33          ['dropout_5[0][0]']              \n",
      "                                                                                                  \n",
      "==================================================================================================\n",
      "Total params: 2,336,239\n",
      "Trainable params: 2,336,239\n",
      "Non-trainable params: 0\n",
      "__________________________________________________________________________________________________\n"
     ]
    }
   ],
   "source": [
    "# Define input layer for interaction data\n",
    "input_song = Input(shape=(song_input_dim,), name='song_input')\n",
    "input_user = Input(shape=(user_input_dim,), name='user_input')\n",
    "\n",
    "embedding_layer_songs = Embedding(song_id+1 ,10, embeddings_regularizer=regularizers.L2(0))(input_song)#Embedding layer\n",
    "embedding_output_songs = Flatten()(embedding_layer_songs)#Embedding layer output\n",
    "\n",
    "embedding_layer_users = Embedding(user_id+1 ,10, embeddings_regularizer=regularizers.L2(0))(input_user)#Embedding layer\n",
    "embedding_output_users = Flatten()(embedding_layer_users)#Embedding layer output\n",
    "\n",
    "# Define input layer for metadata\n",
    "input_metadata = Input(shape=(meta_text_dim,), name='metadata_input')\n",
    "# #AutoEncoder for meta data\n",
    "x = Dense(128, activation='relu')(input_metadata)\n",
    "x = Dropout(0.3)(x)\n",
    "x = Dense(64, activation='relu')(x)\n",
    "x = Dropout(0.3)(x)\n",
    "encoded = Dense(10, activation='relu', name='encoded_layer')(x)\n",
    "\n",
    "# Define decoder layers for interaction data\n",
    "x = Dense(64, activation='relu')(encoded)\n",
    "x = Dropout(0.3)(x)\n",
    "x = Dense(128, activation='relu')(x)\n",
    "x = Dropout(0.3)(x)\n",
    "metadata_embedding = Dense(meta_text_dim, name='decoded_layer')(x)\n",
    "\n",
    "# x = tf.keras.layers.Multiply()([embedding_output_songs, embedding_output_users])\n",
    "# Concatenate encoded interaction data and metadata\n",
    "merged = tf.keras.layers.Concatenate()([embedding_output_songs, embedding_output_users, metadata_embedding])\n",
    "\n",
    "# Define output layers for hybrid model\n",
    "x = Dense(64, activation='relu')(merged)\n",
    "x = Dropout(0.3)(x)\n",
    "x = Dense(32, activation='relu')(x)\n",
    "x = Dropout(0.3)(x)\n",
    "output = Dense(1, name='output_layer')(x) #,activation='sigmoid'\n",
    "\n",
    "# Define full model\n",
    "model1 = Model(inputs=[input_song, input_user, input_metadata], outputs=output)\n",
    "\n",
    "# Compile model\n",
    "model1.compile(optimizer=Adam(lr=0.001), loss='mse', metrics=['mae'])\n",
    "model1.summary()"
   ]
  },
  {
   "cell_type": "code",
   "execution_count": 33,
   "metadata": {},
   "outputs": [
    {
     "name": "stderr",
     "output_type": "stream",
     "text": [
      "2023-04-27 20:58:51.352181: W tensorflow/tsl/framework/cpu_allocator_impl.cc:83] Allocation of 2560235328 exceeds 10% of free system memory.\n"
     ]
    },
    {
     "name": "stdout",
     "output_type": "stream",
     "text": [
      "Epoch 1/20\n",
      "4961/4961 [==============================] - 68s 13ms/step - loss: 1.6931 - mae: 0.9254 - val_loss: 1.4348 - val_mae: 0.8742\n",
      "Epoch 2/20\n",
      "4961/4961 [==============================] - 63s 13ms/step - loss: 1.3782 - mae: 0.8386 - val_loss: 1.4309 - val_mae: 0.8718\n",
      "Epoch 3/20\n",
      "4961/4961 [==============================] - 63s 13ms/step - loss: 1.2924 - mae: 0.8053 - val_loss: 1.4494 - val_mae: 0.8800\n",
      "Epoch 4/20\n",
      "4961/4961 [==============================] - 60s 12ms/step - loss: 1.2158 - mae: 0.7714 - val_loss: 1.4835 - val_mae: 0.8719\n"
     ]
    }
   ],
   "source": [
    "#Training model\n",
    "\n",
    "early_stopping = EarlyStopping(monitor = 'val_loss', patience = 2)\n",
    "\n",
    "history = model1.fit(\n",
    "  [train_song_ids, train_user_ids,train_meta_array], train_output, #\n",
    "  batch_size=256, \n",
    "  epochs=20, \n",
    "  verbose=1,\n",
    "  callbacks = [early_stopping],\n",
    "  validation_split=0.2\n",
    ")"
   ]
  },
  {
   "cell_type": "code",
   "execution_count": 35,
   "metadata": {},
   "outputs": [
    {
     "name": "stdout",
     "output_type": "stream",
     "text": [
      "   27/12402 [..............................] - ETA: 23s  "
     ]
    },
    {
     "name": "stderr",
     "output_type": "stream",
     "text": [
      "2023-04-27 21:05:02.242537: W tensorflow/tsl/framework/cpu_allocator_impl.cc:83] Allocation of 800073792 exceeds 10% of free system memory.\n"
     ]
    },
    {
     "name": "stdout",
     "output_type": "stream",
     "text": [
      "12402/12402 [==============================] - 28s 2ms/step\n"
     ]
    },
    {
     "name": "stderr",
     "output_type": "stream",
     "text": [
      "2023-04-27 21:05:37.071951: W tensorflow/tsl/framework/cpu_allocator_impl.cc:83] Allocation of 800073792 exceeds 10% of free system memory.\n"
     ]
    },
    {
     "name": "stdout",
     "output_type": "stream",
     "text": [
      "Test RMSE: 1.4482647219587728\n",
      "Test MSE: 2.0974745750427246\n",
      "Test MAE: 1.0782930850982666\n"
     ]
    }
   ],
   "source": [
    "from sklearn.metrics import mean_squared_error,r2_score\n",
    "# Predict on test set\n",
    "y_pred = model1.predict([test_song_ids,test_user_ids, test_meta_array])\n",
    "\n",
    "# Evaluate model\n",
    "score = model1.evaluate([test_song_ids,test_user_ids, test_meta_array], test_output, verbose=0)\n",
    "rmse = np.sqrt(mean_squared_error(test_output, y_pred))\n",
    "r2 = r2_score(test_output, y_pred)\n",
    "\n",
    "print('Test RMSE:', rmse)\n",
    "print('Test MSE:', score[0])\n",
    "print('Test MAE:', score[1])\n"
   ]
  },
  {
   "cell_type": "code",
   "execution_count": 36,
   "metadata": {
    "scrolled": true
   },
   "outputs": [
    {
     "data": {
      "image/png": "[encoded data removed]",
      "text/plain": [
       "<IPython.core.display.Image object>"
      ]
     },
     "execution_count": 36,
     "metadata": {
      "image/png": {
       "height": 933,
       "width": 490
      }
     },
     "output_type": "execute_result"
    }
   ],
   "source": [
    "from keras.utils.vis_utils import plot_model\n",
    "from IPython.display import Image\n",
    "plot_model(model1, to_file='model.png', show_shapes=True, show_layer_names=True)\n",
    "Image(retina=True, filename='model.png')"
   ]
  },
  {
   "cell_type": "code",
   "execution_count": 37,
   "metadata": {},
   "outputs": [],
   "source": [
    "# Train model\n",
    "# model.fit([np.vstack((train_song_ids,train_user_ids)).reshape(-1,2), train_meta_array],\n",
    "#           train_output, epochs=10, batch_size=64, validation_split=0.2)"
   ]
  },
  {
   "cell_type": "code",
   "execution_count": 38,
   "metadata": {},
   "outputs": [],
   "source": [
    "# # Predict on test set\n",
    "# y_pred = model.predict([np.vstack((test_song_ids,test_user_ids)).reshape(-1,2), test_meta_array])\n",
    "\n",
    "# # Evaluate model\n",
    "# score = model.evaluate([np.vstack((test_song_ids,test_user_ids)).reshape(-1,2), test_meta_array], test_output, verbose=0)\n",
    "# print('Test MSE:', score[0])\n",
    "# print('Test MAE:', score[1])"
   ]
  },
  {
   "cell_type": "code",
   "execution_count": null,
   "metadata": {},
   "outputs": [],
   "source": []
  },
  {
   "cell_type": "code",
   "execution_count": null,
   "metadata": {},
   "outputs": [],
   "source": []
  },
  {
   "cell_type": "markdown",
   "metadata": {},
   "source": [
    "### TRAINING A NEURAL NETWORK with normailized play count "
   ]
  },
  {
   "cell_type": "code",
   "execution_count": 39,
   "metadata": {},
   "outputs": [
    {
     "name": "stderr",
     "output_type": "stream",
     "text": [
      "/tmp/ipykernel_152358/3182804006.py:1: SettingWithCopyWarning: \n",
      "A value is trying to be set on a copy of a slice from a DataFrame.\n",
      "Try using .loc[row_indexer,col_indexer] = value instead\n",
      "\n",
      "See the caveats in the documentation: https://pandas.pydata.org/pandas-docs/stable/user_guide/indexing.html#returning-a-view-versus-a-copy\n",
      "  train_data.song_id= pd.Categorical(train_data.song_id)\n",
      "/tmp/ipykernel_152358/3182804006.py:3: SettingWithCopyWarning: \n",
      "A value is trying to be set on a copy of a slice from a DataFrame.\n",
      "Try using .loc[row_indexer,col_indexer] = value instead\n",
      "\n",
      "See the caveats in the documentation: https://pandas.pydata.org/pandas-docs/stable/user_guide/indexing.html#returning-a-view-versus-a-copy\n",
      "  train_data.user_id= pd.Categorical(train_data.user_id)\n",
      "/tmp/ipykernel_152358/3182804006.py:9: SettingWithCopyWarning: \n",
      "A value is trying to be set on a copy of a slice from a DataFrame.\n",
      "Try using .loc[row_indexer,col_indexer] = value instead\n",
      "\n",
      "See the caveats in the documentation: https://pandas.pydata.org/pandas-docs/stable/user_guide/indexing.html#returning-a-view-versus-a-copy\n",
      "  test_data.song_id= pd.Categorical(test_data.song_id)\n",
      "/tmp/ipykernel_152358/3182804006.py:11: SettingWithCopyWarning: \n",
      "A value is trying to be set on a copy of a slice from a DataFrame.\n",
      "Try using .loc[row_indexer,col_indexer] = value instead\n",
      "\n",
      "See the caveats in the documentation: https://pandas.pydata.org/pandas-docs/stable/user_guide/indexing.html#returning-a-view-versus-a-copy\n",
      "  test_data.user_id= pd.Categorical(test_data.user_id)\n"
     ]
    }
   ],
   "source": [
    "train_data.song_id= pd.Categorical(train_data.song_id) \n",
    "train_song_ids = train_data.song_id.cat.codes\n",
    "train_data.user_id= pd.Categorical(train_data.user_id) \n",
    "train_user_ids = train_data.user_id.cat.codes\n",
    "train_meta_array = train_data.drop(columns=['song_id','user_id','play_count','play_count_norm']).values\n",
    "train_output = train_data['play_count_norm']\n",
    "\n",
    "\n",
    "test_data.song_id= pd.Categorical(test_data.song_id) \n",
    "test_song_ids = test_data.song_id.cat.codes\n",
    "test_data.user_id= pd.Categorical(test_data.user_id) \n",
    "test_user_ids = test_data.user_id.cat.codes\n",
    "test_meta_array = test_data.drop(columns=['song_id','user_id','play_count','play_count_norm']).values\n",
    "test_output = test_data['play_count_norm']\n"
   ]
  },
  {
   "cell_type": "markdown",
   "metadata": {
    "id": "ScHzYu-rV2QA"
   },
   "source": [
    "#### Input dimensions for neural network"
   ]
  },
  {
   "cell_type": "code",
   "execution_count": 40,
   "metadata": {
    "colab": {
     "base_uri": "https://localhost:8080/"
    },
    "id": "zdjOpcxl_IbH",
    "outputId": "ee6f9fc7-9209-4093-a3ca-1e588d68b89a"
   },
   "outputs": [
    {
     "data": {
      "text/plain": [
       "(173570, 41722, 1, 1, 504)"
      ]
     },
     "execution_count": 40,
     "metadata": {},
     "output_type": "execute_result"
    }
   ],
   "source": [
    "#nunique() will return the total number of unique items\n",
    "\n",
    "song_id = len(train_song_ids.unique()) \n",
    "user_id = len(train_user_ids.unique())\n",
    "song_input_dim = 1\n",
    "user_input_dim = 1\n",
    "meta_text_dim = train_meta_array.shape[1]\n",
    "\n",
    "song_id,user_id,song_input_dim,user_input_dim,meta_text_dim"
   ]
  },
  {
   "cell_type": "code",
   "execution_count": 41,
   "metadata": {
    "id": "wMkZo57S-58a"
   },
   "outputs": [],
   "source": [
    "import tensorflow as tf\n",
    "from tensorflow.keras.layers import Dense, Flatten, Input, Embedding, Concatenate, Dropout\n",
    "from tensorflow.keras.callbacks import EarlyStopping\n",
    "from tensorflow.keras.optimizers import Adam\n",
    "import keras\n",
    "from keras.layers import Add, Activation, Lambda, BatchNormalization, Concatenate, Dropout, Input, Embedding, Dot, Reshape, Dense, Flatten\n",
    "from keras import regularizers\n"
   ]
  },
  {
   "cell_type": "code",
   "execution_count": 42,
   "metadata": {},
   "outputs": [
    {
     "name": "stderr",
     "output_type": "stream",
     "text": [
      "WARNING:absl:`lr` is deprecated in Keras optimizer, please use `learning_rate` or use the legacy optimizer, e.g.,tf.keras.optimizers.legacy.Adam.\n"
     ]
    },
    {
     "name": "stdout",
     "output_type": "stream",
     "text": [
      "Model: \"model_1\"\n",
      "__________________________________________________________________________________________________\n",
      " Layer (type)                   Output Shape         Param #     Connected to                     \n",
      "==================================================================================================\n",
      " metadata_input (InputLayer)    [(None, 504)]        0           []                               \n",
      "                                                                                                  \n",
      " dense_6 (Dense)                (None, 128)          64640       ['metadata_input[0][0]']         \n",
      "                                                                                                  \n",
      " dropout_6 (Dropout)            (None, 128)          0           ['dense_6[0][0]']                \n",
      "                                                                                                  \n",
      " dense_7 (Dense)                (None, 64)           8256        ['dropout_6[0][0]']              \n",
      "                                                                                                  \n",
      " dropout_7 (Dropout)            (None, 64)           0           ['dense_7[0][0]']                \n",
      "                                                                                                  \n",
      " encoded_layer (Dense)          (None, 10)           650         ['dropout_7[0][0]']              \n",
      "                                                                                                  \n",
      " dense_8 (Dense)                (None, 64)           704         ['encoded_layer[0][0]']          \n",
      "                                                                                                  \n",
      " dropout_8 (Dropout)            (None, 64)           0           ['dense_8[0][0]']                \n",
      "                                                                                                  \n",
      " song_input (InputLayer)        [(None, 1)]          0           []                               \n",
      "                                                                                                  \n",
      " user_input (InputLayer)        [(None, 1)]          0           []                               \n",
      "                                                                                                  \n",
      " dense_9 (Dense)                (None, 128)          8320        ['dropout_8[0][0]']              \n",
      "                                                                                                  \n",
      " embedding_2 (Embedding)        (None, 1, 10)        1735710     ['song_input[0][0]']             \n",
      "                                                                                                  \n",
      " embedding_3 (Embedding)        (None, 1, 10)        417230      ['user_input[0][0]']             \n",
      "                                                                                                  \n",
      " dropout_9 (Dropout)            (None, 128)          0           ['dense_9[0][0]']                \n",
      "                                                                                                  \n",
      " flatten_2 (Flatten)            (None, 10)           0           ['embedding_2[0][0]']            \n",
      "                                                                                                  \n",
      " flatten_3 (Flatten)            (None, 10)           0           ['embedding_3[0][0]']            \n",
      "                                                                                                  \n",
      " decoded_layer (Dense)          (None, 504)          65016       ['dropout_9[0][0]']              \n",
      "                                                                                                  \n",
      " concatenate_1 (Concatenate)    (None, 524)          0           ['flatten_2[0][0]',              \n",
      "                                                                  'flatten_3[0][0]',              \n",
      "                                                                  'decoded_layer[0][0]']          \n",
      "                                                                                                  \n",
      " dense_10 (Dense)               (None, 64)           33600       ['concatenate_1[0][0]']          \n",
      "                                                                                                  \n",
      " dropout_10 (Dropout)           (None, 64)           0           ['dense_10[0][0]']               \n",
      "                                                                                                  \n",
      " dense_11 (Dense)               (None, 32)           2080        ['dropout_10[0][0]']             \n",
      "                                                                                                  \n",
      " dropout_11 (Dropout)           (None, 32)           0           ['dense_11[0][0]']               \n",
      "                                                                                                  \n",
      " output_layer (Dense)           (None, 1)            33          ['dropout_11[0][0]']             \n",
      "                                                                                                  \n",
      "==================================================================================================\n",
      "Total params: 2,336,239\n",
      "Trainable params: 2,336,239\n",
      "Non-trainable params: 0\n",
      "__________________________________________________________________________________________________\n"
     ]
    }
   ],
   "source": [
    "# Define input layer for interaction data\n",
    "input_song = Input(shape=(song_input_dim,), name='song_input')\n",
    "input_user = Input(shape=(user_input_dim,), name='user_input')\n",
    "\n",
    "embedding_layer_songs = Embedding(song_id+1 ,10, embeddings_regularizer=regularizers.L2(0))(input_song)#Embedding layer\n",
    "embedding_output_songs = Flatten()(embedding_layer_songs)#Embedding layer output\n",
    "\n",
    "embedding_layer_users = Embedding(user_id+1 ,10, embeddings_regularizer=regularizers.L2(0))(input_user)#Embedding layer\n",
    "embedding_output_users = Flatten()(embedding_layer_users)#Embedding layer output\n",
    "\n",
    "# Define input layer for metadata\n",
    "input_metadata = Input(shape=(meta_text_dim,), name='metadata_input')\n",
    "# #AutoEncoder for meta data\n",
    "x = Dense(128, activation='relu')(input_metadata)\n",
    "x = Dropout(0.3)(x)\n",
    "x = Dense(64, activation='relu')(x)\n",
    "x = Dropout(0.3)(x)\n",
    "encoded = Dense(10, activation='relu', name='encoded_layer')(x)\n",
    "\n",
    "# Define decoder layers for interaction data\n",
    "x = Dense(64, activation='relu')(encoded)\n",
    "x = Dropout(0.3)(x)\n",
    "x = Dense(128, activation='relu')(x)\n",
    "x = Dropout(0.3)(x)\n",
    "metadata_embedding = Dense(meta_text_dim, name='decoded_layer')(x)\n",
    "\n",
    "# x = tf.keras.layers.Multiply()([embedding_output_songs, embedding_output_users])\n",
    "# Concatenate encoded interaction data and metadata\n",
    "merged = tf.keras.layers.Concatenate()([embedding_output_songs, embedding_output_users, metadata_embedding])\n",
    "\n",
    "# Define output layers for hybrid model\n",
    "x = Dense(64, activation='relu')(merged)\n",
    "x = Dropout(0.3)(x)\n",
    "x = Dense(32, activation='relu')(x)\n",
    "x = Dropout(0.3)(x)\n",
    "output = Dense(1, name='output_layer',activation='sigmoid')(x) #\n",
    "\n",
    "# Define full model\n",
    "model2 = Model(inputs=[input_song, input_user, input_metadata], outputs=output)\n",
    "\n",
    "# Compile model\n",
    "model2.compile(optimizer=Adam(lr=0.001), loss='binary_crossentropy', metrics=['mae'])\n",
    "model2.summary()"
   ]
  },
  {
   "cell_type": "code",
   "execution_count": 43,
   "metadata": {},
   "outputs": [
    {
     "name": "stdout",
     "output_type": "stream",
     "text": [
      "Epoch 1/20\n",
      "4961/4961 [==============================] - 56s 11ms/step - loss: 0.4136 - mae: 0.1852 - val_loss: 0.3923 - val_mae: 0.1732\n",
      "Epoch 2/20\n",
      "4961/4961 [==============================] - 52s 10ms/step - loss: 0.3819 - mae: 0.1665 - val_loss: 0.3926 - val_mae: 0.1720\n",
      "Epoch 3/20\n",
      "4961/4961 [==============================] - 53s 11ms/step - loss: 0.3698 - mae: 0.1579 - val_loss: 0.3972 - val_mae: 0.1745\n"
     ]
    }
   ],
   "source": [
    "#Training model\n",
    "\n",
    "early_stopping = EarlyStopping(monitor = 'val_loss', patience = 2)\n",
    "\n",
    "history = model2.fit(\n",
    "  [train_song_ids, train_user_ids,train_meta_array], train_output, #\n",
    "  batch_size=256, \n",
    "  epochs=20, \n",
    "  verbose=1,\n",
    "  callbacks = [early_stopping],\n",
    "  validation_split=0.2\n",
    ")"
   ]
  },
  {
   "cell_type": "code",
   "execution_count": 44,
   "metadata": {},
   "outputs": [
    {
     "name": "stdout",
     "output_type": "stream",
     "text": [
      "12402/12402 [==============================] - 23s 2ms/step\n",
      "Test RMSE: 0.2870037227414223\n",
      "Test MSE: 0.48739001154899597\n",
      "Test MAE: 0.21655012667179108\n",
      "Test MAE: -0.25518796963453516\n"
     ]
    }
   ],
   "source": [
    "from sklearn.metrics import mean_squared_error,r2_score\n",
    "# Predict on test set\n",
    "y_pred = model2.predict([test_song_ids,test_user_ids, test_meta_array])\n",
    "\n",
    "# Evaluate model\n",
    "score = model2.evaluate([test_song_ids,test_user_ids, test_meta_array], test_output, verbose=0)\n",
    "rmse = np.sqrt(mean_squared_error(test_output, y_pred))\n",
    "r2 = r2_score(test_output, y_pred)\n",
    "\n",
    "print('Test RMSE:', rmse)\n",
    "print('Test MSE:', score[0])\n",
    "print('Test MAE:', score[1])\n",
    "print('Test R2:', r2)\n"
   ]
  },
  {
   "cell_type": "code",
   "execution_count": null,
   "metadata": {},
   "outputs": [],
   "source": []
  }
 ],
 "metadata": {
  "colab": {
   "provenance": []
  },
  "kernelspec": {
   "display_name": "Python 3",
   "language": "python",
   "name": "python3"
  },
  "language_info": {
   "codemirror_mode": {
    "name": "ipython",
    "version": 3
   },
   "file_extension": ".py",
   "mimetype": "text/x-python",
   "name": "python",
   "nbconvert_exporter": "python",
   "pygments_lexer": "ipython3",
   "version": "3.7.6"
  }
 },
 "nbformat": 4,
 "nbformat_minor": 1
}
