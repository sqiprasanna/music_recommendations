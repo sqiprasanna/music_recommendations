{
 "cells": [
  {
   "cell_type": "code",
   "execution_count": 1,
   "metadata": {},
   "outputs": [
    {
     "name": "stderr",
     "output_type": "stream",
     "text": [
      "2023-04-30 20:34:34.367413: I tensorflow/core/platform/cpu_feature_guard.cc:182] This TensorFlow binary is optimized to use available CPU instructions in performance-critical operations.\n",
      "To enable the following instructions: AVX2 FMA, in other operations, rebuild TensorFlow with the appropriate compiler flags.\n",
      "2023-04-30 20:34:35.685501: W tensorflow/compiler/tf2tensorrt/utils/py_utils.cc:38] TF-TRT Warning: Could not find TensorRT\n"
     ]
    }
   ],
   "source": [
    "import pandas as pd\n",
    "import numpy as np\n",
    "import matplotlib.pyplot as plt\n",
    "import sklearn\n",
    "import seaborn as sns\n",
    "import matplotlib.pyplot as plt\n",
    "from surprise.model_selection import train_test_split,cross_validate\n",
    "from surprise import SVD, accuracy\n",
    "from surprise import KNNBasic\n",
    "import os\n",
    "from tensorflow.keras import backend as K\n",
    "import tables\n",
    "\n",
    "import tensorflow as tf\n",
    "from tensorflow.keras.layers import Input, Embedding, Flatten, Concatenate, Dense, Dropout\n",
    "from tensorflow.keras.models import Model\n",
    "from surprise import SVDpp, Reader, Dataset\n",
    "from sklearn.preprocessing import LabelEncoder"
   ]
  },
  {
   "cell_type": "markdown",
   "metadata": {},
   "source": [
    "### TASTE PROFILE DATA"
   ]
  },
  {
   "cell_type": "code",
   "execution_count": 2,
   "metadata": {
    "id": "_dgENuRieAYg"
   },
   "outputs": [
    {
     "data": {
      "text/plain": [
       "(2000000, 3)"
      ]
     },
     "execution_count": 2,
     "metadata": {},
     "output_type": "execute_result"
    }
   ],
   "source": [
    "taste_profile = pd.read_csv('/home/016651544/datasets/train_triplets.txt',sep='\\t',header=None,names = ['user_id','song_id','play_count'],nrows = 2000000)#\n",
    "taste_profile.shape"
   ]
  },
  {
   "cell_type": "code",
   "execution_count": 3,
   "metadata": {
    "colab": {
     "base_uri": "https://localhost:8080/",
     "height": 206
    },
    "id": "WdOJXpSUhC50",
    "outputId": "b7591716-df13-4179-d1c7-f2ceec605526",
    "scrolled": false
   },
   "outputs": [
    {
     "data": {
      "text/html": [
       "<div>\n",
       "<style scoped>\n",
       "    .dataframe tbody tr th:only-of-type {\n",
       "        vertical-align: middle;\n",
       "    }\n",
       "\n",
       "    .dataframe tbody tr th {\n",
       "        vertical-align: top;\n",
       "    }\n",
       "\n",
       "    .dataframe thead th {\n",
       "        text-align: right;\n",
       "    }\n",
       "</style>\n",
       "<table border=\"1\" class=\"dataframe\">\n",
       "  <thead>\n",
       "    <tr style=\"text-align: right;\">\n",
       "      <th></th>\n",
       "      <th>user_id</th>\n",
       "      <th>song_id</th>\n",
       "      <th>play_count</th>\n",
       "    </tr>\n",
       "  </thead>\n",
       "  <tbody>\n",
       "    <tr>\n",
       "      <th>0</th>\n",
       "      <td>b80344d063b5ccb3212f76538f3d9e43d87dca9e</td>\n",
       "      <td>SOAKIMP12A8C130995</td>\n",
       "      <td>1</td>\n",
       "    </tr>\n",
       "    <tr>\n",
       "      <th>1</th>\n",
       "      <td>b80344d063b5ccb3212f76538f3d9e43d87dca9e</td>\n",
       "      <td>SOAPDEY12A81C210A9</td>\n",
       "      <td>1</td>\n",
       "    </tr>\n",
       "    <tr>\n",
       "      <th>2</th>\n",
       "      <td>b80344d063b5ccb3212f76538f3d9e43d87dca9e</td>\n",
       "      <td>SOBBMDR12A8C13253B</td>\n",
       "      <td>2</td>\n",
       "    </tr>\n",
       "    <tr>\n",
       "      <th>3</th>\n",
       "      <td>b80344d063b5ccb3212f76538f3d9e43d87dca9e</td>\n",
       "      <td>SOBFNSP12AF72A0E22</td>\n",
       "      <td>1</td>\n",
       "    </tr>\n",
       "    <tr>\n",
       "      <th>4</th>\n",
       "      <td>b80344d063b5ccb3212f76538f3d9e43d87dca9e</td>\n",
       "      <td>SOBFOVM12A58A7D494</td>\n",
       "      <td>1</td>\n",
       "    </tr>\n",
       "  </tbody>\n",
       "</table>\n",
       "</div>"
      ],
      "text/plain": [
       "                                    user_id             song_id  play_count\n",
       "0  b80344d063b5ccb3212f76538f3d9e43d87dca9e  SOAKIMP12A8C130995           1\n",
       "1  b80344d063b5ccb3212f76538f3d9e43d87dca9e  SOAPDEY12A81C210A9           1\n",
       "2  b80344d063b5ccb3212f76538f3d9e43d87dca9e  SOBBMDR12A8C13253B           2\n",
       "3  b80344d063b5ccb3212f76538f3d9e43d87dca9e  SOBFNSP12AF72A0E22           1\n",
       "4  b80344d063b5ccb3212f76538f3d9e43d87dca9e  SOBFOVM12A58A7D494           1"
      ]
     },
     "execution_count": 3,
     "metadata": {},
     "output_type": "execute_result"
    }
   ],
   "source": [
    "taste_profile.head()"
   ]
  },
  {
   "cell_type": "code",
   "execution_count": 4,
   "metadata": {},
   "outputs": [
    {
     "name": "stdout",
     "output_type": "stream",
     "text": [
      "1.0 3.0 -2.0 6.0\n"
     ]
    },
    {
     "data": {
      "text/plain": [
       "(1834519, 3)"
      ]
     },
     "execution_count": 4,
     "metadata": {},
     "output_type": "execute_result"
    }
   ],
   "source": [
    "# Compute quartiles for the play_count of users and year of publication columns\n",
    "q1_play_count = taste_profile['play_count'].quantile(0.25)\n",
    "q3_play_count = taste_profile['play_count'].quantile(0.75)\n",
    "iqr_play_count = q3_play_count - q1_play_count\n",
    "lower_play_count = q1_play_count - 1.5 * iqr_play_count\n",
    "upper_play_count = q3_play_count + 1.5 * iqr_play_count\n",
    "print(q1_play_count, q3_play_count,lower_play_count, upper_play_count)\n",
    "\n",
    "# Identify and remove outliers based on IQR\n",
    "taste_profile = taste_profile[(taste_profile['play_count'] >= lower_play_count) & (taste_profile['play_count'] <= upper_play_count)]\n",
    "taste_profile.shape"
   ]
  },
  {
   "cell_type": "code",
   "execution_count": 5,
   "metadata": {},
   "outputs": [
    {
     "data": {
      "text/plain": [
       "188992"
      ]
     },
     "execution_count": 5,
     "metadata": {},
     "output_type": "execute_result"
    }
   ],
   "source": [
    "taste_profile.song_id.nunique()"
   ]
  },
  {
   "cell_type": "code",
   "execution_count": 6,
   "metadata": {},
   "outputs": [],
   "source": [
    "df = taste_profile.copy()"
   ]
  },
  {
   "cell_type": "markdown",
   "metadata": {},
   "source": [
    "### METADATA"
   ]
  },
  {
   "cell_type": "code",
   "execution_count": 7,
   "metadata": {
    "colab": {
     "base_uri": "https://localhost:8080/",
     "height": 513
    },
    "id": "HO3RK5m6i8eW",
    "outputId": "f9faaf4c-b214-4e0b-bff8-fa3007f5f0a4",
    "scrolled": true
   },
   "outputs": [
    {
     "data": {
      "text/html": [
       "<div>\n",
       "<style scoped>\n",
       "    .dataframe tbody tr th:only-of-type {\n",
       "        vertical-align: middle;\n",
       "    }\n",
       "\n",
       "    .dataframe tbody tr th {\n",
       "        vertical-align: top;\n",
       "    }\n",
       "\n",
       "    .dataframe thead th {\n",
       "        text-align: right;\n",
       "    }\n",
       "</style>\n",
       "<table border=\"1\" class=\"dataframe\">\n",
       "  <thead>\n",
       "    <tr style=\"text-align: right;\">\n",
       "      <th></th>\n",
       "      <th>track_id</th>\n",
       "      <th>title</th>\n",
       "      <th>song_id</th>\n",
       "      <th>release</th>\n",
       "      <th>artist_id</th>\n",
       "      <th>artist_mbid</th>\n",
       "      <th>artist_name</th>\n",
       "      <th>duration</th>\n",
       "      <th>artist_familiarity</th>\n",
       "      <th>artist_hotttnesss</th>\n",
       "      <th>year</th>\n",
       "      <th>track_7digitalid</th>\n",
       "      <th>shs_perf</th>\n",
       "      <th>shs_work</th>\n",
       "    </tr>\n",
       "  </thead>\n",
       "  <tbody>\n",
       "    <tr>\n",
       "      <th>0</th>\n",
       "      <td>TRMMMYQ128F932D901</td>\n",
       "      <td>Silent Night</td>\n",
       "      <td>SOQMMHC12AB0180CB8</td>\n",
       "      <td>Monster Ballads X-Mas</td>\n",
       "      <td>ARYZTJS1187B98C555</td>\n",
       "      <td>357ff05d-848a-44cf-b608-cb34b5701ae5</td>\n",
       "      <td>Faster Pussy cat</td>\n",
       "      <td>252.05506</td>\n",
       "      <td>0.649822</td>\n",
       "      <td>0.394032</td>\n",
       "      <td>2003</td>\n",
       "      <td>7032331</td>\n",
       "      <td>-1</td>\n",
       "      <td>0</td>\n",
       "    </tr>\n",
       "    <tr>\n",
       "      <th>1</th>\n",
       "      <td>TRMMMKD128F425225D</td>\n",
       "      <td>Tanssi vaan</td>\n",
       "      <td>SOVFVAK12A8C1350D9</td>\n",
       "      <td>Karkuteillä</td>\n",
       "      <td>ARMVN3U1187FB3A1EB</td>\n",
       "      <td>8d7ef530-a6fd-4f8f-b2e2-74aec765e0f9</td>\n",
       "      <td>Karkkiautomaatti</td>\n",
       "      <td>156.55138</td>\n",
       "      <td>0.439604</td>\n",
       "      <td>0.356992</td>\n",
       "      <td>1995</td>\n",
       "      <td>1514808</td>\n",
       "      <td>-1</td>\n",
       "      <td>0</td>\n",
       "    </tr>\n",
       "    <tr>\n",
       "      <th>2</th>\n",
       "      <td>TRMMMRX128F93187D9</td>\n",
       "      <td>No One Could Ever</td>\n",
       "      <td>SOGTUKN12AB017F4F1</td>\n",
       "      <td>Butter</td>\n",
       "      <td>ARGEKB01187FB50750</td>\n",
       "      <td>3d403d44-36ce-465c-ad43-ae877e65adc4</td>\n",
       "      <td>Hudson Mohawke</td>\n",
       "      <td>138.97098</td>\n",
       "      <td>0.643681</td>\n",
       "      <td>0.437504</td>\n",
       "      <td>2006</td>\n",
       "      <td>6945353</td>\n",
       "      <td>-1</td>\n",
       "      <td>0</td>\n",
       "    </tr>\n",
       "    <tr>\n",
       "      <th>3</th>\n",
       "      <td>TRMMMCH128F425532C</td>\n",
       "      <td>Si Vos Querés</td>\n",
       "      <td>SOBNYVR12A8C13558C</td>\n",
       "      <td>De Culo</td>\n",
       "      <td>ARNWYLR1187B9B2F9C</td>\n",
       "      <td>12be7648-7094-495f-90e6-df4189d68615</td>\n",
       "      <td>Yerba Brava</td>\n",
       "      <td>145.05751</td>\n",
       "      <td>0.448501</td>\n",
       "      <td>0.372349</td>\n",
       "      <td>2003</td>\n",
       "      <td>2168257</td>\n",
       "      <td>-1</td>\n",
       "      <td>0</td>\n",
       "    </tr>\n",
       "    <tr>\n",
       "      <th>4</th>\n",
       "      <td>TRMMMWA128F426B589</td>\n",
       "      <td>Tangle Of Aspens</td>\n",
       "      <td>SOHSBXH12A8C13B0DF</td>\n",
       "      <td>Rene Ablaze Presents Winter Sessions</td>\n",
       "      <td>AREQDTE1269FB37231</td>\n",
       "      <td>NaN</td>\n",
       "      <td>Der Mystic</td>\n",
       "      <td>514.29832</td>\n",
       "      <td>0.000000</td>\n",
       "      <td>0.000000</td>\n",
       "      <td>0</td>\n",
       "      <td>2264873</td>\n",
       "      <td>-1</td>\n",
       "      <td>0</td>\n",
       "    </tr>\n",
       "  </tbody>\n",
       "</table>\n",
       "</div>"
      ],
      "text/plain": [
       "             track_id              title             song_id  \\\n",
       "0  TRMMMYQ128F932D901       Silent Night  SOQMMHC12AB0180CB8   \n",
       "1  TRMMMKD128F425225D        Tanssi vaan  SOVFVAK12A8C1350D9   \n",
       "2  TRMMMRX128F93187D9  No One Could Ever  SOGTUKN12AB017F4F1   \n",
       "3  TRMMMCH128F425532C      Si Vos Querés  SOBNYVR12A8C13558C   \n",
       "4  TRMMMWA128F426B589   Tangle Of Aspens  SOHSBXH12A8C13B0DF   \n",
       "\n",
       "                                release           artist_id  \\\n",
       "0                 Monster Ballads X-Mas  ARYZTJS1187B98C555   \n",
       "1                           Karkuteillä  ARMVN3U1187FB3A1EB   \n",
       "2                                Butter  ARGEKB01187FB50750   \n",
       "3                               De Culo  ARNWYLR1187B9B2F9C   \n",
       "4  Rene Ablaze Presents Winter Sessions  AREQDTE1269FB37231   \n",
       "\n",
       "                            artist_mbid       artist_name   duration  \\\n",
       "0  357ff05d-848a-44cf-b608-cb34b5701ae5  Faster Pussy cat  252.05506   \n",
       "1  8d7ef530-a6fd-4f8f-b2e2-74aec765e0f9  Karkkiautomaatti  156.55138   \n",
       "2  3d403d44-36ce-465c-ad43-ae877e65adc4    Hudson Mohawke  138.97098   \n",
       "3  12be7648-7094-495f-90e6-df4189d68615       Yerba Brava  145.05751   \n",
       "4                                   NaN        Der Mystic  514.29832   \n",
       "\n",
       "   artist_familiarity  artist_hotttnesss  year  track_7digitalid  shs_perf  \\\n",
       "0            0.649822           0.394032  2003           7032331        -1   \n",
       "1            0.439604           0.356992  1995           1514808        -1   \n",
       "2            0.643681           0.437504  2006           6945353        -1   \n",
       "3            0.448501           0.372349  2003           2168257        -1   \n",
       "4            0.000000           0.000000     0           2264873        -1   \n",
       "\n",
       "   shs_work  \n",
       "0         0  \n",
       "1         0  \n",
       "2         0  \n",
       "3         0  \n",
       "4         0  "
      ]
     },
     "execution_count": 7,
     "metadata": {},
     "output_type": "execute_result"
    }
   ],
   "source": [
    "# Convert the table to a Pandas DataFrame\n",
    "metadata_table_df = pd.read_csv('/home/016651544/datasets/track_metadata.csv')\n",
    "metadata_table_df.head()"
   ]
  },
  {
   "cell_type": "code",
   "execution_count": 8,
   "metadata": {},
   "outputs": [
    {
     "data": {
      "text/html": [
       "<div>\n",
       "<style scoped>\n",
       "    .dataframe tbody tr th:only-of-type {\n",
       "        vertical-align: middle;\n",
       "    }\n",
       "\n",
       "    .dataframe tbody tr th {\n",
       "        vertical-align: top;\n",
       "    }\n",
       "\n",
       "    .dataframe thead th {\n",
       "        text-align: right;\n",
       "    }\n",
       "</style>\n",
       "<table border=\"1\" class=\"dataframe\">\n",
       "  <thead>\n",
       "    <tr style=\"text-align: right;\">\n",
       "      <th></th>\n",
       "      <th>song_id</th>\n",
       "      <th>track_id</th>\n",
       "      <th>title</th>\n",
       "      <th>release</th>\n",
       "      <th>artist_id</th>\n",
       "      <th>artist_mbid</th>\n",
       "      <th>artist_name</th>\n",
       "      <th>duration</th>\n",
       "      <th>artist_familiarity</th>\n",
       "      <th>artist_hotttnesss</th>\n",
       "      <th>year</th>\n",
       "      <th>track_7digitalid</th>\n",
       "      <th>shs_perf</th>\n",
       "      <th>shs_work</th>\n",
       "    </tr>\n",
       "  </thead>\n",
       "  <tbody>\n",
       "    <tr>\n",
       "      <th>0</th>\n",
       "      <td>SOAKIMP12A8C130995</td>\n",
       "      <td>TRIQAUQ128F42435AD</td>\n",
       "      <td>The Cove</td>\n",
       "      <td>Thicker Than Water</td>\n",
       "      <td>ARC8CQZ1187B98DECA</td>\n",
       "      <td>ff6e677f-91dd-4986-a174-8db0474b1799</td>\n",
       "      <td>Jack Johnson</td>\n",
       "      <td>112.63955</td>\n",
       "      <td>0.832012</td>\n",
       "      <td>0.677482</td>\n",
       "      <td>0</td>\n",
       "      <td>2093263</td>\n",
       "      <td>-1</td>\n",
       "      <td>0</td>\n",
       "    </tr>\n",
       "    <tr>\n",
       "      <th>1</th>\n",
       "      <td>SOAPDEY12A81C210A9</td>\n",
       "      <td>TRIRLYL128F42539D1</td>\n",
       "      <td>Nothing from Nothing</td>\n",
       "      <td>To Die For</td>\n",
       "      <td>ARHYUI71187FB48366</td>\n",
       "      <td>8a7cf497-dc5c-4523-932d-3fcbc9a69d38</td>\n",
       "      <td>Billy Preston</td>\n",
       "      <td>153.59955</td>\n",
       "      <td>0.580555</td>\n",
       "      <td>0.482492</td>\n",
       "      <td>1974</td>\n",
       "      <td>3072847</td>\n",
       "      <td>-1</td>\n",
       "      <td>0</td>\n",
       "    </tr>\n",
       "    <tr>\n",
       "      <th>2</th>\n",
       "      <td>SOBBMDR12A8C13253B</td>\n",
       "      <td>TRMHBXZ128F4238406</td>\n",
       "      <td>Entre Dos Aguas</td>\n",
       "      <td>Flamenco Para Niños</td>\n",
       "      <td>ARC1SF21187FB51D0F</td>\n",
       "      <td>7bc8dd01-35ea-4b18-a64d-3a364dc76a52</td>\n",
       "      <td>Paco De Lucia</td>\n",
       "      <td>358.24281</td>\n",
       "      <td>0.633119</td>\n",
       "      <td>0.417718</td>\n",
       "      <td>1976</td>\n",
       "      <td>2631392</td>\n",
       "      <td>-1</td>\n",
       "      <td>0</td>\n",
       "    </tr>\n",
       "    <tr>\n",
       "      <th>3</th>\n",
       "      <td>SOBFNSP12AF72A0E22</td>\n",
       "      <td>TRYQMNI128F147C1C7</td>\n",
       "      <td>Under Cold Blue Stars</td>\n",
       "      <td>Under Cold Blue Stars</td>\n",
       "      <td>ARMS97V1187B99DD98</td>\n",
       "      <td>023d64c9-93db-4a20-8c5c-2efa1a53481a</td>\n",
       "      <td>Josh Rouse</td>\n",
       "      <td>266.34404</td>\n",
       "      <td>0.675339</td>\n",
       "      <td>0.509058</td>\n",
       "      <td>2002</td>\n",
       "      <td>413957</td>\n",
       "      <td>-1</td>\n",
       "      <td>0</td>\n",
       "    </tr>\n",
       "    <tr>\n",
       "      <th>4</th>\n",
       "      <td>SOBFOVM12A58A7D494</td>\n",
       "      <td>TRAHZNE128F9341B86</td>\n",
       "      <td>Riot Radio (Soundtrack Version)</td>\n",
       "      <td>Nick &amp; Norah's Infinite Playlist - Original Mo...</td>\n",
       "      <td>ARI4V0E1187B9B6FC2</td>\n",
       "      <td>87ebbe67-3910-4521-a418-4fe53eb912b7</td>\n",
       "      <td>The Dead 60s</td>\n",
       "      <td>141.42649</td>\n",
       "      <td>0.650281</td>\n",
       "      <td>0.451749</td>\n",
       "      <td>0</td>\n",
       "      <td>5674853</td>\n",
       "      <td>-1</td>\n",
       "      <td>0</td>\n",
       "    </tr>\n",
       "  </tbody>\n",
       "</table>\n",
       "</div>"
      ],
      "text/plain": [
       "              song_id            track_id                            title  \\\n",
       "0  SOAKIMP12A8C130995  TRIQAUQ128F42435AD                         The Cove   \n",
       "1  SOAPDEY12A81C210A9  TRIRLYL128F42539D1             Nothing from Nothing   \n",
       "2  SOBBMDR12A8C13253B  TRMHBXZ128F4238406                  Entre Dos Aguas   \n",
       "3  SOBFNSP12AF72A0E22  TRYQMNI128F147C1C7            Under Cold Blue Stars   \n",
       "4  SOBFOVM12A58A7D494  TRAHZNE128F9341B86  Riot Radio (Soundtrack Version)   \n",
       "\n",
       "                                             release           artist_id  \\\n",
       "0                                 Thicker Than Water  ARC8CQZ1187B98DECA   \n",
       "1                                         To Die For  ARHYUI71187FB48366   \n",
       "2                                Flamenco Para Niños  ARC1SF21187FB51D0F   \n",
       "3                              Under Cold Blue Stars  ARMS97V1187B99DD98   \n",
       "4  Nick & Norah's Infinite Playlist - Original Mo...  ARI4V0E1187B9B6FC2   \n",
       "\n",
       "                            artist_mbid    artist_name   duration  \\\n",
       "0  ff6e677f-91dd-4986-a174-8db0474b1799   Jack Johnson  112.63955   \n",
       "1  8a7cf497-dc5c-4523-932d-3fcbc9a69d38  Billy Preston  153.59955   \n",
       "2  7bc8dd01-35ea-4b18-a64d-3a364dc76a52  Paco De Lucia  358.24281   \n",
       "3  023d64c9-93db-4a20-8c5c-2efa1a53481a     Josh Rouse  266.34404   \n",
       "4  87ebbe67-3910-4521-a418-4fe53eb912b7   The Dead 60s  141.42649   \n",
       "\n",
       "   artist_familiarity  artist_hotttnesss  year  track_7digitalid  shs_perf  \\\n",
       "0            0.832012           0.677482     0           2093263        -1   \n",
       "1            0.580555           0.482492  1974           3072847        -1   \n",
       "2            0.633119           0.417718  1976           2631392        -1   \n",
       "3            0.675339           0.509058  2002            413957        -1   \n",
       "4            0.650281           0.451749     0           5674853        -1   \n",
       "\n",
       "   shs_work  \n",
       "0         0  \n",
       "1         0  \n",
       "2         0  \n",
       "3         0  \n",
       "4         0  "
      ]
     },
     "execution_count": 8,
     "metadata": {},
     "output_type": "execute_result"
    }
   ],
   "source": [
    "song_ids = taste_profile[\"song_id\"].unique().astype(str)\n",
    "metadata_df = pd.merge(pd.DataFrame(song_ids,columns=['song_id']),metadata_table_df,on=\"song_id\",how='left')\n",
    "metadata_df.head()"
   ]
  },
  {
   "cell_type": "markdown",
   "metadata": {},
   "source": [
    "### PREPROCESSING ON METADATA"
   ]
  },
  {
   "cell_type": "code",
   "execution_count": 9,
   "metadata": {},
   "outputs": [],
   "source": [
    "metadata_df.replace(\"\",np.nan,inplace=True)"
   ]
  },
  {
   "cell_type": "code",
   "execution_count": 10,
   "metadata": {
    "scrolled": true
   },
   "outputs": [
    {
     "data": {
      "text/plain": [
       "song_id                  0\n",
       "track_id                 0\n",
       "title                    2\n",
       "release                  0\n",
       "artist_id                0\n",
       "artist_mbid           4279\n",
       "artist_name              0\n",
       "duration                 0\n",
       "artist_familiarity       0\n",
       "artist_hotttnesss        0\n",
       "year                     0\n",
       "track_7digitalid         0\n",
       "shs_perf                 0\n",
       "shs_work                 0\n",
       "dtype: int64"
      ]
     },
     "execution_count": 10,
     "metadata": {},
     "output_type": "execute_result"
    }
   ],
   "source": [
    "metadata_df.isna().sum()"
   ]
  },
  {
   "cell_type": "code",
   "execution_count": 11,
   "metadata": {},
   "outputs": [
    {
     "data": {
      "text/plain": [
       "song_id                  0\n",
       "track_id                 0\n",
       "title                    0\n",
       "release                  0\n",
       "artist_id                0\n",
       "artist_mbid           4279\n",
       "artist_name              0\n",
       "duration                 0\n",
       "artist_familiarity       0\n",
       "artist_hotttnesss        0\n",
       "year                     0\n",
       "track_7digitalid         0\n",
       "shs_perf                 0\n",
       "shs_work                 0\n",
       "dtype: int64"
      ]
     },
     "execution_count": 11,
     "metadata": {},
     "output_type": "execute_result"
    }
   ],
   "source": [
    "values = {'song_hotttnesss': 0,'artist_familiarity': 0, 'title': \"Unknown\"}\n",
    "metadata_df.fillna(value= values,inplace=True)\n",
    "metadata_df.isna().sum()"
   ]
  },
  {
   "cell_type": "code",
   "execution_count": 12,
   "metadata": {
    "colab": {
     "base_uri": "https://localhost:8080/"
    },
    "id": "G5jw7cC2n7Bi",
    "outputId": "49422b5b-804a-4f79-b12f-651a5ccb08de"
   },
   "outputs": [
    {
     "data": {
      "text/plain": [
       "(Index(['song_id', 'track_id', 'title', 'release', 'artist_id', 'artist_mbid',\n",
       "        'artist_name', 'duration', 'artist_familiarity', 'artist_hotttnesss',\n",
       "        'year', 'track_7digitalid', 'shs_perf', 'shs_work'],\n",
       "       dtype='object'),\n",
       " song_id                object\n",
       " track_id               object\n",
       " title                  object\n",
       " release                object\n",
       " artist_id              object\n",
       " artist_mbid            object\n",
       " artist_name            object\n",
       " duration              float64\n",
       " artist_familiarity    float64\n",
       " artist_hotttnesss     float64\n",
       " year                    int64\n",
       " track_7digitalid        int64\n",
       " shs_perf                int64\n",
       " shs_work                int64\n",
       " dtype: object)"
      ]
     },
     "execution_count": 12,
     "metadata": {},
     "output_type": "execute_result"
    }
   ],
   "source": [
    "metadata_df.columns,metadata_df.dtypes"
   ]
  },
  {
   "cell_type": "code",
   "execution_count": 13,
   "metadata": {
    "scrolled": true
   },
   "outputs": [
    {
     "data": {
      "text/plain": [
       "Index(['song_id', 'track_id', 'title', 'release', 'artist_id', 'artist_mbid',\n",
       "       'artist_name', 'duration', 'artist_familiarity', 'artist_hotttnesss',\n",
       "       'year', 'track_7digitalid', 'shs_perf', 'shs_work'],\n",
       "      dtype='object')"
      ]
     },
     "execution_count": 13,
     "metadata": {},
     "output_type": "execute_result"
    }
   ],
   "source": [
    "metadata_df.columns"
   ]
  },
  {
   "cell_type": "markdown",
   "metadata": {},
   "source": [
    "### KNN, SVD"
   ]
  },
  {
   "cell_type": "code",
   "execution_count": 40,
   "metadata": {},
   "outputs": [],
   "source": [
    "def get_recommendations_svd(scale ,metadata,model_name, train_data, user_id, n=10):\n",
    "    \"\"\"\n",
    "    Get top n recommendations for the given user id using the specified model.\n",
    "    \"\"\"\n",
    "    # Load the dataset and create a reader\n",
    "    reader = Reader(rating_scale=scale)\n",
    "    data = Dataset.load_from_df(train_data[['user_id', 'song_id', 'play_count']], reader)\n",
    "\n",
    "    # Train the model\n",
    "    if model_name == 'SVD':\n",
    "        model = SVD(n_factors=5, n_epochs=5, lr_all=0.01, reg_all=0.02)\n",
    "    elif model_name == 'KNN':\n",
    "        model = KNNBasic(k=40, sim_options={'name': 'cosine', 'user_based': False})\n",
    "    else:\n",
    "        raise ValueError('Invalid model name')\n",
    "\n",
    "    # Split the data into training and test sets\n",
    "    trainset, testset = train_test_split(data, test_size=0.1, random_state=42)\n",
    "#     trainset = data.build_full_trainset()\n",
    "    model.fit(trainset)\n",
    "    # Test the model on the test set and compute the accuracy metrics\n",
    "    predictions = model.test(testset)\n",
    "    rmse = accuracy.rmse(predictions)\n",
    "    mae = accuracy.mae(predictions)\n",
    "    \n",
    "    print(\" RMSE for {} \".format(model_name), rmse)\n",
    "    print(\" MAE for {} \".format(model_name), mae)\n",
    "    # Get the user's item interactions\n",
    "    user_items = train_data[train_data['user_id'] == user_id]['song_id'].unique()\n",
    "\n",
    "    # Get the predictions for the user and sort them in descending order\n",
    "    predictions = []\n",
    "    for item_id in train_data['song_id'].unique():\n",
    "        if item_id not in user_items:\n",
    "            predictions.append((item_id, model.predict(user_id, item_id)[3]))\n",
    "    predictions.sort(key=lambda x: x[1], reverse=True)\n",
    "    \n",
    "    # Get the top n recommendations\n",
    "    top_n = [x[0] for x in predictions[:n]]\n",
    "    \n",
    "    song_info = metadata_df[metadata_df['song_id'].isin(top_n)][[ 'title', 'artist_name', 'duration']]\n",
    "    \n",
    "    return song_info"
   ]
  },
  {
   "cell_type": "code",
   "execution_count": 41,
   "metadata": {
    "scrolled": false
   },
   "outputs": [
    {
     "name": "stdout",
     "output_type": "stream",
     "text": [
      "RMSE: 1.2055\n",
      "MAE:  0.8747\n",
      " RMSE for SVD  1.2055474903731247\n",
      " MAE for SVD  0.874707880729976\n"
     ]
    },
    {
     "data": {
      "text/html": [
       "<div>\n",
       "<style scoped>\n",
       "    .dataframe tbody tr th:only-of-type {\n",
       "        vertical-align: middle;\n",
       "    }\n",
       "\n",
       "    .dataframe tbody tr th {\n",
       "        vertical-align: top;\n",
       "    }\n",
       "\n",
       "    .dataframe thead th {\n",
       "        text-align: right;\n",
       "    }\n",
       "</style>\n",
       "<table border=\"1\" class=\"dataframe\">\n",
       "  <thead>\n",
       "    <tr style=\"text-align: right;\">\n",
       "      <th></th>\n",
       "      <th>title</th>\n",
       "      <th>artist_name</th>\n",
       "      <th>duration</th>\n",
       "    </tr>\n",
       "  </thead>\n",
       "  <tbody>\n",
       "    <tr>\n",
       "      <th>1640</th>\n",
       "      <td>Decades Of Despair</td>\n",
       "      <td>Carnal Forge</td>\n",
       "      <td>182.33424</td>\n",
       "    </tr>\n",
       "    <tr>\n",
       "      <th>7893</th>\n",
       "      <td>Como Un Sueño (Am I Dreaming)</td>\n",
       "      <td>Kat DeLuna</td>\n",
       "      <td>239.43791</td>\n",
       "    </tr>\n",
       "    <tr>\n",
       "      <th>10599</th>\n",
       "      <td>Bedroom Suite</td>\n",
       "      <td>Joe Christmas</td>\n",
       "      <td>185.78240</td>\n",
       "    </tr>\n",
       "    <tr>\n",
       "      <th>10836</th>\n",
       "      <td>Brother</td>\n",
       "      <td>Keisha White</td>\n",
       "      <td>251.42812</td>\n",
       "    </tr>\n",
       "    <tr>\n",
       "      <th>14776</th>\n",
       "      <td>Victoria (LP Version)</td>\n",
       "      <td>Old 97's</td>\n",
       "      <td>231.28771</td>\n",
       "    </tr>\n",
       "    <tr>\n",
       "      <th>26952</th>\n",
       "      <td>Chapel Of Ghouls (Live)</td>\n",
       "      <td>Morbid Angel</td>\n",
       "      <td>226.66404</td>\n",
       "    </tr>\n",
       "    <tr>\n",
       "      <th>31523</th>\n",
       "      <td>Tennessee (Pirate Radio Mix)</td>\n",
       "      <td>ARRESTED DEVELOPMENT</td>\n",
       "      <td>371.59138</td>\n",
       "    </tr>\n",
       "    <tr>\n",
       "      <th>35084</th>\n",
       "      <td>TULENLIEKKI</td>\n",
       "      <td>M.A. Numminen</td>\n",
       "      <td>166.55628</td>\n",
       "    </tr>\n",
       "    <tr>\n",
       "      <th>38087</th>\n",
       "      <td>Prologue</td>\n",
       "      <td>Danny Elfman</td>\n",
       "      <td>176.84853</td>\n",
       "    </tr>\n",
       "    <tr>\n",
       "      <th>39439</th>\n",
       "      <td>Canción Para Luchar</td>\n",
       "      <td>León Gieco</td>\n",
       "      <td>283.61098</td>\n",
       "    </tr>\n",
       "  </tbody>\n",
       "</table>\n",
       "</div>"
      ],
      "text/plain": [
       "                               title           artist_name   duration\n",
       "1640              Decades Of Despair          Carnal Forge  182.33424\n",
       "7893   Como Un Sueño (Am I Dreaming)            Kat DeLuna  239.43791\n",
       "10599                  Bedroom Suite         Joe Christmas  185.78240\n",
       "10836                        Brother          Keisha White  251.42812\n",
       "14776          Victoria (LP Version)              Old 97's  231.28771\n",
       "26952        Chapel Of Ghouls (Live)          Morbid Angel  226.66404\n",
       "31523   Tennessee (Pirate Radio Mix)  ARRESTED DEVELOPMENT  371.59138\n",
       "35084                    TULENLIEKKI         M.A. Numminen  166.55628\n",
       "38087                       Prologue          Danny Elfman  176.84853\n",
       "39439            Canción Para Luchar            León Gieco  283.61098"
      ]
     },
     "execution_count": 41,
     "metadata": {},
     "output_type": "execute_result"
    }
   ],
   "source": [
    "# Get top 10 recommendations for user with ID 123 using the SVD model\n",
    "scale = (1,6)\n",
    "top_recommendations = get_recommendations_svd(scale,metadata_df,'SVD', df, 'b80344d063b5ccb3212f76538f3d9e43d87dca9e', n=10)\n",
    "top_recommendations"
   ]
  },
  {
   "cell_type": "code",
   "execution_count": null,
   "metadata": {},
   "outputs": [],
   "source": []
  },
  {
   "cell_type": "markdown",
   "metadata": {},
   "source": [
    "### Normalized Play counts"
   ]
  },
  {
   "cell_type": "code",
   "execution_count": 16,
   "metadata": {},
   "outputs": [],
   "source": [
    "grp_df = df[['user_id','play_count']].groupby('user_id').sum().reset_index()\n",
    "grp_df.columns = ['user_id','total_play_counts']\n",
    "data_df=pd.merge(df,grp_df, on='user_id',how= 'left')\n",
    "data_df['play_count_norm'] = data_df['play_count']/data_df['total_play_counts'] "
   ]
  },
  {
   "cell_type": "code",
   "execution_count": 17,
   "metadata": {},
   "outputs": [
    {
     "data": {
      "text/html": [
       "<div>\n",
       "<style scoped>\n",
       "    .dataframe tbody tr th:only-of-type {\n",
       "        vertical-align: middle;\n",
       "    }\n",
       "\n",
       "    .dataframe tbody tr th {\n",
       "        vertical-align: top;\n",
       "    }\n",
       "\n",
       "    .dataframe thead th {\n",
       "        text-align: right;\n",
       "    }\n",
       "</style>\n",
       "<table border=\"1\" class=\"dataframe\">\n",
       "  <thead>\n",
       "    <tr style=\"text-align: right;\">\n",
       "      <th></th>\n",
       "      <th>user_id</th>\n",
       "      <th>song_id</th>\n",
       "      <th>play_count</th>\n",
       "      <th>total_play_counts</th>\n",
       "      <th>play_count_norm</th>\n",
       "    </tr>\n",
       "  </thead>\n",
       "  <tbody>\n",
       "    <tr>\n",
       "      <th>0</th>\n",
       "      <td>b80344d063b5ccb3212f76538f3d9e43d87dca9e</td>\n",
       "      <td>SOAKIMP12A8C130995</td>\n",
       "      <td>1</td>\n",
       "      <td>134</td>\n",
       "      <td>0.007463</td>\n",
       "    </tr>\n",
       "    <tr>\n",
       "      <th>1</th>\n",
       "      <td>b80344d063b5ccb3212f76538f3d9e43d87dca9e</td>\n",
       "      <td>SOAPDEY12A81C210A9</td>\n",
       "      <td>1</td>\n",
       "      <td>134</td>\n",
       "      <td>0.007463</td>\n",
       "    </tr>\n",
       "    <tr>\n",
       "      <th>2</th>\n",
       "      <td>b80344d063b5ccb3212f76538f3d9e43d87dca9e</td>\n",
       "      <td>SOBBMDR12A8C13253B</td>\n",
       "      <td>2</td>\n",
       "      <td>134</td>\n",
       "      <td>0.014925</td>\n",
       "    </tr>\n",
       "    <tr>\n",
       "      <th>3</th>\n",
       "      <td>b80344d063b5ccb3212f76538f3d9e43d87dca9e</td>\n",
       "      <td>SOBFNSP12AF72A0E22</td>\n",
       "      <td>1</td>\n",
       "      <td>134</td>\n",
       "      <td>0.007463</td>\n",
       "    </tr>\n",
       "    <tr>\n",
       "      <th>4</th>\n",
       "      <td>b80344d063b5ccb3212f76538f3d9e43d87dca9e</td>\n",
       "      <td>SOBFOVM12A58A7D494</td>\n",
       "      <td>1</td>\n",
       "      <td>134</td>\n",
       "      <td>0.007463</td>\n",
       "    </tr>\n",
       "  </tbody>\n",
       "</table>\n",
       "</div>"
      ],
      "text/plain": [
       "                                    user_id             song_id  play_count  \\\n",
       "0  b80344d063b5ccb3212f76538f3d9e43d87dca9e  SOAKIMP12A8C130995           1   \n",
       "1  b80344d063b5ccb3212f76538f3d9e43d87dca9e  SOAPDEY12A81C210A9           1   \n",
       "2  b80344d063b5ccb3212f76538f3d9e43d87dca9e  SOBBMDR12A8C13253B           2   \n",
       "3  b80344d063b5ccb3212f76538f3d9e43d87dca9e  SOBFNSP12AF72A0E22           1   \n",
       "4  b80344d063b5ccb3212f76538f3d9e43d87dca9e  SOBFOVM12A58A7D494           1   \n",
       "\n",
       "   total_play_counts  play_count_norm  \n",
       "0                134         0.007463  \n",
       "1                134         0.007463  \n",
       "2                134         0.014925  \n",
       "3                134         0.007463  \n",
       "4                134         0.007463  "
      ]
     },
     "execution_count": 17,
     "metadata": {},
     "output_type": "execute_result"
    }
   ],
   "source": [
    "data_df.head()"
   ]
  },
  {
   "cell_type": "code",
   "execution_count": 18,
   "metadata": {},
   "outputs": [
    {
     "name": "stdout",
     "output_type": "stream",
     "text": [
      "RMSE: 0.0292\n",
      "MAE:  0.0180\n",
      " RMSE for SVD  0.029217333935571303\n",
      " MAE for SVD  0.017986632253815017\n"
     ]
    }
   ],
   "source": [
    "scale = (0,1)\n",
    "top_recommendations = get_recommendations_svd(scale,metadata_df,'SVD', data_df[['user_id','song_id','play_count_norm']].rename(columns = {'play_count_norm':'play_count'}), 'b80344d063b5ccb3212f76538f3d9e43d87dca9e', n=10)"
   ]
  },
  {
   "cell_type": "code",
   "execution_count": 19,
   "metadata": {},
   "outputs": [
    {
     "data": {
      "text/html": [
       "<div>\n",
       "<style scoped>\n",
       "    .dataframe tbody tr th:only-of-type {\n",
       "        vertical-align: middle;\n",
       "    }\n",
       "\n",
       "    .dataframe tbody tr th {\n",
       "        vertical-align: top;\n",
       "    }\n",
       "\n",
       "    .dataframe thead th {\n",
       "        text-align: right;\n",
       "    }\n",
       "</style>\n",
       "<table border=\"1\" class=\"dataframe\">\n",
       "  <thead>\n",
       "    <tr style=\"text-align: right;\">\n",
       "      <th></th>\n",
       "      <th>title</th>\n",
       "      <th>artist_name</th>\n",
       "      <th>duration</th>\n",
       "    </tr>\n",
       "  </thead>\n",
       "  <tbody>\n",
       "    <tr>\n",
       "      <th>54522</th>\n",
       "      <td>Black History Month (Josh Homme remix)</td>\n",
       "      <td>Death From Above 1979</td>\n",
       "      <td>279.17016</td>\n",
       "    </tr>\n",
       "    <tr>\n",
       "      <th>54805</th>\n",
       "      <td>Me Gustan</td>\n",
       "      <td>DJ Bitman</td>\n",
       "      <td>175.85587</td>\n",
       "    </tr>\n",
       "    <tr>\n",
       "      <th>54858</th>\n",
       "      <td>Weapons of Mass Distortion</td>\n",
       "      <td>The Crystal Method</td>\n",
       "      <td>291.16036</td>\n",
       "    </tr>\n",
       "    <tr>\n",
       "      <th>84945</th>\n",
       "      <td>Honky Tonk Women</td>\n",
       "      <td>Billy Joel</td>\n",
       "      <td>197.61587</td>\n",
       "    </tr>\n",
       "    <tr>\n",
       "      <th>98339</th>\n",
       "      <td>Kiwi</td>\n",
       "      <td>Mustard Pimp</td>\n",
       "      <td>296.48934</td>\n",
       "    </tr>\n",
       "    <tr>\n",
       "      <th>102930</th>\n",
       "      <td>Wait For You</td>\n",
       "      <td>Sugababes</td>\n",
       "      <td>234.00444</td>\n",
       "    </tr>\n",
       "    <tr>\n",
       "      <th>116141</th>\n",
       "      <td>Suicide</td>\n",
       "      <td>The Devin Townsend Band</td>\n",
       "      <td>405.00200</td>\n",
       "    </tr>\n",
       "    <tr>\n",
       "      <th>133701</th>\n",
       "      <td>Here I am</td>\n",
       "      <td>Sexy Sadie</td>\n",
       "      <td>169.69098</td>\n",
       "    </tr>\n",
       "    <tr>\n",
       "      <th>171788</th>\n",
       "      <td>Sword And Shield (LP Version)</td>\n",
       "      <td>Sister Hazel</td>\n",
       "      <td>305.84118</td>\n",
       "    </tr>\n",
       "    <tr>\n",
       "      <th>174415</th>\n",
       "      <td>Intro</td>\n",
       "      <td>Styles P</td>\n",
       "      <td>85.02812</td>\n",
       "    </tr>\n",
       "  </tbody>\n",
       "</table>\n",
       "</div>"
      ],
      "text/plain": [
       "                                         title              artist_name  \\\n",
       "54522   Black History Month (Josh Homme remix)    Death From Above 1979   \n",
       "54805                                Me Gustan                DJ Bitman   \n",
       "54858               Weapons of Mass Distortion       The Crystal Method   \n",
       "84945                         Honky Tonk Women               Billy Joel   \n",
       "98339                                     Kiwi             Mustard Pimp   \n",
       "102930                            Wait For You                Sugababes   \n",
       "116141                                 Suicide  The Devin Townsend Band   \n",
       "133701                               Here I am               Sexy Sadie   \n",
       "171788           Sword And Shield (LP Version)             Sister Hazel   \n",
       "174415                                   Intro                 Styles P   \n",
       "\n",
       "         duration  \n",
       "54522   279.17016  \n",
       "54805   175.85587  \n",
       "54858   291.16036  \n",
       "84945   197.61587  \n",
       "98339   296.48934  \n",
       "102930  234.00444  \n",
       "116141  405.00200  \n",
       "133701  169.69098  \n",
       "171788  305.84118  \n",
       "174415   85.02812  "
      ]
     },
     "execution_count": 19,
     "metadata": {},
     "output_type": "execute_result"
    }
   ],
   "source": [
    "top_recommendations"
   ]
  },
  {
   "cell_type": "code",
   "execution_count": null,
   "metadata": {},
   "outputs": [],
   "source": []
  },
  {
   "cell_type": "code",
   "execution_count": 20,
   "metadata": {},
   "outputs": [],
   "source": [
    "final_data_df = taste_profile.copy()"
   ]
  },
  {
   "cell_type": "code",
   "execution_count": 21,
   "metadata": {},
   "outputs": [],
   "source": [
    "final_data_df['unencoded_sid'] = final_data_df['song_id']\n",
    "final_data_df['unencoded_uid'] = final_data_df['user_id']"
   ]
  },
  {
   "cell_type": "code",
   "execution_count": 22,
   "metadata": {},
   "outputs": [],
   "source": [
    "from sklearn.preprocessing import LabelEncoder \n",
    "data_encoder_song = LabelEncoder()\n",
    "data_encoder_user = LabelEncoder()\n",
    "\n",
    "final_data_df['song_id'] = data_encoder_song.fit_transform(final_data_df['song_id'])\n",
    "final_data_df['user_id'] = data_encoder_user.fit_transform(final_data_df['user_id'])"
   ]
  },
  {
   "cell_type": "code",
   "execution_count": 23,
   "metadata": {},
   "outputs": [
    {
     "data": {
      "text/html": [
       "<div>\n",
       "<style scoped>\n",
       "    .dataframe tbody tr th:only-of-type {\n",
       "        vertical-align: middle;\n",
       "    }\n",
       "\n",
       "    .dataframe tbody tr th {\n",
       "        vertical-align: top;\n",
       "    }\n",
       "\n",
       "    .dataframe thead th {\n",
       "        text-align: right;\n",
       "    }\n",
       "</style>\n",
       "<table border=\"1\" class=\"dataframe\">\n",
       "  <thead>\n",
       "    <tr style=\"text-align: right;\">\n",
       "      <th></th>\n",
       "      <th>user_id</th>\n",
       "      <th>song_id</th>\n",
       "      <th>play_count</th>\n",
       "    </tr>\n",
       "  </thead>\n",
       "  <tbody>\n",
       "    <tr>\n",
       "      <th>0</th>\n",
       "      <td>29973</td>\n",
       "      <td>3139</td>\n",
       "      <td>1</td>\n",
       "    </tr>\n",
       "    <tr>\n",
       "      <th>1</th>\n",
       "      <td>29973</td>\n",
       "      <td>4583</td>\n",
       "      <td>1</td>\n",
       "    </tr>\n",
       "    <tr>\n",
       "      <th>2</th>\n",
       "      <td>29973</td>\n",
       "      <td>8249</td>\n",
       "      <td>2</td>\n",
       "    </tr>\n",
       "    <tr>\n",
       "      <th>3</th>\n",
       "      <td>29973</td>\n",
       "      <td>9441</td>\n",
       "      <td>1</td>\n",
       "    </tr>\n",
       "    <tr>\n",
       "      <th>4</th>\n",
       "      <td>29973</td>\n",
       "      <td>9450</td>\n",
       "      <td>1</td>\n",
       "    </tr>\n",
       "    <tr>\n",
       "      <th>5</th>\n",
       "      <td>29973</td>\n",
       "      <td>12008</td>\n",
       "      <td>1</td>\n",
       "    </tr>\n",
       "    <tr>\n",
       "      <th>6</th>\n",
       "      <td>29973</td>\n",
       "      <td>13544</td>\n",
       "      <td>2</td>\n",
       "    </tr>\n",
       "    <tr>\n",
       "      <th>7</th>\n",
       "      <td>29973</td>\n",
       "      <td>14267</td>\n",
       "      <td>1</td>\n",
       "    </tr>\n",
       "  </tbody>\n",
       "</table>\n",
       "</div>"
      ],
      "text/plain": [
       "   user_id  song_id  play_count\n",
       "0    29973     3139           1\n",
       "1    29973     4583           1\n",
       "2    29973     8249           2\n",
       "3    29973     9441           1\n",
       "4    29973     9450           1\n",
       "5    29973    12008           1\n",
       "6    29973    13544           2\n",
       "7    29973    14267           1"
      ]
     },
     "execution_count": 23,
     "metadata": {},
     "output_type": "execute_result"
    }
   ],
   "source": [
    "song_dict = dict(zip(final_data_df['unencoded_sid'], final_data_df['song_id']))\n",
    "user_dict = dict(zip(final_data_df['unencoded_uid'], final_data_df['user_id']))\n",
    "final_data_df.drop(columns =['unencoded_sid'], inplace=True)\n",
    "final_data_df.drop(columns =['unencoded_uid'], inplace=True)\n",
    "final_data_df.head(8)"
   ]
  },
  {
   "cell_type": "code",
   "execution_count": 24,
   "metadata": {},
   "outputs": [],
   "source": [
    "# Generate random indices\n",
    "num_samples = len(final_data_df)\n",
    "indices = np.random.permutation(num_samples)\n",
    "\n",
    "# Split indices into train and test\n",
    "train_size = int(0.8 * num_samples)\n",
    "train_indices = indices[:train_size]\n",
    "test_indices = indices[train_size:]\n",
    "\n",
    "# Use indices to index data\n",
    "train_data = final_data_df.iloc[train_indices]\n",
    "test_data = final_data_df.iloc[test_indices]"
   ]
  },
  {
   "cell_type": "code",
   "execution_count": 25,
   "metadata": {},
   "outputs": [],
   "source": [
    "# train_data.song_id= pd.Categorical(train_data.song_id) \n",
    "train_song_ids = train_data.song_id\n",
    "# train_data.user_id= pd.Categorical(train_data.user_id) \n",
    "train_user_ids = train_data.user_id\n",
    "train_output = train_data['play_count']\n",
    "\n",
    "\n",
    "# test_data.song_id= pd.Categorical(test_data.song_id) \n",
    "test_song_ids = test_data.song_id\n",
    "# test_data.user_id= pd.Categorical(test_data.user_id) \n",
    "test_user_ids = test_data.user_id\n",
    "test_output = test_data['play_count']\n"
   ]
  },
  {
   "cell_type": "markdown",
   "metadata": {
    "id": "2L50f8f2V1gE"
   },
   "source": [
    "### 4 Training a Neural Network"
   ]
  },
  {
   "cell_type": "markdown",
   "metadata": {
    "id": "ScHzYu-rV2QA"
   },
   "source": [
    "#### 4.1 Input dimensions for neural network"
   ]
  },
  {
   "cell_type": "code",
   "execution_count": 26,
   "metadata": {
    "colab": {
     "base_uri": "https://localhost:8080/"
    },
    "id": "zdjOpcxl_IbH",
    "outputId": "ee6f9fc7-9209-4093-a3ca-1e588d68b89a"
   },
   "outputs": [
    {
     "data": {
      "text/plain": [
       "(267181, 83434, 1, 1)"
      ]
     },
     "execution_count": 26,
     "metadata": {},
     "output_type": "execute_result"
    }
   ],
   "source": [
    "#nunique() will return the total number of unique items\n",
    "\n",
    "num_songs = len(train_song_ids.unique())+len(test_song_ids.unique()) \n",
    "num_users =  len(train_user_ids.unique())+len(train_user_ids.unique())\n",
    "song_input_dim = 1\n",
    "user_input_dim = 1\n",
    "\n",
    "num_songs,num_users,song_input_dim,user_input_dim"
   ]
  },
  {
   "cell_type": "code",
   "execution_count": 27,
   "metadata": {
    "id": "wMkZo57S-58a"
   },
   "outputs": [],
   "source": [
    "import tensorflow as tf\n",
    "from tensorflow.keras.layers import Dense, Flatten, Input, Embedding, Concatenate, Dropout\n",
    "from tensorflow.keras.callbacks import EarlyStopping\n",
    "from tensorflow.keras.optimizers import Adam\n",
    "import keras\n",
    "from keras.layers import Add, Activation, Lambda, BatchNormalization, Concatenate, Dropout, Input, Embedding, Dot, Reshape, Dense, Flatten\n",
    "from keras import regularizers\n",
    "from keras import Sequential"
   ]
  },
  {
   "cell_type": "code",
   "execution_count": 28,
   "metadata": {},
   "outputs": [
    {
     "name": "stderr",
     "output_type": "stream",
     "text": [
      "2023-04-30 20:35:28.746097: E tensorflow/compiler/xla/stream_executor/cuda/cuda_driver.cc:266] failed call to cuInit: CUDA_ERROR_NO_DEVICE: no CUDA-capable device is detected\n",
      "WARNING:absl:`lr` is deprecated in Keras optimizer, please use `learning_rate` or use the legacy optimizer, e.g.,tf.keras.optimizers.legacy.Adam.\n"
     ]
    },
    {
     "name": "stdout",
     "output_type": "stream",
     "text": [
      "Model: \"model\"\n",
      "__________________________________________________________________________________________________\n",
      " Layer (type)                   Output Shape         Param #     Connected to                     \n",
      "==================================================================================================\n",
      " songs_input (InputLayer)       [(None, 1)]          0           []                               \n",
      "                                                                                                  \n",
      " users_input (InputLayer)       [(None, 1)]          0           []                               \n",
      "                                                                                                  \n",
      " embedding_songs (Embedding)    (None, 1, 10)        2671820     ['songs_input[0][0]']            \n",
      "                                                                                                  \n",
      " embedding_users (Embedding)    (None, 1, 10)        834350      ['users_input[0][0]']            \n",
      "                                                                                                  \n",
      " flatten_songs (Flatten)        (None, 10)           0           ['embedding_songs[0][0]']        \n",
      "                                                                                                  \n",
      " flatten_users (Flatten)        (None, 10)           0           ['embedding_users[0][0]']        \n",
      "                                                                                                  \n",
      " concatenate_layer (Concatenate  (None, 20)          0           ['flatten_songs[0][0]',          \n",
      " )                                                                'flatten_users[0][0]']          \n",
      "                                                                                                  \n",
      " hidden_layer_1 (Dense)         (None, 16)           336         ['concatenate_layer[0][0]']      \n",
      "                                                                                                  \n",
      " hidden_layer_2 (Dense)         (None, 8)            136         ['hidden_layer_1[0][0]']         \n",
      "                                                                                                  \n",
      " output_layer (Dense)           (None, 1)            9           ['hidden_layer_2[0][0]']         \n",
      "                                                                                                  \n",
      "==================================================================================================\n",
      "Total params: 3,506,651\n",
      "Trainable params: 3,506,651\n",
      "Non-trainable params: 0\n",
      "__________________________________________________________________________________________________\n"
     ]
    }
   ],
   "source": [
    "#Embedding layer for songs\n",
    "input_songs = Input(shape=(song_input_dim,), name='songs_input')\n",
    "embedding_songs = Embedding(input_dim=num_songs+1, output_dim=10, name='embedding_songs')(input_songs)\n",
    "flatten_songs = Flatten(name='flatten_songs')(embedding_songs)\n",
    "\n",
    "#Embedding layer for users\n",
    "input_users = Input(shape=(user_input_dim,), name='users_input')\n",
    "embedding_users = Embedding(input_dim=num_users+1, output_dim=10, name='embedding_users')(input_users)\n",
    "flatten_users = Flatten(name='flatten_users')(embedding_users)\n",
    "\n",
    "\n",
    "#Concatenation and Dense layers\n",
    "concat_layer = Concatenate(name='concatenate_layer')([flatten_songs, flatten_users])\n",
    "hidden_layer_1 = Dense(16, activation='relu', name='hidden_layer_1')(concat_layer)\n",
    "hidden_layer_2 = Dense(8, activation='relu', name='hidden_layer_2')(hidden_layer_1)\n",
    "output_layer = Dense(1, name='output_layer')(hidden_layer_2)\n",
    "\n",
    "#Creating model\n",
    "model1 = Model(inputs=[input_songs, input_users], outputs=output_layer)\n",
    "\n",
    "#Model compilation\n",
    "optimizer = Adam(lr=0.001, epsilon=1e-6, amsgrad=True)\n",
    "model1.compile(optimizer=optimizer, loss='mse', metrics=[tf.keras.metrics.RootMeanSquaredError()])\n",
    "model1.summary()"
   ]
  },
  {
   "cell_type": "code",
   "execution_count": 29,
   "metadata": {},
   "outputs": [
    {
     "name": "stdout",
     "output_type": "stream",
     "text": [
      "Epoch 1/50\n",
      "4587/4587 [==============================] - 61s 13ms/step - loss: 1.5822 - root_mean_squared_error: 1.2578 - val_loss: 1.4590 - val_root_mean_squared_error: 1.2079\n",
      "Epoch 2/50\n",
      "4587/4587 [==============================] - 58s 13ms/step - loss: 1.3591 - root_mean_squared_error: 1.1658 - val_loss: 1.4744 - val_root_mean_squared_error: 1.2142\n",
      "Epoch 3/50\n",
      "4587/4587 [==============================] - 83s 18ms/step - loss: 1.2614 - root_mean_squared_error: 1.1231 - val_loss: 1.5215 - val_root_mean_squared_error: 1.2335\n"
     ]
    }
   ],
   "source": [
    "#Training model\n",
    "\n",
    "early_stopping = EarlyStopping(monitor = 'val_loss', patience = 2)\n",
    "\n",
    "history = model1.fit(\n",
    "  [train_song_ids, train_user_ids], train_output, #\n",
    "  batch_size=256, \n",
    "  epochs=50, \n",
    "  verbose=1,\n",
    "  callbacks = [early_stopping],\n",
    "  validation_split=0.2\n",
    ")"
   ]
  },
  {
   "cell_type": "code",
   "execution_count": 30,
   "metadata": {
    "scrolled": false
   },
   "outputs": [
    {
     "name": "stdout",
     "output_type": "stream",
     "text": [
      "11466/11466 [==============================] - 13s 1ms/step\n",
      "Test RMSE: 1.2350012782205022\n",
      "Test MSE: 1.5252329111099243\n",
      "Test MAE: 1.2350032329559326\n"
     ]
    }
   ],
   "source": [
    "from sklearn.metrics import mean_squared_error,r2_score\n",
    "# Predict on test set\n",
    "y_pred = model1.predict([test_song_ids,test_user_ids])\n",
    "\n",
    "# Evaluate model\n",
    "score = model1.evaluate([test_song_ids,test_user_ids], test_output, verbose=0)\n",
    "rmse = np.sqrt(mean_squared_error(test_output, y_pred))\n",
    "r2 = r2_score(test_output, y_pred)\n",
    "\n",
    "print('Test RMSE:', rmse)\n",
    "print('Test MSE:', score[0])\n",
    "print('Test MAE:', score[1])\n"
   ]
  },
  {
   "cell_type": "markdown",
   "metadata": {},
   "source": [
    "### METADATA"
   ]
  },
  {
   "cell_type": "code",
   "execution_count": 31,
   "metadata": {
    "colab": {
     "base_uri": "https://localhost:8080/",
     "height": 513
    },
    "id": "HO3RK5m6i8eW",
    "outputId": "f9faaf4c-b214-4e0b-bff8-fa3007f5f0a4",
    "scrolled": true
   },
   "outputs": [
    {
     "data": {
      "text/html": [
       "<div>\n",
       "<style scoped>\n",
       "    .dataframe tbody tr th:only-of-type {\n",
       "        vertical-align: middle;\n",
       "    }\n",
       "\n",
       "    .dataframe tbody tr th {\n",
       "        vertical-align: top;\n",
       "    }\n",
       "\n",
       "    .dataframe thead th {\n",
       "        text-align: right;\n",
       "    }\n",
       "</style>\n",
       "<table border=\"1\" class=\"dataframe\">\n",
       "  <thead>\n",
       "    <tr style=\"text-align: right;\">\n",
       "      <th></th>\n",
       "      <th>track_id</th>\n",
       "      <th>title</th>\n",
       "      <th>song_id</th>\n",
       "      <th>release</th>\n",
       "      <th>artist_id</th>\n",
       "      <th>artist_mbid</th>\n",
       "      <th>artist_name</th>\n",
       "      <th>duration</th>\n",
       "      <th>artist_familiarity</th>\n",
       "      <th>artist_hotttnesss</th>\n",
       "      <th>year</th>\n",
       "      <th>track_7digitalid</th>\n",
       "      <th>shs_perf</th>\n",
       "      <th>shs_work</th>\n",
       "    </tr>\n",
       "  </thead>\n",
       "  <tbody>\n",
       "    <tr>\n",
       "      <th>0</th>\n",
       "      <td>TRMMMYQ128F932D901</td>\n",
       "      <td>Silent Night</td>\n",
       "      <td>SOQMMHC12AB0180CB8</td>\n",
       "      <td>Monster Ballads X-Mas</td>\n",
       "      <td>ARYZTJS1187B98C555</td>\n",
       "      <td>357ff05d-848a-44cf-b608-cb34b5701ae5</td>\n",
       "      <td>Faster Pussy cat</td>\n",
       "      <td>252.05506</td>\n",
       "      <td>0.649822</td>\n",
       "      <td>0.394032</td>\n",
       "      <td>2003</td>\n",
       "      <td>7032331</td>\n",
       "      <td>-1</td>\n",
       "      <td>0</td>\n",
       "    </tr>\n",
       "    <tr>\n",
       "      <th>1</th>\n",
       "      <td>TRMMMKD128F425225D</td>\n",
       "      <td>Tanssi vaan</td>\n",
       "      <td>SOVFVAK12A8C1350D9</td>\n",
       "      <td>Karkuteillä</td>\n",
       "      <td>ARMVN3U1187FB3A1EB</td>\n",
       "      <td>8d7ef530-a6fd-4f8f-b2e2-74aec765e0f9</td>\n",
       "      <td>Karkkiautomaatti</td>\n",
       "      <td>156.55138</td>\n",
       "      <td>0.439604</td>\n",
       "      <td>0.356992</td>\n",
       "      <td>1995</td>\n",
       "      <td>1514808</td>\n",
       "      <td>-1</td>\n",
       "      <td>0</td>\n",
       "    </tr>\n",
       "    <tr>\n",
       "      <th>2</th>\n",
       "      <td>TRMMMRX128F93187D9</td>\n",
       "      <td>No One Could Ever</td>\n",
       "      <td>SOGTUKN12AB017F4F1</td>\n",
       "      <td>Butter</td>\n",
       "      <td>ARGEKB01187FB50750</td>\n",
       "      <td>3d403d44-36ce-465c-ad43-ae877e65adc4</td>\n",
       "      <td>Hudson Mohawke</td>\n",
       "      <td>138.97098</td>\n",
       "      <td>0.643681</td>\n",
       "      <td>0.437504</td>\n",
       "      <td>2006</td>\n",
       "      <td>6945353</td>\n",
       "      <td>-1</td>\n",
       "      <td>0</td>\n",
       "    </tr>\n",
       "    <tr>\n",
       "      <th>3</th>\n",
       "      <td>TRMMMCH128F425532C</td>\n",
       "      <td>Si Vos Querés</td>\n",
       "      <td>SOBNYVR12A8C13558C</td>\n",
       "      <td>De Culo</td>\n",
       "      <td>ARNWYLR1187B9B2F9C</td>\n",
       "      <td>12be7648-7094-495f-90e6-df4189d68615</td>\n",
       "      <td>Yerba Brava</td>\n",
       "      <td>145.05751</td>\n",
       "      <td>0.448501</td>\n",
       "      <td>0.372349</td>\n",
       "      <td>2003</td>\n",
       "      <td>2168257</td>\n",
       "      <td>-1</td>\n",
       "      <td>0</td>\n",
       "    </tr>\n",
       "    <tr>\n",
       "      <th>4</th>\n",
       "      <td>TRMMMWA128F426B589</td>\n",
       "      <td>Tangle Of Aspens</td>\n",
       "      <td>SOHSBXH12A8C13B0DF</td>\n",
       "      <td>Rene Ablaze Presents Winter Sessions</td>\n",
       "      <td>AREQDTE1269FB37231</td>\n",
       "      <td>NaN</td>\n",
       "      <td>Der Mystic</td>\n",
       "      <td>514.29832</td>\n",
       "      <td>0.000000</td>\n",
       "      <td>0.000000</td>\n",
       "      <td>0</td>\n",
       "      <td>2264873</td>\n",
       "      <td>-1</td>\n",
       "      <td>0</td>\n",
       "    </tr>\n",
       "  </tbody>\n",
       "</table>\n",
       "</div>"
      ],
      "text/plain": [
       "             track_id              title             song_id  \\\n",
       "0  TRMMMYQ128F932D901       Silent Night  SOQMMHC12AB0180CB8   \n",
       "1  TRMMMKD128F425225D        Tanssi vaan  SOVFVAK12A8C1350D9   \n",
       "2  TRMMMRX128F93187D9  No One Could Ever  SOGTUKN12AB017F4F1   \n",
       "3  TRMMMCH128F425532C      Si Vos Querés  SOBNYVR12A8C13558C   \n",
       "4  TRMMMWA128F426B589   Tangle Of Aspens  SOHSBXH12A8C13B0DF   \n",
       "\n",
       "                                release           artist_id  \\\n",
       "0                 Monster Ballads X-Mas  ARYZTJS1187B98C555   \n",
       "1                           Karkuteillä  ARMVN3U1187FB3A1EB   \n",
       "2                                Butter  ARGEKB01187FB50750   \n",
       "3                               De Culo  ARNWYLR1187B9B2F9C   \n",
       "4  Rene Ablaze Presents Winter Sessions  AREQDTE1269FB37231   \n",
       "\n",
       "                            artist_mbid       artist_name   duration  \\\n",
       "0  357ff05d-848a-44cf-b608-cb34b5701ae5  Faster Pussy cat  252.05506   \n",
       "1  8d7ef530-a6fd-4f8f-b2e2-74aec765e0f9  Karkkiautomaatti  156.55138   \n",
       "2  3d403d44-36ce-465c-ad43-ae877e65adc4    Hudson Mohawke  138.97098   \n",
       "3  12be7648-7094-495f-90e6-df4189d68615       Yerba Brava  145.05751   \n",
       "4                                   NaN        Der Mystic  514.29832   \n",
       "\n",
       "   artist_familiarity  artist_hotttnesss  year  track_7digitalid  shs_perf  \\\n",
       "0            0.649822           0.394032  2003           7032331        -1   \n",
       "1            0.439604           0.356992  1995           1514808        -1   \n",
       "2            0.643681           0.437504  2006           6945353        -1   \n",
       "3            0.448501           0.372349  2003           2168257        -1   \n",
       "4            0.000000           0.000000     0           2264873        -1   \n",
       "\n",
       "   shs_work  \n",
       "0         0  \n",
       "1         0  \n",
       "2         0  \n",
       "3         0  \n",
       "4         0  "
      ]
     },
     "execution_count": 31,
     "metadata": {},
     "output_type": "execute_result"
    }
   ],
   "source": [
    "# Convert the table to a Pandas DataFrame\n",
    "metadata_table_df = pd.read_csv('../datasets/track_metadata.csv')\n",
    "metadata_table_df.head()"
   ]
  },
  {
   "cell_type": "code",
   "execution_count": 32,
   "metadata": {},
   "outputs": [
    {
     "data": {
      "text/html": [
       "<div>\n",
       "<style scoped>\n",
       "    .dataframe tbody tr th:only-of-type {\n",
       "        vertical-align: middle;\n",
       "    }\n",
       "\n",
       "    .dataframe tbody tr th {\n",
       "        vertical-align: top;\n",
       "    }\n",
       "\n",
       "    .dataframe thead th {\n",
       "        text-align: right;\n",
       "    }\n",
       "</style>\n",
       "<table border=\"1\" class=\"dataframe\">\n",
       "  <thead>\n",
       "    <tr style=\"text-align: right;\">\n",
       "      <th></th>\n",
       "      <th>song_id</th>\n",
       "      <th>track_id</th>\n",
       "      <th>title</th>\n",
       "      <th>release</th>\n",
       "      <th>artist_id</th>\n",
       "      <th>artist_mbid</th>\n",
       "      <th>artist_name</th>\n",
       "      <th>duration</th>\n",
       "      <th>artist_familiarity</th>\n",
       "      <th>artist_hotttnesss</th>\n",
       "      <th>year</th>\n",
       "      <th>track_7digitalid</th>\n",
       "      <th>shs_perf</th>\n",
       "      <th>shs_work</th>\n",
       "    </tr>\n",
       "  </thead>\n",
       "  <tbody>\n",
       "    <tr>\n",
       "      <th>0</th>\n",
       "      <td>SOAKIMP12A8C130995</td>\n",
       "      <td>TRIQAUQ128F42435AD</td>\n",
       "      <td>The Cove</td>\n",
       "      <td>Thicker Than Water</td>\n",
       "      <td>ARC8CQZ1187B98DECA</td>\n",
       "      <td>ff6e677f-91dd-4986-a174-8db0474b1799</td>\n",
       "      <td>Jack Johnson</td>\n",
       "      <td>112.63955</td>\n",
       "      <td>0.832012</td>\n",
       "      <td>0.677482</td>\n",
       "      <td>0</td>\n",
       "      <td>2093263</td>\n",
       "      <td>-1</td>\n",
       "      <td>0</td>\n",
       "    </tr>\n",
       "    <tr>\n",
       "      <th>1</th>\n",
       "      <td>SOAPDEY12A81C210A9</td>\n",
       "      <td>TRIRLYL128F42539D1</td>\n",
       "      <td>Nothing from Nothing</td>\n",
       "      <td>To Die For</td>\n",
       "      <td>ARHYUI71187FB48366</td>\n",
       "      <td>8a7cf497-dc5c-4523-932d-3fcbc9a69d38</td>\n",
       "      <td>Billy Preston</td>\n",
       "      <td>153.59955</td>\n",
       "      <td>0.580555</td>\n",
       "      <td>0.482492</td>\n",
       "      <td>1974</td>\n",
       "      <td>3072847</td>\n",
       "      <td>-1</td>\n",
       "      <td>0</td>\n",
       "    </tr>\n",
       "    <tr>\n",
       "      <th>2</th>\n",
       "      <td>SOBBMDR12A8C13253B</td>\n",
       "      <td>TRMHBXZ128F4238406</td>\n",
       "      <td>Entre Dos Aguas</td>\n",
       "      <td>Flamenco Para Niños</td>\n",
       "      <td>ARC1SF21187FB51D0F</td>\n",
       "      <td>7bc8dd01-35ea-4b18-a64d-3a364dc76a52</td>\n",
       "      <td>Paco De Lucia</td>\n",
       "      <td>358.24281</td>\n",
       "      <td>0.633119</td>\n",
       "      <td>0.417718</td>\n",
       "      <td>1976</td>\n",
       "      <td>2631392</td>\n",
       "      <td>-1</td>\n",
       "      <td>0</td>\n",
       "    </tr>\n",
       "    <tr>\n",
       "      <th>3</th>\n",
       "      <td>SOBFNSP12AF72A0E22</td>\n",
       "      <td>TRYQMNI128F147C1C7</td>\n",
       "      <td>Under Cold Blue Stars</td>\n",
       "      <td>Under Cold Blue Stars</td>\n",
       "      <td>ARMS97V1187B99DD98</td>\n",
       "      <td>023d64c9-93db-4a20-8c5c-2efa1a53481a</td>\n",
       "      <td>Josh Rouse</td>\n",
       "      <td>266.34404</td>\n",
       "      <td>0.675339</td>\n",
       "      <td>0.509058</td>\n",
       "      <td>2002</td>\n",
       "      <td>413957</td>\n",
       "      <td>-1</td>\n",
       "      <td>0</td>\n",
       "    </tr>\n",
       "    <tr>\n",
       "      <th>4</th>\n",
       "      <td>SOBFOVM12A58A7D494</td>\n",
       "      <td>TRAHZNE128F9341B86</td>\n",
       "      <td>Riot Radio (Soundtrack Version)</td>\n",
       "      <td>Nick &amp; Norah's Infinite Playlist - Original Mo...</td>\n",
       "      <td>ARI4V0E1187B9B6FC2</td>\n",
       "      <td>87ebbe67-3910-4521-a418-4fe53eb912b7</td>\n",
       "      <td>The Dead 60s</td>\n",
       "      <td>141.42649</td>\n",
       "      <td>0.650281</td>\n",
       "      <td>0.451749</td>\n",
       "      <td>0</td>\n",
       "      <td>5674853</td>\n",
       "      <td>-1</td>\n",
       "      <td>0</td>\n",
       "    </tr>\n",
       "  </tbody>\n",
       "</table>\n",
       "</div>"
      ],
      "text/plain": [
       "              song_id            track_id                            title  \\\n",
       "0  SOAKIMP12A8C130995  TRIQAUQ128F42435AD                         The Cove   \n",
       "1  SOAPDEY12A81C210A9  TRIRLYL128F42539D1             Nothing from Nothing   \n",
       "2  SOBBMDR12A8C13253B  TRMHBXZ128F4238406                  Entre Dos Aguas   \n",
       "3  SOBFNSP12AF72A0E22  TRYQMNI128F147C1C7            Under Cold Blue Stars   \n",
       "4  SOBFOVM12A58A7D494  TRAHZNE128F9341B86  Riot Radio (Soundtrack Version)   \n",
       "\n",
       "                                             release           artist_id  \\\n",
       "0                                 Thicker Than Water  ARC8CQZ1187B98DECA   \n",
       "1                                         To Die For  ARHYUI71187FB48366   \n",
       "2                                Flamenco Para Niños  ARC1SF21187FB51D0F   \n",
       "3                              Under Cold Blue Stars  ARMS97V1187B99DD98   \n",
       "4  Nick & Norah's Infinite Playlist - Original Mo...  ARI4V0E1187B9B6FC2   \n",
       "\n",
       "                            artist_mbid    artist_name   duration  \\\n",
       "0  ff6e677f-91dd-4986-a174-8db0474b1799   Jack Johnson  112.63955   \n",
       "1  8a7cf497-dc5c-4523-932d-3fcbc9a69d38  Billy Preston  153.59955   \n",
       "2  7bc8dd01-35ea-4b18-a64d-3a364dc76a52  Paco De Lucia  358.24281   \n",
       "3  023d64c9-93db-4a20-8c5c-2efa1a53481a     Josh Rouse  266.34404   \n",
       "4  87ebbe67-3910-4521-a418-4fe53eb912b7   The Dead 60s  141.42649   \n",
       "\n",
       "   artist_familiarity  artist_hotttnesss  year  track_7digitalid  shs_perf  \\\n",
       "0            0.832012           0.677482     0           2093263        -1   \n",
       "1            0.580555           0.482492  1974           3072847        -1   \n",
       "2            0.633119           0.417718  1976           2631392        -1   \n",
       "3            0.675339           0.509058  2002            413957        -1   \n",
       "4            0.650281           0.451749     0           5674853        -1   \n",
       "\n",
       "   shs_work  \n",
       "0         0  \n",
       "1         0  \n",
       "2         0  \n",
       "3         0  \n",
       "4         0  "
      ]
     },
     "execution_count": 32,
     "metadata": {},
     "output_type": "execute_result"
    }
   ],
   "source": [
    "song_ids = taste_profile[\"song_id\"].unique().astype(str)\n",
    "metadata_df = pd.merge(pd.DataFrame(song_ids,columns=['song_id']),metadata_table_df,on=\"song_id\",how='left')\n",
    "metadata_df.head()"
   ]
  },
  {
   "cell_type": "markdown",
   "metadata": {},
   "source": [
    "### PREPROCESSING ON METADATA"
   ]
  },
  {
   "cell_type": "code",
   "execution_count": 33,
   "metadata": {},
   "outputs": [],
   "source": [
    "metadata_df.replace(\"\",np.nan,inplace=True)"
   ]
  },
  {
   "cell_type": "code",
   "execution_count": 34,
   "metadata": {
    "scrolled": true
   },
   "outputs": [
    {
     "data": {
      "text/plain": [
       "song_id                  0\n",
       "track_id                 0\n",
       "title                    2\n",
       "release                  0\n",
       "artist_id                0\n",
       "artist_mbid           4279\n",
       "artist_name              0\n",
       "duration                 0\n",
       "artist_familiarity       0\n",
       "artist_hotttnesss        0\n",
       "year                     0\n",
       "track_7digitalid         0\n",
       "shs_perf                 0\n",
       "shs_work                 0\n",
       "dtype: int64"
      ]
     },
     "execution_count": 34,
     "metadata": {},
     "output_type": "execute_result"
    }
   ],
   "source": [
    "metadata_df.isna().sum()"
   ]
  },
  {
   "cell_type": "code",
   "execution_count": 35,
   "metadata": {},
   "outputs": [
    {
     "data": {
      "text/plain": [
       "song_id                  0\n",
       "track_id                 0\n",
       "title                    0\n",
       "release                  0\n",
       "artist_id                0\n",
       "artist_mbid           4279\n",
       "artist_name              0\n",
       "duration                 0\n",
       "artist_familiarity       0\n",
       "artist_hotttnesss        0\n",
       "year                     0\n",
       "track_7digitalid         0\n",
       "shs_perf                 0\n",
       "shs_work                 0\n",
       "dtype: int64"
      ]
     },
     "execution_count": 35,
     "metadata": {},
     "output_type": "execute_result"
    }
   ],
   "source": [
    "values = {'song_hotttnesss': 0,'artist_familiarity': 0, 'title': \"Unknown\"}\n",
    "metadata_df.fillna(value= values,inplace=True)\n",
    "metadata_df.isna().sum()"
   ]
  },
  {
   "cell_type": "code",
   "execution_count": 36,
   "metadata": {
    "colab": {
     "base_uri": "https://localhost:8080/"
    },
    "id": "G5jw7cC2n7Bi",
    "outputId": "49422b5b-804a-4f79-b12f-651a5ccb08de"
   },
   "outputs": [
    {
     "data": {
      "text/plain": [
       "(Index(['song_id', 'track_id', 'title', 'release', 'artist_id', 'artist_mbid',\n",
       "        'artist_name', 'duration', 'artist_familiarity', 'artist_hotttnesss',\n",
       "        'year', 'track_7digitalid', 'shs_perf', 'shs_work'],\n",
       "       dtype='object'),\n",
       " song_id                object\n",
       " track_id               object\n",
       " title                  object\n",
       " release                object\n",
       " artist_id              object\n",
       " artist_mbid            object\n",
       " artist_name            object\n",
       " duration              float64\n",
       " artist_familiarity    float64\n",
       " artist_hotttnesss     float64\n",
       " year                    int64\n",
       " track_7digitalid        int64\n",
       " shs_perf                int64\n",
       " shs_work                int64\n",
       " dtype: object)"
      ]
     },
     "execution_count": 36,
     "metadata": {},
     "output_type": "execute_result"
    }
   ],
   "source": [
    "metadata_df.columns,metadata_df.dtypes"
   ]
  },
  {
   "cell_type": "code",
   "execution_count": 37,
   "metadata": {
    "scrolled": true
   },
   "outputs": [
    {
     "data": {
      "text/plain": [
       "Index(['song_id', 'track_id', 'title', 'release', 'artist_id', 'artist_mbid',\n",
       "       'artist_name', 'duration', 'artist_familiarity', 'artist_hotttnesss',\n",
       "       'year', 'track_7digitalid', 'shs_perf', 'shs_work'],\n",
       "      dtype='object')"
      ]
     },
     "execution_count": 37,
     "metadata": {},
     "output_type": "execute_result"
    }
   ],
   "source": [
    "metadata_df.columns"
   ]
  },
  {
   "cell_type": "code",
   "execution_count": null,
   "metadata": {},
   "outputs": [],
   "source": []
  },
  {
   "cell_type": "code",
   "execution_count": 38,
   "metadata": {},
   "outputs": [],
   "source": [
    "def get_recommendations(user_id,model,taste_profile,metadata_df,data_encoder_user, data_encoder_song):\n",
    "    song_id_df = pd.DataFrame(taste_profile.song_id.unique(),columns = ['song_id'])\n",
    "    user_song_df = song_id_df.copy()\n",
    "    user_song_df['user_id'] = user_id\n",
    "    encoded_user = data_encoder_user.transform(user_song_df.user_id)\n",
    "    encoded_song = data_encoder_song.transform(user_song_df.song_id)\n",
    "    user_song_df['user_id'] = encoded_user\n",
    "    user_song_df['song_id']= encoded_song\n",
    "    listened_songs = list(final_data_df[final_data_df.user_id == user_id].song_id.unique())\n",
    "    songs_to_predict = np.setdiff1d(song_id_df, listened_songs)\n",
    "    data = pd.merge(user_song_df, final_data_df.drop(columns = 'user_id').drop_duplicates(), on =['song_id'], how = 'left')\n",
    "\n",
    "    data['Predictions'] = model.predict([data.song_id, data.user_id])\n",
    "    data['user_id'] = data_encoder_user.inverse_transform(data['user_id'])\n",
    "    data['song_id'] =data_encoder_song.inverse_transform(data['song_id'])\n",
    "    top_songs_rec = data[['user_id','song_id','Predictions']].sort_values(by = 'Predictions',ascending = False).song_id[:20].values\n",
    "    song_info = metadata_df[metadata_df['song_id'].isin(top_songs_rec)][[ 'title', 'artist_name', 'duration']]\n",
    "    return song_info.reset_index(drop=True)"
   ]
  },
  {
   "cell_type": "code",
   "execution_count": 39,
   "metadata": {
    "scrolled": true
   },
   "outputs": [
    {
     "name": "stdout",
     "output_type": "stream",
     "text": [
      "12139/12139 [==============================] - 15s 1ms/step\n"
     ]
    },
    {
     "data": {
      "text/html": [
       "<div>\n",
       "<style scoped>\n",
       "    .dataframe tbody tr th:only-of-type {\n",
       "        vertical-align: middle;\n",
       "    }\n",
       "\n",
       "    .dataframe tbody tr th {\n",
       "        vertical-align: top;\n",
       "    }\n",
       "\n",
       "    .dataframe thead th {\n",
       "        text-align: right;\n",
       "    }\n",
       "</style>\n",
       "<table border=\"1\" class=\"dataframe\">\n",
       "  <thead>\n",
       "    <tr style=\"text-align: right;\">\n",
       "      <th></th>\n",
       "      <th>title</th>\n",
       "      <th>artist_name</th>\n",
       "      <th>duration</th>\n",
       "    </tr>\n",
       "  </thead>\n",
       "  <tbody>\n",
       "    <tr>\n",
       "      <th>0</th>\n",
       "      <td>Decades Of Despair</td>\n",
       "      <td>Carnal Forge</td>\n",
       "      <td>182.33424</td>\n",
       "    </tr>\n",
       "    <tr>\n",
       "      <th>1</th>\n",
       "      <td>Brother</td>\n",
       "      <td>Keisha White</td>\n",
       "      <td>251.42812</td>\n",
       "    </tr>\n",
       "    <tr>\n",
       "      <th>2</th>\n",
       "      <td>Rise Above (Live) (Album Version)</td>\n",
       "      <td>Misfits</td>\n",
       "      <td>164.46649</td>\n",
       "    </tr>\n",
       "    <tr>\n",
       "      <th>3</th>\n",
       "      <td>Tennessee (Pirate Radio Mix)</td>\n",
       "      <td>ARRESTED DEVELOPMENT</td>\n",
       "      <td>371.59138</td>\n",
       "    </tr>\n",
       "  </tbody>\n",
       "</table>\n",
       "</div>"
      ],
      "text/plain": [
       "                               title           artist_name   duration\n",
       "0                 Decades Of Despair          Carnal Forge  182.33424\n",
       "1                            Brother          Keisha White  251.42812\n",
       "2  Rise Above (Live) (Album Version)               Misfits  164.46649\n",
       "3       Tennessee (Pirate Radio Mix)  ARRESTED DEVELOPMENT  371.59138"
      ]
     },
     "execution_count": 39,
     "metadata": {},
     "output_type": "execute_result"
    }
   ],
   "source": [
    "user_id = 'b80344d063b5ccb3212f76538f3d9e43d87dca9e'\n",
    "get_recommendations(user_id,model1,taste_profile,metadata_df,data_encoder_user, data_encoder_song)"
   ]
  },
  {
   "cell_type": "markdown",
   "metadata": {},
   "source": [
    "### Training on Likeness"
   ]
  },
  {
   "cell_type": "code",
   "execution_count": 47,
   "metadata": {},
   "outputs": [],
   "source": [
    "final_data_df = taste_profile.copy()"
   ]
  },
  {
   "cell_type": "code",
   "execution_count": 48,
   "metadata": {},
   "outputs": [],
   "source": [
    "final_data_df['unencoded_sid'] = final_data_df['song_id']\n",
    "final_data_df['unencoded_uid'] = final_data_df['user_id']"
   ]
  },
  {
   "cell_type": "code",
   "execution_count": 49,
   "metadata": {},
   "outputs": [
    {
     "data": {
      "text/html": [
       "<div>\n",
       "<style scoped>\n",
       "    .dataframe tbody tr th:only-of-type {\n",
       "        vertical-align: middle;\n",
       "    }\n",
       "\n",
       "    .dataframe tbody tr th {\n",
       "        vertical-align: top;\n",
       "    }\n",
       "\n",
       "    .dataframe thead th {\n",
       "        text-align: right;\n",
       "    }\n",
       "</style>\n",
       "<table border=\"1\" class=\"dataframe\">\n",
       "  <thead>\n",
       "    <tr style=\"text-align: right;\">\n",
       "      <th></th>\n",
       "      <th>user_id</th>\n",
       "      <th>song_id</th>\n",
       "      <th>play_count</th>\n",
       "      <th>unencoded_sid</th>\n",
       "      <th>unencoded_uid</th>\n",
       "      <th>total_play_counts</th>\n",
       "      <th>play_count_norm</th>\n",
       "    </tr>\n",
       "  </thead>\n",
       "  <tbody>\n",
       "    <tr>\n",
       "      <th>0</th>\n",
       "      <td>b80344d063b5ccb3212f76538f3d9e43d87dca9e</td>\n",
       "      <td>SOAKIMP12A8C130995</td>\n",
       "      <td>1</td>\n",
       "      <td>SOAKIMP12A8C130995</td>\n",
       "      <td>b80344d063b5ccb3212f76538f3d9e43d87dca9e</td>\n",
       "      <td>134</td>\n",
       "      <td>0.007463</td>\n",
       "    </tr>\n",
       "    <tr>\n",
       "      <th>1</th>\n",
       "      <td>b80344d063b5ccb3212f76538f3d9e43d87dca9e</td>\n",
       "      <td>SOAPDEY12A81C210A9</td>\n",
       "      <td>1</td>\n",
       "      <td>SOAPDEY12A81C210A9</td>\n",
       "      <td>b80344d063b5ccb3212f76538f3d9e43d87dca9e</td>\n",
       "      <td>134</td>\n",
       "      <td>0.007463</td>\n",
       "    </tr>\n",
       "    <tr>\n",
       "      <th>2</th>\n",
       "      <td>b80344d063b5ccb3212f76538f3d9e43d87dca9e</td>\n",
       "      <td>SOBBMDR12A8C13253B</td>\n",
       "      <td>2</td>\n",
       "      <td>SOBBMDR12A8C13253B</td>\n",
       "      <td>b80344d063b5ccb3212f76538f3d9e43d87dca9e</td>\n",
       "      <td>134</td>\n",
       "      <td>0.014925</td>\n",
       "    </tr>\n",
       "    <tr>\n",
       "      <th>3</th>\n",
       "      <td>b80344d063b5ccb3212f76538f3d9e43d87dca9e</td>\n",
       "      <td>SOBFNSP12AF72A0E22</td>\n",
       "      <td>1</td>\n",
       "      <td>SOBFNSP12AF72A0E22</td>\n",
       "      <td>b80344d063b5ccb3212f76538f3d9e43d87dca9e</td>\n",
       "      <td>134</td>\n",
       "      <td>0.007463</td>\n",
       "    </tr>\n",
       "    <tr>\n",
       "      <th>4</th>\n",
       "      <td>b80344d063b5ccb3212f76538f3d9e43d87dca9e</td>\n",
       "      <td>SOBFOVM12A58A7D494</td>\n",
       "      <td>1</td>\n",
       "      <td>SOBFOVM12A58A7D494</td>\n",
       "      <td>b80344d063b5ccb3212f76538f3d9e43d87dca9e</td>\n",
       "      <td>134</td>\n",
       "      <td>0.007463</td>\n",
       "    </tr>\n",
       "  </tbody>\n",
       "</table>\n",
       "</div>"
      ],
      "text/plain": [
       "                                    user_id             song_id  play_count  \\\n",
       "0  b80344d063b5ccb3212f76538f3d9e43d87dca9e  SOAKIMP12A8C130995           1   \n",
       "1  b80344d063b5ccb3212f76538f3d9e43d87dca9e  SOAPDEY12A81C210A9           1   \n",
       "2  b80344d063b5ccb3212f76538f3d9e43d87dca9e  SOBBMDR12A8C13253B           2   \n",
       "3  b80344d063b5ccb3212f76538f3d9e43d87dca9e  SOBFNSP12AF72A0E22           1   \n",
       "4  b80344d063b5ccb3212f76538f3d9e43d87dca9e  SOBFOVM12A58A7D494           1   \n",
       "\n",
       "        unencoded_sid                             unencoded_uid  \\\n",
       "0  SOAKIMP12A8C130995  b80344d063b5ccb3212f76538f3d9e43d87dca9e   \n",
       "1  SOAPDEY12A81C210A9  b80344d063b5ccb3212f76538f3d9e43d87dca9e   \n",
       "2  SOBBMDR12A8C13253B  b80344d063b5ccb3212f76538f3d9e43d87dca9e   \n",
       "3  SOBFNSP12AF72A0E22  b80344d063b5ccb3212f76538f3d9e43d87dca9e   \n",
       "4  SOBFOVM12A58A7D494  b80344d063b5ccb3212f76538f3d9e43d87dca9e   \n",
       "\n",
       "   total_play_counts  play_count_norm  \n",
       "0                134         0.007463  \n",
       "1                134         0.007463  \n",
       "2                134         0.014925  \n",
       "3                134         0.007463  \n",
       "4                134         0.007463  "
      ]
     },
     "execution_count": 49,
     "metadata": {},
     "output_type": "execute_result"
    }
   ],
   "source": [
    "grp_df = final_data_df[['user_id','play_count']].groupby('user_id').sum().reset_index()\n",
    "grp_df.columns = ['user_id','total_play_counts']\n",
    "final_data_df=pd.merge(final_data_df,grp_df, on='user_id',how= 'left')\n",
    "final_data_df['play_count_norm'] = final_data_df['play_count']/final_data_df['total_play_counts'] \n",
    "final_data_df.head()"
   ]
  },
  {
   "cell_type": "code",
   "execution_count": 50,
   "metadata": {},
   "outputs": [],
   "source": [
    "from sklearn.preprocessing import LabelEncoder \n",
    "data_encoder_song = LabelEncoder()\n",
    "data_encoder_user = LabelEncoder()\n",
    "\n",
    "final_data_df['song_id'] = data_encoder_song.fit_transform(final_data_df['song_id'])\n",
    "final_data_df['user_id'] = data_encoder_user.fit_transform(final_data_df['user_id'])"
   ]
  },
  {
   "cell_type": "code",
   "execution_count": 51,
   "metadata": {},
   "outputs": [
    {
     "data": {
      "text/html": [
       "<div>\n",
       "<style scoped>\n",
       "    .dataframe tbody tr th:only-of-type {\n",
       "        vertical-align: middle;\n",
       "    }\n",
       "\n",
       "    .dataframe tbody tr th {\n",
       "        vertical-align: top;\n",
       "    }\n",
       "\n",
       "    .dataframe thead th {\n",
       "        text-align: right;\n",
       "    }\n",
       "</style>\n",
       "<table border=\"1\" class=\"dataframe\">\n",
       "  <thead>\n",
       "    <tr style=\"text-align: right;\">\n",
       "      <th></th>\n",
       "      <th>user_id</th>\n",
       "      <th>song_id</th>\n",
       "      <th>play_count</th>\n",
       "      <th>total_play_counts</th>\n",
       "      <th>play_count_norm</th>\n",
       "    </tr>\n",
       "  </thead>\n",
       "  <tbody>\n",
       "    <tr>\n",
       "      <th>0</th>\n",
       "      <td>29973</td>\n",
       "      <td>3139</td>\n",
       "      <td>1</td>\n",
       "      <td>134</td>\n",
       "      <td>0.007463</td>\n",
       "    </tr>\n",
       "    <tr>\n",
       "      <th>1</th>\n",
       "      <td>29973</td>\n",
       "      <td>4583</td>\n",
       "      <td>1</td>\n",
       "      <td>134</td>\n",
       "      <td>0.007463</td>\n",
       "    </tr>\n",
       "    <tr>\n",
       "      <th>2</th>\n",
       "      <td>29973</td>\n",
       "      <td>8249</td>\n",
       "      <td>2</td>\n",
       "      <td>134</td>\n",
       "      <td>0.014925</td>\n",
       "    </tr>\n",
       "    <tr>\n",
       "      <th>3</th>\n",
       "      <td>29973</td>\n",
       "      <td>9441</td>\n",
       "      <td>1</td>\n",
       "      <td>134</td>\n",
       "      <td>0.007463</td>\n",
       "    </tr>\n",
       "    <tr>\n",
       "      <th>4</th>\n",
       "      <td>29973</td>\n",
       "      <td>9450</td>\n",
       "      <td>1</td>\n",
       "      <td>134</td>\n",
       "      <td>0.007463</td>\n",
       "    </tr>\n",
       "    <tr>\n",
       "      <th>5</th>\n",
       "      <td>29973</td>\n",
       "      <td>12008</td>\n",
       "      <td>1</td>\n",
       "      <td>134</td>\n",
       "      <td>0.007463</td>\n",
       "    </tr>\n",
       "    <tr>\n",
       "      <th>6</th>\n",
       "      <td>29973</td>\n",
       "      <td>13544</td>\n",
       "      <td>2</td>\n",
       "      <td>134</td>\n",
       "      <td>0.014925</td>\n",
       "    </tr>\n",
       "    <tr>\n",
       "      <th>7</th>\n",
       "      <td>29973</td>\n",
       "      <td>14267</td>\n",
       "      <td>1</td>\n",
       "      <td>134</td>\n",
       "      <td>0.007463</td>\n",
       "    </tr>\n",
       "  </tbody>\n",
       "</table>\n",
       "</div>"
      ],
      "text/plain": [
       "   user_id  song_id  play_count  total_play_counts  play_count_norm\n",
       "0    29973     3139           1                134         0.007463\n",
       "1    29973     4583           1                134         0.007463\n",
       "2    29973     8249           2                134         0.014925\n",
       "3    29973     9441           1                134         0.007463\n",
       "4    29973     9450           1                134         0.007463\n",
       "5    29973    12008           1                134         0.007463\n",
       "6    29973    13544           2                134         0.014925\n",
       "7    29973    14267           1                134         0.007463"
      ]
     },
     "execution_count": 51,
     "metadata": {},
     "output_type": "execute_result"
    }
   ],
   "source": [
    "song_dict = dict(zip(final_data_df['unencoded_sid'], final_data_df['song_id']))\n",
    "user_dict = dict(zip(final_data_df['unencoded_uid'], final_data_df['user_id']))\n",
    "final_data_df.drop(columns =['unencoded_sid'], inplace=True)\n",
    "final_data_df.drop(columns =['unencoded_uid'], inplace=True)\n",
    "final_data_df.head(8)"
   ]
  },
  {
   "cell_type": "code",
   "execution_count": null,
   "metadata": {},
   "outputs": [],
   "source": []
  },
  {
   "cell_type": "code",
   "execution_count": 52,
   "metadata": {},
   "outputs": [],
   "source": [
    "# Generate random indices\n",
    "num_samples = len(final_data_df)\n",
    "indices = np.random.permutation(num_samples)\n",
    "\n",
    "# Split indices into train and test\n",
    "train_size = int(0.8 * num_samples)\n",
    "train_indices = indices[:train_size]\n",
    "test_indices = indices[train_size:]\n",
    "\n",
    "# Use indices to index data\n",
    "train_data = final_data_df.iloc[train_indices]\n",
    "test_data = final_data_df.iloc[test_indices]"
   ]
  },
  {
   "cell_type": "code",
   "execution_count": 53,
   "metadata": {},
   "outputs": [],
   "source": [
    "# train_data.song_id= pd.Categorical(train_data.song_id) \n",
    "train_song_ids = train_data.song_id\n",
    "# train_data.user_id= pd.Categorical(train_data.user_id) \n",
    "train_user_ids = train_data.user_id\n",
    "train_output = train_data['play_count_norm']\n",
    "\n",
    "\n",
    "# test_data.song_id= pd.Categorical(test_data.song_id) \n",
    "test_song_ids = test_data.song_id\n",
    "# test_data.user_id= pd.Categorical(test_data.user_id) \n",
    "test_user_ids = test_data.user_id\n",
    "test_output = test_data['play_count_norm']\n"
   ]
  },
  {
   "cell_type": "markdown",
   "metadata": {
    "id": "2L50f8f2V1gE"
   },
   "source": [
    "### 4 Training a Neural Network"
   ]
  },
  {
   "cell_type": "markdown",
   "metadata": {
    "id": "ScHzYu-rV2QA"
   },
   "source": [
    "#### 4.1 Input dimensions for neural network"
   ]
  },
  {
   "cell_type": "code",
   "execution_count": 54,
   "metadata": {
    "colab": {
     "base_uri": "https://localhost:8080/"
    },
    "id": "zdjOpcxl_IbH",
    "outputId": "ee6f9fc7-9209-4093-a3ca-1e588d68b89a"
   },
   "outputs": [
    {
     "data": {
      "text/plain": [
       "(267169, 83440, 1, 1)"
      ]
     },
     "execution_count": 54,
     "metadata": {},
     "output_type": "execute_result"
    }
   ],
   "source": [
    "#nunique() will return the total number of unique items\n",
    "\n",
    "num_songs = len(train_song_ids.unique())+len(test_song_ids.unique()) \n",
    "num_users =  len(train_user_ids.unique())+len(train_user_ids.unique())\n",
    "song_input_dim = 1\n",
    "user_input_dim = 1\n",
    "\n",
    "num_songs,num_users,song_input_dim,user_input_dim"
   ]
  },
  {
   "cell_type": "code",
   "execution_count": 55,
   "metadata": {
    "id": "wMkZo57S-58a"
   },
   "outputs": [],
   "source": [
    "import tensorflow as tf\n",
    "from tensorflow.keras.layers import Dense, Flatten, Input, Embedding, Concatenate, Dropout\n",
    "from tensorflow.keras.callbacks import EarlyStopping\n",
    "from tensorflow.keras.optimizers import Adam\n",
    "import keras\n",
    "from keras.layers import Add, Activation, Lambda, BatchNormalization, Concatenate, Dropout, Input, Embedding, Dot, Reshape, Dense, Flatten\n",
    "from keras import regularizers\n",
    "from keras import Sequential"
   ]
  },
  {
   "cell_type": "code",
   "execution_count": 56,
   "metadata": {},
   "outputs": [
    {
     "name": "stderr",
     "output_type": "stream",
     "text": [
      "WARNING:absl:`lr` is deprecated in Keras optimizer, please use `learning_rate` or use the legacy optimizer, e.g.,tf.keras.optimizers.legacy.Adam.\n"
     ]
    },
    {
     "name": "stdout",
     "output_type": "stream",
     "text": [
      "Model: \"model_1\"\n",
      "__________________________________________________________________________________________________\n",
      " Layer (type)                   Output Shape         Param #     Connected to                     \n",
      "==================================================================================================\n",
      " songs_input (InputLayer)       [(None, 1)]          0           []                               \n",
      "                                                                                                  \n",
      " users_input (InputLayer)       [(None, 1)]          0           []                               \n",
      "                                                                                                  \n",
      " embedding_songs (Embedding)    (None, 1, 10)        2671700     ['songs_input[0][0]']            \n",
      "                                                                                                  \n",
      " embedding_users (Embedding)    (None, 1, 10)        834410      ['users_input[0][0]']            \n",
      "                                                                                                  \n",
      " flatten_songs (Flatten)        (None, 10)           0           ['embedding_songs[0][0]']        \n",
      "                                                                                                  \n",
      " flatten_users (Flatten)        (None, 10)           0           ['embedding_users[0][0]']        \n",
      "                                                                                                  \n",
      " concatenate_layer (Concatenate  (None, 20)          0           ['flatten_songs[0][0]',          \n",
      " )                                                                'flatten_users[0][0]']          \n",
      "                                                                                                  \n",
      " hidden_layer_1 (Dense)         (None, 16)           336         ['concatenate_layer[0][0]']      \n",
      "                                                                                                  \n",
      " hidden_layer_2 (Dense)         (None, 8)            136         ['hidden_layer_1[0][0]']         \n",
      "                                                                                                  \n",
      " output_layer (Dense)           (None, 1)            9           ['hidden_layer_2[0][0]']         \n",
      "                                                                                                  \n",
      "==================================================================================================\n",
      "Total params: 3,506,591\n",
      "Trainable params: 3,506,591\n",
      "Non-trainable params: 0\n",
      "__________________________________________________________________________________________________\n"
     ]
    }
   ],
   "source": [
    "#Embedding layer for songs\n",
    "input_songs = Input(shape=(song_input_dim,), name='songs_input')\n",
    "embedding_songs = Embedding(input_dim=num_songs+1, output_dim=10, name='embedding_songs')(input_songs)\n",
    "flatten_songs = Flatten(name='flatten_songs')(embedding_songs)\n",
    "\n",
    "#Embedding layer for users\n",
    "input_users = Input(shape=(user_input_dim,), name='users_input')\n",
    "embedding_users = Embedding(input_dim=num_users+1, output_dim=10, name='embedding_users')(input_users)\n",
    "flatten_users = Flatten(name='flatten_users')(embedding_users)\n",
    "\n",
    "\n",
    "#Concatenation and Dense layers\n",
    "concat_layer = Concatenate(name='concatenate_layer')([flatten_songs, flatten_users])\n",
    "hidden_layer_1 = Dense(16, activation='relu', name='hidden_layer_1')(concat_layer)\n",
    "hidden_layer_2 = Dense(8, activation='relu', name='hidden_layer_2')(hidden_layer_1)\n",
    "output_layer = Dense(1, name='output_layer')(hidden_layer_2)\n",
    "\n",
    "#Creating model\n",
    "model1 = Model(inputs=[input_songs, input_users], outputs=output_layer)\n",
    "\n",
    "#Model compilation\n",
    "optimizer = Adam(lr=0.001, epsilon=1e-6, amsgrad=True)\n",
    "model1.compile(optimizer=optimizer, loss='mse', metrics=[tf.keras.metrics.RootMeanSquaredError()])\n",
    "model1.summary()"
   ]
  },
  {
   "cell_type": "code",
   "execution_count": 57,
   "metadata": {},
   "outputs": [
    {
     "name": "stdout",
     "output_type": "stream",
     "text": [
      "Epoch 1/50\n",
      "4587/4587 [==============================] - 76s 16ms/step - loss: 6.1422e-04 - root_mean_squared_error: 0.0248 - val_loss: 5.0931e-04 - val_root_mean_squared_error: 0.0226\n",
      "Epoch 2/50\n",
      "4587/4587 [==============================] - 68s 15ms/step - loss: 4.5763e-04 - root_mean_squared_error: 0.0214 - val_loss: 4.9915e-04 - val_root_mean_squared_error: 0.0223\n",
      "Epoch 3/50\n",
      "4587/4587 [==============================] - 68s 15ms/step - loss: 3.9838e-04 - root_mean_squared_error: 0.0200 - val_loss: 5.1342e-04 - val_root_mean_squared_error: 0.0227\n",
      "Epoch 4/50\n",
      "4587/4587 [==============================] - 63s 14ms/step - loss: 3.1897e-04 - root_mean_squared_error: 0.0179 - val_loss: 5.4300e-04 - val_root_mean_squared_error: 0.0233\n"
     ]
    }
   ],
   "source": [
    "#Training model\n",
    "\n",
    "early_stopping = EarlyStopping(monitor = 'val_loss', patience = 2)\n",
    "\n",
    "history = model1.fit(\n",
    "  [train_song_ids, train_user_ids], train_output, #\n",
    "  batch_size=256, \n",
    "  epochs=50, \n",
    "  verbose=1,\n",
    "  callbacks = [early_stopping],\n",
    "  validation_split=0.2\n",
    ")"
   ]
  },
  {
   "cell_type": "code",
   "execution_count": 58,
   "metadata": {
    "scrolled": false
   },
   "outputs": [
    {
     "name": "stdout",
     "output_type": "stream",
     "text": [
      "11466/11466 [==============================] - 16s 1ms/step\n",
      "Test mae: 0.10702499559895497\n",
      "Test MSE: 0.0005458444938994944\n",
      "Test MAE: 0.02336331456899643\n"
     ]
    }
   ],
   "source": [
    "from sklearn.metrics import mean_squared_error,r2_score\n",
    "# Predict on test set\n",
    "y_pred = model1.predict([test_song_ids,test_user_ids])\n",
    "from sklearn.metrics import mean_absolute_error, mean_squared_error,r2_score\n",
    "mae = np.sqrt(mean_absolute_error(test_output, y_pred))\n",
    "\n",
    "# Evaluate model\n",
    "score = model1.evaluate([test_song_ids,test_user_ids], test_output, verbose=0)\n",
    "rmse = np.sqrt(mean_squared_error(test_output, y_pred))\n",
    "r2 = r2_score(test_output, y_pred)\n",
    "\n",
    "print('Test mae:',mae)\n",
    "print('Test rmse:',rmse)\n",
    "print('Test MSE:', score[0])\n",
    "print('Test MAE:', score[1])\n"
   ]
  },
  {
   "cell_type": "code",
   "execution_count": 67,
   "metadata": {},
   "outputs": [
    {
     "name": "stdout",
     "output_type": "stream",
     "text": [
      "Test mae: 0.0233632893424123\n"
     ]
    }
   ],
   "source": [
    "print('Test mae:',rmse)\n"
   ]
  },
  {
   "cell_type": "markdown",
   "metadata": {},
   "source": [
    "### METADATA"
   ]
  },
  {
   "cell_type": "code",
   "execution_count": 59,
   "metadata": {
    "colab": {
     "base_uri": "https://localhost:8080/",
     "height": 513
    },
    "id": "HO3RK5m6i8eW",
    "outputId": "f9faaf4c-b214-4e0b-bff8-fa3007f5f0a4",
    "scrolled": true
   },
   "outputs": [
    {
     "data": {
      "text/html": [
       "<div>\n",
       "<style scoped>\n",
       "    .dataframe tbody tr th:only-of-type {\n",
       "        vertical-align: middle;\n",
       "    }\n",
       "\n",
       "    .dataframe tbody tr th {\n",
       "        vertical-align: top;\n",
       "    }\n",
       "\n",
       "    .dataframe thead th {\n",
       "        text-align: right;\n",
       "    }\n",
       "</style>\n",
       "<table border=\"1\" class=\"dataframe\">\n",
       "  <thead>\n",
       "    <tr style=\"text-align: right;\">\n",
       "      <th></th>\n",
       "      <th>track_id</th>\n",
       "      <th>title</th>\n",
       "      <th>song_id</th>\n",
       "      <th>release</th>\n",
       "      <th>artist_id</th>\n",
       "      <th>artist_mbid</th>\n",
       "      <th>artist_name</th>\n",
       "      <th>duration</th>\n",
       "      <th>artist_familiarity</th>\n",
       "      <th>artist_hotttnesss</th>\n",
       "      <th>year</th>\n",
       "      <th>track_7digitalid</th>\n",
       "      <th>shs_perf</th>\n",
       "      <th>shs_work</th>\n",
       "    </tr>\n",
       "  </thead>\n",
       "  <tbody>\n",
       "    <tr>\n",
       "      <th>0</th>\n",
       "      <td>TRMMMYQ128F932D901</td>\n",
       "      <td>Silent Night</td>\n",
       "      <td>SOQMMHC12AB0180CB8</td>\n",
       "      <td>Monster Ballads X-Mas</td>\n",
       "      <td>ARYZTJS1187B98C555</td>\n",
       "      <td>357ff05d-848a-44cf-b608-cb34b5701ae5</td>\n",
       "      <td>Faster Pussy cat</td>\n",
       "      <td>252.05506</td>\n",
       "      <td>0.649822</td>\n",
       "      <td>0.394032</td>\n",
       "      <td>2003</td>\n",
       "      <td>7032331</td>\n",
       "      <td>-1</td>\n",
       "      <td>0</td>\n",
       "    </tr>\n",
       "    <tr>\n",
       "      <th>1</th>\n",
       "      <td>TRMMMKD128F425225D</td>\n",
       "      <td>Tanssi vaan</td>\n",
       "      <td>SOVFVAK12A8C1350D9</td>\n",
       "      <td>Karkuteillä</td>\n",
       "      <td>ARMVN3U1187FB3A1EB</td>\n",
       "      <td>8d7ef530-a6fd-4f8f-b2e2-74aec765e0f9</td>\n",
       "      <td>Karkkiautomaatti</td>\n",
       "      <td>156.55138</td>\n",
       "      <td>0.439604</td>\n",
       "      <td>0.356992</td>\n",
       "      <td>1995</td>\n",
       "      <td>1514808</td>\n",
       "      <td>-1</td>\n",
       "      <td>0</td>\n",
       "    </tr>\n",
       "    <tr>\n",
       "      <th>2</th>\n",
       "      <td>TRMMMRX128F93187D9</td>\n",
       "      <td>No One Could Ever</td>\n",
       "      <td>SOGTUKN12AB017F4F1</td>\n",
       "      <td>Butter</td>\n",
       "      <td>ARGEKB01187FB50750</td>\n",
       "      <td>3d403d44-36ce-465c-ad43-ae877e65adc4</td>\n",
       "      <td>Hudson Mohawke</td>\n",
       "      <td>138.97098</td>\n",
       "      <td>0.643681</td>\n",
       "      <td>0.437504</td>\n",
       "      <td>2006</td>\n",
       "      <td>6945353</td>\n",
       "      <td>-1</td>\n",
       "      <td>0</td>\n",
       "    </tr>\n",
       "    <tr>\n",
       "      <th>3</th>\n",
       "      <td>TRMMMCH128F425532C</td>\n",
       "      <td>Si Vos Querés</td>\n",
       "      <td>SOBNYVR12A8C13558C</td>\n",
       "      <td>De Culo</td>\n",
       "      <td>ARNWYLR1187B9B2F9C</td>\n",
       "      <td>12be7648-7094-495f-90e6-df4189d68615</td>\n",
       "      <td>Yerba Brava</td>\n",
       "      <td>145.05751</td>\n",
       "      <td>0.448501</td>\n",
       "      <td>0.372349</td>\n",
       "      <td>2003</td>\n",
       "      <td>2168257</td>\n",
       "      <td>-1</td>\n",
       "      <td>0</td>\n",
       "    </tr>\n",
       "    <tr>\n",
       "      <th>4</th>\n",
       "      <td>TRMMMWA128F426B589</td>\n",
       "      <td>Tangle Of Aspens</td>\n",
       "      <td>SOHSBXH12A8C13B0DF</td>\n",
       "      <td>Rene Ablaze Presents Winter Sessions</td>\n",
       "      <td>AREQDTE1269FB37231</td>\n",
       "      <td>NaN</td>\n",
       "      <td>Der Mystic</td>\n",
       "      <td>514.29832</td>\n",
       "      <td>0.000000</td>\n",
       "      <td>0.000000</td>\n",
       "      <td>0</td>\n",
       "      <td>2264873</td>\n",
       "      <td>-1</td>\n",
       "      <td>0</td>\n",
       "    </tr>\n",
       "  </tbody>\n",
       "</table>\n",
       "</div>"
      ],
      "text/plain": [
       "             track_id              title             song_id  \\\n",
       "0  TRMMMYQ128F932D901       Silent Night  SOQMMHC12AB0180CB8   \n",
       "1  TRMMMKD128F425225D        Tanssi vaan  SOVFVAK12A8C1350D9   \n",
       "2  TRMMMRX128F93187D9  No One Could Ever  SOGTUKN12AB017F4F1   \n",
       "3  TRMMMCH128F425532C      Si Vos Querés  SOBNYVR12A8C13558C   \n",
       "4  TRMMMWA128F426B589   Tangle Of Aspens  SOHSBXH12A8C13B0DF   \n",
       "\n",
       "                                release           artist_id  \\\n",
       "0                 Monster Ballads X-Mas  ARYZTJS1187B98C555   \n",
       "1                           Karkuteillä  ARMVN3U1187FB3A1EB   \n",
       "2                                Butter  ARGEKB01187FB50750   \n",
       "3                               De Culo  ARNWYLR1187B9B2F9C   \n",
       "4  Rene Ablaze Presents Winter Sessions  AREQDTE1269FB37231   \n",
       "\n",
       "                            artist_mbid       artist_name   duration  \\\n",
       "0  357ff05d-848a-44cf-b608-cb34b5701ae5  Faster Pussy cat  252.05506   \n",
       "1  8d7ef530-a6fd-4f8f-b2e2-74aec765e0f9  Karkkiautomaatti  156.55138   \n",
       "2  3d403d44-36ce-465c-ad43-ae877e65adc4    Hudson Mohawke  138.97098   \n",
       "3  12be7648-7094-495f-90e6-df4189d68615       Yerba Brava  145.05751   \n",
       "4                                   NaN        Der Mystic  514.29832   \n",
       "\n",
       "   artist_familiarity  artist_hotttnesss  year  track_7digitalid  shs_perf  \\\n",
       "0            0.649822           0.394032  2003           7032331        -1   \n",
       "1            0.439604           0.356992  1995           1514808        -1   \n",
       "2            0.643681           0.437504  2006           6945353        -1   \n",
       "3            0.448501           0.372349  2003           2168257        -1   \n",
       "4            0.000000           0.000000     0           2264873        -1   \n",
       "\n",
       "   shs_work  \n",
       "0         0  \n",
       "1         0  \n",
       "2         0  \n",
       "3         0  \n",
       "4         0  "
      ]
     },
     "execution_count": 59,
     "metadata": {},
     "output_type": "execute_result"
    }
   ],
   "source": [
    "# Convert the table to a Pandas DataFrame\n",
    "metadata_table_df = pd.read_csv('../datasets/track_metadata.csv')\n",
    "metadata_table_df.head()"
   ]
  },
  {
   "cell_type": "code",
   "execution_count": 60,
   "metadata": {},
   "outputs": [
    {
     "data": {
      "text/html": [
       "<div>\n",
       "<style scoped>\n",
       "    .dataframe tbody tr th:only-of-type {\n",
       "        vertical-align: middle;\n",
       "    }\n",
       "\n",
       "    .dataframe tbody tr th {\n",
       "        vertical-align: top;\n",
       "    }\n",
       "\n",
       "    .dataframe thead th {\n",
       "        text-align: right;\n",
       "    }\n",
       "</style>\n",
       "<table border=\"1\" class=\"dataframe\">\n",
       "  <thead>\n",
       "    <tr style=\"text-align: right;\">\n",
       "      <th></th>\n",
       "      <th>song_id</th>\n",
       "      <th>track_id</th>\n",
       "      <th>title</th>\n",
       "      <th>release</th>\n",
       "      <th>artist_id</th>\n",
       "      <th>artist_mbid</th>\n",
       "      <th>artist_name</th>\n",
       "      <th>duration</th>\n",
       "      <th>artist_familiarity</th>\n",
       "      <th>artist_hotttnesss</th>\n",
       "      <th>year</th>\n",
       "      <th>track_7digitalid</th>\n",
       "      <th>shs_perf</th>\n",
       "      <th>shs_work</th>\n",
       "    </tr>\n",
       "  </thead>\n",
       "  <tbody>\n",
       "    <tr>\n",
       "      <th>0</th>\n",
       "      <td>SOAKIMP12A8C130995</td>\n",
       "      <td>TRIQAUQ128F42435AD</td>\n",
       "      <td>The Cove</td>\n",
       "      <td>Thicker Than Water</td>\n",
       "      <td>ARC8CQZ1187B98DECA</td>\n",
       "      <td>ff6e677f-91dd-4986-a174-8db0474b1799</td>\n",
       "      <td>Jack Johnson</td>\n",
       "      <td>112.63955</td>\n",
       "      <td>0.832012</td>\n",
       "      <td>0.677482</td>\n",
       "      <td>0</td>\n",
       "      <td>2093263</td>\n",
       "      <td>-1</td>\n",
       "      <td>0</td>\n",
       "    </tr>\n",
       "    <tr>\n",
       "      <th>1</th>\n",
       "      <td>SOAPDEY12A81C210A9</td>\n",
       "      <td>TRIRLYL128F42539D1</td>\n",
       "      <td>Nothing from Nothing</td>\n",
       "      <td>To Die For</td>\n",
       "      <td>ARHYUI71187FB48366</td>\n",
       "      <td>8a7cf497-dc5c-4523-932d-3fcbc9a69d38</td>\n",
       "      <td>Billy Preston</td>\n",
       "      <td>153.59955</td>\n",
       "      <td>0.580555</td>\n",
       "      <td>0.482492</td>\n",
       "      <td>1974</td>\n",
       "      <td>3072847</td>\n",
       "      <td>-1</td>\n",
       "      <td>0</td>\n",
       "    </tr>\n",
       "    <tr>\n",
       "      <th>2</th>\n",
       "      <td>SOBBMDR12A8C13253B</td>\n",
       "      <td>TRMHBXZ128F4238406</td>\n",
       "      <td>Entre Dos Aguas</td>\n",
       "      <td>Flamenco Para Niños</td>\n",
       "      <td>ARC1SF21187FB51D0F</td>\n",
       "      <td>7bc8dd01-35ea-4b18-a64d-3a364dc76a52</td>\n",
       "      <td>Paco De Lucia</td>\n",
       "      <td>358.24281</td>\n",
       "      <td>0.633119</td>\n",
       "      <td>0.417718</td>\n",
       "      <td>1976</td>\n",
       "      <td>2631392</td>\n",
       "      <td>-1</td>\n",
       "      <td>0</td>\n",
       "    </tr>\n",
       "    <tr>\n",
       "      <th>3</th>\n",
       "      <td>SOBFNSP12AF72A0E22</td>\n",
       "      <td>TRYQMNI128F147C1C7</td>\n",
       "      <td>Under Cold Blue Stars</td>\n",
       "      <td>Under Cold Blue Stars</td>\n",
       "      <td>ARMS97V1187B99DD98</td>\n",
       "      <td>023d64c9-93db-4a20-8c5c-2efa1a53481a</td>\n",
       "      <td>Josh Rouse</td>\n",
       "      <td>266.34404</td>\n",
       "      <td>0.675339</td>\n",
       "      <td>0.509058</td>\n",
       "      <td>2002</td>\n",
       "      <td>413957</td>\n",
       "      <td>-1</td>\n",
       "      <td>0</td>\n",
       "    </tr>\n",
       "    <tr>\n",
       "      <th>4</th>\n",
       "      <td>SOBFOVM12A58A7D494</td>\n",
       "      <td>TRAHZNE128F9341B86</td>\n",
       "      <td>Riot Radio (Soundtrack Version)</td>\n",
       "      <td>Nick &amp; Norah's Infinite Playlist - Original Mo...</td>\n",
       "      <td>ARI4V0E1187B9B6FC2</td>\n",
       "      <td>87ebbe67-3910-4521-a418-4fe53eb912b7</td>\n",
       "      <td>The Dead 60s</td>\n",
       "      <td>141.42649</td>\n",
       "      <td>0.650281</td>\n",
       "      <td>0.451749</td>\n",
       "      <td>0</td>\n",
       "      <td>5674853</td>\n",
       "      <td>-1</td>\n",
       "      <td>0</td>\n",
       "    </tr>\n",
       "  </tbody>\n",
       "</table>\n",
       "</div>"
      ],
      "text/plain": [
       "              song_id            track_id                            title  \\\n",
       "0  SOAKIMP12A8C130995  TRIQAUQ128F42435AD                         The Cove   \n",
       "1  SOAPDEY12A81C210A9  TRIRLYL128F42539D1             Nothing from Nothing   \n",
       "2  SOBBMDR12A8C13253B  TRMHBXZ128F4238406                  Entre Dos Aguas   \n",
       "3  SOBFNSP12AF72A0E22  TRYQMNI128F147C1C7            Under Cold Blue Stars   \n",
       "4  SOBFOVM12A58A7D494  TRAHZNE128F9341B86  Riot Radio (Soundtrack Version)   \n",
       "\n",
       "                                             release           artist_id  \\\n",
       "0                                 Thicker Than Water  ARC8CQZ1187B98DECA   \n",
       "1                                         To Die For  ARHYUI71187FB48366   \n",
       "2                                Flamenco Para Niños  ARC1SF21187FB51D0F   \n",
       "3                              Under Cold Blue Stars  ARMS97V1187B99DD98   \n",
       "4  Nick & Norah's Infinite Playlist - Original Mo...  ARI4V0E1187B9B6FC2   \n",
       "\n",
       "                            artist_mbid    artist_name   duration  \\\n",
       "0  ff6e677f-91dd-4986-a174-8db0474b1799   Jack Johnson  112.63955   \n",
       "1  8a7cf497-dc5c-4523-932d-3fcbc9a69d38  Billy Preston  153.59955   \n",
       "2  7bc8dd01-35ea-4b18-a64d-3a364dc76a52  Paco De Lucia  358.24281   \n",
       "3  023d64c9-93db-4a20-8c5c-2efa1a53481a     Josh Rouse  266.34404   \n",
       "4  87ebbe67-3910-4521-a418-4fe53eb912b7   The Dead 60s  141.42649   \n",
       "\n",
       "   artist_familiarity  artist_hotttnesss  year  track_7digitalid  shs_perf  \\\n",
       "0            0.832012           0.677482     0           2093263        -1   \n",
       "1            0.580555           0.482492  1974           3072847        -1   \n",
       "2            0.633119           0.417718  1976           2631392        -1   \n",
       "3            0.675339           0.509058  2002            413957        -1   \n",
       "4            0.650281           0.451749     0           5674853        -1   \n",
       "\n",
       "   shs_work  \n",
       "0         0  \n",
       "1         0  \n",
       "2         0  \n",
       "3         0  \n",
       "4         0  "
      ]
     },
     "execution_count": 60,
     "metadata": {},
     "output_type": "execute_result"
    }
   ],
   "source": [
    "song_ids = taste_profile[\"song_id\"].unique().astype(str)\n",
    "metadata_df = pd.merge(pd.DataFrame(song_ids,columns=['song_id']),metadata_table_df,on=\"song_id\",how='left')\n",
    "metadata_df.head()"
   ]
  },
  {
   "cell_type": "markdown",
   "metadata": {},
   "source": [
    "### PREPROCESSING ON METADATA"
   ]
  },
  {
   "cell_type": "code",
   "execution_count": 61,
   "metadata": {},
   "outputs": [],
   "source": [
    "metadata_df.replace(\"\",np.nan,inplace=True)"
   ]
  },
  {
   "cell_type": "code",
   "execution_count": 62,
   "metadata": {
    "scrolled": true
   },
   "outputs": [
    {
     "data": {
      "text/plain": [
       "song_id                  0\n",
       "track_id                 0\n",
       "title                    2\n",
       "release                  0\n",
       "artist_id                0\n",
       "artist_mbid           4279\n",
       "artist_name              0\n",
       "duration                 0\n",
       "artist_familiarity       0\n",
       "artist_hotttnesss        0\n",
       "year                     0\n",
       "track_7digitalid         0\n",
       "shs_perf                 0\n",
       "shs_work                 0\n",
       "dtype: int64"
      ]
     },
     "execution_count": 62,
     "metadata": {},
     "output_type": "execute_result"
    }
   ],
   "source": [
    "metadata_df.isna().sum()"
   ]
  },
  {
   "cell_type": "code",
   "execution_count": 63,
   "metadata": {},
   "outputs": [
    {
     "data": {
      "text/plain": [
       "song_id                  0\n",
       "track_id                 0\n",
       "title                    0\n",
       "release                  0\n",
       "artist_id                0\n",
       "artist_mbid           4279\n",
       "artist_name              0\n",
       "duration                 0\n",
       "artist_familiarity       0\n",
       "artist_hotttnesss        0\n",
       "year                     0\n",
       "track_7digitalid         0\n",
       "shs_perf                 0\n",
       "shs_work                 0\n",
       "dtype: int64"
      ]
     },
     "execution_count": 63,
     "metadata": {},
     "output_type": "execute_result"
    }
   ],
   "source": [
    "values = {'song_hotttnesss': 0,'artist_familiarity': 0, 'title': \"Unknown\"}\n",
    "metadata_df.fillna(value= values,inplace=True)\n",
    "metadata_df.isna().sum()"
   ]
  },
  {
   "cell_type": "code",
   "execution_count": 64,
   "metadata": {
    "colab": {
     "base_uri": "https://localhost:8080/"
    },
    "id": "G5jw7cC2n7Bi",
    "outputId": "49422b5b-804a-4f79-b12f-651a5ccb08de"
   },
   "outputs": [
    {
     "data": {
      "text/plain": [
       "(Index(['song_id', 'track_id', 'title', 'release', 'artist_id', 'artist_mbid',\n",
       "        'artist_name', 'duration', 'artist_familiarity', 'artist_hotttnesss',\n",
       "        'year', 'track_7digitalid', 'shs_perf', 'shs_work'],\n",
       "       dtype='object'),\n",
       " song_id                object\n",
       " track_id               object\n",
       " title                  object\n",
       " release                object\n",
       " artist_id              object\n",
       " artist_mbid            object\n",
       " artist_name            object\n",
       " duration              float64\n",
       " artist_familiarity    float64\n",
       " artist_hotttnesss     float64\n",
       " year                    int64\n",
       " track_7digitalid        int64\n",
       " shs_perf                int64\n",
       " shs_work                int64\n",
       " dtype: object)"
      ]
     },
     "execution_count": 64,
     "metadata": {},
     "output_type": "execute_result"
    }
   ],
   "source": [
    "metadata_df.columns,metadata_df.dtypes"
   ]
  },
  {
   "cell_type": "code",
   "execution_count": 65,
   "metadata": {
    "scrolled": true
   },
   "outputs": [
    {
     "data": {
      "text/plain": [
       "Index(['song_id', 'track_id', 'title', 'release', 'artist_id', 'artist_mbid',\n",
       "       'artist_name', 'duration', 'artist_familiarity', 'artist_hotttnesss',\n",
       "       'year', 'track_7digitalid', 'shs_perf', 'shs_work'],\n",
       "      dtype='object')"
      ]
     },
     "execution_count": 65,
     "metadata": {},
     "output_type": "execute_result"
    }
   ],
   "source": [
    "metadata_df.columns"
   ]
  },
  {
   "cell_type": "code",
   "execution_count": null,
   "metadata": {},
   "outputs": [],
   "source": []
  },
  {
   "cell_type": "code",
   "execution_count": 66,
   "metadata": {},
   "outputs": [],
   "source": [
    "def get_recommendations(user_id,model,taste_profile,metadata_df,data_encoder_user, data_encoder_song):\n",
    "    song_id_df = pd.DataFrame(taste_profile.song_id.unique(),columns = ['song_id'])\n",
    "    user_song_df = song_id_df.copy()\n",
    "    user_song_df['user_id'] = user_id\n",
    "    encoded_user = data_encoder_user.transform(user_song_df.user_id)\n",
    "    encoded_song = data_encoder_song.transform(user_song_df.song_id)\n",
    "    user_song_df['user_id'] = encoded_user\n",
    "    user_song_df['song_id']= encoded_song\n",
    "    listened_songs = list(final_data_df[final_data_df.user_id == user_id].song_id.unique())\n",
    "    songs_to_predict = np.setdiff1d(song_id_df, listened_songs)\n",
    "    data = pd.merge(user_song_df, final_data_df.drop(columns = 'user_id').drop_duplicates(), on =['song_id'], how = 'left')\n",
    "\n",
    "    data['Predictions'] = model.predict([data.song_id, data.user_id])\n",
    "    data['user_id'] = data_encoder_user.inverse_transform(data['user_id'])\n",
    "    data['song_id'] =data_encoder_song.inverse_transform(data['song_id'])\n",
    "    top_songs_rec = data[['user_id','song_id','Predictions']].sort_values(by = 'Predictions',ascending = False).song_id[:20].values\n",
    "    song_info = metadata_df[metadata_df['song_id'].isin(top_songs_rec)][[ 'title', 'artist_name', 'duration']]\n",
    "    return song_info.reset_index(drop=True)"
   ]
  },
  {
   "cell_type": "code",
   "execution_count": 39,
   "metadata": {
    "scrolled": true
   },
   "outputs": [
    {
     "name": "stdout",
     "output_type": "stream",
     "text": [
      "12139/12139 [==============================] - 15s 1ms/step\n"
     ]
    },
    {
     "data": {
      "text/html": [
       "<div>\n",
       "<style scoped>\n",
       "    .dataframe tbody tr th:only-of-type {\n",
       "        vertical-align: middle;\n",
       "    }\n",
       "\n",
       "    .dataframe tbody tr th {\n",
       "        vertical-align: top;\n",
       "    }\n",
       "\n",
       "    .dataframe thead th {\n",
       "        text-align: right;\n",
       "    }\n",
       "</style>\n",
       "<table border=\"1\" class=\"dataframe\">\n",
       "  <thead>\n",
       "    <tr style=\"text-align: right;\">\n",
       "      <th></th>\n",
       "      <th>title</th>\n",
       "      <th>artist_name</th>\n",
       "      <th>duration</th>\n",
       "    </tr>\n",
       "  </thead>\n",
       "  <tbody>\n",
       "    <tr>\n",
       "      <th>0</th>\n",
       "      <td>Decades Of Despair</td>\n",
       "      <td>Carnal Forge</td>\n",
       "      <td>182.33424</td>\n",
       "    </tr>\n",
       "    <tr>\n",
       "      <th>1</th>\n",
       "      <td>Brother</td>\n",
       "      <td>Keisha White</td>\n",
       "      <td>251.42812</td>\n",
       "    </tr>\n",
       "    <tr>\n",
       "      <th>2</th>\n",
       "      <td>Rise Above (Live) (Album Version)</td>\n",
       "      <td>Misfits</td>\n",
       "      <td>164.46649</td>\n",
       "    </tr>\n",
       "    <tr>\n",
       "      <th>3</th>\n",
       "      <td>Tennessee (Pirate Radio Mix)</td>\n",
       "      <td>ARRESTED DEVELOPMENT</td>\n",
       "      <td>371.59138</td>\n",
       "    </tr>\n",
       "  </tbody>\n",
       "</table>\n",
       "</div>"
      ],
      "text/plain": [
       "                               title           artist_name   duration\n",
       "0                 Decades Of Despair          Carnal Forge  182.33424\n",
       "1                            Brother          Keisha White  251.42812\n",
       "2  Rise Above (Live) (Album Version)               Misfits  164.46649\n",
       "3       Tennessee (Pirate Radio Mix)  ARRESTED DEVELOPMENT  371.59138"
      ]
     },
     "execution_count": 39,
     "metadata": {},
     "output_type": "execute_result"
    }
   ],
   "source": [
    "user_id = 'b80344d063b5ccb3212f76538f3d9e43d87dca9e'\n",
    "get_recommendations(user_id,model1,taste_profile,metadata_df,data_encoder_user, data_encoder_song)"
   ]
  },
  {
   "cell_type": "code",
   "execution_count": null,
   "metadata": {},
   "outputs": [],
   "source": []
  },
  {
   "cell_type": "code",
   "execution_count": null,
   "metadata": {},
   "outputs": [],
   "source": []
  }
 ],
 "metadata": {
  "colab": {
   "provenance": []
  },
  "kernelspec": {
   "display_name": "Python 3 (ipykernel)",
   "language": "python",
   "name": "python3"
  },
  "language_info": {
   "codemirror_mode": {
    "name": "ipython",
    "version": 3
   },
   "file_extension": ".py",
   "mimetype": "text/x-python",
   "name": "python",
   "nbconvert_exporter": "python",
   "pygments_lexer": "ipython3",
   "version": "3.10.9"
  }
 },
 "nbformat": 4,
 "nbformat_minor": 1
}
