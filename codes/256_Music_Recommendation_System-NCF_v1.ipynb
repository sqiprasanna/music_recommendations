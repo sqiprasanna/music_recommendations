{
 "cells": [
  {
   "cell_type": "code",
   "execution_count": 6,
   "metadata": {},
   "outputs": [],
   "source": [
    "import pandas as pd\n",
    "import numpy as np\n",
    "import matplotlib.pyplot as plt\n",
    "import sklearn\n",
    "import seaborn as sns\n",
    "import matplotlib.pyplot as plt\n",
    "from surprise.model_selection import train_test_split,cross_validate\n",
    "from surprise import SVD, accuracy\n",
    "from surprise import KNNBasic\n",
    "import os\n",
    "from tensorflow.keras import backend as K\n",
    "import tables\n",
    "\n",
    "import tensorflow as tf\n",
    "from tensorflow.keras.layers import Input, Embedding, Flatten, Concatenate, Dense, Dropout\n",
    "from tensorflow.keras.models import Model\n",
    "from surprise import SVDpp, Reader, Dataset\n",
    "from sklearn.preprocessing import LabelEncoder"
   ]
  },
  {
   "cell_type": "markdown",
   "metadata": {},
   "source": [
    "### USER PREFERENCE DATA"
   ]
  },
  {
   "cell_type": "code",
   "execution_count": 14,
   "metadata": {
    "id": "_dgENuRieAYg"
   },
   "outputs": [
    {
     "data": {
      "text/html": [
       "<div>\n",
       "<style scoped>\n",
       "    .dataframe tbody tr th:only-of-type {\n",
       "        vertical-align: middle;\n",
       "    }\n",
       "\n",
       "    .dataframe tbody tr th {\n",
       "        vertical-align: top;\n",
       "    }\n",
       "\n",
       "    .dataframe thead th {\n",
       "        text-align: right;\n",
       "    }\n",
       "</style>\n",
       "<table border=\"1\" class=\"dataframe\">\n",
       "  <thead>\n",
       "    <tr style=\"text-align: right;\">\n",
       "      <th></th>\n",
       "      <th>track_id</th>\n",
       "      <th>title</th>\n",
       "      <th>song_id</th>\n",
       "      <th>release</th>\n",
       "      <th>artist_id</th>\n",
       "      <th>artist_mbid</th>\n",
       "      <th>artist_name</th>\n",
       "      <th>duration</th>\n",
       "      <th>artist_familiarity</th>\n",
       "      <th>artist_hotttnesss</th>\n",
       "      <th>year</th>\n",
       "      <th>track_7digitalid</th>\n",
       "      <th>shs_perf</th>\n",
       "      <th>shs_work</th>\n",
       "    </tr>\n",
       "  </thead>\n",
       "  <tbody>\n",
       "    <tr>\n",
       "      <th>0</th>\n",
       "      <td>TRMMMYQ128F932D901</td>\n",
       "      <td>Silent Night</td>\n",
       "      <td>SOQMMHC12AB0180CB8</td>\n",
       "      <td>Monster Ballads X-Mas</td>\n",
       "      <td>ARYZTJS1187B98C555</td>\n",
       "      <td>357ff05d-848a-44cf-b608-cb34b5701ae5</td>\n",
       "      <td>Faster Pussy cat</td>\n",
       "      <td>252.05506</td>\n",
       "      <td>0.649822</td>\n",
       "      <td>0.394032</td>\n",
       "      <td>2003</td>\n",
       "      <td>7032331</td>\n",
       "      <td>-1</td>\n",
       "      <td>0</td>\n",
       "    </tr>\n",
       "    <tr>\n",
       "      <th>1</th>\n",
       "      <td>TRMMMKD128F425225D</td>\n",
       "      <td>Tanssi vaan</td>\n",
       "      <td>SOVFVAK12A8C1350D9</td>\n",
       "      <td>Karkuteillä</td>\n",
       "      <td>ARMVN3U1187FB3A1EB</td>\n",
       "      <td>8d7ef530-a6fd-4f8f-b2e2-74aec765e0f9</td>\n",
       "      <td>Karkkiautomaatti</td>\n",
       "      <td>156.55138</td>\n",
       "      <td>0.439604</td>\n",
       "      <td>0.356992</td>\n",
       "      <td>1995</td>\n",
       "      <td>1514808</td>\n",
       "      <td>-1</td>\n",
       "      <td>0</td>\n",
       "    </tr>\n",
       "    <tr>\n",
       "      <th>2</th>\n",
       "      <td>TRMMMRX128F93187D9</td>\n",
       "      <td>No One Could Ever</td>\n",
       "      <td>SOGTUKN12AB017F4F1</td>\n",
       "      <td>Butter</td>\n",
       "      <td>ARGEKB01187FB50750</td>\n",
       "      <td>3d403d44-36ce-465c-ad43-ae877e65adc4</td>\n",
       "      <td>Hudson Mohawke</td>\n",
       "      <td>138.97098</td>\n",
       "      <td>0.643681</td>\n",
       "      <td>0.437504</td>\n",
       "      <td>2006</td>\n",
       "      <td>6945353</td>\n",
       "      <td>-1</td>\n",
       "      <td>0</td>\n",
       "    </tr>\n",
       "    <tr>\n",
       "      <th>3</th>\n",
       "      <td>TRMMMCH128F425532C</td>\n",
       "      <td>Si Vos Querés</td>\n",
       "      <td>SOBNYVR12A8C13558C</td>\n",
       "      <td>De Culo</td>\n",
       "      <td>ARNWYLR1187B9B2F9C</td>\n",
       "      <td>12be7648-7094-495f-90e6-df4189d68615</td>\n",
       "      <td>Yerba Brava</td>\n",
       "      <td>145.05751</td>\n",
       "      <td>0.448501</td>\n",
       "      <td>0.372349</td>\n",
       "      <td>2003</td>\n",
       "      <td>2168257</td>\n",
       "      <td>-1</td>\n",
       "      <td>0</td>\n",
       "    </tr>\n",
       "    <tr>\n",
       "      <th>4</th>\n",
       "      <td>TRMMMWA128F426B589</td>\n",
       "      <td>Tangle Of Aspens</td>\n",
       "      <td>SOHSBXH12A8C13B0DF</td>\n",
       "      <td>Rene Ablaze Presents Winter Sessions</td>\n",
       "      <td>AREQDTE1269FB37231</td>\n",
       "      <td>NaN</td>\n",
       "      <td>Der Mystic</td>\n",
       "      <td>514.29832</td>\n",
       "      <td>0.000000</td>\n",
       "      <td>0.000000</td>\n",
       "      <td>0</td>\n",
       "      <td>2264873</td>\n",
       "      <td>-1</td>\n",
       "      <td>0</td>\n",
       "    </tr>\n",
       "  </tbody>\n",
       "</table>\n",
       "</div>"
      ],
      "text/plain": [
       "             track_id              title             song_id  \\\n",
       "0  TRMMMYQ128F932D901       Silent Night  SOQMMHC12AB0180CB8   \n",
       "1  TRMMMKD128F425225D        Tanssi vaan  SOVFVAK12A8C1350D9   \n",
       "2  TRMMMRX128F93187D9  No One Could Ever  SOGTUKN12AB017F4F1   \n",
       "3  TRMMMCH128F425532C      Si Vos Querés  SOBNYVR12A8C13558C   \n",
       "4  TRMMMWA128F426B589   Tangle Of Aspens  SOHSBXH12A8C13B0DF   \n",
       "\n",
       "                                release           artist_id  \\\n",
       "0                 Monster Ballads X-Mas  ARYZTJS1187B98C555   \n",
       "1                           Karkuteillä  ARMVN3U1187FB3A1EB   \n",
       "2                                Butter  ARGEKB01187FB50750   \n",
       "3                               De Culo  ARNWYLR1187B9B2F9C   \n",
       "4  Rene Ablaze Presents Winter Sessions  AREQDTE1269FB37231   \n",
       "\n",
       "                            artist_mbid       artist_name   duration  \\\n",
       "0  357ff05d-848a-44cf-b608-cb34b5701ae5  Faster Pussy cat  252.05506   \n",
       "1  8d7ef530-a6fd-4f8f-b2e2-74aec765e0f9  Karkkiautomaatti  156.55138   \n",
       "2  3d403d44-36ce-465c-ad43-ae877e65adc4    Hudson Mohawke  138.97098   \n",
       "3  12be7648-7094-495f-90e6-df4189d68615       Yerba Brava  145.05751   \n",
       "4                                   NaN        Der Mystic  514.29832   \n",
       "\n",
       "   artist_familiarity  artist_hotttnesss  year  track_7digitalid  shs_perf  \\\n",
       "0            0.649822           0.394032  2003           7032331        -1   \n",
       "1            0.439604           0.356992  1995           1514808        -1   \n",
       "2            0.643681           0.437504  2006           6945353        -1   \n",
       "3            0.448501           0.372349  2003           2168257        -1   \n",
       "4            0.000000           0.000000     0           2264873        -1   \n",
       "\n",
       "   shs_work  \n",
       "0         0  \n",
       "1         0  \n",
       "2         0  \n",
       "3         0  \n",
       "4         0  "
      ]
     },
     "execution_count": 14,
     "metadata": {},
     "output_type": "execute_result"
    }
   ],
   "source": [
    "taste_profile = pd.read_csv('../datasets/train_triplets.txt',sep='\\t',header=None,names = ['user_id','song_id','play_count'],nrows= 200000)\n",
    "song_metadata = pd.read_csv('../datasets/track_metadata.csv')\n",
    "song_metadata.head()"
   ]
  },
  {
   "cell_type": "code",
   "execution_count": 15,
   "metadata": {},
   "outputs": [],
   "source": [
    "def remove_outliers(df):\n",
    "    # Compute quartiles for the play_count of users and year of publication columns\n",
    "    q1_play_count = df['play_count'].quantile(0.25)\n",
    "    q3_play_count = df['play_count'].quantile(0.75)\n",
    "    iqr_play_count = q3_play_count - q1_play_count\n",
    "    lower_play_count = q1_play_count - 1.5 * iqr_play_count\n",
    "    upper_play_count = q3_play_count + 1.5 * iqr_play_count\n",
    "    print(q1_play_count, q3_play_count,lower_play_count, upper_play_count)\n",
    "\n",
    "    # Identify and remove outliers based on IQR\n",
    "    df = df[(df['play_count'] >= lower_play_count) & (df['play_count'] <= upper_play_count)]\n",
    "    return df"
   ]
  },
  {
   "cell_type": "code",
   "execution_count": 9,
   "metadata": {},
   "outputs": [
    {
     "name": "stdout",
     "output_type": "stream",
     "text": [
      "1.0 3.0 -2.0 6.0\n"
     ]
    }
   ],
   "source": [
    "taste_profile = remove_outliers(taste_profile)"
   ]
  },
  {
   "cell_type": "code",
   "execution_count": 10,
   "metadata": {},
   "outputs": [
    {
     "data": {
      "text/plain": [
       "1    118872\n",
       "2     30713\n",
       "3     13398\n",
       "5      9332\n",
       "4      7242\n",
       "6      4263\n",
       "Name: play_count, dtype: int64"
      ]
     },
     "execution_count": 10,
     "metadata": {},
     "output_type": "execute_result"
    }
   ],
   "source": [
    "taste_profile.play_count.value_counts()"
   ]
  },
  {
   "cell_type": "markdown",
   "metadata": {},
   "source": [
    "### METADATA Preprocessing"
   ]
  },
  {
   "cell_type": "code",
   "execution_count": 16,
   "metadata": {},
   "outputs": [],
   "source": [
    "song_metadata.replace({b'': np.nan}, inplace=True)"
   ]
  },
  {
   "cell_type": "code",
   "execution_count": 17,
   "metadata": {},
   "outputs": [
    {
     "data": {
      "text/plain": [
       "(1000000, 14)"
      ]
     },
     "execution_count": 17,
     "metadata": {},
     "output_type": "execute_result"
    }
   ],
   "source": [
    "song_metadata.drop_duplicates(inplace=True)\n",
    "song_metadata.shape"
   ]
  },
  {
   "cell_type": "code",
   "execution_count": 18,
   "metadata": {
    "colab": {
     "base_uri": "https://localhost:8080/"
    },
    "id": "G5jw7cC2n7Bi",
    "outputId": "49422b5b-804a-4f79-b12f-651a5ccb08de"
   },
   "outputs": [
    {
     "data": {
      "text/plain": [
       "(Index(['track_id', 'title', 'song_id', 'release', 'artist_id', 'artist_mbid',\n",
       "        'artist_name', 'duration', 'artist_familiarity', 'artist_hotttnesss',\n",
       "        'year', 'track_7digitalid', 'shs_perf', 'shs_work'],\n",
       "       dtype='object'),\n",
       " track_id               object\n",
       " title                  object\n",
       " song_id                object\n",
       " release                object\n",
       " artist_id              object\n",
       " artist_mbid            object\n",
       " artist_name            object\n",
       " duration              float64\n",
       " artist_familiarity    float64\n",
       " artist_hotttnesss     float64\n",
       " year                    int64\n",
       " track_7digitalid        int64\n",
       " shs_perf                int64\n",
       " shs_work                int64\n",
       " dtype: object)"
      ]
     },
     "execution_count": 18,
     "metadata": {},
     "output_type": "execute_result"
    }
   ],
   "source": [
    "song_metadata.columns,song_metadata.dtypes"
   ]
  },
  {
   "cell_type": "code",
   "execution_count": 9,
   "metadata": {},
   "outputs": [
    {
     "data": {
      "text/html": [
       "<div>\n",
       "<style scoped>\n",
       "    .dataframe tbody tr th:only-of-type {\n",
       "        vertical-align: middle;\n",
       "    }\n",
       "\n",
       "    .dataframe tbody tr th {\n",
       "        vertical-align: top;\n",
       "    }\n",
       "\n",
       "    .dataframe thead th {\n",
       "        text-align: right;\n",
       "    }\n",
       "</style>\n",
       "<table border=\"1\" class=\"dataframe\">\n",
       "  <thead>\n",
       "    <tr style=\"text-align: right;\">\n",
       "      <th></th>\n",
       "      <th>track_id</th>\n",
       "      <th>title</th>\n",
       "      <th>song_id</th>\n",
       "      <th>release</th>\n",
       "      <th>artist_id</th>\n",
       "      <th>artist_mbid</th>\n",
       "      <th>artist_name</th>\n",
       "      <th>duration</th>\n",
       "      <th>artist_familiarity</th>\n",
       "      <th>artist_hotttnesss</th>\n",
       "      <th>year</th>\n",
       "      <th>track_7digitalid</th>\n",
       "      <th>shs_perf</th>\n",
       "      <th>shs_work</th>\n",
       "    </tr>\n",
       "  </thead>\n",
       "  <tbody>\n",
       "    <tr>\n",
       "      <th>0</th>\n",
       "      <td>TRMMMYQ128F932D901</td>\n",
       "      <td>Silent Night</td>\n",
       "      <td>SOQMMHC12AB0180CB8</td>\n",
       "      <td>Monster Ballads X-Mas</td>\n",
       "      <td>ARYZTJS1187B98C555</td>\n",
       "      <td>357ff05d-848a-44cf-b608-cb34b5701ae5</td>\n",
       "      <td>Faster Pussy cat</td>\n",
       "      <td>252.05506</td>\n",
       "      <td>0.649822</td>\n",
       "      <td>0.394032</td>\n",
       "      <td>2003</td>\n",
       "      <td>7032331</td>\n",
       "      <td>-1</td>\n",
       "      <td>0</td>\n",
       "    </tr>\n",
       "    <tr>\n",
       "      <th>1</th>\n",
       "      <td>TRMMMKD128F425225D</td>\n",
       "      <td>Tanssi vaan</td>\n",
       "      <td>SOVFVAK12A8C1350D9</td>\n",
       "      <td>Karkuteillä</td>\n",
       "      <td>ARMVN3U1187FB3A1EB</td>\n",
       "      <td>8d7ef530-a6fd-4f8f-b2e2-74aec765e0f9</td>\n",
       "      <td>Karkkiautomaatti</td>\n",
       "      <td>156.55138</td>\n",
       "      <td>0.439604</td>\n",
       "      <td>0.356992</td>\n",
       "      <td>1995</td>\n",
       "      <td>1514808</td>\n",
       "      <td>-1</td>\n",
       "      <td>0</td>\n",
       "    </tr>\n",
       "    <tr>\n",
       "      <th>2</th>\n",
       "      <td>TRMMMRX128F93187D9</td>\n",
       "      <td>No One Could Ever</td>\n",
       "      <td>SOGTUKN12AB017F4F1</td>\n",
       "      <td>Butter</td>\n",
       "      <td>ARGEKB01187FB50750</td>\n",
       "      <td>3d403d44-36ce-465c-ad43-ae877e65adc4</td>\n",
       "      <td>Hudson Mohawke</td>\n",
       "      <td>138.97098</td>\n",
       "      <td>0.643681</td>\n",
       "      <td>0.437504</td>\n",
       "      <td>2006</td>\n",
       "      <td>6945353</td>\n",
       "      <td>-1</td>\n",
       "      <td>0</td>\n",
       "    </tr>\n",
       "    <tr>\n",
       "      <th>3</th>\n",
       "      <td>TRMMMCH128F425532C</td>\n",
       "      <td>Si Vos Querés</td>\n",
       "      <td>SOBNYVR12A8C13558C</td>\n",
       "      <td>De Culo</td>\n",
       "      <td>ARNWYLR1187B9B2F9C</td>\n",
       "      <td>12be7648-7094-495f-90e6-df4189d68615</td>\n",
       "      <td>Yerba Brava</td>\n",
       "      <td>145.05751</td>\n",
       "      <td>0.448501</td>\n",
       "      <td>0.372349</td>\n",
       "      <td>2003</td>\n",
       "      <td>2168257</td>\n",
       "      <td>-1</td>\n",
       "      <td>0</td>\n",
       "    </tr>\n",
       "    <tr>\n",
       "      <th>4</th>\n",
       "      <td>TRMMMWA128F426B589</td>\n",
       "      <td>Tangle Of Aspens</td>\n",
       "      <td>SOHSBXH12A8C13B0DF</td>\n",
       "      <td>Rene Ablaze Presents Winter Sessions</td>\n",
       "      <td>AREQDTE1269FB37231</td>\n",
       "      <td>NaN</td>\n",
       "      <td>Der Mystic</td>\n",
       "      <td>514.29832</td>\n",
       "      <td>0.000000</td>\n",
       "      <td>0.000000</td>\n",
       "      <td>0</td>\n",
       "      <td>2264873</td>\n",
       "      <td>-1</td>\n",
       "      <td>0</td>\n",
       "    </tr>\n",
       "  </tbody>\n",
       "</table>\n",
       "</div>"
      ],
      "text/plain": [
       "             track_id              title             song_id  \\\n",
       "0  TRMMMYQ128F932D901       Silent Night  SOQMMHC12AB0180CB8   \n",
       "1  TRMMMKD128F425225D        Tanssi vaan  SOVFVAK12A8C1350D9   \n",
       "2  TRMMMRX128F93187D9  No One Could Ever  SOGTUKN12AB017F4F1   \n",
       "3  TRMMMCH128F425532C      Si Vos Querés  SOBNYVR12A8C13558C   \n",
       "4  TRMMMWA128F426B589   Tangle Of Aspens  SOHSBXH12A8C13B0DF   \n",
       "\n",
       "                                release           artist_id  \\\n",
       "0                 Monster Ballads X-Mas  ARYZTJS1187B98C555   \n",
       "1                           Karkuteillä  ARMVN3U1187FB3A1EB   \n",
       "2                                Butter  ARGEKB01187FB50750   \n",
       "3                               De Culo  ARNWYLR1187B9B2F9C   \n",
       "4  Rene Ablaze Presents Winter Sessions  AREQDTE1269FB37231   \n",
       "\n",
       "                            artist_mbid       artist_name   duration  \\\n",
       "0  357ff05d-848a-44cf-b608-cb34b5701ae5  Faster Pussy cat  252.05506   \n",
       "1  8d7ef530-a6fd-4f8f-b2e2-74aec765e0f9  Karkkiautomaatti  156.55138   \n",
       "2  3d403d44-36ce-465c-ad43-ae877e65adc4    Hudson Mohawke  138.97098   \n",
       "3  12be7648-7094-495f-90e6-df4189d68615       Yerba Brava  145.05751   \n",
       "4                                   NaN        Der Mystic  514.29832   \n",
       "\n",
       "   artist_familiarity  artist_hotttnesss  year  track_7digitalid  shs_perf  \\\n",
       "0            0.649822           0.394032  2003           7032331        -1   \n",
       "1            0.439604           0.356992  1995           1514808        -1   \n",
       "2            0.643681           0.437504  2006           6945353        -1   \n",
       "3            0.448501           0.372349  2003           2168257        -1   \n",
       "4            0.000000           0.000000     0           2264873        -1   \n",
       "\n",
       "   shs_work  \n",
       "0         0  \n",
       "1         0  \n",
       "2         0  \n",
       "3         0  \n",
       "4         0  "
      ]
     },
     "execution_count": 9,
     "metadata": {},
     "output_type": "execute_result"
    }
   ],
   "source": [
    "song_metadata = song_metadata.applymap(lambda x: x.decode('utf-8').strip('\\'\"') if isinstance(x, bytes) else x)\n",
    "song_metadata.head()"
   ]
  },
  {
   "cell_type": "code",
   "execution_count": 10,
   "metadata": {},
   "outputs": [
    {
     "data": {
      "text/plain": [
       "track_id                  0\n",
       "title                    15\n",
       "song_id                   0\n",
       "release                   5\n",
       "artist_id                 0\n",
       "artist_mbid           62571\n",
       "artist_name               0\n",
       "duration                  0\n",
       "artist_familiarity        0\n",
       "artist_hotttnesss         0\n",
       "year                      0\n",
       "track_7digitalid          0\n",
       "shs_perf                  0\n",
       "shs_work                  0\n",
       "dtype: int64"
      ]
     },
     "execution_count": 10,
     "metadata": {},
     "output_type": "execute_result"
    }
   ],
   "source": [
    "song_metadata.isna().sum()"
   ]
  },
  {
   "cell_type": "code",
   "execution_count": 11,
   "metadata": {
    "scrolled": true
   },
   "outputs": [],
   "source": [
    "song_metadata.drop(columns =['artist_mbid','shs_work','shs_perf','track_7digitalid','artist_id'],inplace=True)"
   ]
  },
  {
   "cell_type": "code",
   "execution_count": 12,
   "metadata": {},
   "outputs": [
    {
     "name": "stdout",
     "output_type": "stream",
     "text": [
      "Song metadata:\n",
      "Number of rows: 1000000\n",
      "Number of unique songs: 999056\n"
     ]
    },
    {
     "data": {
      "text/html": [
       "<div>\n",
       "<style scoped>\n",
       "    .dataframe tbody tr th:only-of-type {\n",
       "        vertical-align: middle;\n",
       "    }\n",
       "\n",
       "    .dataframe tbody tr th {\n",
       "        vertical-align: top;\n",
       "    }\n",
       "\n",
       "    .dataframe thead th {\n",
       "        text-align: right;\n",
       "    }\n",
       "</style>\n",
       "<table border=\"1\" class=\"dataframe\">\n",
       "  <thead>\n",
       "    <tr style=\"text-align: right;\">\n",
       "      <th></th>\n",
       "      <th>track_id</th>\n",
       "      <th>title</th>\n",
       "      <th>song_id</th>\n",
       "      <th>release</th>\n",
       "      <th>artist_name</th>\n",
       "      <th>duration</th>\n",
       "      <th>artist_familiarity</th>\n",
       "      <th>artist_hotttnesss</th>\n",
       "      <th>year</th>\n",
       "    </tr>\n",
       "  </thead>\n",
       "  <tbody>\n",
       "    <tr>\n",
       "      <th>0</th>\n",
       "      <td>TRMMMYQ128F932D901</td>\n",
       "      <td>Silent Night</td>\n",
       "      <td>SOQMMHC12AB0180CB8</td>\n",
       "      <td>Monster Ballads X-Mas</td>\n",
       "      <td>Faster Pussy cat</td>\n",
       "      <td>252.05506</td>\n",
       "      <td>0.649822</td>\n",
       "      <td>0.394032</td>\n",
       "      <td>2003</td>\n",
       "    </tr>\n",
       "    <tr>\n",
       "      <th>1</th>\n",
       "      <td>TRMMMKD128F425225D</td>\n",
       "      <td>Tanssi vaan</td>\n",
       "      <td>SOVFVAK12A8C1350D9</td>\n",
       "      <td>Karkuteillä</td>\n",
       "      <td>Karkkiautomaatti</td>\n",
       "      <td>156.55138</td>\n",
       "      <td>0.439604</td>\n",
       "      <td>0.356992</td>\n",
       "      <td>1995</td>\n",
       "    </tr>\n",
       "    <tr>\n",
       "      <th>2</th>\n",
       "      <td>TRMMMRX128F93187D9</td>\n",
       "      <td>No One Could Ever</td>\n",
       "      <td>SOGTUKN12AB017F4F1</td>\n",
       "      <td>Butter</td>\n",
       "      <td>Hudson Mohawke</td>\n",
       "      <td>138.97098</td>\n",
       "      <td>0.643681</td>\n",
       "      <td>0.437504</td>\n",
       "      <td>2006</td>\n",
       "    </tr>\n",
       "    <tr>\n",
       "      <th>3</th>\n",
       "      <td>TRMMMCH128F425532C</td>\n",
       "      <td>Si Vos Querés</td>\n",
       "      <td>SOBNYVR12A8C13558C</td>\n",
       "      <td>De Culo</td>\n",
       "      <td>Yerba Brava</td>\n",
       "      <td>145.05751</td>\n",
       "      <td>0.448501</td>\n",
       "      <td>0.372349</td>\n",
       "      <td>2003</td>\n",
       "    </tr>\n",
       "    <tr>\n",
       "      <th>4</th>\n",
       "      <td>TRMMMWA128F426B589</td>\n",
       "      <td>Tangle Of Aspens</td>\n",
       "      <td>SOHSBXH12A8C13B0DF</td>\n",
       "      <td>Rene Ablaze Presents Winter Sessions</td>\n",
       "      <td>Der Mystic</td>\n",
       "      <td>514.29832</td>\n",
       "      <td>0.000000</td>\n",
       "      <td>0.000000</td>\n",
       "      <td>0</td>\n",
       "    </tr>\n",
       "  </tbody>\n",
       "</table>\n",
       "</div>"
      ],
      "text/plain": [
       "             track_id              title             song_id  \\\n",
       "0  TRMMMYQ128F932D901       Silent Night  SOQMMHC12AB0180CB8   \n",
       "1  TRMMMKD128F425225D        Tanssi vaan  SOVFVAK12A8C1350D9   \n",
       "2  TRMMMRX128F93187D9  No One Could Ever  SOGTUKN12AB017F4F1   \n",
       "3  TRMMMCH128F425532C      Si Vos Querés  SOBNYVR12A8C13558C   \n",
       "4  TRMMMWA128F426B589   Tangle Of Aspens  SOHSBXH12A8C13B0DF   \n",
       "\n",
       "                                release       artist_name   duration  \\\n",
       "0                 Monster Ballads X-Mas  Faster Pussy cat  252.05506   \n",
       "1                           Karkuteillä  Karkkiautomaatti  156.55138   \n",
       "2                                Butter    Hudson Mohawke  138.97098   \n",
       "3                               De Culo       Yerba Brava  145.05751   \n",
       "4  Rene Ablaze Presents Winter Sessions        Der Mystic  514.29832   \n",
       "\n",
       "   artist_familiarity  artist_hotttnesss  year  \n",
       "0            0.649822           0.394032  2003  \n",
       "1            0.439604           0.356992  1995  \n",
       "2            0.643681           0.437504  2006  \n",
       "3            0.448501           0.372349  2003  \n",
       "4            0.000000           0.000000     0  "
      ]
     },
     "metadata": {},
     "output_type": "display_data"
    }
   ],
   "source": [
    "print('Song metadata:')\n",
    "print('Number of rows:', song_metadata.shape[0])\n",
    "print('Number of unique songs:', len(song_metadata.song_id.unique()))\n",
    "display(song_metadata.head())"
   ]
  },
  {
   "cell_type": "code",
   "execution_count": 13,
   "metadata": {},
   "outputs": [],
   "source": [
    "df_merged = pd.merge(taste_profile,song_metadata, on='song_id',how='left')"
   ]
  },
  {
   "cell_type": "code",
   "execution_count": 14,
   "metadata": {},
   "outputs": [
    {
     "data": {
      "text/html": [
       "<div>\n",
       "<style scoped>\n",
       "    .dataframe tbody tr th:only-of-type {\n",
       "        vertical-align: middle;\n",
       "    }\n",
       "\n",
       "    .dataframe tbody tr th {\n",
       "        vertical-align: top;\n",
       "    }\n",
       "\n",
       "    .dataframe thead th {\n",
       "        text-align: right;\n",
       "    }\n",
       "</style>\n",
       "<table border=\"1\" class=\"dataframe\">\n",
       "  <thead>\n",
       "    <tr style=\"text-align: right;\">\n",
       "      <th></th>\n",
       "      <th>user_id</th>\n",
       "      <th>song_id</th>\n",
       "      <th>play_count</th>\n",
       "      <th>track_id</th>\n",
       "      <th>title</th>\n",
       "      <th>release</th>\n",
       "      <th>artist_name</th>\n",
       "      <th>duration</th>\n",
       "      <th>artist_familiarity</th>\n",
       "      <th>artist_hotttnesss</th>\n",
       "      <th>year</th>\n",
       "    </tr>\n",
       "  </thead>\n",
       "  <tbody>\n",
       "    <tr>\n",
       "      <th>0</th>\n",
       "      <td>b80344d063b5ccb3212f76538f3d9e43d87dca9e</td>\n",
       "      <td>SOAKIMP12A8C130995</td>\n",
       "      <td>1</td>\n",
       "      <td>TRIQAUQ128F42435AD</td>\n",
       "      <td>The Cove</td>\n",
       "      <td>Thicker Than Water</td>\n",
       "      <td>Jack Johnson</td>\n",
       "      <td>112.63955</td>\n",
       "      <td>0.832012</td>\n",
       "      <td>0.677482</td>\n",
       "      <td>0</td>\n",
       "    </tr>\n",
       "    <tr>\n",
       "      <th>1</th>\n",
       "      <td>b80344d063b5ccb3212f76538f3d9e43d87dca9e</td>\n",
       "      <td>SOAPDEY12A81C210A9</td>\n",
       "      <td>1</td>\n",
       "      <td>TRIRLYL128F42539D1</td>\n",
       "      <td>Nothing from Nothing</td>\n",
       "      <td>To Die For</td>\n",
       "      <td>Billy Preston</td>\n",
       "      <td>153.59955</td>\n",
       "      <td>0.580555</td>\n",
       "      <td>0.482492</td>\n",
       "      <td>1974</td>\n",
       "    </tr>\n",
       "    <tr>\n",
       "      <th>2</th>\n",
       "      <td>b80344d063b5ccb3212f76538f3d9e43d87dca9e</td>\n",
       "      <td>SOBBMDR12A8C13253B</td>\n",
       "      <td>2</td>\n",
       "      <td>TRMHBXZ128F4238406</td>\n",
       "      <td>Entre Dos Aguas</td>\n",
       "      <td>Flamenco Para Niños</td>\n",
       "      <td>Paco De Lucia</td>\n",
       "      <td>358.24281</td>\n",
       "      <td>0.633119</td>\n",
       "      <td>0.417718</td>\n",
       "      <td>1976</td>\n",
       "    </tr>\n",
       "    <tr>\n",
       "      <th>3</th>\n",
       "      <td>b80344d063b5ccb3212f76538f3d9e43d87dca9e</td>\n",
       "      <td>SOBFNSP12AF72A0E22</td>\n",
       "      <td>1</td>\n",
       "      <td>TRYQMNI128F147C1C7</td>\n",
       "      <td>Under Cold Blue Stars</td>\n",
       "      <td>Under Cold Blue Stars</td>\n",
       "      <td>Josh Rouse</td>\n",
       "      <td>266.34404</td>\n",
       "      <td>0.675339</td>\n",
       "      <td>0.509058</td>\n",
       "      <td>2002</td>\n",
       "    </tr>\n",
       "    <tr>\n",
       "      <th>4</th>\n",
       "      <td>b80344d063b5ccb3212f76538f3d9e43d87dca9e</td>\n",
       "      <td>SOBFOVM12A58A7D494</td>\n",
       "      <td>1</td>\n",
       "      <td>TRAHZNE128F9341B86</td>\n",
       "      <td>Riot Radio (Soundtrack Version)</td>\n",
       "      <td>Nick &amp; Norah's Infinite Playlist - Original Mo...</td>\n",
       "      <td>The Dead 60s</td>\n",
       "      <td>141.42649</td>\n",
       "      <td>0.650281</td>\n",
       "      <td>0.451749</td>\n",
       "      <td>0</td>\n",
       "    </tr>\n",
       "  </tbody>\n",
       "</table>\n",
       "</div>"
      ],
      "text/plain": [
       "                                    user_id             song_id  play_count  \\\n",
       "0  b80344d063b5ccb3212f76538f3d9e43d87dca9e  SOAKIMP12A8C130995           1   \n",
       "1  b80344d063b5ccb3212f76538f3d9e43d87dca9e  SOAPDEY12A81C210A9           1   \n",
       "2  b80344d063b5ccb3212f76538f3d9e43d87dca9e  SOBBMDR12A8C13253B           2   \n",
       "3  b80344d063b5ccb3212f76538f3d9e43d87dca9e  SOBFNSP12AF72A0E22           1   \n",
       "4  b80344d063b5ccb3212f76538f3d9e43d87dca9e  SOBFOVM12A58A7D494           1   \n",
       "\n",
       "             track_id                            title  \\\n",
       "0  TRIQAUQ128F42435AD                         The Cove   \n",
       "1  TRIRLYL128F42539D1             Nothing from Nothing   \n",
       "2  TRMHBXZ128F4238406                  Entre Dos Aguas   \n",
       "3  TRYQMNI128F147C1C7            Under Cold Blue Stars   \n",
       "4  TRAHZNE128F9341B86  Riot Radio (Soundtrack Version)   \n",
       "\n",
       "                                             release    artist_name  \\\n",
       "0                                 Thicker Than Water   Jack Johnson   \n",
       "1                                         To Die For  Billy Preston   \n",
       "2                                Flamenco Para Niños  Paco De Lucia   \n",
       "3                              Under Cold Blue Stars     Josh Rouse   \n",
       "4  Nick & Norah's Infinite Playlist - Original Mo...   The Dead 60s   \n",
       "\n",
       "    duration  artist_familiarity  artist_hotttnesss  year  \n",
       "0  112.63955            0.832012           0.677482     0  \n",
       "1  153.59955            0.580555           0.482492  1974  \n",
       "2  358.24281            0.633119           0.417718  1976  \n",
       "3  266.34404            0.675339           0.509058  2002  \n",
       "4  141.42649            0.650281           0.451749     0  "
      ]
     },
     "metadata": {},
     "output_type": "display_data"
    },
    {
     "data": {
      "text/html": [
       "<div>\n",
       "<style scoped>\n",
       "    .dataframe tbody tr th:only-of-type {\n",
       "        vertical-align: middle;\n",
       "    }\n",
       "\n",
       "    .dataframe tbody tr th {\n",
       "        vertical-align: top;\n",
       "    }\n",
       "\n",
       "    .dataframe thead th {\n",
       "        text-align: right;\n",
       "    }\n",
       "</style>\n",
       "<table border=\"1\" class=\"dataframe\">\n",
       "  <thead>\n",
       "    <tr style=\"text-align: right;\">\n",
       "      <th></th>\n",
       "      <th>0</th>\n",
       "      <th>1</th>\n",
       "      <th>2</th>\n",
       "      <th>3</th>\n",
       "      <th>4</th>\n",
       "      <th>5</th>\n",
       "      <th>6</th>\n",
       "      <th>7</th>\n",
       "    </tr>\n",
       "  </thead>\n",
       "  <tbody>\n",
       "    <tr>\n",
       "      <th>index</th>\n",
       "      <td>count</td>\n",
       "      <td>mean</td>\n",
       "      <td>std</td>\n",
       "      <td>min</td>\n",
       "      <td>25%</td>\n",
       "      <td>50%</td>\n",
       "      <td>75%</td>\n",
       "      <td>max</td>\n",
       "    </tr>\n",
       "    <tr>\n",
       "      <th>play_count</th>\n",
       "      <td>205187.0</td>\n",
       "      <td>2.859426</td>\n",
       "      <td>7.425793</td>\n",
       "      <td>1.0</td>\n",
       "      <td>1.0</td>\n",
       "      <td>1.0</td>\n",
       "      <td>3.0</td>\n",
       "      <td>1890.0</td>\n",
       "    </tr>\n",
       "  </tbody>\n",
       "</table>\n",
       "</div>"
      ],
      "text/plain": [
       "                   0         1         2    3    4    5    6       7\n",
       "index          count      mean       std  min  25%  50%  75%     max\n",
       "play_count  205187.0  2.859426  7.425793  1.0  1.0  1.0  3.0  1890.0"
      ]
     },
     "execution_count": 14,
     "metadata": {},
     "output_type": "execute_result"
    }
   ],
   "source": [
    "display(df_merged.head())\n",
    "df_merged.play_count.describe().reset_index().T"
   ]
  },
  {
   "cell_type": "code",
   "execution_count": 19,
   "metadata": {},
   "outputs": [
    {
     "name": "stdout",
     "output_type": "stream",
     "text": [
      "28 users, 0.02% of total play counts, listening a single more than 100 times\n"
     ]
    },
    {
     "data": {
      "text/html": [
       "<div>\n",
       "<style scoped>\n",
       "    .dataframe tbody tr th:only-of-type {\n",
       "        vertical-align: middle;\n",
       "    }\n",
       "\n",
       "    .dataframe tbody tr th {\n",
       "        vertical-align: top;\n",
       "    }\n",
       "\n",
       "    .dataframe thead th {\n",
       "        text-align: right;\n",
       "    }\n",
       "</style>\n",
       "<table border=\"1\" class=\"dataframe\">\n",
       "  <thead>\n",
       "    <tr style=\"text-align: right;\">\n",
       "      <th></th>\n",
       "      <th>0</th>\n",
       "      <th>1</th>\n",
       "      <th>2</th>\n",
       "      <th>3</th>\n",
       "      <th>4</th>\n",
       "      <th>5</th>\n",
       "      <th>6</th>\n",
       "      <th>7</th>\n",
       "    </tr>\n",
       "  </thead>\n",
       "  <tbody>\n",
       "    <tr>\n",
       "      <th>index</th>\n",
       "      <td>count</td>\n",
       "      <td>mean</td>\n",
       "      <td>std</td>\n",
       "      <td>min</td>\n",
       "      <td>25%</td>\n",
       "      <td>50%</td>\n",
       "      <td>75%</td>\n",
       "      <td>max</td>\n",
       "    </tr>\n",
       "    <tr>\n",
       "      <th>play_count</th>\n",
       "      <td>33.0</td>\n",
       "      <td>287.878788</td>\n",
       "      <td>310.559149</td>\n",
       "      <td>151.0</td>\n",
       "      <td>184.0</td>\n",
       "      <td>193.0</td>\n",
       "      <td>270.0</td>\n",
       "      <td>1890.0</td>\n",
       "    </tr>\n",
       "  </tbody>\n",
       "</table>\n",
       "</div>"
      ],
      "text/plain": [
       "                0           1           2      3      4      5      6       7\n",
       "index       count        mean         std    min    25%    50%    75%     max\n",
       "play_count   33.0  287.878788  310.559149  151.0  184.0  193.0  270.0  1890.0"
      ]
     },
     "metadata": {},
     "output_type": "display_data"
    }
   ],
   "source": [
    "print('{:d} users, {:.2%} of total play counts, listening a single more than 100 times'.format(\n",
    "    df_merged.user_id[df_merged.play_count>150].unique().shape[0],\n",
    "    df_merged.play_count[df_merged.play_count>150].count()/df_merged.shape[0]))\n",
    "display(df_merged.play_count[df_merged.play_count>150].describe().reset_index().T)"
   ]
  },
  {
   "cell_type": "code",
   "execution_count": 16,
   "metadata": {
    "scrolled": true
   },
   "outputs": [
    {
     "data": {
      "text/plain": [
       "user_id               0\n",
       "song_id               0\n",
       "play_count            0\n",
       "track_id              0\n",
       "title                 0\n",
       "release               0\n",
       "artist_name           0\n",
       "duration              0\n",
       "artist_familiarity    0\n",
       "artist_hotttnesss     0\n",
       "year                  0\n",
       "dtype: int64"
      ]
     },
     "execution_count": 16,
     "metadata": {},
     "output_type": "execute_result"
    }
   ],
   "source": [
    "df_merged.isna().sum()"
   ]
  },
  {
   "cell_type": "code",
   "execution_count": 166,
   "metadata": {},
   "outputs": [],
   "source": [
    "df_merged.dropna(inplace=True)"
   ]
  },
  {
   "cell_type": "code",
   "execution_count": 175,
   "metadata": {},
   "outputs": [],
   "source": [
    "from sklearn.preprocessing import MinMaxScaler\n",
    "scaler = MinMaxScaler()\n",
    "scaler.fit(df_merged[['play_count']])\n",
    "df_merged['play_count_norm'] = scaler.transform(df_merged[['play_count']])\n"
   ]
  },
  {
   "cell_type": "code",
   "execution_count": 217,
   "metadata": {},
   "outputs": [
    {
     "data": {
      "text/plain": [
       "((203338, 6), (203338, 3))"
      ]
     },
     "execution_count": 217,
     "metadata": {},
     "output_type": "execute_result"
    }
   ],
   "source": [
    "# train_data cols\n",
    "training_cols = ['song_id', 'user_id','duration','artist_familiarity','artist_hotttnesss','year']\n",
    "output_cols = ['play_count_norm']\n",
    "training_data = df_merged[training_cols].copy()\n",
    "training_output = df_merged[output_cols]\n",
    "\n",
    "# meta data text\n",
    "text_cols = ['artist_name', 'title', 'release']\n",
    "meta_text= df_merged[text_cols].copy()\n",
    "\n",
    "training_data.shape,meta_text.shape"
   ]
  },
  {
   "cell_type": "code",
   "execution_count": 218,
   "metadata": {},
   "outputs": [],
   "source": [
    "from gensim.models import Word2Vec\n",
    "\n",
    "meta_text['text'] = meta_text.apply(lambda row: ' '.join(row.values.astype(str)), axis=1)\n",
    "corpus = [text.split() for text in meta_text['text']]\n",
    "emb_size = 500\n",
    "# Train Word2Vec model\n",
    "model_w2v = Word2Vec(sentences=corpus, vector_size=emb_size, window=5, min_count=1, workers=4, sg=0)"
   ]
  },
  {
   "cell_type": "code",
   "execution_count": 219,
   "metadata": {},
   "outputs": [
    {
     "data": {
      "text/plain": [
       "(203338, 500)"
      ]
     },
     "execution_count": 219,
     "metadata": {},
     "output_type": "execute_result"
    }
   ],
   "source": [
    "# Encode metadata using Word2Vec\n",
    "meta_text_vec = []\n",
    "for text in meta_text['text']:\n",
    "    vec = np.zeros(emb_size)\n",
    "    tokens = text.split()\n",
    "    for token in tokens:\n",
    "        if token in model_w2v.wv:\n",
    "            vec += model_w2v.wv[token]\n",
    "    meta_text_vec.append(vec)\n",
    "meta_text_vec = np.array(meta_text_vec)\n",
    "meta_text_vec.shape"
   ]
  },
  {
   "cell_type": "code",
   "execution_count": 220,
   "metadata": {
    "scrolled": true
   },
   "outputs": [
    {
     "data": {
      "text/plain": [
       "(203338, 504)"
      ]
     },
     "execution_count": 220,
     "metadata": {},
     "output_type": "execute_result"
    }
   ],
   "source": [
    "concatenated_array = np.concatenate((meta_text_vec, training_data[['duration','artist_familiarity','artist_hotttnesss','year']].values), axis=1)\n",
    "concatenated_array.shape"
   ]
  },
  {
   "cell_type": "code",
   "execution_count": 221,
   "metadata": {
    "scrolled": false
   },
   "outputs": [
    {
     "data": {
      "text/plain": [
       "song_id               0\n",
       "user_id               0\n",
       "duration              0\n",
       "artist_familiarity    0\n",
       "artist_hotttnesss     0\n",
       "year                  0\n",
       "dtype: int64"
      ]
     },
     "execution_count": 221,
     "metadata": {},
     "output_type": "execute_result"
    }
   ],
   "source": [
    "training_data.isna().sum()\n"
   ]
  },
  {
   "cell_type": "code",
   "execution_count": 222,
   "metadata": {},
   "outputs": [],
   "source": [
    "# training_data.fillna(0,inplace=True)\n",
    "# training_data.dropna(inplace=True)\n"
   ]
  },
  {
   "cell_type": "code",
   "execution_count": 223,
   "metadata": {},
   "outputs": [],
   "source": [
    "# training_data"
   ]
  },
  {
   "cell_type": "code",
   "execution_count": 224,
   "metadata": {},
   "outputs": [],
   "source": [
    "import numpy as np\n",
    "from sklearn.model_selection import train_test_split\n",
    "\n",
    "# Split data into train and test sets\n",
    "train_idx, test_idx = train_test_split(range(len(training_data)), test_size=0.2, random_state=42)\n",
    "\n",
    "# Subset data into train and test sets using the indices\n",
    "train_df = training_data.iloc[train_idx]\n",
    "train_meta_array = concatenated_array[train_idx]\n",
    "train_out = training_output.iloc[train_idx]\n",
    "\n",
    "test_df = training_data.iloc[test_idx]\n",
    "test_meta_array = concatenated_array[test_idx]\n",
    "test_out = training_output.iloc[test_idx]\n"
   ]
  },
  {
   "cell_type": "code",
   "execution_count": 225,
   "metadata": {},
   "outputs": [
    {
     "data": {
      "text/html": [
       "<div>\n",
       "<style scoped>\n",
       "    .dataframe tbody tr th:only-of-type {\n",
       "        vertical-align: middle;\n",
       "    }\n",
       "\n",
       "    .dataframe tbody tr th {\n",
       "        vertical-align: top;\n",
       "    }\n",
       "\n",
       "    .dataframe thead th {\n",
       "        text-align: right;\n",
       "    }\n",
       "</style>\n",
       "<table border=\"1\" class=\"dataframe\">\n",
       "  <thead>\n",
       "    <tr style=\"text-align: right;\">\n",
       "      <th></th>\n",
       "      <th>song_id</th>\n",
       "      <th>user_id</th>\n",
       "      <th>duration</th>\n",
       "      <th>artist_familiarity</th>\n",
       "      <th>artist_hotttnesss</th>\n",
       "      <th>year</th>\n",
       "    </tr>\n",
       "  </thead>\n",
       "  <tbody>\n",
       "    <tr>\n",
       "      <th>170237</th>\n",
       "      <td>SOIEYWJ12AB0184438</td>\n",
       "      <td>3e6ef2a572d1f6f06df71bf28190eae9e1934a61</td>\n",
       "      <td>247.27465</td>\n",
       "      <td>0.865129</td>\n",
       "      <td>0.534820</td>\n",
       "      <td>2008</td>\n",
       "    </tr>\n",
       "    <tr>\n",
       "      <th>1164</th>\n",
       "      <td>SOHGYWI12A67ADCD65</td>\n",
       "      <td>baf47ed8da24d607e50d8684cde78b923538640f</td>\n",
       "      <td>253.85751</td>\n",
       "      <td>0.596613</td>\n",
       "      <td>0.425667</td>\n",
       "      <td>1990</td>\n",
       "    </tr>\n",
       "    <tr>\n",
       "      <th>182524</th>\n",
       "      <td>SOWEJXA12A6701C574</td>\n",
       "      <td>c4bccc5a73a417581d3f6eec86299720e3fdd597</td>\n",
       "      <td>294.11220</td>\n",
       "      <td>0.865022</td>\n",
       "      <td>0.916053</td>\n",
       "      <td>2005</td>\n",
       "    </tr>\n",
       "    <tr>\n",
       "      <th>189779</th>\n",
       "      <td>SOGQJKF12A8C13729E</td>\n",
       "      <td>e9870c5d36cd50fe8b513df5de6e1dc0e4c6f37c</td>\n",
       "      <td>231.23546</td>\n",
       "      <td>0.905477</td>\n",
       "      <td>0.843380</td>\n",
       "      <td>2007</td>\n",
       "    </tr>\n",
       "    <tr>\n",
       "      <th>138285</th>\n",
       "      <td>SOTQJCD12A6701D129</td>\n",
       "      <td>74bf50ca7c10e05be0a0eb8dc4e658e63388d82e</td>\n",
       "      <td>242.10240</td>\n",
       "      <td>0.740061</td>\n",
       "      <td>0.553463</td>\n",
       "      <td>2005</td>\n",
       "    </tr>\n",
       "  </tbody>\n",
       "</table>\n",
       "</div>"
      ],
      "text/plain": [
       "                   song_id                                   user_id  \\\n",
       "170237  SOIEYWJ12AB0184438  3e6ef2a572d1f6f06df71bf28190eae9e1934a61   \n",
       "1164    SOHGYWI12A67ADCD65  baf47ed8da24d607e50d8684cde78b923538640f   \n",
       "182524  SOWEJXA12A6701C574  c4bccc5a73a417581d3f6eec86299720e3fdd597   \n",
       "189779  SOGQJKF12A8C13729E  e9870c5d36cd50fe8b513df5de6e1dc0e4c6f37c   \n",
       "138285  SOTQJCD12A6701D129  74bf50ca7c10e05be0a0eb8dc4e658e63388d82e   \n",
       "\n",
       "         duration  artist_familiarity  artist_hotttnesss  year  \n",
       "170237  247.27465            0.865129           0.534820  2008  \n",
       "1164    253.85751            0.596613           0.425667  1990  \n",
       "182524  294.11220            0.865022           0.916053  2005  \n",
       "189779  231.23546            0.905477           0.843380  2007  \n",
       "138285  242.10240            0.740061           0.553463  2005  "
      ]
     },
     "execution_count": 225,
     "metadata": {},
     "output_type": "execute_result"
    }
   ],
   "source": [
    "train_df.head()"
   ]
  },
  {
   "cell_type": "code",
   "execution_count": 226,
   "metadata": {},
   "outputs": [
    {
     "name": "stderr",
     "output_type": "stream",
     "text": [
      "/tmp/ipykernel_44696/1113214292.py:1: SettingWithCopyWarning: \n",
      "A value is trying to be set on a copy of a slice from a DataFrame.\n",
      "Try using .loc[row_indexer,col_indexer] = value instead\n",
      "\n",
      "See the caveats in the documentation: https://pandas.pydata.org/pandas-docs/stable/user_guide/indexing.html#returning-a-view-versus-a-copy\n",
      "  train_df['song_id'] = pd.Categorical(train_df['song_id'])\n",
      "/tmp/ipykernel_44696/1113214292.py:3: SettingWithCopyWarning: \n",
      "A value is trying to be set on a copy of a slice from a DataFrame.\n",
      "Try using .loc[row_indexer,col_indexer] = value instead\n",
      "\n",
      "See the caveats in the documentation: https://pandas.pydata.org/pandas-docs/stable/user_guide/indexing.html#returning-a-view-versus-a-copy\n",
      "  train_df['user_id'] = pd.Categorical(train_df['user_id'])\n",
      "/tmp/ipykernel_44696/1113214292.py:6: SettingWithCopyWarning: \n",
      "A value is trying to be set on a copy of a slice from a DataFrame.\n",
      "Try using .loc[row_indexer,col_indexer] = value instead\n",
      "\n",
      "See the caveats in the documentation: https://pandas.pydata.org/pandas-docs/stable/user_guide/indexing.html#returning-a-view-versus-a-copy\n",
      "  test_df['song_id'] = pd.Categorical(test_df['song_id'])\n",
      "/tmp/ipykernel_44696/1113214292.py:8: SettingWithCopyWarning: \n",
      "A value is trying to be set on a copy of a slice from a DataFrame.\n",
      "Try using .loc[row_indexer,col_indexer] = value instead\n",
      "\n",
      "See the caveats in the documentation: https://pandas.pydata.org/pandas-docs/stable/user_guide/indexing.html#returning-a-view-versus-a-copy\n",
      "  test_df['user_id'] = pd.Categorical(test_df['user_id'])\n"
     ]
    }
   ],
   "source": [
    "train_df['song_id'] = pd.Categorical(train_df['song_id'])\n",
    "train_inp1 = train_df['song_id'].cat.codes\n",
    "train_df['user_id'] = pd.Categorical(train_df['user_id'])\n",
    "train_inp2 = train_df['user_id'].cat.codes\n",
    "\n",
    "test_df['song_id'] = pd.Categorical(test_df['song_id'])\n",
    "test_inp1 = test_df['song_id'].cat.codes\n",
    "test_df['user_id'] = pd.Categorical(test_df['user_id'])\n",
    "test_inp2 = test_df['user_id'].cat.codes\n"
   ]
  },
  {
   "cell_type": "code",
   "execution_count": 227,
   "metadata": {},
   "outputs": [
    {
     "data": {
      "text/plain": [
       "(162670, 162670, 1, 1, 504)"
      ]
     },
     "execution_count": 227,
     "metadata": {},
     "output_type": "execute_result"
    }
   ],
   "source": [
    "#nunique() will return the total number of unique items\n",
    "\n",
    "song_id = len(train_inp1) \n",
    "user_id = len(train_inp2)\n",
    "song_input_dim = 1#song_input_data.shape[1]\n",
    "user_input_dim = 1#user_input_data.shape[1]\n",
    "meta_text_dim = train_meta_array.shape[1]\n",
    "\n",
    "song_id,user_id,song_input_dim,user_input_dim,meta_text_dim"
   ]
  },
  {
   "cell_type": "code",
   "execution_count": 228,
   "metadata": {},
   "outputs": [],
   "source": [
    "import tensorflow as tf\n",
    "from tensorflow.keras.layers import Dense, Flatten, Input, Embedding, Concatenate, Dropout\n",
    "from tensorflow.keras.callbacks import EarlyStopping\n",
    "from tensorflow.keras.optimizers import Adam\n",
    "import keras\n",
    "from keras.layers import Add, Activation, Lambda, BatchNormalization, Concatenate, Dropout, Input, Embedding, Dot, Reshape, Dense, Flatten\n",
    "from keras import regularizers"
   ]
  },
  {
   "cell_type": "code",
   "execution_count": 229,
   "metadata": {},
   "outputs": [],
   "source": [
    "#Embedding layer for songs\n",
    "songs_input = Input(shape=(song_input_dim,))#1st Input Layer\n",
    "embedding_layer_songs = Embedding(song_id+1 ,10)(songs_input)#Embedding layer\n",
    "embedding_output_songs = Flatten()(embedding_layer_songs)#Embedding layer output\n",
    "\n",
    "#Embedding layer for users\n",
    "users_input = Input(shape=(user_input_dim,))#1st Input Layer\n",
    "embedding_layer_users = Embedding(user_id+1 ,10)(users_input)#Embedding layer\n",
    "embedding_output_users = Flatten()(embedding_layer_users)#Embedding layer output\n",
    "\n",
    "# #Embedding layer for meta data\n",
    "meta_input = Input(shape=(meta_text_dim,), name='metadata_input')#1st Input Layer\n",
    "dense_layer = Dense(64, activation='relu')(meta_input)\n",
    "metadata_embedding = Dense(10, activation='relu',name='metadata_embedding')(dense_layer)\n",
    "\n",
    "#Concatination and Dense layer\n",
    "joining_layer = Concatenate()([embedding_output_songs, embedding_output_users,metadata_embedding])# metadata_embedding\n",
    "hidden_layer_1 = Dense(16, activation='relu')(joining_layer)\n",
    "hidden_layer_1 = Dense(8, activation='relu')(hidden_layer_1)\n",
    "output_layer = Dense(1, activation= 'sigmoid')(hidden_layer_1)\n",
    "\n",
    "model1 = tf.keras.Model([songs_input, users_input,meta_input], output_layer) "
   ]
  },
  {
   "cell_type": "code",
   "execution_count": 230,
   "metadata": {},
   "outputs": [
    {
     "name": "stderr",
     "output_type": "stream",
     "text": [
      "WARNING:absl:`lr` is deprecated in Keras optimizer, please use `learning_rate` or use the legacy optimizer, e.g.,tf.keras.optimizers.legacy.Adam.\n"
     ]
    },
    {
     "name": "stdout",
     "output_type": "stream",
     "text": [
      "Model: \"model_8\"\n",
      "__________________________________________________________________________________________________\n",
      " Layer (type)                   Output Shape         Param #     Connected to                     \n",
      "==================================================================================================\n",
      " input_17 (InputLayer)          [(None, 1)]          0           []                               \n",
      "                                                                                                  \n",
      " input_18 (InputLayer)          [(None, 1)]          0           []                               \n",
      "                                                                                                  \n",
      " metadata_input (InputLayer)    [(None, 504)]        0           []                               \n",
      "                                                                                                  \n",
      " embedding_16 (Embedding)       (None, 1, 10)        1626710     ['input_17[0][0]']               \n",
      "                                                                                                  \n",
      " embedding_17 (Embedding)       (None, 1, 10)        1626710     ['input_18[0][0]']               \n",
      "                                                                                                  \n",
      " dense_32 (Dense)               (None, 64)           32320       ['metadata_input[0][0]']         \n",
      "                                                                                                  \n",
      " flatten_16 (Flatten)           (None, 10)           0           ['embedding_16[0][0]']           \n",
      "                                                                                                  \n",
      " flatten_17 (Flatten)           (None, 10)           0           ['embedding_17[0][0]']           \n",
      "                                                                                                  \n",
      " metadata_embedding (Dense)     (None, 10)           650         ['dense_32[0][0]']               \n",
      "                                                                                                  \n",
      " concatenate_8 (Concatenate)    (None, 30)           0           ['flatten_16[0][0]',             \n",
      "                                                                  'flatten_17[0][0]',             \n",
      "                                                                  'metadata_embedding[0][0]']     \n",
      "                                                                                                  \n",
      " dense_33 (Dense)               (None, 16)           496         ['concatenate_8[0][0]']          \n",
      "                                                                                                  \n",
      " dense_34 (Dense)               (None, 8)            136         ['dense_33[0][0]']               \n",
      "                                                                                                  \n",
      " dense_35 (Dense)               (None, 1)            9           ['dense_34[0][0]']               \n",
      "                                                                                                  \n",
      "==================================================================================================\n",
      "Total params: 3,287,031\n",
      "Trainable params: 3,287,031\n",
      "Non-trainable params: 0\n",
      "__________________________________________________________________________________________________\n"
     ]
    }
   ],
   "source": [
    "#Model compilation\n",
    "\n",
    "optimizer = Adam(lr=0.001, epsilon = 1e-6, amsgrad=True) #epsilon = decay rate\n",
    "model1.compile(optimizer='adam', loss='mse', metrics=[tf.keras.metrics.RootMeanSquaredError()])\n",
    "model1.summary()"
   ]
  },
  {
   "cell_type": "code",
   "execution_count": 231,
   "metadata": {},
   "outputs": [
    {
     "data": {
      "text/plain": [
       "((162670,), (162670,), (162670, 504), (162670, 1))"
      ]
     },
     "execution_count": 231,
     "metadata": {},
     "output_type": "execute_result"
    }
   ],
   "source": [
    "train_inp1.shape, train_inp2.shape,train_meta_array.shape,train_out.shape"
   ]
  },
  {
   "cell_type": "code",
   "execution_count": 232,
   "metadata": {
    "scrolled": false
   },
   "outputs": [
    {
     "name": "stdout",
     "output_type": "stream",
     "text": [
      "Epoch 1/20\n",
      "2034/2034 [==============================] - 21s 10ms/step - loss: 0.0206 - root_mean_squared_error: 0.1437 - val_loss: 0.0191 - val_root_mean_squared_error: 0.1382\n",
      "Epoch 2/20\n",
      "2034/2034 [==============================] - 19s 9ms/step - loss: 0.0154 - root_mean_squared_error: 0.1241 - val_loss: 0.0140 - val_root_mean_squared_error: 0.1183\n",
      "Epoch 3/20\n",
      "2034/2034 [==============================] - 19s 9ms/step - loss: 0.0121 - root_mean_squared_error: 0.1102 - val_loss: 0.0144 - val_root_mean_squared_error: 0.1200\n"
     ]
    }
   ],
   "source": [
    "#Training model\n",
    "\n",
    "early_stopping = EarlyStopping(monitor = 'val_loss', patience = 1)\n",
    "\n",
    "history = model1.fit(\n",
    "  [train_inp1, train_inp2,train_meta_array], train_out, \n",
    "  batch_size=64, \n",
    "  epochs=20, \n",
    "  verbose=1,\n",
    "  callbacks = [early_stopping],\n",
    "  validation_split=0.2\n",
    ")"
   ]
  },
  {
   "cell_type": "code",
   "execution_count": 233,
   "metadata": {},
   "outputs": [
    {
     "name": "stderr",
     "output_type": "stream",
     "text": [
      "/tmp/ipykernel_44696/2178057798.py:1: SettingWithCopyWarning: \n",
      "A value is trying to be set on a copy of a slice from a DataFrame.\n",
      "Try using .loc[row_indexer,col_indexer] = value instead\n",
      "\n",
      "See the caveats in the documentation: https://pandas.pydata.org/pandas-docs/stable/user_guide/indexing.html#returning-a-view-versus-a-copy\n",
      "  test_df['song_id'] = pd.Categorical(test_df['song_id'])\n",
      "/tmp/ipykernel_44696/2178057798.py:3: SettingWithCopyWarning: \n",
      "A value is trying to be set on a copy of a slice from a DataFrame.\n",
      "Try using .loc[row_indexer,col_indexer] = value instead\n",
      "\n",
      "See the caveats in the documentation: https://pandas.pydata.org/pandas-docs/stable/user_guide/indexing.html#returning-a-view-versus-a-copy\n",
      "  test_df['user_id'] = pd.Categorical(test_df['user_id'])\n"
     ]
    }
   ],
   "source": [
    "test_df['song_id'] = pd.Categorical(test_df['song_id'])\n",
    "test_inp1 = test_df['song_id'].cat.codes\n",
    "test_df['user_id'] = pd.Categorical(test_df['user_id'])\n",
    "test_inp2 = test_df['user_id'].cat.codes\n",
    "\n",
    "test_df = training_data.iloc[test_idx]\n",
    "test_meta_array = concatenated_array[test_idx]\n",
    "test_out = training_output.iloc[test_idx]"
   ]
  },
  {
   "cell_type": "code",
   "execution_count": 234,
   "metadata": {},
   "outputs": [
    {
     "name": "stdout",
     "output_type": "stream",
     "text": [
      "1271/1271 [==============================] - 1s 1ms/step\n"
     ]
    }
   ],
   "source": [
    "ans = model1.predict([test_inp1,test_inp2,test_meta_array])"
   ]
  },
  {
   "cell_type": "code",
   "execution_count": 235,
   "metadata": {
    "scrolled": true
   },
   "outputs": [
    {
     "name": "stdout",
     "output_type": "stream",
     "text": [
      "1271/1271 [==============================] - 2s 1ms/step - loss: 0.0190 - root_mean_squared_error: 0.1377\n"
     ]
    },
    {
     "data": {
      "text/plain": [
       "[0.018955158069729805, 0.13767772912979126]"
      ]
     },
     "execution_count": 235,
     "metadata": {},
     "output_type": "execute_result"
    }
   ],
   "source": [
    "model1.evaluate([test_inp1,test_inp2,test_meta_array],test_out)"
   ]
  },
  {
   "cell_type": "code",
   "execution_count": null,
   "metadata": {},
   "outputs": [],
   "source": []
  },
  {
   "cell_type": "markdown",
   "metadata": {},
   "source": [
    "### WITHOUT NORMALIZING"
   ]
  },
  {
   "cell_type": "code",
   "execution_count": 17,
   "metadata": {},
   "outputs": [
    {
     "data": {
      "text/plain": [
       "((205187, 6), (205187, 3))"
      ]
     },
     "execution_count": 17,
     "metadata": {},
     "output_type": "execute_result"
    }
   ],
   "source": [
    "# train_data cols\n",
    "training_cols = ['song_id', 'user_id','duration','artist_familiarity','artist_hotttnesss','year']\n",
    "output_cols = ['play_count']\n",
    "training_data = df_merged[training_cols].copy()\n",
    "training_output = df_merged[output_cols]\n",
    "\n",
    "# meta data text\n",
    "text_cols = ['artist_name', 'title', 'release']\n",
    "meta_text= df_merged[text_cols].copy()\n",
    "\n",
    "training_data.shape,meta_text.shape"
   ]
  },
  {
   "cell_type": "code",
   "execution_count": 18,
   "metadata": {},
   "outputs": [],
   "source": [
    "from gensim.models import Word2Vec\n",
    "\n",
    "meta_text['text'] = meta_text.apply(lambda row: ' '.join(row.values.astype(str)), axis=1)\n",
    "corpus = [text.split() for text in meta_text['text']]\n",
    "emb_size = 500\n",
    "# Train Word2Vec model\n",
    "model_w2v = Word2Vec(sentences=corpus, vector_size=emb_size, window=5, min_count=1, workers=4, sg=0)"
   ]
  },
  {
   "cell_type": "code",
   "execution_count": 19,
   "metadata": {},
   "outputs": [
    {
     "data": {
      "text/plain": [
       "(205187, 500)"
      ]
     },
     "execution_count": 19,
     "metadata": {},
     "output_type": "execute_result"
    }
   ],
   "source": [
    "# Encode metadata using Word2Vec\n",
    "meta_text_vec = []\n",
    "for text in meta_text['text']:\n",
    "    vec = np.zeros(emb_size)\n",
    "    tokens = text.split()\n",
    "    for token in tokens:\n",
    "        if token in model_w2v.wv:\n",
    "            vec += model_w2v.wv[token]\n",
    "    meta_text_vec.append(vec)\n",
    "meta_text_vec = np.array(meta_text_vec)\n",
    "meta_text_vec.shape"
   ]
  },
  {
   "cell_type": "code",
   "execution_count": 20,
   "metadata": {
    "scrolled": true
   },
   "outputs": [
    {
     "data": {
      "text/plain": [
       "(205187, 504)"
      ]
     },
     "execution_count": 20,
     "metadata": {},
     "output_type": "execute_result"
    }
   ],
   "source": [
    "concatenated_array = np.concatenate((meta_text_vec, training_data[['duration','artist_familiarity','artist_hotttnesss','year']].values), axis=1)\n",
    "concatenated_array.shape"
   ]
  },
  {
   "cell_type": "code",
   "execution_count": 21,
   "metadata": {
    "scrolled": false
   },
   "outputs": [
    {
     "data": {
      "text/plain": [
       "song_id               0\n",
       "user_id               0\n",
       "duration              0\n",
       "artist_familiarity    0\n",
       "artist_hotttnesss     0\n",
       "year                  0\n",
       "dtype: int64"
      ]
     },
     "execution_count": 21,
     "metadata": {},
     "output_type": "execute_result"
    }
   ],
   "source": [
    "training_data.isna().sum()\n"
   ]
  },
  {
   "cell_type": "code",
   "execution_count": 22,
   "metadata": {},
   "outputs": [],
   "source": [
    "# training_data.fillna(0,inplace=True)\n",
    "# training_data.dropna(inplace=True)\n"
   ]
  },
  {
   "cell_type": "code",
   "execution_count": 23,
   "metadata": {},
   "outputs": [],
   "source": [
    "# training_data"
   ]
  },
  {
   "cell_type": "code",
   "execution_count": 24,
   "metadata": {},
   "outputs": [],
   "source": [
    "import numpy as np\n",
    "from sklearn.model_selection import train_test_split\n",
    "\n",
    "# Split data into train and test sets\n",
    "train_idx, test_idx = train_test_split(range(len(training_data)), test_size=0.2, random_state=42)\n",
    "\n",
    "# Subset data into train and test sets using the indices\n",
    "train_df = training_data.iloc[train_idx]\n",
    "train_meta_array = concatenated_array[train_idx]\n",
    "train_out = training_output.iloc[train_idx]\n",
    "\n",
    "test_df = training_data.iloc[test_idx]\n",
    "test_meta_array = concatenated_array[test_idx]\n",
    "test_out = training_output.iloc[test_idx]\n"
   ]
  },
  {
   "cell_type": "code",
   "execution_count": 25,
   "metadata": {},
   "outputs": [
    {
     "data": {
      "text/html": [
       "<div>\n",
       "<style scoped>\n",
       "    .dataframe tbody tr th:only-of-type {\n",
       "        vertical-align: middle;\n",
       "    }\n",
       "\n",
       "    .dataframe tbody tr th {\n",
       "        vertical-align: top;\n",
       "    }\n",
       "\n",
       "    .dataframe thead th {\n",
       "        text-align: right;\n",
       "    }\n",
       "</style>\n",
       "<table border=\"1\" class=\"dataframe\">\n",
       "  <thead>\n",
       "    <tr style=\"text-align: right;\">\n",
       "      <th></th>\n",
       "      <th>song_id</th>\n",
       "      <th>user_id</th>\n",
       "      <th>duration</th>\n",
       "      <th>artist_familiarity</th>\n",
       "      <th>artist_hotttnesss</th>\n",
       "      <th>year</th>\n",
       "    </tr>\n",
       "  </thead>\n",
       "  <tbody>\n",
       "    <tr>\n",
       "      <th>106606</th>\n",
       "      <td>SOFLJQZ12A6D4FADA6</td>\n",
       "      <td>2f27bb3405561e8c5cd2a0f10a35c639e06c38f2</td>\n",
       "      <td>127.24200</td>\n",
       "      <td>0.629097</td>\n",
       "      <td>0.411320</td>\n",
       "      <td>1974</td>\n",
       "    </tr>\n",
       "    <tr>\n",
       "      <th>54200</th>\n",
       "      <td>SORLVZE12A67ADBF3C</td>\n",
       "      <td>1f2d0f82aae27c374b5c09ab5ef122f6e39fbad2</td>\n",
       "      <td>215.87546</td>\n",
       "      <td>0.757952</td>\n",
       "      <td>0.498424</td>\n",
       "      <td>2007</td>\n",
       "    </tr>\n",
       "    <tr>\n",
       "      <th>51185</th>\n",
       "      <td>SOPTZCE12AB0187866</td>\n",
       "      <td>6a4424678ae575822d6a368e2a51d61d9c79e3a4</td>\n",
       "      <td>217.83465</td>\n",
       "      <td>0.655120</td>\n",
       "      <td>0.433727</td>\n",
       "      <td>1996</td>\n",
       "    </tr>\n",
       "    <tr>\n",
       "      <th>74566</th>\n",
       "      <td>SOYCGVD12AF729F8C2</td>\n",
       "      <td>d521d6f5f6bec4f64521a2605bdcaede4191d1b8</td>\n",
       "      <td>323.63057</td>\n",
       "      <td>0.871011</td>\n",
       "      <td>0.804830</td>\n",
       "      <td>2002</td>\n",
       "    </tr>\n",
       "    <tr>\n",
       "      <th>201041</th>\n",
       "      <td>SOBZDFV12AB0182373</td>\n",
       "      <td>29d207f0191b03c04ad6fb26cd431c9d31f7933b</td>\n",
       "      <td>217.91302</td>\n",
       "      <td>0.789104</td>\n",
       "      <td>0.576197</td>\n",
       "      <td>1994</td>\n",
       "    </tr>\n",
       "  </tbody>\n",
       "</table>\n",
       "</div>"
      ],
      "text/plain": [
       "                   song_id                                   user_id  \\\n",
       "106606  SOFLJQZ12A6D4FADA6  2f27bb3405561e8c5cd2a0f10a35c639e06c38f2   \n",
       "54200   SORLVZE12A67ADBF3C  1f2d0f82aae27c374b5c09ab5ef122f6e39fbad2   \n",
       "51185   SOPTZCE12AB0187866  6a4424678ae575822d6a368e2a51d61d9c79e3a4   \n",
       "74566   SOYCGVD12AF729F8C2  d521d6f5f6bec4f64521a2605bdcaede4191d1b8   \n",
       "201041  SOBZDFV12AB0182373  29d207f0191b03c04ad6fb26cd431c9d31f7933b   \n",
       "\n",
       "         duration  artist_familiarity  artist_hotttnesss  year  \n",
       "106606  127.24200            0.629097           0.411320  1974  \n",
       "54200   215.87546            0.757952           0.498424  2007  \n",
       "51185   217.83465            0.655120           0.433727  1996  \n",
       "74566   323.63057            0.871011           0.804830  2002  \n",
       "201041  217.91302            0.789104           0.576197  1994  "
      ]
     },
     "execution_count": 25,
     "metadata": {},
     "output_type": "execute_result"
    }
   ],
   "source": [
    "train_df.head()"
   ]
  },
  {
   "cell_type": "code",
   "execution_count": 26,
   "metadata": {},
   "outputs": [
    {
     "name": "stderr",
     "output_type": "stream",
     "text": [
      "/tmp/ipykernel_72632/1113214292.py:1: SettingWithCopyWarning: \n",
      "A value is trying to be set on a copy of a slice from a DataFrame.\n",
      "Try using .loc[row_indexer,col_indexer] = value instead\n",
      "\n",
      "See the caveats in the documentation: https://pandas.pydata.org/pandas-docs/stable/user_guide/indexing.html#returning-a-view-versus-a-copy\n",
      "  train_df['song_id'] = pd.Categorical(train_df['song_id'])\n",
      "/tmp/ipykernel_72632/1113214292.py:3: SettingWithCopyWarning: \n",
      "A value is trying to be set on a copy of a slice from a DataFrame.\n",
      "Try using .loc[row_indexer,col_indexer] = value instead\n",
      "\n",
      "See the caveats in the documentation: https://pandas.pydata.org/pandas-docs/stable/user_guide/indexing.html#returning-a-view-versus-a-copy\n",
      "  train_df['user_id'] = pd.Categorical(train_df['user_id'])\n",
      "/tmp/ipykernel_72632/1113214292.py:6: SettingWithCopyWarning: \n",
      "A value is trying to be set on a copy of a slice from a DataFrame.\n",
      "Try using .loc[row_indexer,col_indexer] = value instead\n",
      "\n",
      "See the caveats in the documentation: https://pandas.pydata.org/pandas-docs/stable/user_guide/indexing.html#returning-a-view-versus-a-copy\n",
      "  test_df['song_id'] = pd.Categorical(test_df['song_id'])\n",
      "/tmp/ipykernel_72632/1113214292.py:8: SettingWithCopyWarning: \n",
      "A value is trying to be set on a copy of a slice from a DataFrame.\n",
      "Try using .loc[row_indexer,col_indexer] = value instead\n",
      "\n",
      "See the caveats in the documentation: https://pandas.pydata.org/pandas-docs/stable/user_guide/indexing.html#returning-a-view-versus-a-copy\n",
      "  test_df['user_id'] = pd.Categorical(test_df['user_id'])\n"
     ]
    }
   ],
   "source": [
    "train_df['song_id'] = pd.Categorical(train_df['song_id'])\n",
    "train_inp1 = train_df['song_id'].cat.codes\n",
    "train_df['user_id'] = pd.Categorical(train_df['user_id'])\n",
    "train_inp2 = train_df['user_id'].cat.codes\n",
    "\n",
    "test_df['song_id'] = pd.Categorical(test_df['song_id'])\n",
    "test_inp1 = test_df['song_id'].cat.codes\n",
    "test_df['user_id'] = pd.Categorical(test_df['user_id'])\n",
    "test_inp2 = test_df['user_id'].cat.codes\n"
   ]
  },
  {
   "cell_type": "code",
   "execution_count": 27,
   "metadata": {},
   "outputs": [
    {
     "data": {
      "text/plain": [
       "(164149, 164149, 1, 1, 504)"
      ]
     },
     "execution_count": 27,
     "metadata": {},
     "output_type": "execute_result"
    }
   ],
   "source": [
    "#nunique() will return the total number of unique items\n",
    "\n",
    "song_id = len(train_inp1) \n",
    "user_id = len(train_inp2)\n",
    "song_input_dim = 1#song_input_data.shape[1]\n",
    "user_input_dim = 1#user_input_data.shape[1]\n",
    "meta_text_dim = train_meta_array.shape[1]\n",
    "\n",
    "song_id,user_id,song_input_dim,user_input_dim,meta_text_dim"
   ]
  },
  {
   "cell_type": "code",
   "execution_count": 28,
   "metadata": {},
   "outputs": [
    {
     "name": "stderr",
     "output_type": "stream",
     "text": [
      "2023-04-30 13:34:04.842616: I tensorflow/core/platform/cpu_feature_guard.cc:182] This TensorFlow binary is optimized to use available CPU instructions in performance-critical operations.\n",
      "To enable the following instructions: AVX2 FMA, in other operations, rebuild TensorFlow with the appropriate compiler flags.\n",
      "2023-04-30 13:34:16.888962: W tensorflow/compiler/tf2tensorrt/utils/py_utils.cc:38] TF-TRT Warning: Could not find TensorRT\n"
     ]
    }
   ],
   "source": [
    "import tensorflow as tf\n",
    "from tensorflow.keras.layers import Dense, Flatten, Input, Embedding, Concatenate, Dropout\n",
    "from tensorflow.keras.callbacks import EarlyStopping\n",
    "from tensorflow.keras.optimizers import Adam\n",
    "import keras\n",
    "from keras.layers import Add, Activation, Lambda, BatchNormalization, Concatenate, Dropout, Input, Embedding, Dot, Reshape, Dense, Flatten\n",
    "from keras import regularizers"
   ]
  },
  {
   "cell_type": "code",
   "execution_count": 29,
   "metadata": {},
   "outputs": [
    {
     "name": "stderr",
     "output_type": "stream",
     "text": [
      "2023-04-30 13:34:32.852965: E tensorflow/compiler/xla/stream_executor/cuda/cuda_driver.cc:266] failed call to cuInit: CUDA_ERROR_NO_DEVICE: no CUDA-capable device is detected\n"
     ]
    }
   ],
   "source": [
    "#Embedding layer for songs\n",
    "songs_input = Input(shape=(song_input_dim,))#1st Input Layer\n",
    "embedding_layer_songs = Embedding(song_id+1 ,10)(songs_input)#Embedding layer\n",
    "embedding_output_songs = Flatten()(embedding_layer_songs)#Embedding layer output\n",
    "\n",
    "#Embedding layer for users\n",
    "users_input = Input(shape=(user_input_dim,))#1st Input Layer\n",
    "embedding_layer_users = Embedding(user_id+1 ,10)(users_input)#Embedding layer\n",
    "embedding_output_users = Flatten()(embedding_layer_users)#Embedding layer output\n",
    "\n",
    "# #Embedding layer for meta data\n",
    "meta_input = Input(shape=(meta_text_dim,), name='metadata_input')#1st Input Layer\n",
    "dense_layer = Dense(64, activation='relu')(meta_input)\n",
    "metadata_embedding = Dense(10, activation='relu',name='metadata_embedding')(dense_layer)\n",
    "\n",
    "#Concatination and Dense layer\n",
    "joining_layer = Concatenate()([embedding_output_songs, embedding_output_users,metadata_embedding])# metadata_embedding\n",
    "hidden_layer_1 = Dense(16, activation='relu')(joining_layer)\n",
    "hidden_layer_1 = Dense(8, activation='relu')(hidden_layer_1)\n",
    "output_layer = Dense(1)(hidden_layer_1)\n",
    "\n",
    "model2 = tf.keras.Model([songs_input, users_input,meta_input], output_layer) "
   ]
  },
  {
   "cell_type": "code",
   "execution_count": 30,
   "metadata": {},
   "outputs": [
    {
     "name": "stderr",
     "output_type": "stream",
     "text": [
      "WARNING:absl:`lr` is deprecated in Keras optimizer, please use `learning_rate` or use the legacy optimizer, e.g.,tf.keras.optimizers.legacy.Adam.\n"
     ]
    },
    {
     "name": "stdout",
     "output_type": "stream",
     "text": [
      "Model: \"model\"\n",
      "__________________________________________________________________________________________________\n",
      " Layer (type)                   Output Shape         Param #     Connected to                     \n",
      "==================================================================================================\n",
      " input_1 (InputLayer)           [(None, 1)]          0           []                               \n",
      "                                                                                                  \n",
      " input_2 (InputLayer)           [(None, 1)]          0           []                               \n",
      "                                                                                                  \n",
      " metadata_input (InputLayer)    [(None, 504)]        0           []                               \n",
      "                                                                                                  \n",
      " embedding (Embedding)          (None, 1, 10)        1641500     ['input_1[0][0]']                \n",
      "                                                                                                  \n",
      " embedding_1 (Embedding)        (None, 1, 10)        1641500     ['input_2[0][0]']                \n",
      "                                                                                                  \n",
      " dense (Dense)                  (None, 64)           32320       ['metadata_input[0][0]']         \n",
      "                                                                                                  \n",
      " flatten (Flatten)              (None, 10)           0           ['embedding[0][0]']              \n",
      "                                                                                                  \n",
      " flatten_1 (Flatten)            (None, 10)           0           ['embedding_1[0][0]']            \n",
      "                                                                                                  \n",
      " metadata_embedding (Dense)     (None, 10)           650         ['dense[0][0]']                  \n",
      "                                                                                                  \n",
      " concatenate (Concatenate)      (None, 30)           0           ['flatten[0][0]',                \n",
      "                                                                  'flatten_1[0][0]',              \n",
      "                                                                  'metadata_embedding[0][0]']     \n",
      "                                                                                                  \n",
      " dense_1 (Dense)                (None, 16)           496         ['concatenate[0][0]']            \n",
      "                                                                                                  \n",
      " dense_2 (Dense)                (None, 8)            136         ['dense_1[0][0]']                \n",
      "                                                                                                  \n",
      " dense_3 (Dense)                (None, 1)            9           ['dense_2[0][0]']                \n",
      "                                                                                                  \n",
      "==================================================================================================\n",
      "Total params: 3,316,611\n",
      "Trainable params: 3,316,611\n",
      "Non-trainable params: 0\n",
      "__________________________________________________________________________________________________\n"
     ]
    }
   ],
   "source": [
    "#Model compilation\n",
    "\n",
    "optimizer = Adam(lr=0.001, epsilon = 1e-6, amsgrad=True) #epsilon = decay rate\n",
    "model2.compile(optimizer='adam', loss='mse', metrics=[tf.keras.metrics.RootMeanSquaredError()])\n",
    "model2.summary()"
   ]
  },
  {
   "cell_type": "code",
   "execution_count": 31,
   "metadata": {},
   "outputs": [
    {
     "data": {
      "text/plain": [
       "((164149,), (164149,), (164149, 504), (164149, 1))"
      ]
     },
     "execution_count": 31,
     "metadata": {},
     "output_type": "execute_result"
    }
   ],
   "source": [
    "train_inp1.shape, train_inp2.shape,train_meta_array.shape,train_out.shape"
   ]
  },
  {
   "cell_type": "code",
   "execution_count": 32,
   "metadata": {
    "scrolled": false
   },
   "outputs": [
    {
     "name": "stdout",
     "output_type": "stream",
     "text": [
      "Epoch 1/20\n",
      "1026/1026 [==============================] - 12s 11ms/step - loss: 75.0113 - root_mean_squared_error: 8.6609 - val_loss: 31.5989 - val_root_mean_squared_error: 5.6213\n",
      "Epoch 2/20\n",
      "1026/1026 [==============================] - 10s 10ms/step - loss: 62.4995 - root_mean_squared_error: 7.9057 - val_loss: 30.0465 - val_root_mean_squared_error: 5.4815\n",
      "Epoch 3/20\n",
      "1026/1026 [==============================] - 10s 10ms/step - loss: 59.1339 - root_mean_squared_error: 7.6899 - val_loss: 29.8530 - val_root_mean_squared_error: 5.4638\n",
      "Epoch 4/20\n",
      "1026/1026 [==============================] - 10s 10ms/step - loss: 55.9239 - root_mean_squared_error: 7.4782 - val_loss: 30.8691 - val_root_mean_squared_error: 5.5560\n"
     ]
    }
   ],
   "source": [
    "#Training model\n",
    "\n",
    "early_stopping = EarlyStopping(monitor = 'val_loss', patience = 1)\n",
    "\n",
    "history = model2.fit(\n",
    "  [train_inp1, train_inp2,train_meta_array], train_out, \n",
    "  batch_size=128, \n",
    "  epochs=20, \n",
    "  verbose=1,\n",
    "  callbacks = [early_stopping],\n",
    "  validation_split=0.2\n",
    ")"
   ]
  },
  {
   "cell_type": "code",
   "execution_count": 33,
   "metadata": {},
   "outputs": [
    {
     "name": "stderr",
     "output_type": "stream",
     "text": [
      "/tmp/ipykernel_72632/2178057798.py:1: SettingWithCopyWarning: \n",
      "A value is trying to be set on a copy of a slice from a DataFrame.\n",
      "Try using .loc[row_indexer,col_indexer] = value instead\n",
      "\n",
      "See the caveats in the documentation: https://pandas.pydata.org/pandas-docs/stable/user_guide/indexing.html#returning-a-view-versus-a-copy\n",
      "  test_df['song_id'] = pd.Categorical(test_df['song_id'])\n",
      "/tmp/ipykernel_72632/2178057798.py:3: SettingWithCopyWarning: \n",
      "A value is trying to be set on a copy of a slice from a DataFrame.\n",
      "Try using .loc[row_indexer,col_indexer] = value instead\n",
      "\n",
      "See the caveats in the documentation: https://pandas.pydata.org/pandas-docs/stable/user_guide/indexing.html#returning-a-view-versus-a-copy\n",
      "  test_df['user_id'] = pd.Categorical(test_df['user_id'])\n"
     ]
    }
   ],
   "source": [
    "test_df['song_id'] = pd.Categorical(test_df['song_id'])\n",
    "test_inp1 = test_df['song_id'].cat.codes\n",
    "test_df['user_id'] = pd.Categorical(test_df['user_id'])\n",
    "test_inp2 = test_df['user_id'].cat.codes\n",
    "\n",
    "test_df = training_data.iloc[test_idx]\n",
    "test_meta_array = concatenated_array[test_idx]\n",
    "test_out = training_output.iloc[test_idx]"
   ]
  },
  {
   "cell_type": "code",
   "execution_count": 34,
   "metadata": {},
   "outputs": [
    {
     "name": "stdout",
     "output_type": "stream",
     "text": [
      "1283/1283 [==============================] - 2s 1ms/step\n"
     ]
    }
   ],
   "source": [
    "ans = model2.predict([test_inp1,test_inp2,test_meta_array])"
   ]
  },
  {
   "cell_type": "code",
   "execution_count": 35,
   "metadata": {
    "scrolled": true
   },
   "outputs": [
    {
     "name": "stdout",
     "output_type": "stream",
     "text": [
      "1283/1283 [==============================] - 2s 1ms/step - loss: 50.8018 - root_mean_squared_error: 7.1275\n"
     ]
    },
    {
     "data": {
      "text/plain": [
       "[50.80177688598633, 7.127536296844482]"
      ]
     },
     "execution_count": 35,
     "metadata": {},
     "output_type": "execute_result"
    }
   ],
   "source": [
    "model2.evaluate([test_inp1,test_inp2,test_meta_array],test_out)"
   ]
  },
  {
   "cell_type": "code",
   "execution_count": null,
   "metadata": {},
   "outputs": [],
   "source": []
  },
  {
   "cell_type": "code",
   "execution_count": null,
   "metadata": {},
   "outputs": [],
   "source": []
  },
  {
   "cell_type": "code",
   "execution_count": null,
   "metadata": {},
   "outputs": [],
   "source": []
  }
 ],
 "metadata": {
  "colab": {
   "provenance": []
  },
  "kernelspec": {
   "display_name": "Python 3",
   "language": "python",
   "name": "python3"
  },
  "language_info": {
   "codemirror_mode": {
    "name": "ipython",
    "version": 3
   },
   "file_extension": ".py",
   "mimetype": "text/x-python",
   "name": "python",
   "nbconvert_exporter": "python",
   "pygments_lexer": "ipython3",
   "version": "3.7.6"
  }
 },
 "nbformat": 4,
 "nbformat_minor": 1
}
