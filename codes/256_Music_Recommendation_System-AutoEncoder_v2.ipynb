{
 "cells": [
  {
   "cell_type": "code",
   "execution_count": 1,
   "metadata": {},
   "outputs": [
    {
     "name": "stderr",
     "output_type": "stream",
     "text": [
      "2023-04-28 18:30:32.879534: I tensorflow/core/platform/cpu_feature_guard.cc:182] This TensorFlow binary is optimized to use available CPU instructions in performance-critical operations.\n",
      "To enable the following instructions: AVX2 FMA, in other operations, rebuild TensorFlow with the appropriate compiler flags.\n",
      "2023-04-28 18:30:34.092757: W tensorflow/compiler/tf2tensorrt/utils/py_utils.cc:38] TF-TRT Warning: Could not find TensorRT\n"
     ]
    }
   ],
   "source": [
    "import pandas as pd\n",
    "import numpy as np\n",
    "import matplotlib.pyplot as plt\n",
    "import sklearn\n",
    "import seaborn as sns\n",
    "import matplotlib.pyplot as plt\n",
    "from surprise.model_selection import train_test_split,cross_validate\n",
    "from surprise import SVD, accuracy\n",
    "from surprise import KNNBasic\n",
    "import os\n",
    "from tensorflow.keras import backend as K\n",
    "import tables\n",
    "\n",
    "import tensorflow as tf\n",
    "from tensorflow.keras.layers import Input, Embedding, Flatten, Concatenate, Dense, Dropout\n",
    "from tensorflow.keras.models import Model\n",
    "from surprise import SVDpp, Reader, Dataset\n",
    "from sklearn.preprocessing import LabelEncoder"
   ]
  },
  {
   "cell_type": "code",
   "execution_count": 2,
   "metadata": {},
   "outputs": [],
   "source": [
    "# import nltk\n",
    "# from nltk.tokenize import word_tokenize\n",
    "# from nltk.corpus import stopwords\n",
    "# from nltk.stem import WordNetLemmatizer\n",
    "# from wordcloud import WordCloud\n",
    "\n",
    "# # Download necessary resources from NLTK\n",
    "# nltk.download('punkt')\n",
    "# nltk.download('stopwords')\n",
    "# nltk.download('wordnet')\n",
    "# nltk.download('omw-1.4')"
   ]
  },
  {
   "cell_type": "markdown",
   "metadata": {},
   "source": [
    "### TASTE PROFILE DATA"
   ]
  },
  {
   "cell_type": "code",
   "execution_count": 3,
   "metadata": {
    "id": "_dgENuRieAYg"
   },
   "outputs": [
    {
     "data": {
      "text/plain": [
       "(20000, 3)"
      ]
     },
     "execution_count": 3,
     "metadata": {},
     "output_type": "execute_result"
    }
   ],
   "source": [
    "taste_profile = pd.read_csv('/home/016651544/datasets/train_triplets.txt',sep='\\t',header=None,names = ['user_id','song_id','play_count'])\n",
    "taste_profile.shape"
   ]
  },
  {
   "cell_type": "code",
   "execution_count": 4,
   "metadata": {
    "colab": {
     "base_uri": "https://localhost:8080/",
     "height": 206
    },
    "id": "WdOJXpSUhC50",
    "outputId": "b7591716-df13-4179-d1c7-f2ceec605526",
    "scrolled": false
   },
   "outputs": [
    {
     "data": {
      "text/html": [
       "<div>\n",
       "<style scoped>\n",
       "    .dataframe tbody tr th:only-of-type {\n",
       "        vertical-align: middle;\n",
       "    }\n",
       "\n",
       "    .dataframe tbody tr th {\n",
       "        vertical-align: top;\n",
       "    }\n",
       "\n",
       "    .dataframe thead th {\n",
       "        text-align: right;\n",
       "    }\n",
       "</style>\n",
       "<table border=\"1\" class=\"dataframe\">\n",
       "  <thead>\n",
       "    <tr style=\"text-align: right;\">\n",
       "      <th></th>\n",
       "      <th>user_id</th>\n",
       "      <th>song_id</th>\n",
       "      <th>play_count</th>\n",
       "    </tr>\n",
       "  </thead>\n",
       "  <tbody>\n",
       "    <tr>\n",
       "      <th>0</th>\n",
       "      <td>b80344d063b5ccb3212f76538f3d9e43d87dca9e</td>\n",
       "      <td>SOAKIMP12A8C130995</td>\n",
       "      <td>1</td>\n",
       "    </tr>\n",
       "    <tr>\n",
       "      <th>1</th>\n",
       "      <td>b80344d063b5ccb3212f76538f3d9e43d87dca9e</td>\n",
       "      <td>SOAPDEY12A81C210A9</td>\n",
       "      <td>1</td>\n",
       "    </tr>\n",
       "    <tr>\n",
       "      <th>2</th>\n",
       "      <td>b80344d063b5ccb3212f76538f3d9e43d87dca9e</td>\n",
       "      <td>SOBBMDR12A8C13253B</td>\n",
       "      <td>2</td>\n",
       "    </tr>\n",
       "    <tr>\n",
       "      <th>3</th>\n",
       "      <td>b80344d063b5ccb3212f76538f3d9e43d87dca9e</td>\n",
       "      <td>SOBFNSP12AF72A0E22</td>\n",
       "      <td>1</td>\n",
       "    </tr>\n",
       "    <tr>\n",
       "      <th>4</th>\n",
       "      <td>b80344d063b5ccb3212f76538f3d9e43d87dca9e</td>\n",
       "      <td>SOBFOVM12A58A7D494</td>\n",
       "      <td>1</td>\n",
       "    </tr>\n",
       "  </tbody>\n",
       "</table>\n",
       "</div>"
      ],
      "text/plain": [
       "                                    user_id             song_id  play_count\n",
       "0  b80344d063b5ccb3212f76538f3d9e43d87dca9e  SOAKIMP12A8C130995           1\n",
       "1  b80344d063b5ccb3212f76538f3d9e43d87dca9e  SOAPDEY12A81C210A9           1\n",
       "2  b80344d063b5ccb3212f76538f3d9e43d87dca9e  SOBBMDR12A8C13253B           2\n",
       "3  b80344d063b5ccb3212f76538f3d9e43d87dca9e  SOBFNSP12AF72A0E22           1\n",
       "4  b80344d063b5ccb3212f76538f3d9e43d87dca9e  SOBFOVM12A58A7D494           1"
      ]
     },
     "execution_count": 4,
     "metadata": {},
     "output_type": "execute_result"
    }
   ],
   "source": [
    "taste_profile.head()"
   ]
  },
  {
   "cell_type": "code",
   "execution_count": 5,
   "metadata": {},
   "outputs": [
    {
     "name": "stdout",
     "output_type": "stream",
     "text": [
      "1.0 3.0 -2.0 6.0\n"
     ]
    },
    {
     "data": {
      "text/plain": [
       "(18353, 3)"
      ]
     },
     "execution_count": 5,
     "metadata": {},
     "output_type": "execute_result"
    }
   ],
   "source": [
    "# Compute quartiles for the play_count of users and year of publication columns\n",
    "q1_play_count = taste_profile['play_count'].quantile(0.25)\n",
    "q3_play_count = taste_profile['play_count'].quantile(0.75)\n",
    "iqr_play_count = q3_play_count - q1_play_count\n",
    "lower_play_count = q1_play_count - 1.5 * iqr_play_count\n",
    "upper_play_count = q3_play_count + 1.5 * iqr_play_count\n",
    "print(q1_play_count, q3_play_count,lower_play_count, upper_play_count)\n",
    "\n",
    "# Identify and remove outliers based on IQR\n",
    "taste_profile = taste_profile[(taste_profile['play_count'] >= lower_play_count) & (taste_profile['play_count'] <= upper_play_count)]\n",
    "taste_profile.shape"
   ]
  },
  {
   "cell_type": "code",
   "execution_count": 6,
   "metadata": {},
   "outputs": [
    {
     "data": {
      "text/plain": [
       "13269"
      ]
     },
     "execution_count": 6,
     "metadata": {},
     "output_type": "execute_result"
    }
   ],
   "source": [
    "taste_profile.song_id.nunique()"
   ]
  },
  {
   "cell_type": "markdown",
   "metadata": {},
   "source": [
    "### METADATA"
   ]
  },
  {
   "cell_type": "code",
   "execution_count": 7,
   "metadata": {
    "colab": {
     "base_uri": "https://localhost:8080/",
     "height": 513
    },
    "id": "HO3RK5m6i8eW",
    "outputId": "f9faaf4c-b214-4e0b-bff8-fa3007f5f0a4"
   },
   "outputs": [
    {
     "data": {
      "text/html": [
       "<div>\n",
       "<style scoped>\n",
       "    .dataframe tbody tr th:only-of-type {\n",
       "        vertical-align: middle;\n",
       "    }\n",
       "\n",
       "    .dataframe tbody tr th {\n",
       "        vertical-align: top;\n",
       "    }\n",
       "\n",
       "    .dataframe thead th {\n",
       "        text-align: right;\n",
       "    }\n",
       "</style>\n",
       "<table border=\"1\" class=\"dataframe\">\n",
       "  <thead>\n",
       "    <tr style=\"text-align: right;\">\n",
       "      <th></th>\n",
       "      <th>track_id</th>\n",
       "      <th>title</th>\n",
       "      <th>song_id</th>\n",
       "      <th>release</th>\n",
       "      <th>artist_id</th>\n",
       "      <th>artist_mbid</th>\n",
       "      <th>artist_name</th>\n",
       "      <th>duration</th>\n",
       "      <th>artist_familiarity</th>\n",
       "      <th>artist_hotttnesss</th>\n",
       "      <th>year</th>\n",
       "      <th>track_7digitalid</th>\n",
       "      <th>shs_perf</th>\n",
       "      <th>shs_work</th>\n",
       "    </tr>\n",
       "  </thead>\n",
       "  <tbody>\n",
       "    <tr>\n",
       "      <th>0</th>\n",
       "      <td>TRMMMYQ128F932D901</td>\n",
       "      <td>Silent Night</td>\n",
       "      <td>SOQMMHC12AB0180CB8</td>\n",
       "      <td>Monster Ballads X-Mas</td>\n",
       "      <td>ARYZTJS1187B98C555</td>\n",
       "      <td>357ff05d-848a-44cf-b608-cb34b5701ae5</td>\n",
       "      <td>Faster Pussy cat</td>\n",
       "      <td>252.05506</td>\n",
       "      <td>0.649822</td>\n",
       "      <td>0.394032</td>\n",
       "      <td>2003</td>\n",
       "      <td>7032331</td>\n",
       "      <td>-1</td>\n",
       "      <td>0</td>\n",
       "    </tr>\n",
       "    <tr>\n",
       "      <th>1</th>\n",
       "      <td>TRMMMKD128F425225D</td>\n",
       "      <td>Tanssi vaan</td>\n",
       "      <td>SOVFVAK12A8C1350D9</td>\n",
       "      <td>Karkuteillä</td>\n",
       "      <td>ARMVN3U1187FB3A1EB</td>\n",
       "      <td>8d7ef530-a6fd-4f8f-b2e2-74aec765e0f9</td>\n",
       "      <td>Karkkiautomaatti</td>\n",
       "      <td>156.55138</td>\n",
       "      <td>0.439604</td>\n",
       "      <td>0.356992</td>\n",
       "      <td>1995</td>\n",
       "      <td>1514808</td>\n",
       "      <td>-1</td>\n",
       "      <td>0</td>\n",
       "    </tr>\n",
       "    <tr>\n",
       "      <th>2</th>\n",
       "      <td>TRMMMRX128F93187D9</td>\n",
       "      <td>No One Could Ever</td>\n",
       "      <td>SOGTUKN12AB017F4F1</td>\n",
       "      <td>Butter</td>\n",
       "      <td>ARGEKB01187FB50750</td>\n",
       "      <td>3d403d44-36ce-465c-ad43-ae877e65adc4</td>\n",
       "      <td>Hudson Mohawke</td>\n",
       "      <td>138.97098</td>\n",
       "      <td>0.643681</td>\n",
       "      <td>0.437504</td>\n",
       "      <td>2006</td>\n",
       "      <td>6945353</td>\n",
       "      <td>-1</td>\n",
       "      <td>0</td>\n",
       "    </tr>\n",
       "    <tr>\n",
       "      <th>3</th>\n",
       "      <td>TRMMMCH128F425532C</td>\n",
       "      <td>Si Vos Querés</td>\n",
       "      <td>SOBNYVR12A8C13558C</td>\n",
       "      <td>De Culo</td>\n",
       "      <td>ARNWYLR1187B9B2F9C</td>\n",
       "      <td>12be7648-7094-495f-90e6-df4189d68615</td>\n",
       "      <td>Yerba Brava</td>\n",
       "      <td>145.05751</td>\n",
       "      <td>0.448501</td>\n",
       "      <td>0.372349</td>\n",
       "      <td>2003</td>\n",
       "      <td>2168257</td>\n",
       "      <td>-1</td>\n",
       "      <td>0</td>\n",
       "    </tr>\n",
       "    <tr>\n",
       "      <th>4</th>\n",
       "      <td>TRMMMWA128F426B589</td>\n",
       "      <td>Tangle Of Aspens</td>\n",
       "      <td>SOHSBXH12A8C13B0DF</td>\n",
       "      <td>Rene Ablaze Presents Winter Sessions</td>\n",
       "      <td>AREQDTE1269FB37231</td>\n",
       "      <td>NaN</td>\n",
       "      <td>Der Mystic</td>\n",
       "      <td>514.29832</td>\n",
       "      <td>0.000000</td>\n",
       "      <td>0.000000</td>\n",
       "      <td>0</td>\n",
       "      <td>2264873</td>\n",
       "      <td>-1</td>\n",
       "      <td>0</td>\n",
       "    </tr>\n",
       "  </tbody>\n",
       "</table>\n",
       "</div>"
      ],
      "text/plain": [
       "             track_id              title             song_id  \\\n",
       "0  TRMMMYQ128F932D901       Silent Night  SOQMMHC12AB0180CB8   \n",
       "1  TRMMMKD128F425225D        Tanssi vaan  SOVFVAK12A8C1350D9   \n",
       "2  TRMMMRX128F93187D9  No One Could Ever  SOGTUKN12AB017F4F1   \n",
       "3  TRMMMCH128F425532C      Si Vos Querés  SOBNYVR12A8C13558C   \n",
       "4  TRMMMWA128F426B589   Tangle Of Aspens  SOHSBXH12A8C13B0DF   \n",
       "\n",
       "                                release           artist_id  \\\n",
       "0                 Monster Ballads X-Mas  ARYZTJS1187B98C555   \n",
       "1                           Karkuteillä  ARMVN3U1187FB3A1EB   \n",
       "2                                Butter  ARGEKB01187FB50750   \n",
       "3                               De Culo  ARNWYLR1187B9B2F9C   \n",
       "4  Rene Ablaze Presents Winter Sessions  AREQDTE1269FB37231   \n",
       "\n",
       "                            artist_mbid       artist_name   duration  \\\n",
       "0  357ff05d-848a-44cf-b608-cb34b5701ae5  Faster Pussy cat  252.05506   \n",
       "1  8d7ef530-a6fd-4f8f-b2e2-74aec765e0f9  Karkkiautomaatti  156.55138   \n",
       "2  3d403d44-36ce-465c-ad43-ae877e65adc4    Hudson Mohawke  138.97098   \n",
       "3  12be7648-7094-495f-90e6-df4189d68615       Yerba Brava  145.05751   \n",
       "4                                   NaN        Der Mystic  514.29832   \n",
       "\n",
       "   artist_familiarity  artist_hotttnesss  year  track_7digitalid  shs_perf  \\\n",
       "0            0.649822           0.394032  2003           7032331        -1   \n",
       "1            0.439604           0.356992  1995           1514808        -1   \n",
       "2            0.643681           0.437504  2006           6945353        -1   \n",
       "3            0.448501           0.372349  2003           2168257        -1   \n",
       "4            0.000000           0.000000     0           2264873        -1   \n",
       "\n",
       "   shs_work  \n",
       "0         0  \n",
       "1         0  \n",
       "2         0  \n",
       "3         0  \n",
       "4         0  "
      ]
     },
     "execution_count": 7,
     "metadata": {},
     "output_type": "execute_result"
    }
   ],
   "source": [
    "# Convert the table to a Pandas DataFrame\n",
    "metadata_table_df = pd.read_csv('/home/016651544/datasets/track_metadata.csv')\n",
    "metadata_table_df.head()"
   ]
  },
  {
   "cell_type": "code",
   "execution_count": 8,
   "metadata": {
    "scrolled": true
   },
   "outputs": [],
   "source": [
    "# metadata_table_df = metadata_table_df.applymap(lambda x: x.decode('utf-8').strip('\\'\"') if isinstance(x, bytes) else x)\n",
    "# metadata_table_df.head()\n",
    "song_ids = taste_profile[\"song_id\"].unique().astype(str)"
   ]
  },
  {
   "cell_type": "code",
   "execution_count": 9,
   "metadata": {},
   "outputs": [
    {
     "data": {
      "text/html": [
       "<div>\n",
       "<style scoped>\n",
       "    .dataframe tbody tr th:only-of-type {\n",
       "        vertical-align: middle;\n",
       "    }\n",
       "\n",
       "    .dataframe tbody tr th {\n",
       "        vertical-align: top;\n",
       "    }\n",
       "\n",
       "    .dataframe thead th {\n",
       "        text-align: right;\n",
       "    }\n",
       "</style>\n",
       "<table border=\"1\" class=\"dataframe\">\n",
       "  <thead>\n",
       "    <tr style=\"text-align: right;\">\n",
       "      <th></th>\n",
       "      <th>song_id</th>\n",
       "      <th>track_id</th>\n",
       "      <th>title</th>\n",
       "      <th>release</th>\n",
       "      <th>artist_id</th>\n",
       "      <th>artist_mbid</th>\n",
       "      <th>artist_name</th>\n",
       "      <th>duration</th>\n",
       "      <th>artist_familiarity</th>\n",
       "      <th>artist_hotttnesss</th>\n",
       "      <th>year</th>\n",
       "      <th>track_7digitalid</th>\n",
       "      <th>shs_perf</th>\n",
       "      <th>shs_work</th>\n",
       "    </tr>\n",
       "  </thead>\n",
       "  <tbody>\n",
       "    <tr>\n",
       "      <th>0</th>\n",
       "      <td>SOAKIMP12A8C130995</td>\n",
       "      <td>TRIQAUQ128F42435AD</td>\n",
       "      <td>The Cove</td>\n",
       "      <td>Thicker Than Water</td>\n",
       "      <td>ARC8CQZ1187B98DECA</td>\n",
       "      <td>ff6e677f-91dd-4986-a174-8db0474b1799</td>\n",
       "      <td>Jack Johnson</td>\n",
       "      <td>112.63955</td>\n",
       "      <td>0.832012</td>\n",
       "      <td>0.677482</td>\n",
       "      <td>0</td>\n",
       "      <td>2093263</td>\n",
       "      <td>-1</td>\n",
       "      <td>0</td>\n",
       "    </tr>\n",
       "    <tr>\n",
       "      <th>1</th>\n",
       "      <td>SOAPDEY12A81C210A9</td>\n",
       "      <td>TRIRLYL128F42539D1</td>\n",
       "      <td>Nothing from Nothing</td>\n",
       "      <td>To Die For</td>\n",
       "      <td>ARHYUI71187FB48366</td>\n",
       "      <td>8a7cf497-dc5c-4523-932d-3fcbc9a69d38</td>\n",
       "      <td>Billy Preston</td>\n",
       "      <td>153.59955</td>\n",
       "      <td>0.580555</td>\n",
       "      <td>0.482492</td>\n",
       "      <td>1974</td>\n",
       "      <td>3072847</td>\n",
       "      <td>-1</td>\n",
       "      <td>0</td>\n",
       "    </tr>\n",
       "    <tr>\n",
       "      <th>2</th>\n",
       "      <td>SOBBMDR12A8C13253B</td>\n",
       "      <td>TRMHBXZ128F4238406</td>\n",
       "      <td>Entre Dos Aguas</td>\n",
       "      <td>Flamenco Para Niños</td>\n",
       "      <td>ARC1SF21187FB51D0F</td>\n",
       "      <td>7bc8dd01-35ea-4b18-a64d-3a364dc76a52</td>\n",
       "      <td>Paco De Lucia</td>\n",
       "      <td>358.24281</td>\n",
       "      <td>0.633119</td>\n",
       "      <td>0.417718</td>\n",
       "      <td>1976</td>\n",
       "      <td>2631392</td>\n",
       "      <td>-1</td>\n",
       "      <td>0</td>\n",
       "    </tr>\n",
       "    <tr>\n",
       "      <th>3</th>\n",
       "      <td>SOBFNSP12AF72A0E22</td>\n",
       "      <td>TRYQMNI128F147C1C7</td>\n",
       "      <td>Under Cold Blue Stars</td>\n",
       "      <td>Under Cold Blue Stars</td>\n",
       "      <td>ARMS97V1187B99DD98</td>\n",
       "      <td>023d64c9-93db-4a20-8c5c-2efa1a53481a</td>\n",
       "      <td>Josh Rouse</td>\n",
       "      <td>266.34404</td>\n",
       "      <td>0.675339</td>\n",
       "      <td>0.509058</td>\n",
       "      <td>2002</td>\n",
       "      <td>413957</td>\n",
       "      <td>-1</td>\n",
       "      <td>0</td>\n",
       "    </tr>\n",
       "    <tr>\n",
       "      <th>4</th>\n",
       "      <td>SOBFOVM12A58A7D494</td>\n",
       "      <td>TRAHZNE128F9341B86</td>\n",
       "      <td>Riot Radio (Soundtrack Version)</td>\n",
       "      <td>Nick &amp; Norah's Infinite Playlist - Original Mo...</td>\n",
       "      <td>ARI4V0E1187B9B6FC2</td>\n",
       "      <td>87ebbe67-3910-4521-a418-4fe53eb912b7</td>\n",
       "      <td>The Dead 60s</td>\n",
       "      <td>141.42649</td>\n",
       "      <td>0.650281</td>\n",
       "      <td>0.451749</td>\n",
       "      <td>0</td>\n",
       "      <td>5674853</td>\n",
       "      <td>-1</td>\n",
       "      <td>0</td>\n",
       "    </tr>\n",
       "  </tbody>\n",
       "</table>\n",
       "</div>"
      ],
      "text/plain": [
       "              song_id            track_id                            title  \\\n",
       "0  SOAKIMP12A8C130995  TRIQAUQ128F42435AD                         The Cove   \n",
       "1  SOAPDEY12A81C210A9  TRIRLYL128F42539D1             Nothing from Nothing   \n",
       "2  SOBBMDR12A8C13253B  TRMHBXZ128F4238406                  Entre Dos Aguas   \n",
       "3  SOBFNSP12AF72A0E22  TRYQMNI128F147C1C7            Under Cold Blue Stars   \n",
       "4  SOBFOVM12A58A7D494  TRAHZNE128F9341B86  Riot Radio (Soundtrack Version)   \n",
       "\n",
       "                                             release           artist_id  \\\n",
       "0                                 Thicker Than Water  ARC8CQZ1187B98DECA   \n",
       "1                                         To Die For  ARHYUI71187FB48366   \n",
       "2                                Flamenco Para Niños  ARC1SF21187FB51D0F   \n",
       "3                              Under Cold Blue Stars  ARMS97V1187B99DD98   \n",
       "4  Nick & Norah's Infinite Playlist - Original Mo...  ARI4V0E1187B9B6FC2   \n",
       "\n",
       "                            artist_mbid    artist_name   duration  \\\n",
       "0  ff6e677f-91dd-4986-a174-8db0474b1799   Jack Johnson  112.63955   \n",
       "1  8a7cf497-dc5c-4523-932d-3fcbc9a69d38  Billy Preston  153.59955   \n",
       "2  7bc8dd01-35ea-4b18-a64d-3a364dc76a52  Paco De Lucia  358.24281   \n",
       "3  023d64c9-93db-4a20-8c5c-2efa1a53481a     Josh Rouse  266.34404   \n",
       "4  87ebbe67-3910-4521-a418-4fe53eb912b7   The Dead 60s  141.42649   \n",
       "\n",
       "   artist_familiarity  artist_hotttnesss  year  track_7digitalid  shs_perf  \\\n",
       "0            0.832012           0.677482     0           2093263        -1   \n",
       "1            0.580555           0.482492  1974           3072847        -1   \n",
       "2            0.633119           0.417718  1976           2631392        -1   \n",
       "3            0.675339           0.509058  2002            413957        -1   \n",
       "4            0.650281           0.451749     0           5674853        -1   \n",
       "\n",
       "   shs_work  \n",
       "0         0  \n",
       "1         0  \n",
       "2         0  \n",
       "3         0  \n",
       "4         0  "
      ]
     },
     "execution_count": 9,
     "metadata": {},
     "output_type": "execute_result"
    }
   ],
   "source": [
    "metadata_df = pd.merge(pd.DataFrame(song_ids,columns=['song_id']),metadata_table_df,on=\"song_id\",how='left')\n",
    "metadata_df.head()"
   ]
  },
  {
   "cell_type": "markdown",
   "metadata": {},
   "source": [
    "### EDA on MetaData"
   ]
  },
  {
   "cell_type": "code",
   "execution_count": 10,
   "metadata": {},
   "outputs": [],
   "source": [
    "metadata_df.replace(\"\",np.nan,inplace=True)"
   ]
  },
  {
   "cell_type": "code",
   "execution_count": 11,
   "metadata": {},
   "outputs": [
    {
     "data": {
      "text/plain": [
       "song_id                 0\n",
       "track_id                0\n",
       "title                   0\n",
       "release                 0\n",
       "artist_id               0\n",
       "artist_mbid           157\n",
       "artist_name             0\n",
       "duration                0\n",
       "artist_familiarity      0\n",
       "artist_hotttnesss       0\n",
       "year                    0\n",
       "track_7digitalid        0\n",
       "shs_perf                0\n",
       "shs_work                0\n",
       "dtype: int64"
      ]
     },
     "execution_count": 11,
     "metadata": {},
     "output_type": "execute_result"
    }
   ],
   "source": [
    "metadata_df.isna().sum()"
   ]
  },
  {
   "cell_type": "code",
   "execution_count": 12,
   "metadata": {},
   "outputs": [
    {
     "data": {
      "text/plain": [
       "song_id                 0\n",
       "track_id                0\n",
       "title                   0\n",
       "release                 0\n",
       "artist_id               0\n",
       "artist_mbid           157\n",
       "artist_name             0\n",
       "duration                0\n",
       "artist_familiarity      0\n",
       "artist_hotttnesss       0\n",
       "year                    0\n",
       "track_7digitalid        0\n",
       "shs_perf                0\n",
       "shs_work                0\n",
       "dtype: int64"
      ]
     },
     "execution_count": 12,
     "metadata": {},
     "output_type": "execute_result"
    }
   ],
   "source": [
    "values = {'song_hotttnesss': 0,'artist_familiarity': 0, 'title': \"Unknown\"}\n",
    "metadata_df.fillna(value= values,inplace=True)\n",
    "metadata_df.isna().sum()"
   ]
  },
  {
   "cell_type": "code",
   "execution_count": 13,
   "metadata": {
    "colab": {
     "base_uri": "https://localhost:8080/"
    },
    "id": "G5jw7cC2n7Bi",
    "outputId": "49422b5b-804a-4f79-b12f-651a5ccb08de"
   },
   "outputs": [
    {
     "data": {
      "text/plain": [
       "(Index(['song_id', 'track_id', 'title', 'release', 'artist_id', 'artist_mbid',\n",
       "        'artist_name', 'duration', 'artist_familiarity', 'artist_hotttnesss',\n",
       "        'year', 'track_7digitalid', 'shs_perf', 'shs_work'],\n",
       "       dtype='object'),\n",
       " song_id                object\n",
       " track_id               object\n",
       " title                  object\n",
       " release                object\n",
       " artist_id              object\n",
       " artist_mbid            object\n",
       " artist_name            object\n",
       " duration              float64\n",
       " artist_familiarity    float64\n",
       " artist_hotttnesss     float64\n",
       " year                    int64\n",
       " track_7digitalid        int64\n",
       " shs_perf                int64\n",
       " shs_work                int64\n",
       " dtype: object)"
      ]
     },
     "execution_count": 13,
     "metadata": {},
     "output_type": "execute_result"
    }
   ],
   "source": [
    "metadata_df.columns,metadata_df.dtypes"
   ]
  },
  {
   "cell_type": "code",
   "execution_count": 14,
   "metadata": {},
   "outputs": [
    {
     "data": {
      "text/plain": [
       "0.844085    65\n",
       "0.902841    51\n",
       "0.929030    51\n",
       "0.918452    48\n",
       "0.865022    48\n",
       "            ..\n",
       "0.521087     1\n",
       "0.664182     1\n",
       "0.571640     1\n",
       "0.681509     1\n",
       "0.727863     1\n",
       "Name: artist_familiarity, Length: 4391, dtype: int64"
      ]
     },
     "execution_count": 14,
     "metadata": {},
     "output_type": "execute_result"
    }
   ],
   "source": [
    "metadata_df.artist_familiarity.value_counts()"
   ]
  },
  {
   "cell_type": "code",
   "execution_count": 15,
   "metadata": {},
   "outputs": [
    {
     "data": {
      "text/plain": [
       "array([[<Axes: title={'center': 'duration'}>,\n",
       "        <Axes: title={'center': 'artist_familiarity'}>],\n",
       "       [<Axes: title={'center': 'artist_hotttnesss'}>,\n",
       "        <Axes: title={'center': 'year'}>],\n",
       "       [<Axes: title={'center': 'shs_perf'}>,\n",
       "        <Axes: title={'center': 'shs_work'}>]], dtype=object)"
      ]
     },
     "execution_count": 15,
     "metadata": {},
     "output_type": "execute_result"
    },
    {
     "data": {
      "image/png": "[encoded data removed]",
      "text/plain": [
       "<Figure size 640x480 with 6 Axes>"
      ]
     },
     "metadata": {},
     "output_type": "display_data"
    }
   ],
   "source": [
    "metadata_df[['duration', 'artist_familiarity', 'artist_hotttnesss', 'year', 'shs_perf', 'shs_work']].hist()"
   ]
  },
  {
   "cell_type": "code",
   "execution_count": 16,
   "metadata": {},
   "outputs": [
    {
     "data": {
      "text/plain": [
       "Index(['song_id', 'track_id', 'title', 'release', 'artist_id', 'artist_mbid',\n",
       "       'artist_name', 'duration', 'artist_familiarity', 'artist_hotttnesss',\n",
       "       'year', 'track_7digitalid', 'shs_perf', 'shs_work'],\n",
       "      dtype='object')"
      ]
     },
     "execution_count": 16,
     "metadata": {},
     "output_type": "execute_result"
    }
   ],
   "source": [
    "metadata_df.columns"
   ]
  },
  {
   "cell_type": "markdown",
   "metadata": {},
   "source": [
    "### EDA"
   ]
  },
  {
   "cell_type": "code",
   "execution_count": 17,
   "metadata": {},
   "outputs": [
    {
     "data": {
      "text/html": [
       "<div>\n",
       "<style scoped>\n",
       "    .dataframe tbody tr th:only-of-type {\n",
       "        vertical-align: middle;\n",
       "    }\n",
       "\n",
       "    .dataframe tbody tr th {\n",
       "        vertical-align: top;\n",
       "    }\n",
       "\n",
       "    .dataframe thead th {\n",
       "        text-align: right;\n",
       "    }\n",
       "</style>\n",
       "<table border=\"1\" class=\"dataframe\">\n",
       "  <thead>\n",
       "    <tr style=\"text-align: right;\">\n",
       "      <th></th>\n",
       "      <th>user_id</th>\n",
       "      <th>song_id</th>\n",
       "      <th>play_count</th>\n",
       "      <th>track_id</th>\n",
       "      <th>title</th>\n",
       "      <th>release</th>\n",
       "      <th>artist_id</th>\n",
       "      <th>artist_mbid</th>\n",
       "      <th>artist_name</th>\n",
       "      <th>duration</th>\n",
       "      <th>artist_familiarity</th>\n",
       "      <th>artist_hotttnesss</th>\n",
       "      <th>year</th>\n",
       "      <th>track_7digitalid</th>\n",
       "      <th>shs_perf</th>\n",
       "      <th>shs_work</th>\n",
       "    </tr>\n",
       "  </thead>\n",
       "  <tbody>\n",
       "    <tr>\n",
       "      <th>0</th>\n",
       "      <td>b80344d063b5ccb3212f76538f3d9e43d87dca9e</td>\n",
       "      <td>SOAKIMP12A8C130995</td>\n",
       "      <td>1</td>\n",
       "      <td>TRIQAUQ128F42435AD</td>\n",
       "      <td>The Cove</td>\n",
       "      <td>Thicker Than Water</td>\n",
       "      <td>ARC8CQZ1187B98DECA</td>\n",
       "      <td>ff6e677f-91dd-4986-a174-8db0474b1799</td>\n",
       "      <td>Jack Johnson</td>\n",
       "      <td>112.63955</td>\n",
       "      <td>0.832012</td>\n",
       "      <td>0.677482</td>\n",
       "      <td>0</td>\n",
       "      <td>2093263</td>\n",
       "      <td>-1</td>\n",
       "      <td>0</td>\n",
       "    </tr>\n",
       "    <tr>\n",
       "      <th>1</th>\n",
       "      <td>b80344d063b5ccb3212f76538f3d9e43d87dca9e</td>\n",
       "      <td>SOAPDEY12A81C210A9</td>\n",
       "      <td>1</td>\n",
       "      <td>TRIRLYL128F42539D1</td>\n",
       "      <td>Nothing from Nothing</td>\n",
       "      <td>To Die For</td>\n",
       "      <td>ARHYUI71187FB48366</td>\n",
       "      <td>8a7cf497-dc5c-4523-932d-3fcbc9a69d38</td>\n",
       "      <td>Billy Preston</td>\n",
       "      <td>153.59955</td>\n",
       "      <td>0.580555</td>\n",
       "      <td>0.482492</td>\n",
       "      <td>1974</td>\n",
       "      <td>3072847</td>\n",
       "      <td>-1</td>\n",
       "      <td>0</td>\n",
       "    </tr>\n",
       "    <tr>\n",
       "      <th>2</th>\n",
       "      <td>b80344d063b5ccb3212f76538f3d9e43d87dca9e</td>\n",
       "      <td>SOBBMDR12A8C13253B</td>\n",
       "      <td>2</td>\n",
       "      <td>TRMHBXZ128F4238406</td>\n",
       "      <td>Entre Dos Aguas</td>\n",
       "      <td>Flamenco Para Niños</td>\n",
       "      <td>ARC1SF21187FB51D0F</td>\n",
       "      <td>7bc8dd01-35ea-4b18-a64d-3a364dc76a52</td>\n",
       "      <td>Paco De Lucia</td>\n",
       "      <td>358.24281</td>\n",
       "      <td>0.633119</td>\n",
       "      <td>0.417718</td>\n",
       "      <td>1976</td>\n",
       "      <td>2631392</td>\n",
       "      <td>-1</td>\n",
       "      <td>0</td>\n",
       "    </tr>\n",
       "    <tr>\n",
       "      <th>3</th>\n",
       "      <td>b80344d063b5ccb3212f76538f3d9e43d87dca9e</td>\n",
       "      <td>SOBFNSP12AF72A0E22</td>\n",
       "      <td>1</td>\n",
       "      <td>TRYQMNI128F147C1C7</td>\n",
       "      <td>Under Cold Blue Stars</td>\n",
       "      <td>Under Cold Blue Stars</td>\n",
       "      <td>ARMS97V1187B99DD98</td>\n",
       "      <td>023d64c9-93db-4a20-8c5c-2efa1a53481a</td>\n",
       "      <td>Josh Rouse</td>\n",
       "      <td>266.34404</td>\n",
       "      <td>0.675339</td>\n",
       "      <td>0.509058</td>\n",
       "      <td>2002</td>\n",
       "      <td>413957</td>\n",
       "      <td>-1</td>\n",
       "      <td>0</td>\n",
       "    </tr>\n",
       "    <tr>\n",
       "      <th>4</th>\n",
       "      <td>b80344d063b5ccb3212f76538f3d9e43d87dca9e</td>\n",
       "      <td>SOBFOVM12A58A7D494</td>\n",
       "      <td>1</td>\n",
       "      <td>TRAHZNE128F9341B86</td>\n",
       "      <td>Riot Radio (Soundtrack Version)</td>\n",
       "      <td>Nick &amp; Norah's Infinite Playlist - Original Mo...</td>\n",
       "      <td>ARI4V0E1187B9B6FC2</td>\n",
       "      <td>87ebbe67-3910-4521-a418-4fe53eb912b7</td>\n",
       "      <td>The Dead 60s</td>\n",
       "      <td>141.42649</td>\n",
       "      <td>0.650281</td>\n",
       "      <td>0.451749</td>\n",
       "      <td>0</td>\n",
       "      <td>5674853</td>\n",
       "      <td>-1</td>\n",
       "      <td>0</td>\n",
       "    </tr>\n",
       "  </tbody>\n",
       "</table>\n",
       "</div>"
      ],
      "text/plain": [
       "                                    user_id             song_id  play_count  \\\n",
       "0  b80344d063b5ccb3212f76538f3d9e43d87dca9e  SOAKIMP12A8C130995           1   \n",
       "1  b80344d063b5ccb3212f76538f3d9e43d87dca9e  SOAPDEY12A81C210A9           1   \n",
       "2  b80344d063b5ccb3212f76538f3d9e43d87dca9e  SOBBMDR12A8C13253B           2   \n",
       "3  b80344d063b5ccb3212f76538f3d9e43d87dca9e  SOBFNSP12AF72A0E22           1   \n",
       "4  b80344d063b5ccb3212f76538f3d9e43d87dca9e  SOBFOVM12A58A7D494           1   \n",
       "\n",
       "             track_id                            title  \\\n",
       "0  TRIQAUQ128F42435AD                         The Cove   \n",
       "1  TRIRLYL128F42539D1             Nothing from Nothing   \n",
       "2  TRMHBXZ128F4238406                  Entre Dos Aguas   \n",
       "3  TRYQMNI128F147C1C7            Under Cold Blue Stars   \n",
       "4  TRAHZNE128F9341B86  Riot Radio (Soundtrack Version)   \n",
       "\n",
       "                                             release           artist_id  \\\n",
       "0                                 Thicker Than Water  ARC8CQZ1187B98DECA   \n",
       "1                                         To Die For  ARHYUI71187FB48366   \n",
       "2                                Flamenco Para Niños  ARC1SF21187FB51D0F   \n",
       "3                              Under Cold Blue Stars  ARMS97V1187B99DD98   \n",
       "4  Nick & Norah's Infinite Playlist - Original Mo...  ARI4V0E1187B9B6FC2   \n",
       "\n",
       "                            artist_mbid    artist_name   duration  \\\n",
       "0  ff6e677f-91dd-4986-a174-8db0474b1799   Jack Johnson  112.63955   \n",
       "1  8a7cf497-dc5c-4523-932d-3fcbc9a69d38  Billy Preston  153.59955   \n",
       "2  7bc8dd01-35ea-4b18-a64d-3a364dc76a52  Paco De Lucia  358.24281   \n",
       "3  023d64c9-93db-4a20-8c5c-2efa1a53481a     Josh Rouse  266.34404   \n",
       "4  87ebbe67-3910-4521-a418-4fe53eb912b7   The Dead 60s  141.42649   \n",
       "\n",
       "   artist_familiarity  artist_hotttnesss  year  track_7digitalid  shs_perf  \\\n",
       "0            0.832012           0.677482     0           2093263        -1   \n",
       "1            0.580555           0.482492  1974           3072847        -1   \n",
       "2            0.633119           0.417718  1976           2631392        -1   \n",
       "3            0.675339           0.509058  2002            413957        -1   \n",
       "4            0.650281           0.451749     0           5674853        -1   \n",
       "\n",
       "   shs_work  \n",
       "0         0  \n",
       "1         0  \n",
       "2         0  \n",
       "3         0  \n",
       "4         0  "
      ]
     },
     "execution_count": 17,
     "metadata": {},
     "output_type": "execute_result"
    }
   ],
   "source": [
    "eda_data = pd.merge(taste_profile, metadata_df, on='song_id',how='left')\n",
    "eda_data.head()"
   ]
  },
  {
   "cell_type": "code",
   "execution_count": 18,
   "metadata": {},
   "outputs": [
    {
     "name": "stdout",
     "output_type": "stream",
     "text": [
      "Top 10 most popular songs:\n",
      "1. Song ID: Use Somebody, Count: 54\n",
      "2. Song ID: Yellow, Count: 44\n",
      "3. Song ID: Sehr kosmisch, Count: 43\n",
      "4. Song ID: Somebody To Love, Count: 37\n",
      "5. Song ID: Nothin' On You [feat. Bruno Mars] (Album Version), Count: 32\n",
      "6. Song ID: The Real Slim Shady, Count: 30\n",
      "7. Song ID: Love Story, Count: 28\n",
      "8. Song ID: Secrets, Count: 27\n",
      "9. Song ID: Dog Days Are Over (Radio Edit), Count: 26\n",
      "10. Song ID: Undo, Count: 26\n",
      "\n",
      "Top 10 most popular artists:\n",
      "1. Artist: Coldplay, Count: 202\n",
      "2. Artist: Kings Of Leon, Count: 154\n",
      "3. Artist: Daft Punk, Count: 144\n",
      "4. Artist: The Black Keys, Count: 128\n",
      "5. Artist: The Killers, Count: 126\n",
      "6. Artist: Eminem, Count: 110\n",
      "7. Artist: Muse, Count: 92\n",
      "8. Artist: Florence + The Machine, Count: 88\n",
      "9. Artist: Guns N' Roses, Count: 87\n",
      "10. Artist: LCD Soundsystem, Count: 83\n",
      "\n",
      "Common artist names (appearing in more than 1 song):\n",
      "['Coldplay' 'Kings Of Leon' 'Daft Punk' ... 'Brian Eno' 'Angelic Upstarts'\n",
      " 'Zeca Baleiro']\n",
      "\n",
      "Common song titles (appearing in more than 1 song):\n",
      "['Use Somebody' 'Yellow' 'Sehr kosmisch' ... 'L.E.S. Artistes' 'Tiempo'\n",
      " 'Young Adult Friction']\n",
      "\n",
      "Average duration: 249.21 seconds\n"
     ]
    },
    {
     "name": "stderr",
     "output_type": "stream",
     "text": [
      "/tmp/ipykernel_92137/1347986239.py:5: FutureWarning: iteritems is deprecated and will be removed in a future version. Use .items instead.\n",
      "  for i, (song_id, count) in enumerate(top_songs.iteritems(), 1):\n",
      "/tmp/ipykernel_92137/1347986239.py:13: FutureWarning: iteritems is deprecated and will be removed in a future version. Use .items instead.\n",
      "  for i, (artist_name, count) in enumerate(top_artists.iteritems(), 1):\n"
     ]
    }
   ],
   "source": [
    "# Most popular songs\n",
    "song_counts = eda_data['title'].value_counts()\n",
    "top_songs = song_counts.head(10)\n",
    "print('Top 10 most popular songs:')\n",
    "for i, (song_id, count) in enumerate(top_songs.iteritems(), 1):\n",
    "    print(f'{i}. Song ID: {song_id}, Count: {count}')\n",
    "print()\n",
    "\n",
    "# Most popular artists\n",
    "artist_counts = eda_data['artist_name'].value_counts()\n",
    "top_artists = artist_counts.head(10)\n",
    "print('Top 10 most popular artists:')\n",
    "for i, (artist_name, count) in enumerate(top_artists.iteritems(), 1):\n",
    "    print(f'{i}. Artist: {artist_name}, Count: {count}')\n",
    "print()\n",
    "\n",
    "# Common artist names\n",
    "artist_counts = eda_data['artist_name'].value_counts()\n",
    "common_artists = artist_counts[artist_counts > 1]\n",
    "print('Common artist names (appearing in more than 1 song):')\n",
    "print(common_artists.index.values)\n",
    "print()\n",
    "\n",
    "# Common song titles\n",
    "title_counts = eda_data['title'].value_counts()\n",
    "common_titles = title_counts[title_counts > 1]\n",
    "print('Common song titles (appearing in more than 1 song):')\n",
    "print(common_titles.index.values)\n",
    "print()\n",
    "\n",
    "# Average duration\n",
    "avg_duration = eda_data['duration'].mean()\n",
    "print(f'Average duration: {avg_duration:.2f} seconds')"
   ]
  },
  {
   "cell_type": "markdown",
   "metadata": {},
   "source": [
    "### TEXT PREPROCESSING"
   ]
  },
  {
   "cell_type": "code",
   "execution_count": 19,
   "metadata": {},
   "outputs": [
    {
     "data": {
      "text/html": [
       "<div>\n",
       "<style scoped>\n",
       "    .dataframe tbody tr th:only-of-type {\n",
       "        vertical-align: middle;\n",
       "    }\n",
       "\n",
       "    .dataframe tbody tr th {\n",
       "        vertical-align: top;\n",
       "    }\n",
       "\n",
       "    .dataframe thead th {\n",
       "        text-align: right;\n",
       "    }\n",
       "</style>\n",
       "<table border=\"1\" class=\"dataframe\">\n",
       "  <thead>\n",
       "    <tr style=\"text-align: right;\">\n",
       "      <th></th>\n",
       "      <th>song_id</th>\n",
       "      <th>track_id</th>\n",
       "      <th>title</th>\n",
       "      <th>release</th>\n",
       "      <th>artist_id</th>\n",
       "      <th>artist_mbid</th>\n",
       "      <th>artist_name</th>\n",
       "      <th>duration</th>\n",
       "      <th>artist_familiarity</th>\n",
       "      <th>artist_hotttnesss</th>\n",
       "      <th>year</th>\n",
       "      <th>track_7digitalid</th>\n",
       "      <th>shs_perf</th>\n",
       "      <th>shs_work</th>\n",
       "    </tr>\n",
       "  </thead>\n",
       "  <tbody>\n",
       "    <tr>\n",
       "      <th>0</th>\n",
       "      <td>SOAKIMP12A8C130995</td>\n",
       "      <td>TRIQAUQ128F42435AD</td>\n",
       "      <td>The Cove</td>\n",
       "      <td>Thicker Than Water</td>\n",
       "      <td>ARC8CQZ1187B98DECA</td>\n",
       "      <td>ff6e677f-91dd-4986-a174-8db0474b1799</td>\n",
       "      <td>Jack Johnson</td>\n",
       "      <td>112.63955</td>\n",
       "      <td>0.832012</td>\n",
       "      <td>0.677482</td>\n",
       "      <td>0</td>\n",
       "      <td>2093263</td>\n",
       "      <td>-1</td>\n",
       "      <td>0</td>\n",
       "    </tr>\n",
       "    <tr>\n",
       "      <th>1</th>\n",
       "      <td>SOAPDEY12A81C210A9</td>\n",
       "      <td>TRIRLYL128F42539D1</td>\n",
       "      <td>Nothing from Nothing</td>\n",
       "      <td>To Die For</td>\n",
       "      <td>ARHYUI71187FB48366</td>\n",
       "      <td>8a7cf497-dc5c-4523-932d-3fcbc9a69d38</td>\n",
       "      <td>Billy Preston</td>\n",
       "      <td>153.59955</td>\n",
       "      <td>0.580555</td>\n",
       "      <td>0.482492</td>\n",
       "      <td>1974</td>\n",
       "      <td>3072847</td>\n",
       "      <td>-1</td>\n",
       "      <td>0</td>\n",
       "    </tr>\n",
       "    <tr>\n",
       "      <th>2</th>\n",
       "      <td>SOBBMDR12A8C13253B</td>\n",
       "      <td>TRMHBXZ128F4238406</td>\n",
       "      <td>Entre Dos Aguas</td>\n",
       "      <td>Flamenco Para Niños</td>\n",
       "      <td>ARC1SF21187FB51D0F</td>\n",
       "      <td>7bc8dd01-35ea-4b18-a64d-3a364dc76a52</td>\n",
       "      <td>Paco De Lucia</td>\n",
       "      <td>358.24281</td>\n",
       "      <td>0.633119</td>\n",
       "      <td>0.417718</td>\n",
       "      <td>1976</td>\n",
       "      <td>2631392</td>\n",
       "      <td>-1</td>\n",
       "      <td>0</td>\n",
       "    </tr>\n",
       "    <tr>\n",
       "      <th>3</th>\n",
       "      <td>SOBFNSP12AF72A0E22</td>\n",
       "      <td>TRYQMNI128F147C1C7</td>\n",
       "      <td>Under Cold Blue Stars</td>\n",
       "      <td>Under Cold Blue Stars</td>\n",
       "      <td>ARMS97V1187B99DD98</td>\n",
       "      <td>023d64c9-93db-4a20-8c5c-2efa1a53481a</td>\n",
       "      <td>Josh Rouse</td>\n",
       "      <td>266.34404</td>\n",
       "      <td>0.675339</td>\n",
       "      <td>0.509058</td>\n",
       "      <td>2002</td>\n",
       "      <td>413957</td>\n",
       "      <td>-1</td>\n",
       "      <td>0</td>\n",
       "    </tr>\n",
       "    <tr>\n",
       "      <th>4</th>\n",
       "      <td>SOBFOVM12A58A7D494</td>\n",
       "      <td>TRAHZNE128F9341B86</td>\n",
       "      <td>Riot Radio (Soundtrack Version)</td>\n",
       "      <td>Nick &amp; Norah's Infinite Playlist - Original Mo...</td>\n",
       "      <td>ARI4V0E1187B9B6FC2</td>\n",
       "      <td>87ebbe67-3910-4521-a418-4fe53eb912b7</td>\n",
       "      <td>The Dead 60s</td>\n",
       "      <td>141.42649</td>\n",
       "      <td>0.650281</td>\n",
       "      <td>0.451749</td>\n",
       "      <td>0</td>\n",
       "      <td>5674853</td>\n",
       "      <td>-1</td>\n",
       "      <td>0</td>\n",
       "    </tr>\n",
       "  </tbody>\n",
       "</table>\n",
       "</div>"
      ],
      "text/plain": [
       "              song_id            track_id                            title  \\\n",
       "0  SOAKIMP12A8C130995  TRIQAUQ128F42435AD                         The Cove   \n",
       "1  SOAPDEY12A81C210A9  TRIRLYL128F42539D1             Nothing from Nothing   \n",
       "2  SOBBMDR12A8C13253B  TRMHBXZ128F4238406                  Entre Dos Aguas   \n",
       "3  SOBFNSP12AF72A0E22  TRYQMNI128F147C1C7            Under Cold Blue Stars   \n",
       "4  SOBFOVM12A58A7D494  TRAHZNE128F9341B86  Riot Radio (Soundtrack Version)   \n",
       "\n",
       "                                             release           artist_id  \\\n",
       "0                                 Thicker Than Water  ARC8CQZ1187B98DECA   \n",
       "1                                         To Die For  ARHYUI71187FB48366   \n",
       "2                                Flamenco Para Niños  ARC1SF21187FB51D0F   \n",
       "3                              Under Cold Blue Stars  ARMS97V1187B99DD98   \n",
       "4  Nick & Norah's Infinite Playlist - Original Mo...  ARI4V0E1187B9B6FC2   \n",
       "\n",
       "                            artist_mbid    artist_name   duration  \\\n",
       "0  ff6e677f-91dd-4986-a174-8db0474b1799   Jack Johnson  112.63955   \n",
       "1  8a7cf497-dc5c-4523-932d-3fcbc9a69d38  Billy Preston  153.59955   \n",
       "2  7bc8dd01-35ea-4b18-a64d-3a364dc76a52  Paco De Lucia  358.24281   \n",
       "3  023d64c9-93db-4a20-8c5c-2efa1a53481a     Josh Rouse  266.34404   \n",
       "4  87ebbe67-3910-4521-a418-4fe53eb912b7   The Dead 60s  141.42649   \n",
       "\n",
       "   artist_familiarity  artist_hotttnesss  year  track_7digitalid  shs_perf  \\\n",
       "0            0.832012           0.677482     0           2093263        -1   \n",
       "1            0.580555           0.482492  1974           3072847        -1   \n",
       "2            0.633119           0.417718  1976           2631392        -1   \n",
       "3            0.675339           0.509058  2002            413957        -1   \n",
       "4            0.650281           0.451749     0           5674853        -1   \n",
       "\n",
       "   shs_work  \n",
       "0         0  \n",
       "1         0  \n",
       "2         0  \n",
       "3         0  \n",
       "4         0  "
      ]
     },
     "execution_count": 19,
     "metadata": {},
     "output_type": "execute_result"
    }
   ],
   "source": [
    "metadata_df.head()"
   ]
  },
  {
   "cell_type": "code",
   "execution_count": 20,
   "metadata": {},
   "outputs": [],
   "source": [
    "num_columns = ['song_id','duration', 'artist_familiarity', 'artist_hotttnesss', 'year']\n",
    "text_columns = ['song_id','release','title', 'artist_name']\n",
    "num_meta_df = metadata_df[num_columns].copy()\n",
    "text_meta_df = metadata_df[text_columns].copy()"
   ]
  },
  {
   "cell_type": "code",
   "execution_count": 21,
   "metadata": {},
   "outputs": [],
   "source": [
    "import re\n",
    "# Preprocess song release,title, artist name\n",
    "text_meta_df['release'] = text_meta_df['release'].apply(lambda x: re.sub(r'[^\\w\\s]', '', str(x))) # Remove punctuation\n",
    "text_meta_df['release'] = text_meta_df['release'].apply(lambda x: x.lower()) # Convert to lowercase\n",
    "# text_meta_df['release'] = text_meta_df['release'].apply(lambda x: ' '.join([word for word in x.split() if word not in (stopwords.words('english'))])) # Remove stop words\n",
    "\n",
    "text_meta_df['title'] = text_meta_df['title'].apply(lambda x: re.sub(r'[^\\w\\s]', '', str(x))) # Remove punctuation\n",
    "text_meta_df['title'] = text_meta_df['title'].apply(lambda x: x.lower()) # Convert to lowercase\n",
    "# text_meta_df['title'] = text_meta_df['title'].apply(lambda x: ' '.join([word for word in x.split() if word not in (stopwords.words('english'))])) # Remove stop words\n",
    "\n",
    "text_meta_df['artist_name'] = text_meta_df['artist_name'].apply(lambda x: re.sub(r'[^\\w\\s]', '', str(x))) # Remove punctuation\n",
    "text_meta_df['artist_name'] = text_meta_df['artist_name'].apply(lambda x: x.lower()) # Convert to lowercase\n",
    "# text_meta_df['artist_name'] = text_meta_df['artist_name'].apply(lambda x: ' '.join([word for word in x.split() if word not in (stopwords.words('english'))])) # Remove stop words\n"
   ]
  },
  {
   "cell_type": "code",
   "execution_count": 22,
   "metadata": {},
   "outputs": [],
   "source": [
    "from gensim.models import Word2Vec\n",
    "\n",
    "text_meta_df['text'] = text_meta_df[['release','title', 'artist_name']].apply(lambda row: ' '.join(row.values.astype(str)), axis=1)\n",
    "corpus = [text.split() for text in text_meta_df['text']]\n",
    "emb_size = 500\n",
    "# Train Word2Vec model\n",
    "model_w2v = Word2Vec(sentences=corpus, vector_size=emb_size, window=5, min_count=1, workers=4, sg=0)\n"
   ]
  },
  {
   "cell_type": "code",
   "execution_count": 23,
   "metadata": {},
   "outputs": [
    {
     "data": {
      "text/plain": [
       "(13481, 500)"
      ]
     },
     "execution_count": 23,
     "metadata": {},
     "output_type": "execute_result"
    }
   ],
   "source": [
    "# Encode metadata using Word2Vec\n",
    "meta_text_vec = []\n",
    "for text in text_meta_df['text']:\n",
    "    vec = np.zeros(emb_size)\n",
    "    tokens = text.split()\n",
    "    for token in tokens:\n",
    "        if token in model_w2v.wv:\n",
    "            vec += model_w2v.wv[token]\n",
    "    meta_text_vec.append(vec)\n",
    "meta_text_vec = np.array(meta_text_vec)\n",
    "meta_text_vec.shape"
   ]
  },
  {
   "cell_type": "code",
   "execution_count": 24,
   "metadata": {},
   "outputs": [
    {
     "data": {
      "text/html": [
       "<div>\n",
       "<style scoped>\n",
       "    .dataframe tbody tr th:only-of-type {\n",
       "        vertical-align: middle;\n",
       "    }\n",
       "\n",
       "    .dataframe tbody tr th {\n",
       "        vertical-align: top;\n",
       "    }\n",
       "\n",
       "    .dataframe thead th {\n",
       "        text-align: right;\n",
       "    }\n",
       "</style>\n",
       "<table border=\"1\" class=\"dataframe\">\n",
       "  <thead>\n",
       "    <tr style=\"text-align: right;\">\n",
       "      <th></th>\n",
       "      <th>song_id</th>\n",
       "      <th>embed_0</th>\n",
       "      <th>embed_1</th>\n",
       "      <th>embed_2</th>\n",
       "      <th>embed_3</th>\n",
       "      <th>embed_4</th>\n",
       "      <th>embed_5</th>\n",
       "      <th>embed_6</th>\n",
       "      <th>embed_7</th>\n",
       "      <th>embed_8</th>\n",
       "      <th>...</th>\n",
       "      <th>embed_490</th>\n",
       "      <th>embed_491</th>\n",
       "      <th>embed_492</th>\n",
       "      <th>embed_493</th>\n",
       "      <th>embed_494</th>\n",
       "      <th>embed_495</th>\n",
       "      <th>embed_496</th>\n",
       "      <th>embed_497</th>\n",
       "      <th>embed_498</th>\n",
       "      <th>embed_499</th>\n",
       "    </tr>\n",
       "  </thead>\n",
       "  <tbody>\n",
       "    <tr>\n",
       "      <th>0</th>\n",
       "      <td>SOAKIMP12A8C130995</td>\n",
       "      <td>1.500808</td>\n",
       "      <td>0.605712</td>\n",
       "      <td>1.518413</td>\n",
       "      <td>1.093348</td>\n",
       "      <td>-1.045564</td>\n",
       "      <td>-1.370030</td>\n",
       "      <td>0.744629</td>\n",
       "      <td>3.130294</td>\n",
       "      <td>0.237754</td>\n",
       "      <td>...</td>\n",
       "      <td>0.877762</td>\n",
       "      <td>-0.674761</td>\n",
       "      <td>1.568476</td>\n",
       "      <td>-0.194651</td>\n",
       "      <td>1.065373</td>\n",
       "      <td>-0.047528</td>\n",
       "      <td>0.047208</td>\n",
       "      <td>-0.364136</td>\n",
       "      <td>-0.983430</td>\n",
       "      <td>-0.504596</td>\n",
       "    </tr>\n",
       "    <tr>\n",
       "      <th>1</th>\n",
       "      <td>SOAPDEY12A81C210A9</td>\n",
       "      <td>2.807481</td>\n",
       "      <td>1.125759</td>\n",
       "      <td>2.864069</td>\n",
       "      <td>2.057129</td>\n",
       "      <td>-1.950800</td>\n",
       "      <td>-2.533453</td>\n",
       "      <td>1.385338</td>\n",
       "      <td>5.851096</td>\n",
       "      <td>0.466409</td>\n",
       "      <td>...</td>\n",
       "      <td>1.648878</td>\n",
       "      <td>-1.273934</td>\n",
       "      <td>2.921583</td>\n",
       "      <td>-0.368855</td>\n",
       "      <td>1.990022</td>\n",
       "      <td>-0.068159</td>\n",
       "      <td>0.084223</td>\n",
       "      <td>-0.696910</td>\n",
       "      <td>-1.855763</td>\n",
       "      <td>-0.937682</td>\n",
       "    </tr>\n",
       "    <tr>\n",
       "      <th>2</th>\n",
       "      <td>SOBBMDR12A8C13253B</td>\n",
       "      <td>1.069473</td>\n",
       "      <td>0.407737</td>\n",
       "      <td>1.053115</td>\n",
       "      <td>0.763874</td>\n",
       "      <td>-0.718270</td>\n",
       "      <td>-0.925916</td>\n",
       "      <td>0.530114</td>\n",
       "      <td>2.186496</td>\n",
       "      <td>0.205729</td>\n",
       "      <td>...</td>\n",
       "      <td>0.621431</td>\n",
       "      <td>-0.476481</td>\n",
       "      <td>1.102827</td>\n",
       "      <td>-0.128272</td>\n",
       "      <td>0.731721</td>\n",
       "      <td>-0.021424</td>\n",
       "      <td>0.047735</td>\n",
       "      <td>-0.256625</td>\n",
       "      <td>-0.713925</td>\n",
       "      <td>-0.369029</td>\n",
       "    </tr>\n",
       "    <tr>\n",
       "      <th>3</th>\n",
       "      <td>SOBFNSP12AF72A0E22</td>\n",
       "      <td>2.105758</td>\n",
       "      <td>0.833084</td>\n",
       "      <td>2.133586</td>\n",
       "      <td>1.526140</td>\n",
       "      <td>-1.444560</td>\n",
       "      <td>-1.886811</td>\n",
       "      <td>1.047962</td>\n",
       "      <td>4.385023</td>\n",
       "      <td>0.371035</td>\n",
       "      <td>...</td>\n",
       "      <td>1.238152</td>\n",
       "      <td>-0.957589</td>\n",
       "      <td>2.195691</td>\n",
       "      <td>-0.271790</td>\n",
       "      <td>1.481065</td>\n",
       "      <td>-0.065613</td>\n",
       "      <td>0.063475</td>\n",
       "      <td>-0.508341</td>\n",
       "      <td>-1.389823</td>\n",
       "      <td>-0.711840</td>\n",
       "    </tr>\n",
       "    <tr>\n",
       "      <th>4</th>\n",
       "      <td>SOBFOVM12A58A7D494</td>\n",
       "      <td>4.007488</td>\n",
       "      <td>1.594565</td>\n",
       "      <td>4.081119</td>\n",
       "      <td>2.877594</td>\n",
       "      <td>-2.793714</td>\n",
       "      <td>-3.586086</td>\n",
       "      <td>1.951640</td>\n",
       "      <td>8.345474</td>\n",
       "      <td>0.635143</td>\n",
       "      <td>...</td>\n",
       "      <td>2.321894</td>\n",
       "      <td>-1.789028</td>\n",
       "      <td>4.173983</td>\n",
       "      <td>-0.505043</td>\n",
       "      <td>2.822034</td>\n",
       "      <td>-0.191024</td>\n",
       "      <td>0.121972</td>\n",
       "      <td>-0.946705</td>\n",
       "      <td>-2.621400</td>\n",
       "      <td>-1.320192</td>\n",
       "    </tr>\n",
       "  </tbody>\n",
       "</table>\n",
       "<p>5 rows × 501 columns</p>\n",
       "</div>"
      ],
      "text/plain": [
       "              song_id   embed_0   embed_1   embed_2   embed_3   embed_4  \\\n",
       "0  SOAKIMP12A8C130995  1.500808  0.605712  1.518413  1.093348 -1.045564   \n",
       "1  SOAPDEY12A81C210A9  2.807481  1.125759  2.864069  2.057129 -1.950800   \n",
       "2  SOBBMDR12A8C13253B  1.069473  0.407737  1.053115  0.763874 -0.718270   \n",
       "3  SOBFNSP12AF72A0E22  2.105758  0.833084  2.133586  1.526140 -1.444560   \n",
       "4  SOBFOVM12A58A7D494  4.007488  1.594565  4.081119  2.877594 -2.793714   \n",
       "\n",
       "    embed_5   embed_6   embed_7   embed_8  ...  embed_490  embed_491  \\\n",
       "0 -1.370030  0.744629  3.130294  0.237754  ...   0.877762  -0.674761   \n",
       "1 -2.533453  1.385338  5.851096  0.466409  ...   1.648878  -1.273934   \n",
       "2 -0.925916  0.530114  2.186496  0.205729  ...   0.621431  -0.476481   \n",
       "3 -1.886811  1.047962  4.385023  0.371035  ...   1.238152  -0.957589   \n",
       "4 -3.586086  1.951640  8.345474  0.635143  ...   2.321894  -1.789028   \n",
       "\n",
       "   embed_492  embed_493  embed_494  embed_495  embed_496  embed_497  \\\n",
       "0   1.568476  -0.194651   1.065373  -0.047528   0.047208  -0.364136   \n",
       "1   2.921583  -0.368855   1.990022  -0.068159   0.084223  -0.696910   \n",
       "2   1.102827  -0.128272   0.731721  -0.021424   0.047735  -0.256625   \n",
       "3   2.195691  -0.271790   1.481065  -0.065613   0.063475  -0.508341   \n",
       "4   4.173983  -0.505043   2.822034  -0.191024   0.121972  -0.946705   \n",
       "\n",
       "   embed_498  embed_499  \n",
       "0  -0.983430  -0.504596  \n",
       "1  -1.855763  -0.937682  \n",
       "2  -0.713925  -0.369029  \n",
       "3  -1.389823  -0.711840  \n",
       "4  -2.621400  -1.320192  \n",
       "\n",
       "[5 rows x 501 columns]"
      ]
     },
     "execution_count": 24,
     "metadata": {},
     "output_type": "execute_result"
    }
   ],
   "source": [
    "meta_embed = pd.concat([text_meta_df['song_id'],pd.DataFrame(meta_text_vec,columns = ['embed_{}'.format(i) for i in range(meta_text_vec.shape[1])])],axis = 1)\n",
    "meta_embed.head()"
   ]
  },
  {
   "cell_type": "code",
   "execution_count": 25,
   "metadata": {},
   "outputs": [],
   "source": [
    "meta_data_df = pd.merge(taste_profile,meta_embed, on='song_id',how='left')"
   ]
  },
  {
   "cell_type": "code",
   "execution_count": 26,
   "metadata": {},
   "outputs": [
    {
     "data": {
      "text/html": [
       "<div>\n",
       "<style scoped>\n",
       "    .dataframe tbody tr th:only-of-type {\n",
       "        vertical-align: middle;\n",
       "    }\n",
       "\n",
       "    .dataframe tbody tr th {\n",
       "        vertical-align: top;\n",
       "    }\n",
       "\n",
       "    .dataframe thead th {\n",
       "        text-align: right;\n",
       "    }\n",
       "</style>\n",
       "<table border=\"1\" class=\"dataframe\">\n",
       "  <thead>\n",
       "    <tr style=\"text-align: right;\">\n",
       "      <th></th>\n",
       "      <th>user_id</th>\n",
       "      <th>song_id</th>\n",
       "      <th>play_count</th>\n",
       "      <th>embed_0</th>\n",
       "      <th>embed_1</th>\n",
       "      <th>embed_2</th>\n",
       "      <th>embed_3</th>\n",
       "      <th>embed_4</th>\n",
       "      <th>embed_5</th>\n",
       "      <th>embed_6</th>\n",
       "      <th>...</th>\n",
       "      <th>embed_494</th>\n",
       "      <th>embed_495</th>\n",
       "      <th>embed_496</th>\n",
       "      <th>embed_497</th>\n",
       "      <th>embed_498</th>\n",
       "      <th>embed_499</th>\n",
       "      <th>duration</th>\n",
       "      <th>artist_familiarity</th>\n",
       "      <th>artist_hotttnesss</th>\n",
       "      <th>year</th>\n",
       "    </tr>\n",
       "  </thead>\n",
       "  <tbody>\n",
       "    <tr>\n",
       "      <th>0</th>\n",
       "      <td>b80344d063b5ccb3212f76538f3d9e43d87dca9e</td>\n",
       "      <td>SOAKIMP12A8C130995</td>\n",
       "      <td>1</td>\n",
       "      <td>1.500808</td>\n",
       "      <td>0.605712</td>\n",
       "      <td>1.518413</td>\n",
       "      <td>1.093348</td>\n",
       "      <td>-1.045564</td>\n",
       "      <td>-1.370030</td>\n",
       "      <td>0.744629</td>\n",
       "      <td>...</td>\n",
       "      <td>1.065373</td>\n",
       "      <td>-0.047528</td>\n",
       "      <td>0.047208</td>\n",
       "      <td>-0.364136</td>\n",
       "      <td>-0.983430</td>\n",
       "      <td>-0.504596</td>\n",
       "      <td>112.63955</td>\n",
       "      <td>0.832012</td>\n",
       "      <td>0.677482</td>\n",
       "      <td>0</td>\n",
       "    </tr>\n",
       "    <tr>\n",
       "      <th>1</th>\n",
       "      <td>b80344d063b5ccb3212f76538f3d9e43d87dca9e</td>\n",
       "      <td>SOAPDEY12A81C210A9</td>\n",
       "      <td>1</td>\n",
       "      <td>2.807481</td>\n",
       "      <td>1.125759</td>\n",
       "      <td>2.864069</td>\n",
       "      <td>2.057129</td>\n",
       "      <td>-1.950800</td>\n",
       "      <td>-2.533453</td>\n",
       "      <td>1.385338</td>\n",
       "      <td>...</td>\n",
       "      <td>1.990022</td>\n",
       "      <td>-0.068159</td>\n",
       "      <td>0.084223</td>\n",
       "      <td>-0.696910</td>\n",
       "      <td>-1.855763</td>\n",
       "      <td>-0.937682</td>\n",
       "      <td>153.59955</td>\n",
       "      <td>0.580555</td>\n",
       "      <td>0.482492</td>\n",
       "      <td>1974</td>\n",
       "    </tr>\n",
       "    <tr>\n",
       "      <th>2</th>\n",
       "      <td>b80344d063b5ccb3212f76538f3d9e43d87dca9e</td>\n",
       "      <td>SOBBMDR12A8C13253B</td>\n",
       "      <td>2</td>\n",
       "      <td>1.069473</td>\n",
       "      <td>0.407737</td>\n",
       "      <td>1.053115</td>\n",
       "      <td>0.763874</td>\n",
       "      <td>-0.718270</td>\n",
       "      <td>-0.925916</td>\n",
       "      <td>0.530114</td>\n",
       "      <td>...</td>\n",
       "      <td>0.731721</td>\n",
       "      <td>-0.021424</td>\n",
       "      <td>0.047735</td>\n",
       "      <td>-0.256625</td>\n",
       "      <td>-0.713925</td>\n",
       "      <td>-0.369029</td>\n",
       "      <td>358.24281</td>\n",
       "      <td>0.633119</td>\n",
       "      <td>0.417718</td>\n",
       "      <td>1976</td>\n",
       "    </tr>\n",
       "    <tr>\n",
       "      <th>3</th>\n",
       "      <td>b80344d063b5ccb3212f76538f3d9e43d87dca9e</td>\n",
       "      <td>SOBFNSP12AF72A0E22</td>\n",
       "      <td>1</td>\n",
       "      <td>2.105758</td>\n",
       "      <td>0.833084</td>\n",
       "      <td>2.133586</td>\n",
       "      <td>1.526140</td>\n",
       "      <td>-1.444560</td>\n",
       "      <td>-1.886811</td>\n",
       "      <td>1.047962</td>\n",
       "      <td>...</td>\n",
       "      <td>1.481065</td>\n",
       "      <td>-0.065613</td>\n",
       "      <td>0.063475</td>\n",
       "      <td>-0.508341</td>\n",
       "      <td>-1.389823</td>\n",
       "      <td>-0.711840</td>\n",
       "      <td>266.34404</td>\n",
       "      <td>0.675339</td>\n",
       "      <td>0.509058</td>\n",
       "      <td>2002</td>\n",
       "    </tr>\n",
       "    <tr>\n",
       "      <th>4</th>\n",
       "      <td>b80344d063b5ccb3212f76538f3d9e43d87dca9e</td>\n",
       "      <td>SOBFOVM12A58A7D494</td>\n",
       "      <td>1</td>\n",
       "      <td>4.007488</td>\n",
       "      <td>1.594565</td>\n",
       "      <td>4.081119</td>\n",
       "      <td>2.877594</td>\n",
       "      <td>-2.793714</td>\n",
       "      <td>-3.586086</td>\n",
       "      <td>1.951640</td>\n",
       "      <td>...</td>\n",
       "      <td>2.822034</td>\n",
       "      <td>-0.191024</td>\n",
       "      <td>0.121972</td>\n",
       "      <td>-0.946705</td>\n",
       "      <td>-2.621400</td>\n",
       "      <td>-1.320192</td>\n",
       "      <td>141.42649</td>\n",
       "      <td>0.650281</td>\n",
       "      <td>0.451749</td>\n",
       "      <td>0</td>\n",
       "    </tr>\n",
       "  </tbody>\n",
       "</table>\n",
       "<p>5 rows × 507 columns</p>\n",
       "</div>"
      ],
      "text/plain": [
       "                                    user_id             song_id  play_count  \\\n",
       "0  b80344d063b5ccb3212f76538f3d9e43d87dca9e  SOAKIMP12A8C130995           1   \n",
       "1  b80344d063b5ccb3212f76538f3d9e43d87dca9e  SOAPDEY12A81C210A9           1   \n",
       "2  b80344d063b5ccb3212f76538f3d9e43d87dca9e  SOBBMDR12A8C13253B           2   \n",
       "3  b80344d063b5ccb3212f76538f3d9e43d87dca9e  SOBFNSP12AF72A0E22           1   \n",
       "4  b80344d063b5ccb3212f76538f3d9e43d87dca9e  SOBFOVM12A58A7D494           1   \n",
       "\n",
       "    embed_0   embed_1   embed_2   embed_3   embed_4   embed_5   embed_6  ...  \\\n",
       "0  1.500808  0.605712  1.518413  1.093348 -1.045564 -1.370030  0.744629  ...   \n",
       "1  2.807481  1.125759  2.864069  2.057129 -1.950800 -2.533453  1.385338  ...   \n",
       "2  1.069473  0.407737  1.053115  0.763874 -0.718270 -0.925916  0.530114  ...   \n",
       "3  2.105758  0.833084  2.133586  1.526140 -1.444560 -1.886811  1.047962  ...   \n",
       "4  4.007488  1.594565  4.081119  2.877594 -2.793714 -3.586086  1.951640  ...   \n",
       "\n",
       "   embed_494  embed_495  embed_496  embed_497  embed_498  embed_499  \\\n",
       "0   1.065373  -0.047528   0.047208  -0.364136  -0.983430  -0.504596   \n",
       "1   1.990022  -0.068159   0.084223  -0.696910  -1.855763  -0.937682   \n",
       "2   0.731721  -0.021424   0.047735  -0.256625  -0.713925  -0.369029   \n",
       "3   1.481065  -0.065613   0.063475  -0.508341  -1.389823  -0.711840   \n",
       "4   2.822034  -0.191024   0.121972  -0.946705  -2.621400  -1.320192   \n",
       "\n",
       "    duration  artist_familiarity  artist_hotttnesss  year  \n",
       "0  112.63955            0.832012           0.677482     0  \n",
       "1  153.59955            0.580555           0.482492  1974  \n",
       "2  358.24281            0.633119           0.417718  1976  \n",
       "3  266.34404            0.675339           0.509058  2002  \n",
       "4  141.42649            0.650281           0.451749     0  \n",
       "\n",
       "[5 rows x 507 columns]"
      ]
     },
     "execution_count": 26,
     "metadata": {},
     "output_type": "execute_result"
    }
   ],
   "source": [
    "#Merging meta data into main dataframe\n",
    "final_data_df = pd.merge(meta_data_df,num_meta_df,on='song_id',how=\"left\")\n",
    "final_data_df.head()"
   ]
  },
  {
   "cell_type": "code",
   "execution_count": 27,
   "metadata": {},
   "outputs": [],
   "source": [
    "# #Merging meta data into main dataframe\n",
    "# final_data_df = pd.merge(meta_data_df,num_meta_df,on='song_id',how=\"left\")\n",
    "# final_data_df.head()"
   ]
  },
  {
   "cell_type": "code",
   "execution_count": 28,
   "metadata": {
    "scrolled": true
   },
   "outputs": [
    {
     "data": {
      "text/html": [
       "<div>\n",
       "<style scoped>\n",
       "    .dataframe tbody tr th:only-of-type {\n",
       "        vertical-align: middle;\n",
       "    }\n",
       "\n",
       "    .dataframe tbody tr th {\n",
       "        vertical-align: top;\n",
       "    }\n",
       "\n",
       "    .dataframe thead th {\n",
       "        text-align: right;\n",
       "    }\n",
       "</style>\n",
       "<table border=\"1\" class=\"dataframe\">\n",
       "  <thead>\n",
       "    <tr style=\"text-align: right;\">\n",
       "      <th></th>\n",
       "      <th>user_id</th>\n",
       "      <th>song_id</th>\n",
       "      <th>play_count</th>\n",
       "      <th>embed_0</th>\n",
       "      <th>embed_1</th>\n",
       "      <th>embed_2</th>\n",
       "      <th>embed_3</th>\n",
       "      <th>embed_4</th>\n",
       "      <th>embed_5</th>\n",
       "      <th>embed_6</th>\n",
       "      <th>...</th>\n",
       "      <th>embed_495</th>\n",
       "      <th>embed_496</th>\n",
       "      <th>embed_497</th>\n",
       "      <th>embed_498</th>\n",
       "      <th>embed_499</th>\n",
       "      <th>duration</th>\n",
       "      <th>artist_familiarity</th>\n",
       "      <th>artist_hotttnesss</th>\n",
       "      <th>year</th>\n",
       "      <th>play_count_norm</th>\n",
       "    </tr>\n",
       "  </thead>\n",
       "  <tbody>\n",
       "    <tr>\n",
       "      <th>0</th>\n",
       "      <td>b80344d063b5ccb3212f76538f3d9e43d87dca9e</td>\n",
       "      <td>SOAKIMP12A8C130995</td>\n",
       "      <td>1</td>\n",
       "      <td>1.500808</td>\n",
       "      <td>0.605712</td>\n",
       "      <td>1.518413</td>\n",
       "      <td>1.093348</td>\n",
       "      <td>-1.045564</td>\n",
       "      <td>-1.370030</td>\n",
       "      <td>0.744629</td>\n",
       "      <td>...</td>\n",
       "      <td>-0.047528</td>\n",
       "      <td>0.047208</td>\n",
       "      <td>-0.364136</td>\n",
       "      <td>-0.983430</td>\n",
       "      <td>-0.504596</td>\n",
       "      <td>112.63955</td>\n",
       "      <td>0.832012</td>\n",
       "      <td>0.677482</td>\n",
       "      <td>0</td>\n",
       "      <td>0.301030</td>\n",
       "    </tr>\n",
       "    <tr>\n",
       "      <th>1</th>\n",
       "      <td>b80344d063b5ccb3212f76538f3d9e43d87dca9e</td>\n",
       "      <td>SOAPDEY12A81C210A9</td>\n",
       "      <td>1</td>\n",
       "      <td>2.807481</td>\n",
       "      <td>1.125759</td>\n",
       "      <td>2.864069</td>\n",
       "      <td>2.057129</td>\n",
       "      <td>-1.950800</td>\n",
       "      <td>-2.533453</td>\n",
       "      <td>1.385338</td>\n",
       "      <td>...</td>\n",
       "      <td>-0.068159</td>\n",
       "      <td>0.084223</td>\n",
       "      <td>-0.696910</td>\n",
       "      <td>-1.855763</td>\n",
       "      <td>-0.937682</td>\n",
       "      <td>153.59955</td>\n",
       "      <td>0.580555</td>\n",
       "      <td>0.482492</td>\n",
       "      <td>1974</td>\n",
       "      <td>0.301030</td>\n",
       "    </tr>\n",
       "    <tr>\n",
       "      <th>2</th>\n",
       "      <td>b80344d063b5ccb3212f76538f3d9e43d87dca9e</td>\n",
       "      <td>SOBBMDR12A8C13253B</td>\n",
       "      <td>2</td>\n",
       "      <td>1.069473</td>\n",
       "      <td>0.407737</td>\n",
       "      <td>1.053115</td>\n",
       "      <td>0.763874</td>\n",
       "      <td>-0.718270</td>\n",
       "      <td>-0.925916</td>\n",
       "      <td>0.530114</td>\n",
       "      <td>...</td>\n",
       "      <td>-0.021424</td>\n",
       "      <td>0.047735</td>\n",
       "      <td>-0.256625</td>\n",
       "      <td>-0.713925</td>\n",
       "      <td>-0.369029</td>\n",
       "      <td>358.24281</td>\n",
       "      <td>0.633119</td>\n",
       "      <td>0.417718</td>\n",
       "      <td>1976</td>\n",
       "      <td>0.477121</td>\n",
       "    </tr>\n",
       "    <tr>\n",
       "      <th>3</th>\n",
       "      <td>b80344d063b5ccb3212f76538f3d9e43d87dca9e</td>\n",
       "      <td>SOBFNSP12AF72A0E22</td>\n",
       "      <td>1</td>\n",
       "      <td>2.105758</td>\n",
       "      <td>0.833084</td>\n",
       "      <td>2.133586</td>\n",
       "      <td>1.526140</td>\n",
       "      <td>-1.444560</td>\n",
       "      <td>-1.886811</td>\n",
       "      <td>1.047962</td>\n",
       "      <td>...</td>\n",
       "      <td>-0.065613</td>\n",
       "      <td>0.063475</td>\n",
       "      <td>-0.508341</td>\n",
       "      <td>-1.389823</td>\n",
       "      <td>-0.711840</td>\n",
       "      <td>266.34404</td>\n",
       "      <td>0.675339</td>\n",
       "      <td>0.509058</td>\n",
       "      <td>2002</td>\n",
       "      <td>0.301030</td>\n",
       "    </tr>\n",
       "    <tr>\n",
       "      <th>4</th>\n",
       "      <td>b80344d063b5ccb3212f76538f3d9e43d87dca9e</td>\n",
       "      <td>SOBFOVM12A58A7D494</td>\n",
       "      <td>1</td>\n",
       "      <td>4.007488</td>\n",
       "      <td>1.594565</td>\n",
       "      <td>4.081119</td>\n",
       "      <td>2.877594</td>\n",
       "      <td>-2.793714</td>\n",
       "      <td>-3.586086</td>\n",
       "      <td>1.951640</td>\n",
       "      <td>...</td>\n",
       "      <td>-0.191024</td>\n",
       "      <td>0.121972</td>\n",
       "      <td>-0.946705</td>\n",
       "      <td>-2.621400</td>\n",
       "      <td>-1.320192</td>\n",
       "      <td>141.42649</td>\n",
       "      <td>0.650281</td>\n",
       "      <td>0.451749</td>\n",
       "      <td>0</td>\n",
       "      <td>0.301030</td>\n",
       "    </tr>\n",
       "  </tbody>\n",
       "</table>\n",
       "<p>5 rows × 508 columns</p>\n",
       "</div>"
      ],
      "text/plain": [
       "                                    user_id             song_id  play_count  \\\n",
       "0  b80344d063b5ccb3212f76538f3d9e43d87dca9e  SOAKIMP12A8C130995           1   \n",
       "1  b80344d063b5ccb3212f76538f3d9e43d87dca9e  SOAPDEY12A81C210A9           1   \n",
       "2  b80344d063b5ccb3212f76538f3d9e43d87dca9e  SOBBMDR12A8C13253B           2   \n",
       "3  b80344d063b5ccb3212f76538f3d9e43d87dca9e  SOBFNSP12AF72A0E22           1   \n",
       "4  b80344d063b5ccb3212f76538f3d9e43d87dca9e  SOBFOVM12A58A7D494           1   \n",
       "\n",
       "    embed_0   embed_1   embed_2   embed_3   embed_4   embed_5   embed_6  ...  \\\n",
       "0  1.500808  0.605712  1.518413  1.093348 -1.045564 -1.370030  0.744629  ...   \n",
       "1  2.807481  1.125759  2.864069  2.057129 -1.950800 -2.533453  1.385338  ...   \n",
       "2  1.069473  0.407737  1.053115  0.763874 -0.718270 -0.925916  0.530114  ...   \n",
       "3  2.105758  0.833084  2.133586  1.526140 -1.444560 -1.886811  1.047962  ...   \n",
       "4  4.007488  1.594565  4.081119  2.877594 -2.793714 -3.586086  1.951640  ...   \n",
       "\n",
       "   embed_495  embed_496  embed_497  embed_498  embed_499   duration  \\\n",
       "0  -0.047528   0.047208  -0.364136  -0.983430  -0.504596  112.63955   \n",
       "1  -0.068159   0.084223  -0.696910  -1.855763  -0.937682  153.59955   \n",
       "2  -0.021424   0.047735  -0.256625  -0.713925  -0.369029  358.24281   \n",
       "3  -0.065613   0.063475  -0.508341  -1.389823  -0.711840  266.34404   \n",
       "4  -0.191024   0.121972  -0.946705  -2.621400  -1.320192  141.42649   \n",
       "\n",
       "   artist_familiarity  artist_hotttnesss  year  play_count_norm  \n",
       "0            0.832012           0.677482     0         0.301030  \n",
       "1            0.580555           0.482492  1974         0.301030  \n",
       "2            0.633119           0.417718  1976         0.477121  \n",
       "3            0.675339           0.509058  2002         0.301030  \n",
       "4            0.650281           0.451749     0         0.301030  \n",
       "\n",
       "[5 rows x 508 columns]"
      ]
     },
     "execution_count": 28,
     "metadata": {},
     "output_type": "execute_result"
    }
   ],
   "source": [
    "from sklearn.preprocessing import MinMaxScaler\n",
    "scaler = MinMaxScaler()\n",
    "final_data_df['play_count_norm'] =  np.log10(1 + final_data_df['play_count'].values)\n",
    "#scaler.fit_transform(final_data_df['play_count'].values.reshape(-1, 1))\n",
    "final_data_df.head()"
   ]
  },
  {
   "cell_type": "markdown",
   "metadata": {},
   "source": [
    "#### TRAINING INPUT"
   ]
  },
  {
   "cell_type": "code",
   "execution_count": 29,
   "metadata": {},
   "outputs": [],
   "source": [
    "# Generate random indices\n",
    "num_samples = len(final_data_df)\n",
    "indices = np.random.permutation(num_samples)\n",
    "\n",
    "# Split indices into train and test\n",
    "train_size = int(0.8 * num_samples)\n",
    "train_indices = indices[:train_size]\n",
    "test_indices = indices[train_size:]\n",
    "\n",
    "# Use indices to index data\n",
    "train_data = final_data_df.iloc[train_indices]\n",
    "test_data = final_data_df.iloc[test_indices]"
   ]
  },
  {
   "cell_type": "code",
   "execution_count": 49,
   "metadata": {},
   "outputs": [
    {
     "name": "stderr",
     "output_type": "stream",
     "text": [
      "/tmp/ipykernel_92137/4250945345.py:1: SettingWithCopyWarning: \n",
      "A value is trying to be set on a copy of a slice from a DataFrame.\n",
      "Try using .loc[row_indexer,col_indexer] = value instead\n",
      "\n",
      "See the caveats in the documentation: https://pandas.pydata.org/pandas-docs/stable/user_guide/indexing.html#returning-a-view-versus-a-copy\n",
      "  train_data.song_id= pd.Categorical(train_data.song_id)\n",
      "/tmp/ipykernel_92137/4250945345.py:2: SettingWithCopyWarning: \n",
      "A value is trying to be set on a copy of a slice from a DataFrame.\n",
      "Try using .loc[row_indexer,col_indexer] = value instead\n",
      "\n",
      "See the caveats in the documentation: https://pandas.pydata.org/pandas-docs/stable/user_guide/indexing.html#returning-a-view-versus-a-copy\n",
      "  train_data.song_id = train_data.song_id.cat.codes\n",
      "/tmp/ipykernel_92137/4250945345.py:3: SettingWithCopyWarning: \n",
      "A value is trying to be set on a copy of a slice from a DataFrame.\n",
      "Try using .loc[row_indexer,col_indexer] = value instead\n",
      "\n",
      "See the caveats in the documentation: https://pandas.pydata.org/pandas-docs/stable/user_guide/indexing.html#returning-a-view-versus-a-copy\n",
      "  train_data.user_id= pd.Categorical(train_data.user_id)\n",
      "/tmp/ipykernel_92137/4250945345.py:4: SettingWithCopyWarning: \n",
      "A value is trying to be set on a copy of a slice from a DataFrame.\n",
      "Try using .loc[row_indexer,col_indexer] = value instead\n",
      "\n",
      "See the caveats in the documentation: https://pandas.pydata.org/pandas-docs/stable/user_guide/indexing.html#returning-a-view-versus-a-copy\n",
      "  train_data.user_id = train_data.user_id.cat.codes\n",
      "/tmp/ipykernel_92137/4250945345.py:9: SettingWithCopyWarning: \n",
      "A value is trying to be set on a copy of a slice from a DataFrame.\n",
      "Try using .loc[row_indexer,col_indexer] = value instead\n",
      "\n",
      "See the caveats in the documentation: https://pandas.pydata.org/pandas-docs/stable/user_guide/indexing.html#returning-a-view-versus-a-copy\n",
      "  test_data.song_id= pd.Categorical(test_data.song_id)\n",
      "/tmp/ipykernel_92137/4250945345.py:10: SettingWithCopyWarning: \n",
      "A value is trying to be set on a copy of a slice from a DataFrame.\n",
      "Try using .loc[row_indexer,col_indexer] = value instead\n",
      "\n",
      "See the caveats in the documentation: https://pandas.pydata.org/pandas-docs/stable/user_guide/indexing.html#returning-a-view-versus-a-copy\n",
      "  test_data.song_id = test_data.song_id.cat.codes\n",
      "/tmp/ipykernel_92137/4250945345.py:11: SettingWithCopyWarning: \n",
      "A value is trying to be set on a copy of a slice from a DataFrame.\n",
      "Try using .loc[row_indexer,col_indexer] = value instead\n",
      "\n",
      "See the caveats in the documentation: https://pandas.pydata.org/pandas-docs/stable/user_guide/indexing.html#returning-a-view-versus-a-copy\n",
      "  test_data.user_id= pd.Categorical(test_data.user_id)\n",
      "/tmp/ipykernel_92137/4250945345.py:12: SettingWithCopyWarning: \n",
      "A value is trying to be set on a copy of a slice from a DataFrame.\n",
      "Try using .loc[row_indexer,col_indexer] = value instead\n",
      "\n",
      "See the caveats in the documentation: https://pandas.pydata.org/pandas-docs/stable/user_guide/indexing.html#returning-a-view-versus-a-copy\n",
      "  test_data.user_id = test_data.user_id.cat.codes\n"
     ]
    }
   ],
   "source": [
    "train_data.song_id= pd.Categorical(train_data.song_id) \n",
    "train_data.song_id = train_data.song_id.cat.codes\n",
    "train_data.user_id= pd.Categorical(train_data.user_id) \n",
    "train_data.user_id = train_data.user_id.cat.codes\n",
    "train_meta_array = train_data.drop(columns=['song_id','user_id','play_count','play_count_norm']).values\n",
    "train_output = train_data['play_count']\n",
    "\n",
    "\n",
    "test_data.song_id= pd.Categorical(test_data.song_id) \n",
    "test_data.song_id = test_data.song_id.cat.codes\n",
    "test_data.user_id= pd.Categorical(test_data.user_id) \n",
    "test_data.user_id = test_data.user_id.cat.codes\n",
    "test_meta_array = test_data.drop(columns=['song_id','user_id','play_count','play_count_norm']).values\n",
    "test_output = test_data['play_count']\n"
   ]
  },
  {
   "cell_type": "markdown",
   "metadata": {
    "id": "ScHzYu-rV2QA"
   },
   "source": [
    "#### 4.1 Input dimensions for neural network"
   ]
  },
  {
   "cell_type": "code",
   "execution_count": 50,
   "metadata": {},
   "outputs": [
    {
     "data": {
      "text/plain": [
       "(11035, 395, 1, 1, 504)"
      ]
     },
     "execution_count": 50,
     "metadata": {},
     "output_type": "execute_result"
    }
   ],
   "source": [
    "#nunique() will return the total number of unique items\n",
    "\n",
    "num_songs = len(train_data.song_id.unique()) \n",
    "num_users = len(train_data.user_id.unique())\n",
    "song_input_dim = 1\n",
    "user_input_dim = 1\n",
    "meta_text_dim = train_meta_array.shape[1]\n",
    "\n",
    "num_songs,num_users,song_input_dim,user_input_dim,meta_text_dim"
   ]
  },
  {
   "cell_type": "markdown",
   "metadata": {
    "id": "2L50f8f2V1gE"
   },
   "source": [
    "### 4 Training a Neural Network"
   ]
  },
  {
   "cell_type": "code",
   "execution_count": 51,
   "metadata": {
    "id": "wMkZo57S-58a"
   },
   "outputs": [],
   "source": [
    "import tensorflow as tf\n",
    "from tensorflow.keras.layers import Dense, Flatten, Input, Embedding, Concatenate, Dropout\n",
    "from tensorflow.keras.callbacks import EarlyStopping\n",
    "from tensorflow.keras.optimizers import Adam\n",
    "import keras\n",
    "from keras.layers import Add, Activation, Lambda, BatchNormalization, Concatenate, Dropout, Input, Embedding, Dot, Reshape, Dense, Flatten\n",
    "from keras import regularizers\n"
   ]
  },
  {
   "cell_type": "code",
   "execution_count": 52,
   "metadata": {
    "scrolled": true
   },
   "outputs": [
    {
     "name": "stdout",
     "output_type": "stream",
     "text": [
      "Model: \"model_12\"\n",
      "_________________________________________________________________\n",
      " Layer (type)                Output Shape              Param #   \n",
      "=================================================================\n",
      " song_input (InputLayer)     [(None, 1)]               0         \n",
      "                                                                 \n",
      " dense_28 (Dense)            (None, 128)               256       \n",
      "                                                                 \n",
      " dropout_26 (Dropout)        (None, 128)               0         \n",
      "                                                                 \n",
      " dense_29 (Dense)            (None, 64)                8256      \n",
      "                                                                 \n",
      " dropout_27 (Dropout)        (None, 64)                0         \n",
      "                                                                 \n",
      " encoded_layer_song (Dense)  (None, 10)                650       \n",
      "                                                                 \n",
      " dense_30 (Dense)            (None, 64)                704       \n",
      "                                                                 \n",
      " dropout_28 (Dropout)        (None, 64)                0         \n",
      "                                                                 \n",
      " dense_31 (Dense)            (None, 128)               8320      \n",
      "                                                                 \n",
      " dropout_29 (Dropout)        (None, 128)               0         \n",
      "                                                                 \n",
      " decoded_layer_song (Dense)  (None, 1)                 129       \n",
      "                                                                 \n",
      "=================================================================\n",
      "Total params: 18,315\n",
      "Trainable params: 18,315\n",
      "Non-trainable params: 0\n",
      "_________________________________________________________________\n"
     ]
    },
    {
     "name": "stderr",
     "output_type": "stream",
     "text": [
      "WARNING:absl:`lr` is deprecated in Keras optimizer, please use `learning_rate` or use the legacy optimizer, e.g.,tf.keras.optimizers.legacy.Adam.\n"
     ]
    },
    {
     "name": "stdout",
     "output_type": "stream",
     "text": [
      "None\n",
      "Epoch 1/10\n",
      "63/63 [==============================] - 1s 5ms/step - loss: 9725270.0000 - mae: 2124.1130\n",
      "Epoch 2/10\n",
      "63/63 [==============================] - 0s 4ms/step - loss: 2227557.5000 - mae: 1043.1429\n",
      "Epoch 3/10\n",
      "63/63 [==============================] - 0s 4ms/step - loss: 1795555.8750 - mae: 934.7911\n",
      "Epoch 4/10\n",
      "63/63 [==============================] - 0s 4ms/step - loss: 1523398.7500 - mae: 861.9484\n",
      "Epoch 5/10\n",
      "63/63 [==============================] - 0s 4ms/step - loss: 1390166.6250 - mae: 822.0082\n",
      "Epoch 6/10\n",
      "63/63 [==============================] - 0s 4ms/step - loss: 1314831.8750 - mae: 799.5403\n",
      "Epoch 7/10\n",
      "63/63 [==============================] - 0s 4ms/step - loss: 1264819.7500 - mae: 779.5676\n",
      "Epoch 8/10\n",
      "63/63 [==============================] - 0s 4ms/step - loss: 1221882.2500 - mae: 768.5862\n",
      "Epoch 9/10\n",
      "63/63 [==============================] - 0s 4ms/step - loss: 1162965.6250 - mae: 748.1569\n",
      "Epoch 10/10\n",
      "63/63 [==============================] - 0s 4ms/step - loss: 1105167.8750 - mae: 729.9500\n"
     ]
    },
    {
     "data": {
      "text/plain": [
       "<keras.callbacks.History at 0x7f541e257280>"
      ]
     },
     "execution_count": 52,
     "metadata": {},
     "output_type": "execute_result"
    }
   ],
   "source": [
    "input_song = Input(shape=(song_input_dim,), name='song_input')\n",
    "x = Dense(128, activation='relu')(input_song)\n",
    "x = Dropout(0.3)(x)\n",
    "x = Dense(64, activation='relu')(x)\n",
    "x = Dropout(0.3)(x)\n",
    "encoded_song = Dense(10, activation='relu', name='encoded_layer_song')(x)\n",
    "\n",
    "# Define decoder layers for song data\n",
    "x = Dense(64, activation='relu')(encoded_song)\n",
    "x = Dropout(0.3)(x)\n",
    "x = Dense(128, activation='relu')(x)\n",
    "x = Dropout(0.3)(x)\n",
    "input_song_embedding = Dense(song_input_dim, name='decoded_layer_song')(x)\n",
    "song_autoencoder = Model(input_song,input_song_embedding )\n",
    "song_encoder = Model(input_song, encoded_song)\n",
    "print(song_autoencoder.summary())\n",
    "song_autoencoder.compile(optimizer=Adam(lr=0.001), loss='mse', metrics=['mae'])\n",
    "song_autoencoder.fit(train_data.song_id, train_data.song_id,batch_size  =256, epochs = 10)"
   ]
  },
  {
   "cell_type": "code",
   "execution_count": 53,
   "metadata": {},
   "outputs": [
    {
     "name": "stderr",
     "output_type": "stream",
     "text": [
      "WARNING:absl:`lr` is deprecated in Keras optimizer, please use `learning_rate` or use the legacy optimizer, e.g.,tf.keras.optimizers.legacy.Adam.\n"
     ]
    },
    {
     "name": "stdout",
     "output_type": "stream",
     "text": [
      "Epoch 1/10\n",
      "63/63 [==============================] - 1s 4ms/step - loss: 13308.0615 - mae: 79.5084\n",
      "Epoch 2/10\n",
      "63/63 [==============================] - 0s 4ms/step - loss: 3077.6924 - mae: 39.3240\n",
      "Epoch 3/10\n",
      "63/63 [==============================] - 0s 4ms/step - loss: 2389.5847 - mae: 34.3731\n",
      "Epoch 4/10\n",
      "63/63 [==============================] - 0s 4ms/step - loss: 2104.9006 - mae: 32.2772\n",
      "Epoch 5/10\n",
      "63/63 [==============================] - 0s 4ms/step - loss: 1862.7948 - mae: 30.3038\n",
      "Epoch 6/10\n",
      "63/63 [==============================] - 0s 4ms/step - loss: 1737.4802 - mae: 29.2774\n",
      "Epoch 7/10\n",
      "63/63 [==============================] - 0s 4ms/step - loss: 1616.5995 - mae: 28.2093\n",
      "Epoch 8/10\n",
      "63/63 [==============================] - 0s 4ms/step - loss: 1515.0066 - mae: 27.2636\n",
      "Epoch 9/10\n",
      "63/63 [==============================] - 0s 4ms/step - loss: 1481.3571 - mae: 26.8974\n",
      "Epoch 10/10\n",
      "63/63 [==============================] - 0s 4ms/step - loss: 1384.1697 - mae: 26.1309\n"
     ]
    },
    {
     "data": {
      "text/plain": [
       "<keras.callbacks.History at 0x7f541e090640>"
      ]
     },
     "execution_count": 53,
     "metadata": {},
     "output_type": "execute_result"
    }
   ],
   "source": [
    "\n",
    "input_user = Input(shape=(user_input_dim,), name='user_input')\n",
    "x = Dense(128, activation='relu')(input_user)\n",
    "x = Dropout(0.3)(x)\n",
    "x = Dense(64, activation='relu')(x)\n",
    "x = Dropout(0.3)(x)\n",
    "encoded_user = Dense(10, activation='relu', name='encoded_layer_user')(x)\n",
    "\n",
    "# Define decoder layers for user data\n",
    "x = Dense(64, activation='relu')(encoded_user)\n",
    "x = Dropout(0.3)(x)\n",
    "x = Dense(128, activation='relu')(x)\n",
    "x = Dropout(0.3)(x)\n",
    "input_user_embedding = Dense(user_input_dim, name='decoded_layer_user')(x)\n",
    "user_autoencoder = Model(input_user,input_user_embedding )\n",
    "user_encoder = Model(input_user, encoded_user)\n",
    "user_autoencoder.compile(optimizer=Adam(lr=0.001), loss='mse', metrics=['mae'])\n",
    "user_autoencoder.fit(train_data.user_id, train_data.user_id,batch_size  =256, epochs = 10)\n"
   ]
  },
  {
   "cell_type": "code",
   "execution_count": 54,
   "metadata": {},
   "outputs": [
    {
     "name": "stdout",
     "output_type": "stream",
     "text": [
      "Model: \"model_16\"\n",
      "__________________________________________________________________________________________________\n",
      " Layer (type)                   Output Shape         Param #     Connected to                     \n",
      "==================================================================================================\n",
      " input_7 (InputLayer)           [(None, 10)]         0           []                               \n",
      "                                                                                                  \n",
      " input_8 (InputLayer)           [(None, 10)]         0           []                               \n",
      "                                                                                                  \n",
      " input_9 (InputLayer)           [(None, 504)]        0           []                               \n",
      "                                                                                                  \n",
      " concatenate_2 (Concatenate)    (None, 524)          0           ['input_7[0][0]',                \n",
      "                                                                  'input_8[0][0]',                \n",
      "                                                                  'input_9[0][0]']                \n",
      "                                                                                                  \n",
      " dense_36 (Dense)               (None, 128)          67200       ['concatenate_2[0][0]']          \n",
      "                                                                                                  \n",
      " dropout_34 (Dropout)           (None, 128)          0           ['dense_36[0][0]']               \n",
      "                                                                                                  \n",
      " dense_37 (Dense)               (None, 64)           8256        ['dropout_34[0][0]']             \n",
      "                                                                                                  \n",
      " dropout_35 (Dropout)           (None, 64)           0           ['dense_37[0][0]']               \n",
      "                                                                                                  \n",
      " dense_38 (Dense)               (None, 32)           2080        ['dropout_35[0][0]']             \n",
      "                                                                                                  \n",
      " dropout_36 (Dropout)           (None, 32)           0           ['dense_38[0][0]']               \n",
      "                                                                                                  \n",
      " dense_39 (Dense)               (None, 1)            33          ['dropout_36[0][0]']             \n",
      "                                                                                                  \n",
      "==================================================================================================\n",
      "Total params: 77,569\n",
      "Trainable params: 77,569\n",
      "Non-trainable params: 0\n",
      "__________________________________________________________________________________________________\n",
      "None\n"
     ]
    }
   ],
   "source": [
    "enc_dim = 10\n",
    "# Build hybrid recommendation model\n",
    "song_input_emb = Input(shape=(enc_dim,))\n",
    "user_input_emb = Input(shape=(enc_dim,))\n",
    "metadata_input = Input(shape=(meta_text_dim,))\n",
    "\n",
    "# cross_song_user = tf.keras.layers.Multiply()([song_input_emb, user_input_emb])\n",
    "concatenated_layer = Concatenate()([song_input_emb, user_input_emb, metadata_input])\n",
    "x = Dense(128, activation='relu')(concatenated_layer)\n",
    "x = Dropout(0.3)(x)\n",
    "x = Dense(64, activation='relu')(x)\n",
    "x = Dropout(0.3)(x)\n",
    "x = Dense(32, activation='relu')(x)\n",
    "x = Dropout(0.3)(x)\n",
    "output_layer = Dense(1)(x) #, activation='sigmoid'\n",
    "\n",
    "hybrid_model = Model(inputs=[song_input_emb,user_input_emb, metadata_input], outputs=output_layer)\n",
    "hybrid_model.compile(optimizer='adam', loss='mse') #binary_crossentropy\n",
    "print(hybrid_model.summary())\n"
   ]
  },
  {
   "cell_type": "code",
   "execution_count": 55,
   "metadata": {},
   "outputs": [
    {
     "name": "stdout",
     "output_type": "stream",
     "text": [
      "497/497 [==============================] - 1s 911us/step\n",
      "497/497 [==============================] - 1s 956us/step\n"
     ]
    }
   ],
   "source": [
    "song_embeddings = song_encoder.predict(train_data.song_id)\n",
    "user_embeddings = user_encoder.predict(train_data.user_id)\n"
   ]
  },
  {
   "cell_type": "code",
   "execution_count": 56,
   "metadata": {},
   "outputs": [
    {
     "name": "stdout",
     "output_type": "stream",
     "text": [
      "Epoch 1/50\n",
      "50/50 [==============================] - 1s 8ms/step - loss: 10775.3379 - val_loss: 66.3728\n",
      "Epoch 2/50\n",
      "50/50 [==============================] - 0s 5ms/step - loss: 554.5098 - val_loss: 2.5547\n",
      "Epoch 3/50\n",
      "50/50 [==============================] - 0s 5ms/step - loss: 244.7766 - val_loss: 2.1537\n",
      "Epoch 4/50\n",
      "50/50 [==============================] - 0s 5ms/step - loss: 102.0923 - val_loss: 2.9306\n",
      "Epoch 5/50\n",
      "50/50 [==============================] - 0s 5ms/step - loss: 54.1000 - val_loss: 3.1741\n",
      "Epoch 6/50\n",
      "50/50 [==============================] - 0s 5ms/step - loss: 28.8573 - val_loss: 3.6123\n",
      "Epoch 7/50\n",
      "50/50 [==============================] - 0s 5ms/step - loss: 19.9751 - val_loss: 3.5953\n",
      "Epoch 8/50\n",
      "50/50 [==============================] - 0s 5ms/step - loss: 16.2496 - val_loss: 3.6292\n",
      "Epoch 9/50\n",
      "50/50 [==============================] - 0s 5ms/step - loss: 12.0087 - val_loss: 3.2995\n",
      "Epoch 10/50\n",
      "50/50 [==============================] - 0s 5ms/step - loss: 9.8871 - val_loss: 3.0726\n",
      "Epoch 11/50\n",
      "50/50 [==============================] - 0s 5ms/step - loss: 8.6661 - val_loss: 2.9182\n",
      "Epoch 12/50\n",
      "50/50 [==============================] - 0s 5ms/step - loss: 7.7366 - val_loss: 2.8494\n",
      "Epoch 13/50\n",
      "50/50 [==============================] - 0s 5ms/step - loss: 6.1391 - val_loss: 2.7532\n"
     ]
    },
    {
     "data": {
      "text/plain": [
       "<keras.callbacks.History at 0x7f5414cde410>"
      ]
     },
     "execution_count": 56,
     "metadata": {},
     "output_type": "execute_result"
    }
   ],
   "source": [
    "early_stopping = EarlyStopping(monitor = 'val_loss', patience = 10)\n",
    "# Train hybrid model\n",
    "hybrid_model.fit([song_embeddings,user_embeddings, train_meta_array],train_output,\n",
    "                 callbacks = [early_stopping],epochs=50, batch_size=256, validation_split=0.2)\n"
   ]
  },
  {
   "cell_type": "code",
   "execution_count": 57,
   "metadata": {},
   "outputs": [
    {
     "name": "stdout",
     "output_type": "stream",
     "text": [
      "125/125 [==============================] - 0s 1ms/step\n",
      "125/125 [==============================] - 0s 1ms/step\n"
     ]
    }
   ],
   "source": [
    "test_song_embeddings = song_encoder.predict(test_data.song_id)\n",
    "test_user_embeddings = user_encoder.predict(test_data.user_id)\n"
   ]
  },
  {
   "cell_type": "code",
   "execution_count": 58,
   "metadata": {
    "scrolled": false
   },
   "outputs": [
    {
     "name": "stdout",
     "output_type": "stream",
     "text": [
      "125/125 [==============================] - 0s 1ms/step\n",
      "Test RMSE meta: 1.8347104260167966\n"
     ]
    }
   ],
   "source": [
    "from sklearn.metrics import mean_squared_error,r2_score\n",
    "# Predict on test set\n",
    "y_pred1 = hybrid_model.predict([test_song_embeddings,test_user_embeddings, test_meta_array])\n",
    "\n",
    "# Evaluate model\n",
    "score = hybrid_model.evaluate([test_song_embeddings,test_user_embeddings, test_meta_array],test_output, verbose=0)\n",
    "rmse = np.sqrt(mean_squared_error(test_output, y_pred1))\n",
    "\n",
    "print('Test RMSE meta:', rmse)\n"
   ]
  },
  {
   "cell_type": "code",
   "execution_count": null,
   "metadata": {},
   "outputs": [],
   "source": []
  },
  {
   "cell_type": "code",
   "execution_count": null,
   "metadata": {},
   "outputs": [],
   "source": []
  },
  {
   "cell_type": "markdown",
   "metadata": {},
   "source": [
    "### NORMALIZED"
   ]
  },
  {
   "cell_type": "code",
   "execution_count": 60,
   "metadata": {},
   "outputs": [
    {
     "name": "stderr",
     "output_type": "stream",
     "text": [
      "/tmp/ipykernel_92137/108917545.py:1: SettingWithCopyWarning: \n",
      "A value is trying to be set on a copy of a slice from a DataFrame.\n",
      "Try using .loc[row_indexer,col_indexer] = value instead\n",
      "\n",
      "See the caveats in the documentation: https://pandas.pydata.org/pandas-docs/stable/user_guide/indexing.html#returning-a-view-versus-a-copy\n",
      "  train_data.song_id= pd.Categorical(train_data.song_id)\n",
      "/tmp/ipykernel_92137/108917545.py:2: SettingWithCopyWarning: \n",
      "A value is trying to be set on a copy of a slice from a DataFrame.\n",
      "Try using .loc[row_indexer,col_indexer] = value instead\n",
      "\n",
      "See the caveats in the documentation: https://pandas.pydata.org/pandas-docs/stable/user_guide/indexing.html#returning-a-view-versus-a-copy\n",
      "  train_data.song_id = train_data.song_id.cat.codes\n",
      "/tmp/ipykernel_92137/108917545.py:3: SettingWithCopyWarning: \n",
      "A value is trying to be set on a copy of a slice from a DataFrame.\n",
      "Try using .loc[row_indexer,col_indexer] = value instead\n",
      "\n",
      "See the caveats in the documentation: https://pandas.pydata.org/pandas-docs/stable/user_guide/indexing.html#returning-a-view-versus-a-copy\n",
      "  train_data.user_id= pd.Categorical(train_data.user_id)\n",
      "/tmp/ipykernel_92137/108917545.py:4: SettingWithCopyWarning: \n",
      "A value is trying to be set on a copy of a slice from a DataFrame.\n",
      "Try using .loc[row_indexer,col_indexer] = value instead\n",
      "\n",
      "See the caveats in the documentation: https://pandas.pydata.org/pandas-docs/stable/user_guide/indexing.html#returning-a-view-versus-a-copy\n",
      "  train_data.user_id = train_data.user_id.cat.codes\n",
      "/tmp/ipykernel_92137/108917545.py:9: SettingWithCopyWarning: \n",
      "A value is trying to be set on a copy of a slice from a DataFrame.\n",
      "Try using .loc[row_indexer,col_indexer] = value instead\n",
      "\n",
      "See the caveats in the documentation: https://pandas.pydata.org/pandas-docs/stable/user_guide/indexing.html#returning-a-view-versus-a-copy\n",
      "  test_data.song_id= pd.Categorical(test_data.song_id)\n",
      "/tmp/ipykernel_92137/108917545.py:10: SettingWithCopyWarning: \n",
      "A value is trying to be set on a copy of a slice from a DataFrame.\n",
      "Try using .loc[row_indexer,col_indexer] = value instead\n",
      "\n",
      "See the caveats in the documentation: https://pandas.pydata.org/pandas-docs/stable/user_guide/indexing.html#returning-a-view-versus-a-copy\n",
      "  test_data.song_id = test_data.song_id.cat.codes\n",
      "/tmp/ipykernel_92137/108917545.py:11: SettingWithCopyWarning: \n",
      "A value is trying to be set on a copy of a slice from a DataFrame.\n",
      "Try using .loc[row_indexer,col_indexer] = value instead\n",
      "\n",
      "See the caveats in the documentation: https://pandas.pydata.org/pandas-docs/stable/user_guide/indexing.html#returning-a-view-versus-a-copy\n",
      "  test_data.user_id= pd.Categorical(test_data.user_id)\n",
      "/tmp/ipykernel_92137/108917545.py:12: SettingWithCopyWarning: \n",
      "A value is trying to be set on a copy of a slice from a DataFrame.\n",
      "Try using .loc[row_indexer,col_indexer] = value instead\n",
      "\n",
      "See the caveats in the documentation: https://pandas.pydata.org/pandas-docs/stable/user_guide/indexing.html#returning-a-view-versus-a-copy\n",
      "  test_data.user_id = test_data.user_id.cat.codes\n"
     ]
    }
   ],
   "source": [
    "train_data.song_id= pd.Categorical(train_data.song_id) \n",
    "train_data.song_id = train_data.song_id.cat.codes\n",
    "train_data.user_id= pd.Categorical(train_data.user_id) \n",
    "train_data.user_id = train_data.user_id.cat.codes\n",
    "train_meta_array = train_data.drop(columns=['song_id','user_id','play_count','play_count_norm']).values\n",
    "train_output = train_data['play_count_norm']\n",
    "\n",
    "\n",
    "test_data.song_id= pd.Categorical(test_data.song_id) \n",
    "test_data.song_id = test_data.song_id.cat.codes\n",
    "test_data.user_id= pd.Categorical(test_data.user_id) \n",
    "test_data.user_id = test_data.user_id.cat.codes\n",
    "test_meta_array = test_data.drop(columns=['song_id','user_id','play_count','play_count_norm']).values\n",
    "test_output = test_data['play_count_norm']\n"
   ]
  },
  {
   "cell_type": "markdown",
   "metadata": {
    "id": "ScHzYu-rV2QA"
   },
   "source": [
    "#### 4.1 Input dimensions for neural network"
   ]
  },
  {
   "cell_type": "code",
   "execution_count": 61,
   "metadata": {},
   "outputs": [
    {
     "data": {
      "text/plain": [
       "(11035, 395, 1, 1, 504)"
      ]
     },
     "execution_count": 61,
     "metadata": {},
     "output_type": "execute_result"
    }
   ],
   "source": [
    "#nunique() will return the total number of unique items\n",
    "\n",
    "num_songs = len(train_data.song_id.unique()) \n",
    "num_users = len(train_data.user_id.unique())\n",
    "song_input_dim = 1\n",
    "user_input_dim = 1\n",
    "meta_text_dim = train_meta_array.shape[1]\n",
    "\n",
    "num_songs,num_users,song_input_dim,user_input_dim,meta_text_dim"
   ]
  },
  {
   "cell_type": "markdown",
   "metadata": {
    "id": "2L50f8f2V1gE"
   },
   "source": [
    "### 4 Training a Neural Network"
   ]
  },
  {
   "cell_type": "code",
   "execution_count": 62,
   "metadata": {
    "id": "wMkZo57S-58a"
   },
   "outputs": [],
   "source": [
    "import tensorflow as tf\n",
    "from tensorflow.keras.layers import Dense, Flatten, Input, Embedding, Concatenate, Dropout\n",
    "from tensorflow.keras.callbacks import EarlyStopping\n",
    "from tensorflow.keras.optimizers import Adam\n",
    "import keras\n",
    "from keras.layers import Add, Activation, Lambda, BatchNormalization, Concatenate, Dropout, Input, Embedding, Dot, Reshape, Dense, Flatten\n",
    "from keras import regularizers\n"
   ]
  },
  {
   "cell_type": "code",
   "execution_count": 63,
   "metadata": {
    "scrolled": true
   },
   "outputs": [
    {
     "name": "stdout",
     "output_type": "stream",
     "text": [
      "Model: \"model_17\"\n",
      "_________________________________________________________________\n",
      " Layer (type)                Output Shape              Param #   \n",
      "=================================================================\n",
      " song_input (InputLayer)     [(None, 1)]               0         \n",
      "                                                                 \n",
      " dense_40 (Dense)            (None, 128)               256       \n",
      "                                                                 \n",
      " dropout_37 (Dropout)        (None, 128)               0         \n",
      "                                                                 \n",
      " dense_41 (Dense)            (None, 64)                8256      \n",
      "                                                                 \n",
      " dropout_38 (Dropout)        (None, 64)                0         \n",
      "                                                                 \n",
      " encoded_layer_song (Dense)  (None, 10)                650       \n",
      "                                                                 \n",
      " dense_42 (Dense)            (None, 64)                704       \n",
      "                                                                 \n",
      " dropout_39 (Dropout)        (None, 64)                0         \n",
      "                                                                 \n",
      " dense_43 (Dense)            (None, 128)               8320      \n",
      "                                                                 \n",
      " dropout_40 (Dropout)        (None, 128)               0         \n",
      "                                                                 \n",
      " decoded_layer_song (Dense)  (None, 1)                 129       \n",
      "                                                                 \n",
      "=================================================================\n",
      "Total params: 18,315\n",
      "Trainable params: 18,315\n",
      "Non-trainable params: 0\n",
      "_________________________________________________________________\n"
     ]
    },
    {
     "name": "stderr",
     "output_type": "stream",
     "text": [
      "WARNING:absl:`lr` is deprecated in Keras optimizer, please use `learning_rate` or use the legacy optimizer, e.g.,tf.keras.optimizers.legacy.Adam.\n"
     ]
    },
    {
     "name": "stdout",
     "output_type": "stream",
     "text": [
      "None\n",
      "Epoch 1/10\n",
      "63/63 [==============================] - 1s 5ms/step - loss: 13951197.0000 - mae: 2596.1353\n",
      "Epoch 2/10\n",
      "63/63 [==============================] - 0s 5ms/step - loss: 2226011.7500 - mae: 1040.4020\n",
      "Epoch 3/10\n",
      "63/63 [==============================] - 0s 4ms/step - loss: 1817584.0000 - mae: 946.8615\n",
      "Epoch 4/10\n",
      "63/63 [==============================] - 0s 4ms/step - loss: 1623722.2500 - mae: 889.0383\n",
      "Epoch 5/10\n",
      "63/63 [==============================] - 0s 4ms/step - loss: 1473252.1250 - mae: 848.5176\n",
      "Epoch 6/10\n",
      "63/63 [==============================] - 0s 4ms/step - loss: 1324492.6250 - mae: 798.4133\n",
      "Epoch 7/10\n",
      "63/63 [==============================] - 0s 4ms/step - loss: 1319582.6250 - mae: 804.7566\n",
      "Epoch 8/10\n",
      "63/63 [==============================] - 0s 4ms/step - loss: 1241202.7500 - mae: 773.0422\n",
      "Epoch 9/10\n",
      "63/63 [==============================] - 0s 4ms/step - loss: 1196003.8750 - mae: 760.0540\n",
      "Epoch 10/10\n",
      "63/63 [==============================] - 0s 4ms/step - loss: 1194689.1250 - mae: 756.1809\n"
     ]
    },
    {
     "data": {
      "text/plain": [
       "<keras.callbacks.History at 0x7f542454d9c0>"
      ]
     },
     "execution_count": 63,
     "metadata": {},
     "output_type": "execute_result"
    }
   ],
   "source": [
    "input_song = Input(shape=(song_input_dim,), name='song_input')\n",
    "x = Dense(128, activation='relu')(input_song)\n",
    "x = Dropout(0.3)(x)\n",
    "x = Dense(64, activation='relu')(x)\n",
    "x = Dropout(0.3)(x)\n",
    "encoded_song = Dense(10, activation='relu', name='encoded_layer_song')(x)\n",
    "\n",
    "# Define decoder layers for song data\n",
    "x = Dense(64, activation='relu')(encoded_song)\n",
    "x = Dropout(0.3)(x)\n",
    "x = Dense(128, activation='relu')(x)\n",
    "x = Dropout(0.3)(x)\n",
    "input_song_embedding = Dense(song_input_dim, name='decoded_layer_song')(x)\n",
    "song_autoencoder = Model(input_song,input_song_embedding )\n",
    "song_encoder = Model(input_song, encoded_song)\n",
    "print(song_autoencoder.summary())\n",
    "song_autoencoder.compile(optimizer=Adam(lr=0.001), loss='mse', metrics=['mae'])\n",
    "song_autoencoder.fit(train_data.song_id, train_data.song_id,batch_size  =256, epochs = 10)"
   ]
  },
  {
   "cell_type": "code",
   "execution_count": 64,
   "metadata": {},
   "outputs": [
    {
     "name": "stderr",
     "output_type": "stream",
     "text": [
      "WARNING:absl:`lr` is deprecated in Keras optimizer, please use `learning_rate` or use the legacy optimizer, e.g.,tf.keras.optimizers.legacy.Adam.\n"
     ]
    },
    {
     "name": "stdout",
     "output_type": "stream",
     "text": [
      "Epoch 1/10\n",
      "63/63 [==============================] - 1s 4ms/step - loss: 16392.3203 - mae: 89.7395\n",
      "Epoch 2/10\n",
      "63/63 [==============================] - 0s 4ms/step - loss: 3370.0640 - mae: 41.2031\n",
      "Epoch 3/10\n",
      "63/63 [==============================] - 0s 4ms/step - loss: 2605.8357 - mae: 35.9215\n",
      "Epoch 4/10\n",
      "63/63 [==============================] - 0s 4ms/step - loss: 2236.4028 - mae: 33.2832\n",
      "Epoch 5/10\n",
      "63/63 [==============================] - 0s 4ms/step - loss: 1984.1722 - mae: 31.5048\n",
      "Epoch 6/10\n",
      "63/63 [==============================] - 0s 5ms/step - loss: 1870.7354 - mae: 30.4309\n",
      "Epoch 7/10\n",
      "63/63 [==============================] - 0s 4ms/step - loss: 1816.2941 - mae: 29.8308\n",
      "Epoch 8/10\n",
      "63/63 [==============================] - 0s 4ms/step - loss: 1714.0459 - mae: 29.0977\n",
      "Epoch 9/10\n",
      "63/63 [==============================] - 0s 4ms/step - loss: 1646.4365 - mae: 28.5257\n",
      "Epoch 10/10\n",
      "63/63 [==============================] - 0s 4ms/step - loss: 1612.5443 - mae: 28.2294\n"
     ]
    },
    {
     "data": {
      "text/plain": [
       "<keras.callbacks.History at 0x7f5414b9b760>"
      ]
     },
     "execution_count": 64,
     "metadata": {},
     "output_type": "execute_result"
    }
   ],
   "source": [
    "\n",
    "input_user = Input(shape=(user_input_dim,), name='user_input')\n",
    "x = Dense(128, activation='relu')(input_user)\n",
    "x = Dropout(0.3)(x)\n",
    "x = Dense(64, activation='relu')(x)\n",
    "x = Dropout(0.3)(x)\n",
    "encoded_user = Dense(10, activation='relu', name='encoded_layer_user')(x)\n",
    "\n",
    "# Define decoder layers for user data\n",
    "x = Dense(64, activation='relu')(encoded_user)\n",
    "x = Dropout(0.3)(x)\n",
    "x = Dense(128, activation='relu')(x)\n",
    "x = Dropout(0.3)(x)\n",
    "input_user_embedding = Dense(user_input_dim, name='decoded_layer_user')(x)\n",
    "user_autoencoder = Model(input_user,input_user_embedding )\n",
    "user_encoder = Model(input_user, encoded_user)\n",
    "user_autoencoder.compile(optimizer=Adam(lr=0.001), loss='mse', metrics=['mae'])\n",
    "user_autoencoder.fit(train_data.user_id, train_data.user_id,batch_size  =256, epochs = 10)\n"
   ]
  },
  {
   "cell_type": "code",
   "execution_count": 65,
   "metadata": {},
   "outputs": [
    {
     "name": "stdout",
     "output_type": "stream",
     "text": [
      "Model: \"model_21\"\n",
      "__________________________________________________________________________________________________\n",
      " Layer (type)                   Output Shape         Param #     Connected to                     \n",
      "==================================================================================================\n",
      " input_10 (InputLayer)          [(None, 10)]         0           []                               \n",
      "                                                                                                  \n",
      " input_11 (InputLayer)          [(None, 10)]         0           []                               \n",
      "                                                                                                  \n",
      " input_12 (InputLayer)          [(None, 504)]        0           []                               \n",
      "                                                                                                  \n",
      " concatenate_3 (Concatenate)    (None, 524)          0           ['input_10[0][0]',               \n",
      "                                                                  'input_11[0][0]',               \n",
      "                                                                  'input_12[0][0]']               \n",
      "                                                                                                  \n",
      " dense_48 (Dense)               (None, 128)          67200       ['concatenate_3[0][0]']          \n",
      "                                                                                                  \n",
      " dropout_45 (Dropout)           (None, 128)          0           ['dense_48[0][0]']               \n",
      "                                                                                                  \n",
      " dense_49 (Dense)               (None, 64)           8256        ['dropout_45[0][0]']             \n",
      "                                                                                                  \n",
      " dropout_46 (Dropout)           (None, 64)           0           ['dense_49[0][0]']               \n",
      "                                                                                                  \n",
      " dense_50 (Dense)               (None, 32)           2080        ['dropout_46[0][0]']             \n",
      "                                                                                                  \n",
      " dropout_47 (Dropout)           (None, 32)           0           ['dense_50[0][0]']               \n",
      "                                                                                                  \n",
      " dense_51 (Dense)               (None, 1)            33          ['dropout_47[0][0]']             \n",
      "                                                                                                  \n",
      "==================================================================================================\n",
      "Total params: 77,569\n",
      "Trainable params: 77,569\n",
      "Non-trainable params: 0\n",
      "__________________________________________________________________________________________________\n",
      "None\n"
     ]
    }
   ],
   "source": [
    "enc_dim = 10\n",
    "# Build hybrid recommendation model\n",
    "song_input_emb = Input(shape=(enc_dim,))\n",
    "user_input_emb = Input(shape=(enc_dim,))\n",
    "metadata_input = Input(shape=(meta_text_dim,))\n",
    "\n",
    "# cross_song_user = tf.keras.layers.Multiply()([song_input_emb, user_input_emb])\n",
    "concatenated_layer = Concatenate()([song_input_emb, user_input_emb, metadata_input])\n",
    "x = Dense(128, activation='relu')(concatenated_layer)\n",
    "x = Dropout(0.3)(x)\n",
    "x = Dense(64, activation='relu')(x)\n",
    "x = Dropout(0.3)(x)\n",
    "x = Dense(32, activation='relu')(x)\n",
    "x = Dropout(0.3)(x)\n",
    "output_layer = Dense(1, activation='sigmoid')(x) #\n",
    "\n",
    "hybrid_model = Model(inputs=[song_input_emb,user_input_emb, metadata_input], outputs=output_layer)\n",
    "hybrid_model.compile(optimizer='adam', loss='binary_crossentropy') #\n",
    "print(hybrid_model.summary())\n"
   ]
  },
  {
   "cell_type": "code",
   "execution_count": 66,
   "metadata": {},
   "outputs": [
    {
     "name": "stdout",
     "output_type": "stream",
     "text": [
      "497/497 [==============================] - 1s 934us/step\n",
      "497/497 [==============================] - 1s 902us/step\n"
     ]
    }
   ],
   "source": [
    "song_embeddings = song_encoder.predict(train_data.song_id)\n",
    "user_embeddings = user_encoder.predict(train_data.user_id)\n"
   ]
  },
  {
   "cell_type": "code",
   "execution_count": 67,
   "metadata": {},
   "outputs": [
    {
     "name": "stdout",
     "output_type": "stream",
     "text": [
      "Epoch 1/50\n",
      "50/50 [==============================] - 1s 9ms/step - loss: 29.3734 - val_loss: 1.4575\n",
      "Epoch 2/50\n",
      "50/50 [==============================] - 0s 5ms/step - loss: 3.3343 - val_loss: 0.6941\n",
      "Epoch 3/50\n",
      "50/50 [==============================] - 0s 6ms/step - loss: 0.9436 - val_loss: 0.6891\n",
      "Epoch 4/50\n",
      "50/50 [==============================] - 0s 5ms/step - loss: 0.7882 - val_loss: 0.6854\n",
      "Epoch 5/50\n",
      "50/50 [==============================] - 0s 5ms/step - loss: 0.7343 - val_loss: 0.6826\n",
      "Epoch 6/50\n",
      "50/50 [==============================] - 0s 5ms/step - loss: 0.7080 - val_loss: 0.6805\n",
      "Epoch 7/50\n",
      "50/50 [==============================] - 0s 5ms/step - loss: 0.7065 - val_loss: 0.6790\n",
      "Epoch 8/50\n",
      "50/50 [==============================] - 0s 5ms/step - loss: 0.6906 - val_loss: 0.6780\n",
      "Epoch 9/50\n",
      "50/50 [==============================] - 0s 5ms/step - loss: 0.6891 - val_loss: 0.6772\n",
      "Epoch 10/50\n",
      "50/50 [==============================] - 0s 6ms/step - loss: 0.6820 - val_loss: 0.6767\n",
      "Epoch 11/50\n",
      "50/50 [==============================] - 0s 5ms/step - loss: 0.6840 - val_loss: 0.6764\n",
      "Epoch 12/50\n",
      "50/50 [==============================] - 0s 5ms/step - loss: 0.6806 - val_loss: 0.6762\n",
      "Epoch 13/50\n",
      "50/50 [==============================] - 0s 6ms/step - loss: 0.6825 - val_loss: 0.6761\n",
      "Epoch 14/50\n",
      "50/50 [==============================] - 0s 6ms/step - loss: 0.6838 - val_loss: 0.6760\n",
      "Epoch 15/50\n",
      "50/50 [==============================] - 0s 6ms/step - loss: 0.6795 - val_loss: 0.6760\n",
      "Epoch 16/50\n",
      "50/50 [==============================] - 0s 6ms/step - loss: 0.6786 - val_loss: 0.6760\n",
      "Epoch 17/50\n",
      "50/50 [==============================] - 0s 5ms/step - loss: 0.6805 - val_loss: 0.6759\n",
      "Epoch 18/50\n",
      "50/50 [==============================] - 0s 5ms/step - loss: 0.6799 - val_loss: 0.6759\n",
      "Epoch 19/50\n",
      "50/50 [==============================] - 0s 5ms/step - loss: 0.6786 - val_loss: 0.6759\n",
      "Epoch 20/50\n",
      "50/50 [==============================] - 0s 5ms/step - loss: 0.6796 - val_loss: 0.6759\n",
      "Epoch 21/50\n",
      "50/50 [==============================] - 0s 5ms/step - loss: 0.6777 - val_loss: 0.6759\n",
      "Epoch 22/50\n",
      "50/50 [==============================] - 0s 5ms/step - loss: 0.6787 - val_loss: 0.6759\n",
      "Epoch 23/50\n",
      "50/50 [==============================] - 0s 5ms/step - loss: 0.6778 - val_loss: 0.6759\n",
      "Epoch 24/50\n",
      "50/50 [==============================] - 0s 5ms/step - loss: 0.6768 - val_loss: 0.6759\n",
      "Epoch 25/50\n",
      "50/50 [==============================] - 0s 5ms/step - loss: 0.6775 - val_loss: 0.6759\n",
      "Epoch 26/50\n",
      "50/50 [==============================] - 0s 5ms/step - loss: 0.6767 - val_loss: 0.6759\n",
      "Epoch 27/50\n",
      "50/50 [==============================] - 0s 5ms/step - loss: 0.6788 - val_loss: 0.6759\n",
      "Epoch 28/50\n",
      "50/50 [==============================] - 0s 5ms/step - loss: 0.6768 - val_loss: 0.6759\n",
      "Epoch 29/50\n",
      "50/50 [==============================] - 0s 5ms/step - loss: 0.6789 - val_loss: 0.6759\n",
      "Epoch 30/50\n",
      "50/50 [==============================] - 0s 5ms/step - loss: 0.6776 - val_loss: 0.6759\n",
      "Epoch 31/50\n",
      "50/50 [==============================] - 0s 5ms/step - loss: 0.6772 - val_loss: 0.6759\n",
      "Epoch 32/50\n",
      "50/50 [==============================] - 0s 5ms/step - loss: 0.6777 - val_loss: 0.6759\n",
      "Epoch 33/50\n",
      "50/50 [==============================] - 0s 5ms/step - loss: 0.6774 - val_loss: 0.6759\n",
      "Epoch 34/50\n",
      "50/50 [==============================] - 0s 5ms/step - loss: 0.6759 - val_loss: 0.6759\n"
     ]
    },
    {
     "data": {
      "text/plain": [
       "<keras.callbacks.History at 0x7f540c3a4fa0>"
      ]
     },
     "execution_count": 67,
     "metadata": {},
     "output_type": "execute_result"
    }
   ],
   "source": [
    "early_stopping = EarlyStopping(monitor = 'val_loss', patience = 10)\n",
    "# Train hybrid model\n",
    "hybrid_model.fit([song_embeddings,user_embeddings, train_meta_array],train_output,\n",
    "                 callbacks = [early_stopping],epochs=50, batch_size=256, validation_split=0.2)\n"
   ]
  },
  {
   "cell_type": "code",
   "execution_count": 68,
   "metadata": {},
   "outputs": [
    {
     "name": "stdout",
     "output_type": "stream",
     "text": [
      "125/125 [==============================] - 0s 988us/step\n",
      "125/125 [==============================] - 0s 973us/step\n"
     ]
    }
   ],
   "source": [
    "test_song_embeddings = song_encoder.predict(test_data.song_id)\n",
    "test_user_embeddings = user_encoder.predict(test_data.user_id)\n"
   ]
  },
  {
   "cell_type": "code",
   "execution_count": 69,
   "metadata": {
    "scrolled": false
   },
   "outputs": [
    {
     "name": "stdout",
     "output_type": "stream",
     "text": [
      "125/125 [==============================] - 0s 1ms/step\n",
      "Test RMSE meta: 0.16228267987027406\n"
     ]
    }
   ],
   "source": [
    "from sklearn.metrics import mean_squared_error,r2_score\n",
    "# Predict on test set\n",
    "y_pred1 = hybrid_model.predict([test_song_embeddings,test_user_embeddings, test_meta_array])\n",
    "\n",
    "# Evaluate model\n",
    "score = hybrid_model.evaluate([test_song_embeddings,test_user_embeddings, test_meta_array],test_output, verbose=0)\n",
    "rmse = np.sqrt(mean_squared_error(test_output, y_pred1))\n",
    "\n",
    "print('Test RMSE meta:', rmse)\n"
   ]
  },
  {
   "cell_type": "code",
   "execution_count": null,
   "metadata": {},
   "outputs": [],
   "source": []
  },
  {
   "cell_type": "code",
   "execution_count": null,
   "metadata": {},
   "outputs": [],
   "source": []
  }
 ],
 "metadata": {
  "colab": {
   "provenance": []
  },
  "kernelspec": {
   "display_name": "Python 3",
   "language": "python",
   "name": "python3"
  },
  "language_info": {
   "codemirror_mode": {
    "name": "ipython",
    "version": 3
   },
   "file_extension": ".py",
   "mimetype": "text/x-python",
   "name": "python",
   "nbconvert_exporter": "python",
   "pygments_lexer": "ipython3",
   "version": "3.7.6"
  }
 },
 "nbformat": 4,
 "nbformat_minor": 1
}
